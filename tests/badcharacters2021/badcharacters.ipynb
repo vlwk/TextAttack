{
 "cells": [
  {
   "cell_type": "markdown",
   "id": "956ba88c",
   "metadata": {},
   "source": [
    "# TextAttack Imperceptible Perturbation Notebook\n",
    "This notebook runs different adversarial attacks using TextAttack.\n",
    "Select the perturbation type below."
   ]
  },
  {
   "cell_type": "code",
   "execution_count": 2,
   "id": "249fb75e",
   "metadata": {},
   "outputs": [],
   "source": [
    "# Configure experiment\n",
    "perturbation_type = 'homoglyphs'  # options: 'homoglyphs', 'invisible', 'deletions', 'reorderings'\n",
    "store_temp_files = False\n",
    "store_results = False\n",
    "class Args:\n",
    "    pass\n",
    "args = Args()\n",
    "args.perturbation_type = perturbation_type\n",
    "args.store_temp_files = store_temp_files\n",
    "args.store_results = store_results"
   ]
  },
  {
   "cell_type": "code",
   "execution_count": 2,
   "id": "de92dcbd",
   "metadata": {},
   "outputs": [
    {
     "name": "stdout",
     "output_type": "stream",
     "text": [
      "Requirement already satisfied: bs4 in /opt/anaconda3/envs/projenvconda39/lib/python3.9/site-packages (from -r requirements.txt (line 1)) (0.0.2)\n",
      "Requirement already satisfied: requests in /opt/anaconda3/envs/projenvconda39/lib/python3.9/site-packages (from -r requirements.txt (line 2)) (2.32.3)\n",
      "Requirement already satisfied: beautifulsoup4 in /opt/anaconda3/envs/projenvconda39/lib/python3.9/site-packages (from bs4->-r requirements.txt (line 1)) (4.12.3)\n",
      "Requirement already satisfied: charset-normalizer<4,>=2 in /opt/anaconda3/envs/projenvconda39/lib/python3.9/site-packages (from requests->-r requirements.txt (line 2)) (3.4.0)\n",
      "Requirement already satisfied: idna<4,>=2.5 in /opt/anaconda3/envs/projenvconda39/lib/python3.9/site-packages (from requests->-r requirements.txt (line 2)) (3.10)\n",
      "Requirement already satisfied: urllib3<3,>=1.21.1 in /opt/anaconda3/envs/projenvconda39/lib/python3.9/site-packages (from requests->-r requirements.txt (line 2)) (1.26.20)\n",
      "Requirement already satisfied: certifi>=2017.4.17 in /opt/anaconda3/envs/projenvconda39/lib/python3.9/site-packages (from requests->-r requirements.txt (line 2)) (2024.8.30)\n",
      "Requirement already satisfied: soupsieve>1.2 in /opt/anaconda3/envs/projenvconda39/lib/python3.9/site-packages (from beautifulsoup4->bs4->-r requirements.txt (line 1)) (2.6)\n"
     ]
    }
   ],
   "source": [
    "!pip install -r requirements.txt"
   ]
  },
  {
   "cell_type": "code",
   "execution_count": 1,
   "id": "c96ff458",
   "metadata": {},
   "outputs": [],
   "source": [
    "import sys\n",
    "import textattack\n",
    "from textattack.models.wrappers import ModelWrapper\n",
    "from typing import List, Tuple\n",
    "from transformers import pipeline\n",
    "from datasets import load_dataset\n",
    "from string import punctuation\n",
    "import argparse\n",
    "from transformers import MBartForConditionalGeneration, MBart50TokenizerFast\n",
    "import os\n",
    "import tarfile\n",
    "import requests\n",
    "from io import BytesIO\n",
    "from bs4 import BeautifulSoup\n",
    "import torch\n",
    "import importlib.util\n",
    "from pathlib import Path\n",
    "import numpy as np\n",
    "import pandas as pd\n",
    "import shutil\n",
    "import subprocess\n",
    "import zipfile\n",
    "import json\n",
    "from collections import OrderedDict\n",
    "from torch.nn.functional import softmax"
   ]
  },
  {
   "cell_type": "code",
   "execution_count": 6,
   "id": "9b47de08",
   "metadata": {},
   "outputs": [
    {
     "name": "stderr",
     "output_type": "stream",
     "text": [
      "Device set to use cpu\n",
      "/opt/anaconda3/envs/projenvconda39/lib/python3.9/site-packages/transformers/pipelines/text_classification.py:106: UserWarning: `return_all_scores` is now deprecated,  if want a similar functionality use `top_k=None` instead of `return_all_scores=True` or `top_k=1` instead of `return_all_scores=False`.\n",
      "  warnings.warn(\n",
      "textattack: No entry found for goal function <class 'textattack.goal_functions.custom.targeted_bonus.TargetedBonus'>.\n",
      "textattack: Unknown if model of class <class 'transformers.pipelines.text_classification.TextClassificationPipeline'> compatible with goal function <class 'textattack.goal_functions.custom.targeted_bonus.TargetedBonus'>.\n",
      "textattack: Loading \u001b[94mdatasets\u001b[0m dataset \u001b[94memotion\u001b[0m, split \u001b[94mtest\u001b[0m.\n",
      "textattack: Logging to CSV at path results/emotion/log.csv\n"
     ]
    },
    {
     "name": "stdout",
     "output_type": "stream",
     "text": [
      "(OrderedDict([('text', 'im feeling rather rotten so im not very ambitious right now')]), 0)\n",
      "Attack(\n",
      "  (search_method): DifferentialEvolution(\n",
      "    (popsize):  32\n",
      "    (maxiter):  10\n",
      "    (max_perturbs):  1\n",
      "    (verbose):  False\n",
      "  )\n",
      "  (goal_function):  TargetedBonus\n",
      "  (transformation):  WordSwapHomoglyphSwap\n",
      "  (constraints): None\n",
      "  (is_black_box):  True\n",
      ") \n",
      "\n"
     ]
    },
    {
     "name": "stderr",
     "output_type": "stream",
     "text": [
      "[Succeeded / Failed / Skipped / Total] 1 / 0 / 0 / 1:   0%|          | 1/250 [00:00<02:11,  1.89it/s]"
     ]
    },
    {
     "name": "stdout",
     "output_type": "stream",
     "text": [
      "tensor([9.9889e-01, 2.2335e-04, 2.2042e-04, 2.9064e-04, 1.7530e-04, 1.9613e-04]) --> tensor([9.9899e-01, 1.9190e-04, 1.8884e-04, 2.6047e-04, 1.9274e-04, 1.8098e-04])\n",
      "\n",
      "im feeling rather rotten so im not very ambitious right now\n",
      "\n",
      "im feeling rather rotten so im not very ambitіous right now\n",
      "--------------------------------------------- Result 1 ---------------------------------------------\n",
      "tensor([9.9889e-01, 2.2335e-04, 2.2042e-04, 2.9064e-04, 1.7530e-04, 1.9613e-04]) --> tensor([9.9899e-01, 1.9190e-04, 1.8884e-04, 2.6047e-04, 1.9274e-04, 1.8098e-04])\n",
      "\n",
      "im feeling rather rotten so im not very [[ambitious]] right now\n",
      "\n",
      "im feeling rather rotten so im not very [[ambitіous]] right now\n",
      "\n",
      "\n"
     ]
    },
    {
     "name": "stderr",
     "output_type": "stream",
     "text": [
      "[Succeeded / Failed / Skipped / Total] 2 / 0 / 0 / 2:   1%|          | 2/250 [00:00<01:55,  2.15it/s]"
     ]
    },
    {
     "name": "stdout",
     "output_type": "stream",
     "text": [
      "tensor([9.9903e-01, 1.8593e-04, 1.7787e-04, 2.8751e-04, 1.7638e-04, 1.4374e-04]) --> tensor([9.9903e-01, 1.9477e-04, 1.7631e-04, 2.8461e-04, 1.7104e-04, 1.3946e-04])\n",
      "\n",
      "im updating my blog because i feel shitty\n",
      "\n",
      "im updating my blog becauѕe i feel shitty\n",
      "--------------------------------------------- Result 2 ---------------------------------------------\n",
      "tensor([9.9903e-01, 1.8593e-04, 1.7787e-04, 2.8751e-04, 1.7638e-04, 1.4374e-04]) --> tensor([9.9903e-01, 1.9477e-04, 1.7631e-04, 2.8461e-04, 1.7104e-04, 1.3946e-04])\n",
      "\n",
      "im updating my blog [[because]] i feel shitty\n",
      "\n",
      "im updating my blog [[becauѕe]] i feel shitty\n",
      "\n",
      "\n"
     ]
    },
    {
     "name": "stderr",
     "output_type": "stream",
     "text": [
      "[Succeeded / Failed / Skipped / Total] 3 / 0 / 0 / 3:   1%|          | 3/250 [00:01<02:07,  1.94it/s]"
     ]
    },
    {
     "name": "stdout",
     "output_type": "stream",
     "text": [
      "tensor([9.9904e-01, 1.8977e-04, 2.0362e-04, 2.2880e-04, 1.8944e-04, 1.4648e-04]) --> tensor([9.9906e-01, 1.7485e-04, 1.8595e-04, 2.4466e-04, 1.9598e-04, 1.3813e-04])\n",
      "\n",
      "i never make her separate from me because i don t ever want her to feel like i m ashamed with her\n",
      "\n",
      "i never make her separate from me bеcause i don t ever want her to feel like i m ashamed with her\n",
      "--------------------------------------------- Result 3 ---------------------------------------------\n",
      "tensor([9.9904e-01, 1.8977e-04, 2.0362e-04, 2.2880e-04, 1.8944e-04, 1.4648e-04]) --> tensor([9.9906e-01, 1.7485e-04, 1.8595e-04, 2.4466e-04, 1.9598e-04, 1.3813e-04])\n",
      "\n",
      "i never make her separate from me [[because]] i don t ever want her to feel like i m ashamed with her\n",
      "\n",
      "i never make her separate from me [[bеcause]] i don t ever want her to feel like i m ashamed with her\n",
      "\n",
      "\n"
     ]
    },
    {
     "name": "stderr",
     "output_type": "stream",
     "text": [
      "[Succeeded / Failed / Skipped / Total] 3 / 1 / 0 / 4:   2%|▏         | 4/250 [00:02<02:17,  1.79it/s]"
     ]
    },
    {
     "name": "stdout",
     "output_type": "stream",
     "text": [
      "tensor([2.8065e-04, 9.9883e-01, 3.1583e-04, 1.7378e-04, 2.1951e-04, 1.7901e-04]) --> [FAILED]\n",
      "\n",
      "i left with my bouquet of red and yellow tulips under my arm feeling slightly more optimistic than when i arrived\n",
      "--------------------------------------------- Result 4 ---------------------------------------------\n",
      "tensor([2.8065e-04, 9.9883e-01, 3.1583e-04, 1.7378e-04, 2.1951e-04, 1.7901e-04]) --> [[[FAILED]]]\n",
      "\n",
      "i left with my bouquet of red and yellow tulips under my arm feeling slightly more optimistic than when i arrived\n",
      "\n",
      "\n"
     ]
    },
    {
     "name": "stderr",
     "output_type": "stream",
     "text": [
      "[Succeeded / Failed / Skipped / Total] 4 / 1 / 0 / 5:   2%|▏         | 5/250 [00:02<02:07,  1.92it/s]"
     ]
    },
    {
     "name": "stdout",
     "output_type": "stream",
     "text": [
      "tensor([9.9895e-01, 2.1511e-04, 1.5600e-04, 2.8785e-04, 2.4783e-04, 1.4445e-04]) --> tensor([9.9899e-01, 2.1313e-04, 1.4978e-04, 2.6780e-04, 2.3862e-04, 1.3681e-04])\n",
      "\n",
      "i was feeling a little vain when i did this one\n",
      "\n",
      "i was feeling а little vain when i did this one\n",
      "--------------------------------------------- Result 5 ---------------------------------------------\n",
      "tensor([9.9895e-01, 2.1511e-04, 1.5600e-04, 2.8785e-04, 2.4783e-04, 1.4445e-04]) --> tensor([9.9899e-01, 2.1313e-04, 1.4978e-04, 2.6780e-04, 2.3862e-04, 1.3681e-04])\n",
      "\n",
      "i was feeling [[a]] little vain when i did this one\n",
      "\n",
      "i was feeling [[а]] little vain when i did this one\n",
      "\n",
      "\n"
     ]
    },
    {
     "name": "stderr",
     "output_type": "stream",
     "text": [
      "[Succeeded / Failed / Skipped / Total] 5 / 1 / 0 / 6:   2%|▏         | 6/250 [00:03<02:12,  1.84it/s]"
     ]
    },
    {
     "name": "stdout",
     "output_type": "stream",
     "text": [
      "tensor([4.3594e-04, 2.3563e-04, 2.2058e-04, 5.7215e-04, 9.9640e-01, 2.1317e-03]) --> tensor([9.9653e-01, 6.6671e-04, 1.2928e-04, 1.0201e-03, 1.4628e-03, 1.9512e-04])\n",
      "\n",
      "i cant walk into a shop anywhere where i do not feel uncomfortable\n",
      "\n",
      "i cant walk into a shop anywhere where i do not feel uncomfortаble\n",
      "--------------------------------------------- Result 6 ---------------------------------------------\n",
      "tensor([4.3594e-04, 2.3563e-04, 2.2058e-04, 5.7215e-04, 9.9640e-01, 2.1317e-03]) --> tensor([9.9653e-01, 6.6671e-04, 1.2928e-04, 1.0201e-03, 1.4628e-03, 1.9512e-04])\n",
      "\n",
      "i cant walk into a shop anywhere where i do not feel [[uncomfortable]]\n",
      "\n",
      "i cant walk into a shop anywhere where i do not feel [[uncomfortаble]]\n",
      "\n",
      "\n"
     ]
    },
    {
     "name": "stderr",
     "output_type": "stream",
     "text": [
      "[Succeeded / Failed / Skipped / Total] 5 / 2 / 0 / 7:   3%|▎         | 7/250 [00:03<02:08,  1.89it/s]"
     ]
    },
    {
     "name": "stdout",
     "output_type": "stream",
     "text": [
      "tensor([6.4220e-04, 3.2698e-04, 1.6361e-04, 9.9713e-01, 1.6100e-03, 1.2903e-04]) --> [FAILED]\n",
      "\n",
      "i felt anger when at the end of a telephone call\n",
      "--------------------------------------------- Result 7 ---------------------------------------------\n",
      "tensor([6.4220e-04, 3.2698e-04, 1.6361e-04, 9.9713e-01, 1.6100e-03, 1.2903e-04]) --> [[[FAILED]]]\n",
      "\n",
      "i felt anger when at the end of a telephone call\n",
      "\n",
      "\n"
     ]
    },
    {
     "name": "stderr",
     "output_type": "stream",
     "text": [
      "[Succeeded / Failed / Skipped / Total] 6 / 2 / 0 / 8:   3%|▎         | 8/250 [00:04<02:20,  1.73it/s]"
     ]
    },
    {
     "name": "stdout",
     "output_type": "stream",
     "text": [
      "tensor([1.4669e-03, 9.8507e-01, 1.1929e-02, 7.0185e-04, 3.9716e-04, 4.3126e-04]) --> tensor([9.5359e-01, 1.8079e-02, 8.0845e-04, 2.3065e-02, 3.9203e-03, 5.3700e-04])\n",
      "\n",
      "i explain why i clung to a relationship with a boy who was in many ways immature and uncommitted despite the excitement i should have been feeling for getting accepted into the masters program at the university of virginia\n",
      "\n",
      "i explain why i clung to a relationship with a boy who was in many ways immature and uncommitted despite the excitement i should have been feeling for getting accepteԁ into the masters program at the university of virginia\n",
      "--------------------------------------------- Result 8 ---------------------------------------------\n",
      "tensor([1.4669e-03, 9.8507e-01, 1.1929e-02, 7.0185e-04, 3.9716e-04, 4.3126e-04]) --> tensor([9.5359e-01, 1.8079e-02, 8.0845e-04, 2.3065e-02, 3.9203e-03, 5.3700e-04])\n",
      "\n",
      "i explain why i clung to a relationship with a boy who was in many ways immature and uncommitted despite the excitement i should have been feeling for getting [[accepted]] into the masters program at the university of virginia\n",
      "\n",
      "i explain why i clung to a relationship with a boy who was in many ways immature and uncommitted despite the excitement i should have been feeling for getting [[accepteԁ]] into the masters program at the university of virginia\n",
      "\n",
      "\n"
     ]
    },
    {
     "name": "stderr",
     "output_type": "stream",
     "text": [
      "[Succeeded / Failed / Skipped / Total] 6 / 3 / 0 / 9:   4%|▎         | 9/250 [00:05<02:24,  1.66it/s]"
     ]
    },
    {
     "name": "stdout",
     "output_type": "stream",
     "text": [
      "tensor([1.7080e-04, 9.9838e-01, 4.2609e-04, 1.5334e-04, 3.0244e-04, 5.6514e-04]) --> [FAILED]\n",
      "\n",
      "i like to have the same breathless feeling as a reader eager to see what will happen next\n",
      "--------------------------------------------- Result 9 ---------------------------------------------\n",
      "tensor([1.7080e-04, 9.9838e-01, 4.2609e-04, 1.5334e-04, 3.0244e-04, 5.6514e-04]) --> [[[FAILED]]]\n",
      "\n",
      "i like to have the same breathless feeling as a reader eager to see what will happen next\n",
      "\n",
      "\n"
     ]
    },
    {
     "name": "stderr",
     "output_type": "stream",
     "text": [
      "[Succeeded / Failed / Skipped / Total] 7 / 3 / 0 / 10:   4%|▍         | 10/250 [00:06<02:30,  1.59it/s]"
     ]
    },
    {
     "name": "stdout",
     "output_type": "stream",
     "text": [
      "tensor([5.1934e-04, 2.9946e-04, 2.3063e-04, 9.9810e-01, 6.6147e-04, 1.9367e-04]) --> tensor([9.9793e-01, 6.0985e-04, 1.4410e-04, 8.7740e-04, 3.1428e-04, 1.2256e-04])\n",
      "\n",
      "i jest i feel grumpy tired and pre menstrual which i probably am but then again its only been a week and im about as fit as a walrus on vacation for the summer\n",
      "\n",
      "i jest i feel grumрy tired and pre menstrual which i probably am but then again its only been a week and im about as fit as a walrus on vacation for the summer\n",
      "--------------------------------------------- Result 10 ---------------------------------------------\n",
      "tensor([5.1934e-04, 2.9946e-04, 2.3063e-04, 9.9810e-01, 6.6147e-04, 1.9367e-04]) --> tensor([9.9793e-01, 6.0985e-04, 1.4410e-04, 8.7740e-04, 3.1428e-04, 1.2256e-04])\n",
      "\n",
      "i jest i feel [[grumpy]] tired and pre menstrual which i probably am but then again its only been a week and im about as fit as a walrus on vacation for the summer\n",
      "\n",
      "i jest i feel [[grumрy]] tired and pre menstrual which i probably am but then again its only been a week and im about as fit as a walrus on vacation for the summer\n",
      "\n",
      "\n"
     ]
    },
    {
     "name": "stderr",
     "output_type": "stream",
     "text": [
      "[Succeeded / Failed / Skipped / Total] 7 / 4 / 0 / 11:   4%|▍         | 11/250 [00:06<02:24,  1.65it/s]"
     ]
    },
    {
     "name": "stdout",
     "output_type": "stream",
     "text": [
      "tensor([6.8675e-04, 7.5310e-04, 5.0794e-04, 8.9877e-01, 9.8437e-02, 8.4420e-04]) --> [FAILED]\n",
      "\n",
      "i don t feel particularly agitated\n",
      "--------------------------------------------- Result 11 ---------------------------------------------\n",
      "tensor([6.8675e-04, 7.5310e-04, 5.0794e-04, 8.9877e-01, 9.8437e-02, 8.4420e-04]) --> [[[FAILED]]]\n",
      "\n",
      "i don t feel particularly agitated\n",
      "\n",
      "\n"
     ]
    },
    {
     "name": "stderr",
     "output_type": "stream",
     "text": [
      "[Succeeded / Failed / Skipped / Total] 8 / 4 / 0 / 12:   5%|▍         | 12/250 [00:07<02:27,  1.61it/s]"
     ]
    },
    {
     "name": "stdout",
     "output_type": "stream",
     "text": [
      "tensor([9.9880e-01, 2.2547e-04, 2.4174e-04, 1.6844e-04, 4.4609e-04, 1.1797e-04]) --> tensor([9.9887e-01, 2.0583e-04, 2.2373e-04, 1.7717e-04, 4.0810e-04, 1.1167e-04])\n",
      "\n",
      "i feel beautifully emotional knowing that these women of whom i knew just a handful were holding me and my baba on our journey\n",
      "\n",
      "i feel beautifully emotional knowing that these women of whom i knew just a handful were holding me anԁ my baba on our journey\n",
      "--------------------------------------------- Result 12 ---------------------------------------------\n",
      "tensor([9.9880e-01, 2.2547e-04, 2.4174e-04, 1.6844e-04, 4.4609e-04, 1.1797e-04]) --> tensor([9.9887e-01, 2.0583e-04, 2.2373e-04, 1.7717e-04, 4.0810e-04, 1.1167e-04])\n",
      "\n",
      "i feel beautifully emotional knowing that these women of whom i knew just a handful were holding me [[and]] my baba on our journey\n",
      "\n",
      "i feel beautifully emotional knowing that these women of whom i knew just a handful were holding me [[anԁ]] my baba on our journey\n",
      "\n",
      "\n"
     ]
    },
    {
     "name": "stderr",
     "output_type": "stream",
     "text": [
      "[Succeeded / Failed / Skipped / Total] 9 / 4 / 0 / 13:   5%|▌         | 13/250 [00:08<02:29,  1.59it/s]"
     ]
    },
    {
     "name": "stdout",
     "output_type": "stream",
     "text": [
      "tensor([3.9397e-02, 5.4157e-04, 5.1027e-04, 1.2539e-03, 9.5558e-01, 2.7139e-03]) --> tensor([0.7544, 0.0015, 0.0012, 0.0011, 0.2388, 0.0031])\n",
      "\n",
      "i pay attention it deepens into a feeling of being invaded and helpless\n",
      "\n",
      "i pay attention it deepens into a feeling of being invaԁed and helpless\n",
      "--------------------------------------------- Result 13 ---------------------------------------------\n",
      "tensor([3.9397e-02, 5.4157e-04, 5.1027e-04, 1.2539e-03, 9.5558e-01, 2.7139e-03]) --> tensor([0.7544, 0.0015, 0.0012, 0.0011, 0.2388, 0.0031])\n",
      "\n",
      "i pay attention it deepens into a feeling of being [[invaded]] and helpless\n",
      "\n",
      "i pay attention it deepens into a feeling of being [[invaԁed]] and helpless\n",
      "\n",
      "\n"
     ]
    },
    {
     "name": "stderr",
     "output_type": "stream",
     "text": [
      "[Succeeded / Failed / Skipped / Total] 9 / 5 / 0 / 14:   6%|▌         | 14/250 [00:09<02:31,  1.55it/s]"
     ]
    },
    {
     "name": "stdout",
     "output_type": "stream",
     "text": [
      "tensor([2.8080e-04, 9.9858e-01, 2.5733e-04, 1.9271e-04, 3.4548e-04, 3.4159e-04]) --> [FAILED]\n",
      "\n",
      "i just feel extremely comfortable with the group of people that i dont even need to hide myself\n",
      "--------------------------------------------- Result 14 ---------------------------------------------\n",
      "tensor([2.8080e-04, 9.9858e-01, 2.5733e-04, 1.9271e-04, 3.4548e-04, 3.4159e-04]) --> [[[FAILED]]]\n",
      "\n",
      "i just feel extremely comfortable with the group of people that i dont even need to hide myself\n",
      "\n",
      "\n"
     ]
    },
    {
     "name": "stderr",
     "output_type": "stream",
     "text": [
      "[Succeeded / Failed / Skipped / Total] 10 / 5 / 0 / 15:   6%|▌         | 15/250 [00:09<02:30,  1.56it/s]"
     ]
    },
    {
     "name": "stdout",
     "output_type": "stream",
     "text": [
      "tensor([7.9285e-04, 1.5439e-03, 9.9514e-01, 6.8580e-04, 8.0983e-04, 1.0307e-03]) --> tensor([0.7029, 0.0068, 0.0027, 0.0064, 0.2793, 0.0018])\n",
      "\n",
      "i find myself in the odd position of feeling supportive of\n",
      "\n",
      "i find myself in the odd position of feeling suрportive of\n",
      "--------------------------------------------- Result 15 ---------------------------------------------\n",
      "tensor([7.9285e-04, 1.5439e-03, 9.9514e-01, 6.8580e-04, 8.0983e-04, 1.0307e-03]) --> tensor([0.7029, 0.0068, 0.0027, 0.0064, 0.2793, 0.0018])\n",
      "\n",
      "i find myself in the odd position of feeling [[supportive]] of\n",
      "\n",
      "i find myself in the odd position of feeling [[suрportive]] of\n",
      "\n",
      "\n"
     ]
    },
    {
     "name": "stderr",
     "output_type": "stream",
     "text": [
      "[Succeeded / Failed / Skipped / Total] 11 / 5 / 0 / 16:   6%|▋         | 16/250 [00:10<02:27,  1.59it/s]"
     ]
    },
    {
     "name": "stdout",
     "output_type": "stream",
     "text": [
      "tensor([9.9902e-01, 2.1781e-04, 1.8627e-04, 1.5515e-04, 2.8435e-04, 1.3436e-04]) --> tensor([9.9907e-01, 1.9819e-04, 1.8051e-04, 1.5759e-04, 2.6315e-04, 1.2867e-04])\n",
      "\n",
      "i was feeling as heartbroken as im sure katniss was\n",
      "\n",
      "i was feeling as heartbroken as im surе katniss was\n",
      "--------------------------------------------- Result 16 ---------------------------------------------\n",
      "tensor([9.9902e-01, 2.1781e-04, 1.8627e-04, 1.5515e-04, 2.8435e-04, 1.3436e-04]) --> tensor([9.9907e-01, 1.9819e-04, 1.8051e-04, 1.5759e-04, 2.6315e-04, 1.2867e-04])\n",
      "\n",
      "i was feeling as heartbroken as im [[sure]] katniss was\n",
      "\n",
      "i was feeling as heartbroken as im [[surе]] katniss was\n",
      "\n",
      "\n"
     ]
    },
    {
     "name": "stderr",
     "output_type": "stream",
     "text": [
      "[Succeeded / Failed / Skipped / Total] 11 / 6 / 0 / 17:   7%|▋         | 17/250 [00:10<02:21,  1.64it/s]"
     ]
    },
    {
     "name": "stdout",
     "output_type": "stream",
     "text": [
      "tensor([2.6860e-04, 9.9886e-01, 3.2531e-04, 1.3449e-04, 1.7289e-04, 2.3619e-04]) --> [FAILED]\n",
      "\n",
      "i feel a little mellow today\n",
      "--------------------------------------------- Result 17 ---------------------------------------------\n",
      "tensor([2.6860e-04, 9.9886e-01, 3.2531e-04, 1.3449e-04, 1.7289e-04, 2.3619e-04]) --> [[[FAILED]]]\n",
      "\n",
      "i feel a little mellow today\n",
      "\n",
      "\n"
     ]
    },
    {
     "name": "stderr",
     "output_type": "stream",
     "text": [
      "[Succeeded / Failed / Skipped / Total] 12 / 6 / 0 / 18:   7%|▋         | 18/250 [00:11<02:22,  1.63it/s]"
     ]
    },
    {
     "name": "stdout",
     "output_type": "stream",
     "text": [
      "tensor([9.8915e-01, 1.2188e-03, 2.8437e-04, 8.7544e-03, 3.7472e-04, 2.1751e-04]) --> tensor([9.9746e-01, 4.8204e-04, 1.7154e-04, 1.5583e-03, 1.9614e-04, 1.3469e-04])\n",
      "\n",
      "i feel like my only role now would be to tear your sails with my pessimism and discontent\n",
      "\n",
      "i feel like my only role now would be to tear your sails with my рessimism and discontent\n",
      "--------------------------------------------- Result 18 ---------------------------------------------\n",
      "tensor([9.8915e-01, 1.2188e-03, 2.8437e-04, 8.7544e-03, 3.7472e-04, 2.1751e-04]) --> tensor([9.9746e-01, 4.8204e-04, 1.7154e-04, 1.5583e-03, 1.9614e-04, 1.3469e-04])\n",
      "\n",
      "i feel like my only role now would be to tear your sails with my [[pessimism]] and discontent\n",
      "\n",
      "i feel like my only role now would be to tear your sails with my [[рessimism]] and discontent\n",
      "\n",
      "\n"
     ]
    },
    {
     "name": "stderr",
     "output_type": "stream",
     "text": [
      "[Succeeded / Failed / Skipped / Total] 12 / 7 / 0 / 19:   8%|▊         | 19/250 [00:11<02:23,  1.61it/s]"
     ]
    },
    {
     "name": "stdout",
     "output_type": "stream",
     "text": [
      "tensor([3.5518e-04, 3.2521e-04, 3.0452e-04, 9.9784e-01, 9.5019e-04, 2.2699e-04]) --> [FAILED]\n",
      "\n",
      "i feel just bcoz a fight we get mad to each other n u wanna make a publicity n let the world knows about our fight\n",
      "--------------------------------------------- Result 19 ---------------------------------------------\n",
      "tensor([3.5518e-04, 3.2521e-04, 3.0452e-04, 9.9784e-01, 9.5019e-04, 2.2699e-04]) --> [[[FAILED]]]\n",
      "\n",
      "i feel just bcoz a fight we get mad to each other n u wanna make a publicity n let the world knows about our fight\n",
      "\n",
      "\n"
     ]
    },
    {
     "name": "stderr",
     "output_type": "stream",
     "text": [
      "[Succeeded / Failed / Skipped / Total] 12 / 8 / 0 / 20:   8%|▊         | 20/250 [00:12<02:22,  1.61it/s]"
     ]
    },
    {
     "name": "stdout",
     "output_type": "stream",
     "text": [
      "tensor([2.0103e-04, 9.9906e-01, 3.0183e-04, 1.1629e-04, 1.2375e-04, 1.9540e-04]) --> [FAILED]\n",
      "\n",
      "i feel like reds and purples are just so rich and kind of perfect\n",
      "--------------------------------------------- Result 20 ---------------------------------------------\n",
      "tensor([2.0103e-04, 9.9906e-01, 3.0183e-04, 1.1629e-04, 1.2375e-04, 1.9540e-04]) --> [[[FAILED]]]\n",
      "\n",
      "i feel like reds and purples are just so rich and kind of perfect\n",
      "\n",
      "\n"
     ]
    },
    {
     "name": "stderr",
     "output_type": "stream",
     "text": [
      "[Succeeded / Failed / Skipped / Total] 13 / 8 / 0 / 21:   8%|▊         | 21/250 [00:13<02:26,  1.57it/s]"
     ]
    },
    {
     "name": "stdout",
     "output_type": "stream",
     "text": [
      "tensor([9.8153e-01, 1.3985e-02, 2.6765e-03, 1.0408e-03, 3.0817e-04, 4.6450e-04]) --> tensor([9.9708e-01, 1.4655e-03, 5.5478e-04, 4.9474e-04, 1.6160e-04, 2.4787e-04])\n",
      "\n",
      "im not sure the feeling of loss will ever go away but it may dull to a sweet feeling of nostalgia at what i shared in this life with my dad and the luck i had to have a dad for years\n",
      "\n",
      "im not sure the feeling of loss will ever go away but it mаy dull to a sweet feeling of nostalgia at what i shared in this life with my dad and the luck i had to have a dad for years\n",
      "--------------------------------------------- Result 21 ---------------------------------------------\n",
      "tensor([9.8153e-01, 1.3985e-02, 2.6765e-03, 1.0408e-03, 3.0817e-04, 4.6450e-04]) --> tensor([9.9708e-01, 1.4655e-03, 5.5478e-04, 4.9474e-04, 1.6160e-04, 2.4787e-04])\n",
      "\n",
      "im not sure the feeling of loss will ever go away but it [[may]] dull to a sweet feeling of nostalgia at what i shared in this life with my dad and the luck i had to have a dad for years\n",
      "\n",
      "im not sure the feeling of loss will ever go away but it [[mаy]] dull to a sweet feeling of nostalgia at what i shared in this life with my dad and the luck i had to have a dad for years\n",
      "\n",
      "\n"
     ]
    },
    {
     "name": "stderr",
     "output_type": "stream",
     "text": [
      "[Succeeded / Failed / Skipped / Total] 13 / 9 / 0 / 22:   9%|▉         | 22/250 [00:14<02:30,  1.51it/s]"
     ]
    },
    {
     "name": "stdout",
     "output_type": "stream",
     "text": [
      "tensor([1.4718e-04, 9.9907e-01, 4.2875e-04, 1.0263e-04, 8.7500e-05, 1.6112e-04]) --> [FAILED]\n",
      "\n",
      "i feel like ive gotten to know many of you through comments and emails and for that im appreciative and glad you are a part of this little space\n",
      "--------------------------------------------- Result 22 ---------------------------------------------\n",
      "tensor([1.4718e-04, 9.9907e-01, 4.2875e-04, 1.0263e-04, 8.7500e-05, 1.6112e-04]) --> [[[FAILED]]]\n",
      "\n",
      "i feel like ive gotten to know many of you through comments and emails and for that im appreciative and glad you are a part of this little space\n",
      "\n",
      "\n"
     ]
    },
    {
     "name": "stderr",
     "output_type": "stream",
     "text": [
      "[Succeeded / Failed / Skipped / Total] 13 / 10 / 0 / 23:   9%|▉         | 23/250 [00:15<02:34,  1.47it/s]"
     ]
    },
    {
     "name": "stdout",
     "output_type": "stream",
     "text": [
      "tensor([2.5539e-04, 9.9844e-01, 3.3440e-04, 1.8526e-04, 1.5475e-04, 6.3504e-04]) --> [FAILED]\n",
      "\n",
      "i survey my own posts over the last few years and only feel pleased with vague snippets of a few of them only feel that little bits of them capture what its like to be me or someone like me in dublin in the st century\n",
      "--------------------------------------------- Result 23 ---------------------------------------------\n",
      "tensor([2.5539e-04, 9.9844e-01, 3.3440e-04, 1.8526e-04, 1.5475e-04, 6.3504e-04]) --> [[[FAILED]]]\n",
      "\n",
      "i survey my own posts over the last few years and only feel pleased with vague snippets of a few of them only feel that little bits of them capture what its like to be me or someone like me in dublin in the st century\n",
      "\n",
      "\n"
     ]
    },
    {
     "name": "stderr",
     "output_type": "stream",
     "text": [
      "[Succeeded / Failed / Skipped / Total] 14 / 10 / 0 / 24:  10%|▉         | 24/250 [00:17<02:47,  1.35it/s]"
     ]
    },
    {
     "name": "stdout",
     "output_type": "stream",
     "text": [
      "tensor([9.9895e-01, 2.5452e-04, 1.6054e-04, 1.9907e-04, 2.7743e-04, 1.6297e-04]) --> tensor([9.9908e-01, 1.9755e-04, 1.7792e-04, 2.5583e-04, 1.7533e-04, 1.1658e-04])\n",
      "\n",
      "i also tell you in hopes that anyone who is still feeling stigmatized or ashamed of their mental health issues will let go of the stigma let go of the shame\n",
      "\n",
      "i also tell you in hopes that anyone who is still feeling stigmatіzed or ashamed of their mental health issues will let go of the stigma let go of the shame\n",
      "--------------------------------------------- Result 24 ---------------------------------------------\n",
      "tensor([9.9895e-01, 2.5452e-04, 1.6054e-04, 1.9907e-04, 2.7743e-04, 1.6297e-04]) --> tensor([9.9908e-01, 1.9755e-04, 1.7792e-04, 2.5583e-04, 1.7533e-04, 1.1658e-04])\n",
      "\n",
      "i also tell you in hopes that anyone who is still feeling [[stigmatized]] or ashamed of their mental health issues will let go of the stigma let go of the shame\n",
      "\n",
      "i also tell you in hopes that anyone who is still feeling [[stigmatіzed]] or ashamed of their mental health issues will let go of the stigma let go of the shame\n",
      "\n",
      "\n"
     ]
    },
    {
     "name": "stderr",
     "output_type": "stream",
     "text": [
      "[Succeeded / Failed / Skipped / Total] 15 / 10 / 0 / 25:  10%|█         | 25/250 [00:18<02:45,  1.36it/s]"
     ]
    },
    {
     "name": "stdout",
     "output_type": "stream",
     "text": [
      "tensor([9.9901e-01, 2.6562e-04, 2.0019e-04, 1.8003e-04, 2.0277e-04, 1.4385e-04]) --> tensor([9.9905e-01, 2.3900e-04, 1.9735e-04, 2.0273e-04, 1.7311e-04, 1.3736e-04])\n",
      "\n",
      "i don t feel guilty like i m not going to be able to cook for him\n",
      "\n",
      "i dοn t feel guilty like i m not going to be able to cook for him\n",
      "--------------------------------------------- Result 25 ---------------------------------------------\n",
      "tensor([9.9901e-01, 2.6562e-04, 2.0019e-04, 1.8003e-04, 2.0277e-04, 1.4385e-04]) --> tensor([9.9905e-01, 2.3900e-04, 1.9735e-04, 2.0273e-04, 1.7311e-04, 1.3736e-04])\n",
      "\n",
      "i [[don]] t feel guilty like i m not going to be able to cook for him\n",
      "\n",
      "i [[dοn]] t feel guilty like i m not going to be able to cook for him\n",
      "\n",
      "\n"
     ]
    },
    {
     "name": "stderr",
     "output_type": "stream",
     "text": [
      "[Succeeded / Failed / Skipped / Total] 15 / 11 / 0 / 26:  10%|█         | 26/250 [00:18<02:43,  1.37it/s]"
     ]
    },
    {
     "name": "stdout",
     "output_type": "stream",
     "text": [
      "tensor([5.6632e-04, 3.3694e-04, 1.9047e-04, 5.5529e-04, 9.9766e-01, 6.8899e-04]) --> [FAILED]\n",
      "\n",
      "i hate it when i feel fearful for absolutely no reason\n",
      "--------------------------------------------- Result 26 ---------------------------------------------\n",
      "tensor([5.6632e-04, 3.3694e-04, 1.9047e-04, 5.5529e-04, 9.9766e-01, 6.8899e-04]) --> [[[FAILED]]]\n",
      "\n",
      "i hate it when i feel fearful for absolutely no reason\n",
      "\n",
      "\n"
     ]
    },
    {
     "name": "stderr",
     "output_type": "stream",
     "text": [
      "[Succeeded / Failed / Skipped / Total] 16 / 11 / 0 / 27:  11%|█         | 27/250 [00:19<02:41,  1.38it/s]"
     ]
    },
    {
     "name": "stdout",
     "output_type": "stream",
     "text": [
      "tensor([3.3367e-04, 2.8093e-04, 2.7036e-04, 9.9681e-01, 2.0394e-03, 2.6666e-04]) --> tensor([8.9972e-01, 1.8115e-03, 8.7682e-04, 1.9816e-02, 7.6991e-02, 7.8484e-04])\n",
      "\n",
      "i am feeling outraged it shows everywhere\n",
      "\n",
      "i am feeling οutraged it shows everywhere\n",
      "--------------------------------------------- Result 27 ---------------------------------------------\n",
      "tensor([3.3367e-04, 2.8093e-04, 2.7036e-04, 9.9681e-01, 2.0394e-03, 2.6666e-04]) --> tensor([8.9972e-01, 1.8115e-03, 8.7682e-04, 1.9816e-02, 7.6991e-02, 7.8484e-04])\n",
      "\n",
      "i am feeling [[outraged]] it shows everywhere\n",
      "\n",
      "i am feeling [[οutraged]] it shows everywhere\n",
      "\n",
      "\n"
     ]
    },
    {
     "name": "stderr",
     "output_type": "stream",
     "text": [
      "[Succeeded / Failed / Skipped / Total] 17 / 11 / 0 / 28:  11%|█         | 28/250 [00:20<02:41,  1.38it/s]"
     ]
    },
    {
     "name": "stdout",
     "output_type": "stream",
     "text": [
      "tensor([9.9870e-01, 2.1365e-04, 2.8651e-04, 3.4196e-04, 2.1017e-04, 2.4481e-04]) --> tensor([9.9888e-01, 1.9995e-04, 2.2747e-04, 2.9437e-04, 1.9556e-04, 2.0507e-04])\n",
      "\n",
      "i stole a book from one of my all time favorite authors and now i feel like a rotten person\n",
      "\n",
      "i stole a book from one of my all time favοrite authors and now i feel like a rotten person\n",
      "--------------------------------------------- Result 28 ---------------------------------------------\n",
      "tensor([9.9870e-01, 2.1365e-04, 2.8651e-04, 3.4196e-04, 2.1017e-04, 2.4481e-04]) --> tensor([9.9888e-01, 1.9995e-04, 2.2747e-04, 2.9437e-04, 1.9556e-04, 2.0507e-04])\n",
      "\n",
      "i stole a book from one of my all time [[favorite]] authors and now i feel like a rotten person\n",
      "\n",
      "i stole a book from one of my all time [[favοrite]] authors and now i feel like a rotten person\n",
      "\n",
      "\n"
     ]
    },
    {
     "name": "stderr",
     "output_type": "stream",
     "text": [
      "[Succeeded / Failed / Skipped / Total] 17 / 12 / 0 / 29:  12%|█▏        | 29/250 [00:20<02:38,  1.39it/s]"
     ]
    },
    {
     "name": "stdout",
     "output_type": "stream",
     "text": [
      "tensor([4.7387e-04, 3.1496e-04, 2.8424e-04, 5.1587e-04, 9.9760e-01, 8.1144e-04]) --> [FAILED]\n",
      "\n",
      "i do feel insecure sometimes but who doesnt\n",
      "--------------------------------------------- Result 29 ---------------------------------------------\n",
      "tensor([4.7387e-04, 3.1496e-04, 2.8424e-04, 5.1587e-04, 9.9760e-01, 8.1144e-04]) --> [[[FAILED]]]\n",
      "\n",
      "i do feel insecure sometimes but who doesnt\n",
      "\n",
      "\n"
     ]
    },
    {
     "name": "stderr",
     "output_type": "stream",
     "text": [
      "[Succeeded / Failed / Skipped / Total] 17 / 13 / 0 / 30:  12%|█▏        | 30/250 [00:22<02:43,  1.34it/s]"
     ]
    },
    {
     "name": "stdout",
     "output_type": "stream",
     "text": [
      "tensor([5.7210e-04, 2.5005e-04, 2.2793e-04, 9.9802e-01, 7.4603e-04, 1.8613e-04]) --> [FAILED]\n",
      "\n",
      "i highly recommend visiting on a wednesday if youre able because its less crowded so you get to ask the farmers more questions without feeling rude for holding up a line\n",
      "--------------------------------------------- Result 30 ---------------------------------------------\n",
      "tensor([5.7210e-04, 2.5005e-04, 2.2793e-04, 9.9802e-01, 7.4603e-04, 1.8613e-04]) --> [[[FAILED]]]\n",
      "\n",
      "i highly recommend visiting on a wednesday if youre able because its less crowded so you get to ask the farmers more questions without feeling rude for holding up a line\n",
      "\n",
      "\n"
     ]
    },
    {
     "name": "stderr",
     "output_type": "stream",
     "text": [
      "[Succeeded / Failed / Skipped / Total] 18 / 13 / 0 / 31:  12%|█▏        | 31/250 [00:22<02:41,  1.35it/s]"
     ]
    },
    {
     "name": "stdout",
     "output_type": "stream",
     "text": [
      "tensor([5.3395e-04, 2.2741e-04, 1.6052e-04, 7.3879e-04, 9.9762e-01, 7.2405e-04]) --> tensor([9.9244e-01, 2.0329e-03, 1.3262e-03, 3.6187e-04, 3.3079e-03, 5.3128e-04])\n",
      "\n",
      "ive been missing him and feeling so restless at home thinking of him\n",
      "\n",
      "ive been missing him and feeling so restlesѕ at home thinking of him\n",
      "--------------------------------------------- Result 31 ---------------------------------------------\n",
      "tensor([5.3395e-04, 2.2741e-04, 1.6052e-04, 7.3879e-04, 9.9762e-01, 7.2405e-04]) --> tensor([9.9244e-01, 2.0329e-03, 1.3262e-03, 3.6187e-04, 3.3079e-03, 5.3128e-04])\n",
      "\n",
      "ive been missing him and feeling so [[restless]] at home thinking of him\n",
      "\n",
      "ive been missing him and feeling so [[restlesѕ]] at home thinking of him\n",
      "\n",
      "\n"
     ]
    },
    {
     "name": "stderr",
     "output_type": "stream",
     "text": [
      "[Succeeded / Failed / Skipped / Total] 18 / 14 / 0 / 32:  13%|█▎        | 32/250 [00:23<02:43,  1.34it/s]"
     ]
    },
    {
     "name": "stdout",
     "output_type": "stream",
     "text": [
      "tensor([5.5386e-04, 2.4250e-04, 1.9011e-04, 9.9819e-01, 6.6368e-04, 1.6038e-04]) --> [FAILED]\n",
      "\n",
      "i posted on my facebook page earlier this week ive been feeling a little grumpy and out of sorts the past few days\n",
      "--------------------------------------------- Result 32 ---------------------------------------------\n",
      "tensor([5.5386e-04, 2.4250e-04, 1.9011e-04, 9.9819e-01, 6.6368e-04, 1.6038e-04]) --> [[[FAILED]]]\n",
      "\n",
      "i posted on my facebook page earlier this week ive been feeling a little grumpy and out of sorts the past few days\n",
      "\n",
      "\n"
     ]
    },
    {
     "name": "stderr",
     "output_type": "stream",
     "text": [
      "[Succeeded / Failed / Skipped / Total] 19 / 14 / 0 / 33:  13%|█▎        | 33/250 [00:24<02:39,  1.36it/s]"
     ]
    },
    {
     "name": "stdout",
     "output_type": "stream",
     "text": [
      "tensor([9.9830e-01, 1.5418e-04, 2.0882e-04, 6.9154e-04, 5.5143e-04, 9.1409e-05]) --> tensor([9.9842e-01, 1.6498e-04, 2.1726e-04, 5.8661e-04, 5.1847e-04, 9.0685e-05])\n",
      "\n",
      "i start to feel emotional\n",
      "\n",
      "i ѕtart to feel emotional\n",
      "--------------------------------------------- Result 33 ---------------------------------------------\n",
      "tensor([9.9830e-01, 1.5418e-04, 2.0882e-04, 6.9154e-04, 5.5143e-04, 9.1409e-05]) --> tensor([9.9842e-01, 1.6498e-04, 2.1726e-04, 5.8661e-04, 5.1847e-04, 9.0685e-05])\n",
      "\n",
      "i [[start]] to feel emotional\n",
      "\n",
      "i [[ѕtart]] to feel emotional\n",
      "\n",
      "\n"
     ]
    },
    {
     "name": "stderr",
     "output_type": "stream",
     "text": [
      "[Succeeded / Failed / Skipped / Total] 19 / 15 / 0 / 34:  14%|█▎        | 34/250 [00:24<02:36,  1.38it/s]"
     ]
    },
    {
     "name": "stdout",
     "output_type": "stream",
     "text": [
      "tensor([6.1502e-04, 2.8317e-04, 7.3171e-04, 9.9698e-01, 1.1245e-03, 2.6659e-04]) --> [FAILED]\n",
      "\n",
      "i feel so cold a href http irish\n",
      "--------------------------------------------- Result 34 ---------------------------------------------\n",
      "tensor([6.1502e-04, 2.8317e-04, 7.3171e-04, 9.9698e-01, 1.1245e-03, 2.6659e-04]) --> [[[FAILED]]]\n",
      "\n",
      "i feel so cold a href http irish\n",
      "\n",
      "\n"
     ]
    },
    {
     "name": "stderr",
     "output_type": "stream",
     "text": [
      "[Succeeded / Failed / Skipped / Total] 20 / 15 / 0 / 35:  14%|█▍        | 35/250 [00:25<02:34,  1.39it/s]"
     ]
    },
    {
     "name": "stdout",
     "output_type": "stream",
     "text": [
      "tensor([9.9869e-01, 2.3426e-04, 1.5542e-04, 4.3029e-04, 2.8788e-04, 2.0269e-04]) --> tensor([9.9873e-01, 2.2726e-04, 1.4860e-04, 3.8738e-04, 3.1266e-04, 1.9234e-04])\n",
      "\n",
      "i feel like i m defective or something for not having baby fever\n",
      "\n",
      "i feel like і m defective or something for not having baby fever\n",
      "--------------------------------------------- Result 35 ---------------------------------------------\n",
      "tensor([9.9869e-01, 2.3426e-04, 1.5542e-04, 4.3029e-04, 2.8788e-04, 2.0269e-04]) --> tensor([9.9873e-01, 2.2726e-04, 1.4860e-04, 3.8738e-04, 3.1266e-04, 1.9234e-04])\n",
      "\n",
      "i feel like [[i]] m defective or something for not having baby fever\n",
      "\n",
      "i feel like [[і]] m defective or something for not having baby fever\n",
      "\n",
      "\n"
     ]
    },
    {
     "name": "stderr",
     "output_type": "stream",
     "text": [
      "[Succeeded / Failed / Skipped / Total] 20 / 16 / 0 / 36:  14%|█▍        | 36/250 [00:26<02:34,  1.38it/s]"
     ]
    },
    {
     "name": "stdout",
     "output_type": "stream",
     "text": [
      "tensor([1.7748e-04, 9.9911e-01, 2.5670e-04, 1.1709e-04, 1.4533e-04, 1.9202e-04]) --> [FAILED]\n",
      "\n",
      "i feel more virtuous than when i eat veggies dipped in hummus\n",
      "--------------------------------------------- Result 36 ---------------------------------------------\n",
      "tensor([1.7748e-04, 9.9911e-01, 2.5670e-04, 1.1709e-04, 1.4533e-04, 1.9202e-04]) --> [[[FAILED]]]\n",
      "\n",
      "i feel more virtuous than when i eat veggies dipped in hummus\n",
      "\n",
      "\n"
     ]
    },
    {
     "name": "stderr",
     "output_type": "stream",
     "text": [
      "[Succeeded / Failed / Skipped / Total] 20 / 17 / 0 / 37:  15%|█▍        | 37/250 [00:28<02:41,  1.32it/s]"
     ]
    },
    {
     "name": "stdout",
     "output_type": "stream",
     "text": [
      "tensor([2.2826e-04, 9.9801e-01, 5.2962e-04, 1.2690e-04, 1.4760e-04, 9.5434e-04]) --> [FAILED]\n",
      "\n",
      "i feel very honoured to be included in a magzine which prioritises health and clean living so highly im curious do any of you read magazines concerned with health and clean lifestyles such as the green parent\n",
      "--------------------------------------------- Result 37 ---------------------------------------------\n",
      "tensor([2.2826e-04, 9.9801e-01, 5.2962e-04, 1.2690e-04, 1.4760e-04, 9.5434e-04]) --> [[[FAILED]]]\n",
      "\n",
      "i feel very honoured to be included in a magzine which prioritises health and clean living so highly im curious do any of you read magazines concerned with health and clean lifestyles such as the green parent\n",
      "\n",
      "\n"
     ]
    },
    {
     "name": "stderr",
     "output_type": "stream",
     "text": [
      "[Succeeded / Failed / Skipped / Total] 21 / 17 / 0 / 38:  15%|█▌        | 38/250 [00:28<02:40,  1.32it/s]"
     ]
    },
    {
     "name": "stdout",
     "output_type": "stream",
     "text": [
      "tensor([9.9903e-01, 2.0770e-04, 1.5879e-04, 3.0895e-04, 1.5887e-04, 1.3192e-04]) --> tensor([9.9907e-01, 2.0672e-04, 1.6084e-04, 2.6551e-04, 1.6011e-04, 1.3605e-04])\n",
      "\n",
      "i spent the last two weeks of school feeling miserable\n",
      "\n",
      "i spent thе last two weeks of school feeling miserable\n",
      "--------------------------------------------- Result 38 ---------------------------------------------\n",
      "tensor([9.9903e-01, 2.0770e-04, 1.5879e-04, 3.0895e-04, 1.5887e-04, 1.3192e-04]) --> tensor([9.9907e-01, 2.0672e-04, 1.6084e-04, 2.6551e-04, 1.6011e-04, 1.3605e-04])\n",
      "\n",
      "i spent [[the]] last two weeks of school feeling miserable\n",
      "\n",
      "i spent [[thе]] last two weeks of school feeling miserable\n",
      "\n",
      "\n"
     ]
    },
    {
     "name": "stderr",
     "output_type": "stream",
     "text": [
      "[Succeeded / Failed / Skipped / Total] 21 / 18 / 0 / 39:  16%|█▌        | 39/250 [00:29<02:38,  1.33it/s]"
     ]
    },
    {
     "name": "stdout",
     "output_type": "stream",
     "text": [
      "tensor([2.7386e-04, 9.9889e-01, 2.9772e-04, 1.4316e-04, 2.1502e-04, 1.8452e-04]) --> [FAILED]\n",
      "\n",
      "im feeling very peaceful about our wedding again now after having\n",
      "--------------------------------------------- Result 39 ---------------------------------------------\n",
      "tensor([2.7386e-04, 9.9889e-01, 2.9772e-04, 1.4316e-04, 2.1502e-04, 1.8452e-04]) --> [[[FAILED]]]\n",
      "\n",
      "im feeling very peaceful about our wedding again now after having\n",
      "\n",
      "\n"
     ]
    },
    {
     "name": "stderr",
     "output_type": "stream",
     "text": [
      "[Succeeded / Failed / Skipped / Total] 22 / 18 / 0 / 40:  16%|█▌        | 40/250 [00:30<02:40,  1.31it/s]"
     ]
    },
    {
     "name": "stdout",
     "output_type": "stream",
     "text": [
      "tensor([1.3443e-04, 9.9762e-01, 1.7537e-03, 8.9014e-05, 1.2049e-04, 2.8182e-04]) --> tensor([9.9846e-01, 1.3747e-04, 1.7693e-04, 3.5501e-04, 7.3228e-04, 1.4159e-04])\n",
      "\n",
      "i had been talking to coach claudia barcomb and coach ali boe for a long time and they both made me feel very welcomed at union\n",
      "\n",
      "i had been talking to coach claudia barcomb and coach ali boe for a long time and they both made me feel very wеlcomed at union\n",
      "--------------------------------------------- Result 40 ---------------------------------------------\n",
      "tensor([1.3443e-04, 9.9762e-01, 1.7537e-03, 8.9014e-05, 1.2049e-04, 2.8182e-04]) --> tensor([9.9846e-01, 1.3747e-04, 1.7693e-04, 3.5501e-04, 7.3228e-04, 1.4159e-04])\n",
      "\n",
      "i had been talking to coach claudia barcomb and coach ali boe for a long time and they both made me feel very [[welcomed]] at union\n",
      "\n",
      "i had been talking to coach claudia barcomb and coach ali boe for a long time and they both made me feel very [[wеlcomed]] at union\n",
      "\n",
      "\n"
     ]
    },
    {
     "name": "stderr",
     "output_type": "stream",
     "text": [
      "[Succeeded / Failed / Skipped / Total] 23 / 18 / 0 / 41:  16%|█▋        | 41/250 [00:31<02:41,  1.29it/s]"
     ]
    },
    {
     "name": "stdout",
     "output_type": "stream",
     "text": [
      "tensor([0.6589, 0.0016, 0.0024, 0.3355, 0.0009, 0.0007]) --> tensor([9.1355e-01, 1.3303e-03, 1.2836e-03, 8.2757e-02, 5.8308e-04, 4.9733e-04])\n",
      "\n",
      "i feel if i completely hated things i d exercise my democratic right speak my mind in what ever ways possible and try to enact a change\n",
      "\n",
      "i feel if i completely hated thіngs i d exercise my democratic right speak my mind in what ever ways possible and try to enact a change\n",
      "--------------------------------------------- Result 41 ---------------------------------------------\n",
      "tensor([0.6589, 0.0016, 0.0024, 0.3355, 0.0009, 0.0007]) --> tensor([9.1355e-01, 1.3303e-03, 1.2836e-03, 8.2757e-02, 5.8308e-04, 4.9733e-04])\n",
      "\n",
      "i feel if i completely hated [[things]] i d exercise my democratic right speak my mind in what ever ways possible and try to enact a change\n",
      "\n",
      "i feel if i completely hated [[thіngs]] i d exercise my democratic right speak my mind in what ever ways possible and try to enact a change\n",
      "\n",
      "\n"
     ]
    },
    {
     "name": "stderr",
     "output_type": "stream",
     "text": [
      "[Succeeded / Failed / Skipped / Total] 24 / 18 / 0 / 42:  17%|█▋        | 42/250 [00:32<02:41,  1.29it/s]"
     ]
    },
    {
     "name": "stdout",
     "output_type": "stream",
     "text": [
      "tensor([9.9900e-01, 1.8730e-04, 1.8041e-04, 3.4159e-04, 1.5833e-04, 1.3148e-04]) --> tensor([9.9904e-01, 1.8429e-04, 1.7502e-04, 3.0312e-04, 1.6416e-04, 1.3255e-04])\n",
      "\n",
      "i feel humiliated embarrassed or foolish i will remember that others have felt the same way because of the same kinds of things and i will be kind and helpful and accepting\n",
      "\n",
      "i feel humiliated embarrassed or foolіsh i will remember that others have felt the same way because of the same kinds of things and i will be kind and helpful and accepting\n",
      "--------------------------------------------- Result 42 ---------------------------------------------\n",
      "tensor([9.9900e-01, 1.8730e-04, 1.8041e-04, 3.4159e-04, 1.5833e-04, 1.3148e-04]) --> tensor([9.9904e-01, 1.8429e-04, 1.7502e-04, 3.0312e-04, 1.6416e-04, 1.3255e-04])\n",
      "\n",
      "i feel humiliated embarrassed or [[foolish]] i will remember that others have felt the same way because of the same kinds of things and i will be kind and helpful and accepting\n",
      "\n",
      "i feel humiliated embarrassed or [[foolіsh]] i will remember that others have felt the same way because of the same kinds of things and i will be kind and helpful and accepting\n",
      "\n",
      "\n"
     ]
    },
    {
     "name": "stderr",
     "output_type": "stream",
     "text": [
      "[Succeeded / Failed / Skipped / Total] 24 / 19 / 0 / 43:  17%|█▋        | 43/250 [00:33<02:40,  1.29it/s]"
     ]
    },
    {
     "name": "stdout",
     "output_type": "stream",
     "text": [
      "tensor([2.2857e-04, 9.9881e-01, 3.6117e-04, 1.6675e-04, 2.6814e-04, 1.6654e-04]) --> [FAILED]\n",
      "\n",
      "i feel reassured that i am dealing with my diet in the right way and that all is good\n",
      "--------------------------------------------- Result 43 ---------------------------------------------\n",
      "tensor([2.2857e-04, 9.9881e-01, 3.6117e-04, 1.6675e-04, 2.6814e-04, 1.6654e-04]) --> [[[FAILED]]]\n",
      "\n",
      "i feel reassured that i am dealing with my diet in the right way and that all is good\n",
      "\n",
      "\n"
     ]
    },
    {
     "name": "stderr",
     "output_type": "stream",
     "text": [
      "[Succeeded / Failed / Skipped / Total] 25 / 19 / 0 / 44:  18%|█▊        | 44/250 [00:34<02:40,  1.29it/s]"
     ]
    },
    {
     "name": "stdout",
     "output_type": "stream",
     "text": [
      "tensor([9.9472e-01, 2.6368e-03, 3.4942e-04, 1.7191e-03, 3.8482e-04, 1.9185e-04]) --> tensor([9.9885e-01, 3.4070e-04, 1.6897e-04, 3.2580e-04, 1.7073e-04, 1.4450e-04])\n",
      "\n",
      "i feel i have to agree with her even though i can imagine some rather unpleasant possible cases\n",
      "\n",
      "i feel i have to agrеe with her even though i can imagine some rather unpleasant possible cases\n",
      "--------------------------------------------- Result 44 ---------------------------------------------\n",
      "tensor([9.9472e-01, 2.6368e-03, 3.4942e-04, 1.7191e-03, 3.8482e-04, 1.9185e-04]) --> tensor([9.9885e-01, 3.4070e-04, 1.6897e-04, 3.2580e-04, 1.7073e-04, 1.4450e-04])\n",
      "\n",
      "i feel i have to [[agree]] with her even though i can imagine some rather unpleasant possible cases\n",
      "\n",
      "i feel i have to [[agrеe]] with her even though i can imagine some rather unpleasant possible cases\n",
      "\n",
      "\n"
     ]
    },
    {
     "name": "stderr",
     "output_type": "stream",
     "text": [
      "[Succeeded / Failed / Skipped / Total] 25 / 20 / 0 / 45:  18%|█▊        | 45/250 [00:35<02:40,  1.28it/s]"
     ]
    },
    {
     "name": "stdout",
     "output_type": "stream",
     "text": [
      "tensor([1.9104e-04, 9.9885e-01, 3.0095e-04, 1.4205e-04, 1.4983e-04, 3.6790e-04]) --> [FAILED]\n",
      "\n",
      "im in such a happy mood today i feel almost delighted and i havent done anything different today then i normally have it is wonderful\n",
      "--------------------------------------------- Result 45 ---------------------------------------------\n",
      "tensor([1.9104e-04, 9.9885e-01, 3.0095e-04, 1.4205e-04, 1.4983e-04, 3.6790e-04]) --> [[[FAILED]]]\n",
      "\n",
      "im in such a happy mood today i feel almost delighted and i havent done anything different today then i normally have it is wonderful\n",
      "\n",
      "\n"
     ]
    },
    {
     "name": "stderr",
     "output_type": "stream",
     "text": [
      "[Succeeded / Failed / Skipped / Total] 25 / 21 / 0 / 46:  18%|█▊        | 46/250 [00:35<02:37,  1.29it/s]"
     ]
    },
    {
     "name": "stdout",
     "output_type": "stream",
     "text": [
      "tensor([4.7750e-04, 2.7004e-04, 2.1424e-04, 9.9816e-01, 7.0592e-04, 1.7269e-04]) --> [FAILED]\n",
      "\n",
      "im feeling really out of place and irritated\n",
      "--------------------------------------------- Result 46 ---------------------------------------------\n",
      "tensor([4.7750e-04, 2.7004e-04, 2.1424e-04, 9.9816e-01, 7.0592e-04, 1.7269e-04]) --> [[[FAILED]]]\n",
      "\n",
      "im feeling really out of place and irritated\n",
      "\n",
      "\n"
     ]
    },
    {
     "name": "stderr",
     "output_type": "stream",
     "text": [
      "[Succeeded / Failed / Skipped / Total] 25 / 22 / 0 / 47:  19%|█▉        | 47/250 [00:36<02:36,  1.29it/s]"
     ]
    },
    {
     "name": "stdout",
     "output_type": "stream",
     "text": [
      "tensor([1.6110e-04, 9.9781e-01, 1.6425e-03, 1.0632e-04, 1.1711e-04, 1.6385e-04]) --> [FAILED]\n",
      "\n",
      "i also know that i feel nothing than a friendly affection to them too\n",
      "--------------------------------------------- Result 47 ---------------------------------------------\n",
      "tensor([1.6110e-04, 9.9781e-01, 1.6425e-03, 1.0632e-04, 1.1711e-04, 1.6385e-04]) --> [[[FAILED]]]\n",
      "\n",
      "i also know that i feel nothing than a friendly affection to them too\n",
      "\n",
      "\n"
     ]
    },
    {
     "name": "stderr",
     "output_type": "stream",
     "text": [
      "[Succeeded / Failed / Skipped / Total] 25 / 23 / 0 / 48:  19%|█▉        | 48/250 [00:37<02:36,  1.29it/s]"
     ]
    },
    {
     "name": "stdout",
     "output_type": "stream",
     "text": [
      "tensor([3.0198e-04, 9.9878e-01, 2.8110e-04, 2.0490e-04, 1.8805e-04, 2.4156e-04]) --> [FAILED]\n",
      "\n",
      "i feel like i had a rather productive weekend and i cant always say that no matter how much i get done\n",
      "--------------------------------------------- Result 48 ---------------------------------------------\n",
      "tensor([3.0198e-04, 9.9878e-01, 2.8110e-04, 2.0490e-04, 1.8805e-04, 2.4156e-04]) --> [[[FAILED]]]\n",
      "\n",
      "i feel like i had a rather productive weekend and i cant always say that no matter how much i get done\n",
      "\n",
      "\n"
     ]
    },
    {
     "name": "stderr",
     "output_type": "stream",
     "text": [
      "[Succeeded / Failed / Skipped / Total] 25 / 24 / 0 / 49:  20%|█▉        | 49/250 [00:37<02:33,  1.31it/s]"
     ]
    },
    {
     "name": "stdout",
     "output_type": "stream",
     "text": [
      "tensor([4.7882e-04, 2.9614e-04, 1.9913e-04, 5.5773e-04, 9.9777e-01, 6.9930e-04]) --> [FAILED]\n",
      "\n",
      "im feeling insecure at the moment\n",
      "--------------------------------------------- Result 49 ---------------------------------------------\n",
      "tensor([4.7882e-04, 2.9614e-04, 1.9913e-04, 5.5773e-04, 9.9777e-01, 6.9930e-04]) --> [[[FAILED]]]\n",
      "\n",
      "im feeling insecure at the moment\n",
      "\n",
      "\n"
     ]
    },
    {
     "name": "stderr",
     "output_type": "stream",
     "text": [
      "[Succeeded / Failed / Skipped / Total] 25 / 25 / 0 / 50:  20%|██        | 50/250 [00:38<02:33,  1.31it/s]"
     ]
    },
    {
     "name": "stdout",
     "output_type": "stream",
     "text": [
      "tensor([8.5701e-04, 3.3402e-04, 1.3003e-04, 6.9090e-04, 9.9748e-01, 5.0729e-04]) --> [FAILED]\n",
      "\n",
      "i was feeling pretty anxious all day but my first day at work was a very good day and that helped a lot\n",
      "--------------------------------------------- Result 50 ---------------------------------------------\n",
      "tensor([8.5701e-04, 3.3402e-04, 1.3003e-04, 6.9090e-04, 9.9748e-01, 5.0729e-04]) --> [[[FAILED]]]\n",
      "\n",
      "i was feeling pretty anxious all day but my first day at work was a very good day and that helped a lot\n",
      "\n",
      "\n"
     ]
    },
    {
     "name": "stderr",
     "output_type": "stream",
     "text": [
      "[Succeeded / Failed / Skipped / Total] 26 / 25 / 0 / 51:  20%|██        | 51/250 [00:39<02:32,  1.31it/s]"
     ]
    },
    {
     "name": "stdout",
     "output_type": "stream",
     "text": [
      "tensor([9.9827e-01, 2.3511e-04, 2.0587e-04, 9.5412e-04, 1.7000e-04, 1.5994e-04]) --> tensor([9.9874e-01, 2.2605e-04, 1.6667e-04, 5.6108e-04, 1.6536e-04, 1.3724e-04])\n",
      "\n",
      "i stood up to you i finally stood up to you and now i feel like im being punished if i could go back and do it again\n",
      "\n",
      "i stood up to you i finally stood up to you and now i feel like іm being punished if i could go back and do it again\n",
      "--------------------------------------------- Result 51 ---------------------------------------------\n",
      "tensor([9.9827e-01, 2.3511e-04, 2.0587e-04, 9.5412e-04, 1.7000e-04, 1.5994e-04]) --> tensor([9.9874e-01, 2.2605e-04, 1.6667e-04, 5.6108e-04, 1.6536e-04, 1.3724e-04])\n",
      "\n",
      "i stood up to you i finally stood up to you and now i feel like [[im]] being punished if i could go back and do it again\n",
      "\n",
      "i stood up to you i finally stood up to you and now i feel like [[іm]] being punished if i could go back and do it again\n",
      "\n",
      "\n"
     ]
    },
    {
     "name": "stderr",
     "output_type": "stream",
     "text": [
      "[Succeeded / Failed / Skipped / Total] 26 / 26 / 0 / 52:  21%|██        | 52/250 [00:39<02:30,  1.32it/s]"
     ]
    },
    {
     "name": "stdout",
     "output_type": "stream",
     "text": [
      "tensor([3.3096e-04, 2.7790e-04, 1.3700e-04, 7.7634e-04, 9.9770e-01, 7.7484e-04]) --> [FAILED]\n",
      "\n",
      "i feel a little nervous i go to the gym\n",
      "--------------------------------------------- Result 52 ---------------------------------------------\n",
      "tensor([3.3096e-04, 2.7790e-04, 1.3700e-04, 7.7634e-04, 9.9770e-01, 7.7484e-04]) --> [[[FAILED]]]\n",
      "\n",
      "i feel a little nervous i go to the gym\n",
      "\n",
      "\n"
     ]
    },
    {
     "name": "stderr",
     "output_type": "stream",
     "text": [
      "[Succeeded / Failed / Skipped / Total] 27 / 26 / 0 / 53:  21%|██        | 53/250 [00:40<02:30,  1.31it/s]"
     ]
    },
    {
     "name": "stdout",
     "output_type": "stream",
     "text": [
      "tensor([3.6818e-04, 9.9845e-01, 2.8339e-04, 2.7685e-04, 2.7238e-04, 3.4635e-04]) --> tensor([0.7384, 0.0095, 0.0012, 0.1450, 0.1042, 0.0017])\n",
      "\n",
      "i feel like i could go into any situation and become successful because i ve been competing all my life explained schaub in an interview with the a href http bleacherreport\n",
      "\n",
      "i feel like i could go into any situation and become succеssful because i ve been competing all my life explained schaub in an interview with the a href http bleacherreport\n",
      "--------------------------------------------- Result 53 ---------------------------------------------\n",
      "tensor([3.6818e-04, 9.9845e-01, 2.8339e-04, 2.7685e-04, 2.7238e-04, 3.4635e-04]) --> tensor([0.7384, 0.0095, 0.0012, 0.1450, 0.1042, 0.0017])\n",
      "\n",
      "i feel like i could go into any situation and become [[successful]] because i ve been competing all my life explained schaub in an interview with the a href http bleacherreport\n",
      "\n",
      "i feel like i could go into any situation and become [[succеssful]] because i ve been competing all my life explained schaub in an interview with the a href http bleacherreport\n",
      "\n",
      "\n"
     ]
    },
    {
     "name": "stderr",
     "output_type": "stream",
     "text": [
      "[Succeeded / Failed / Skipped / Total] 28 / 26 / 0 / 54:  22%|██▏       | 54/250 [00:41<02:29,  1.31it/s]"
     ]
    },
    {
     "name": "stdout",
     "output_type": "stream",
     "text": [
      "tensor([9.9891e-01, 2.5591e-04, 1.2509e-04, 2.8610e-04, 3.1268e-04, 1.1366e-04]) --> tensor([9.9898e-01, 2.4804e-04, 1.2848e-04, 2.5127e-04, 2.7284e-04, 1.1557e-04])\n",
      "\n",
      "i can t stop the anxiety i feel when i m alone when i ve got no distractions\n",
      "\n",
      "i can t stop the anxiety i feel when i m alone wһen i ve got no distractions\n",
      "--------------------------------------------- Result 54 ---------------------------------------------\n",
      "tensor([9.9891e-01, 2.5591e-04, 1.2509e-04, 2.8610e-04, 3.1268e-04, 1.1366e-04]) --> tensor([9.9898e-01, 2.4804e-04, 1.2848e-04, 2.5127e-04, 2.7284e-04, 1.1557e-04])\n",
      "\n",
      "i can t stop the anxiety i feel when i m alone [[when]] i ve got no distractions\n",
      "\n",
      "i can t stop the anxiety i feel when i m alone [[wһen]] i ve got no distractions\n",
      "\n",
      "\n"
     ]
    },
    {
     "name": "stderr",
     "output_type": "stream",
     "text": [
      "[Succeeded / Failed / Skipped / Total] 28 / 27 / 0 / 55:  22%|██▏       | 55/250 [00:43<02:35,  1.25it/s]"
     ]
    },
    {
     "name": "stdout",
     "output_type": "stream",
     "text": [
      "tensor([2.9669e-04, 9.9849e-01, 3.4490e-04, 3.0006e-04, 2.2213e-04, 3.4646e-04]) --> [FAILED]\n",
      "\n",
      "im trying to feel out my house style now that im living on my own and have creative carte blanche\n",
      "--------------------------------------------- Result 55 ---------------------------------------------\n",
      "tensor([2.9669e-04, 9.9849e-01, 3.4490e-04, 3.0006e-04, 2.2213e-04, 3.4646e-04]) --> [[[FAILED]]]\n",
      "\n",
      "im trying to feel out my house style now that im living on my own and have creative carte blanche\n",
      "\n",
      "\n"
     ]
    },
    {
     "name": "stderr",
     "output_type": "stream",
     "text": [
      "[Succeeded / Failed / Skipped / Total] 29 / 27 / 0 / 56:  22%|██▏       | 56/250 [00:45<02:39,  1.22it/s]"
     ]
    },
    {
     "name": "stdout",
     "output_type": "stream",
     "text": [
      "tensor([9.9860e-01, 2.2067e-04, 4.7544e-04, 3.4498e-04, 2.5706e-04, 1.0516e-04]) --> tensor([9.9879e-01, 2.0905e-04, 3.1632e-04, 3.0171e-04, 2.7919e-04, 1.0156e-04])\n",
      "\n",
      "i have tried to see what it would be like if i liked one of my girl friends but it has never really worked and i can only ever feel an emotional connection to them because they are my friends\n",
      "\n",
      "i have tried to see what it would be like if i lіked one of my girl friends but it has never really worked and i can only ever feel an emotional connection to them because they are my friends\n",
      "--------------------------------------------- Result 56 ---------------------------------------------\n",
      "tensor([9.9860e-01, 2.2067e-04, 4.7544e-04, 3.4498e-04, 2.5706e-04, 1.0516e-04]) --> tensor([9.9879e-01, 2.0905e-04, 3.1632e-04, 3.0171e-04, 2.7919e-04, 1.0156e-04])\n",
      "\n",
      "i have tried to see what it would be like if i [[liked]] one of my girl friends but it has never really worked and i can only ever feel an emotional connection to them because they are my friends\n",
      "\n",
      "i have tried to see what it would be like if i [[lіked]] one of my girl friends but it has never really worked and i can only ever feel an emotional connection to them because they are my friends\n",
      "\n",
      "\n"
     ]
    },
    {
     "name": "stderr",
     "output_type": "stream",
     "text": [
      "[Succeeded / Failed / Skipped / Total] 30 / 27 / 0 / 57:  23%|██▎       | 57/250 [00:46<02:38,  1.22it/s]"
     ]
    },
    {
     "name": "stdout",
     "output_type": "stream",
     "text": [
      "tensor([9.9897e-01, 1.8617e-04, 2.0040e-04, 3.3254e-04, 1.5723e-04, 1.5369e-04]) --> tensor([9.9902e-01, 1.8685e-04, 1.9358e-04, 2.9131e-04, 1.6078e-04, 1.4849e-04])\n",
      "\n",
      "i had every intention of doing more gardening this morning while it was still cool but i was just feeling so rotten\n",
      "\n",
      "i had every intention of doing more gardening this morning while it was ѕtill cool but i was just feeling so rotten\n",
      "--------------------------------------------- Result 57 ---------------------------------------------\n",
      "tensor([9.9897e-01, 1.8617e-04, 2.0040e-04, 3.3254e-04, 1.5723e-04, 1.5369e-04]) --> tensor([9.9902e-01, 1.8685e-04, 1.9358e-04, 2.9131e-04, 1.6078e-04, 1.4849e-04])\n",
      "\n",
      "i had every intention of doing more gardening this morning while it was [[still]] cool but i was just feeling so rotten\n",
      "\n",
      "i had every intention of doing more gardening this morning while it was [[ѕtill]] cool but i was just feeling so rotten\n",
      "\n",
      "\n"
     ]
    },
    {
     "name": "stderr",
     "output_type": "stream",
     "text": [
      "[Succeeded / Failed / Skipped / Total] 30 / 28 / 0 / 58:  23%|██▎       | 58/250 [00:47<02:37,  1.22it/s]"
     ]
    },
    {
     "name": "stdout",
     "output_type": "stream",
     "text": [
      "tensor([1.8028e-04, 9.9884e-01, 2.7650e-04, 1.7458e-04, 2.3567e-04, 2.9423e-04]) --> [FAILED]\n",
      "\n",
      "i have a good feeling about this so i am excited\n",
      "--------------------------------------------- Result 58 ---------------------------------------------\n",
      "tensor([1.8028e-04, 9.9884e-01, 2.7650e-04, 1.7458e-04, 2.3567e-04, 2.9423e-04]) --> [[[FAILED]]]\n",
      "\n",
      "i have a good feeling about this so i am excited\n",
      "\n",
      "\n"
     ]
    },
    {
     "name": "stderr",
     "output_type": "stream",
     "text": [
      "[Succeeded / Failed / Skipped / Total] 31 / 28 / 0 / 59:  24%|██▎       | 59/250 [00:49<02:39,  1.19it/s]"
     ]
    },
    {
     "name": "stdout",
     "output_type": "stream",
     "text": [
      "tensor([9.9906e-01, 2.0532e-04, 1.4813e-04, 2.6939e-04, 2.0662e-04, 1.1201e-04]) --> tensor([9.9908e-01, 2.1075e-04, 1.5162e-04, 2.6595e-04, 1.8525e-04, 1.0399e-04])\n",
      "\n",
      "i feel like i am just starting to understand the blessings that come from being submissive to the will of the father\n",
      "\n",
      "i feel like i am just starting to understand the blessings that come from being submissive tο the will of the father\n",
      "--------------------------------------------- Result 59 ---------------------------------------------\n",
      "tensor([9.9906e-01, 2.0532e-04, 1.4813e-04, 2.6939e-04, 2.0662e-04, 1.1201e-04]) --> tensor([9.9908e-01, 2.1075e-04, 1.5162e-04, 2.6595e-04, 1.8525e-04, 1.0399e-04])\n",
      "\n",
      "i feel like i am just starting to understand the blessings that come from being submissive [[to]] the will of the father\n",
      "\n",
      "i feel like i am just starting to understand the blessings that come from being submissive [[tο]] the will of the father\n",
      "\n",
      "\n"
     ]
    },
    {
     "name": "stderr",
     "output_type": "stream",
     "text": [
      "[Succeeded / Failed / Skipped / Total] 31 / 29 / 0 / 60:  24%|██▍       | 60/250 [00:51<02:43,  1.17it/s]"
     ]
    },
    {
     "name": "stdout",
     "output_type": "stream",
     "text": [
      "tensor([4.9834e-04, 2.0594e-04, 2.2456e-04, 9.9810e-01, 7.8756e-04, 1.8203e-04]) --> [FAILED]\n",
      "\n",
      "i think about the things ive said and the stuff i have done it makes me feel disgusted in myself when i should be making you happy and smile which i was far from doing\n",
      "--------------------------------------------- Result 60 ---------------------------------------------\n",
      "tensor([4.9834e-04, 2.0594e-04, 2.2456e-04, 9.9810e-01, 7.8756e-04, 1.8203e-04]) --> [[[FAILED]]]\n",
      "\n",
      "i think about the things ive said and the stuff i have done it makes me feel disgusted in myself when i should be making you happy and smile which i was far from doing\n",
      "\n",
      "\n"
     ]
    },
    {
     "name": "stderr",
     "output_type": "stream",
     "text": [
      "[Succeeded / Failed / Skipped / Total] 32 / 29 / 0 / 61:  24%|██▍       | 61/250 [00:52<02:41,  1.17it/s]"
     ]
    },
    {
     "name": "stdout",
     "output_type": "stream",
     "text": [
      "tensor([9.9913e-01, 1.7802e-04, 1.3243e-04, 2.4736e-04, 2.0420e-04, 1.0562e-04]) --> tensor([9.9914e-01, 1.8519e-04, 1.3490e-04, 2.3387e-04, 1.9633e-04, 1.0825e-04])\n",
      "\n",
      "i woke up yesterday monday morning feeling a little depressed\n",
      "\n",
      "i woke uр yesterday monday morning feeling a little depressed\n",
      "--------------------------------------------- Result 61 ---------------------------------------------\n",
      "tensor([9.9913e-01, 1.7802e-04, 1.3243e-04, 2.4736e-04, 2.0420e-04, 1.0562e-04]) --> tensor([9.9914e-01, 1.8519e-04, 1.3490e-04, 2.3387e-04, 1.9633e-04, 1.0825e-04])\n",
      "\n",
      "i woke [[up]] yesterday monday morning feeling a little depressed\n",
      "\n",
      "i woke [[uр]] yesterday monday morning feeling a little depressed\n",
      "\n",
      "\n"
     ]
    },
    {
     "name": "stderr",
     "output_type": "stream",
     "text": [
      "[Succeeded / Failed / Skipped / Total] 33 / 29 / 0 / 62:  25%|██▍       | 62/250 [00:52<02:39,  1.18it/s]"
     ]
    },
    {
     "name": "stdout",
     "output_type": "stream",
     "text": [
      "tensor([9.9898e-01, 1.7299e-04, 1.8375e-04, 2.0516e-04, 2.7707e-04, 1.7786e-04]) --> tensor([9.9902e-01, 1.7324e-04, 1.8381e-04, 2.2764e-04, 2.3619e-04, 1.5914e-04])\n",
      "\n",
      "i feel so embarrassed\n",
      "\n",
      "і feel so embarrassed\n",
      "--------------------------------------------- Result 62 ---------------------------------------------\n",
      "tensor([9.9898e-01, 1.7299e-04, 1.8375e-04, 2.0516e-04, 2.7707e-04, 1.7786e-04]) --> tensor([9.9902e-01, 1.7324e-04, 1.8381e-04, 2.2764e-04, 2.3619e-04, 1.5914e-04])\n",
      "\n",
      "[[i]] feel so embarrassed\n",
      "\n",
      "[[і]] feel so embarrassed\n",
      "\n",
      "\n"
     ]
    },
    {
     "name": "stderr",
     "output_type": "stream",
     "text": [
      "[Succeeded / Failed / Skipped / Total] 34 / 29 / 0 / 63:  25%|██▌       | 63/250 [00:53<02:39,  1.17it/s]"
     ]
    },
    {
     "name": "stdout",
     "output_type": "stream",
     "text": [
      "tensor([2.2529e-04, 9.9892e-01, 2.6326e-04, 1.2326e-04, 1.4404e-04, 3.2797e-04]) --> tensor([9.9178e-01, 4.1956e-03, 2.3272e-04, 1.7289e-03, 1.3729e-03, 6.8701e-04])\n",
      "\n",
      "i spent wandering around still kinda dazed and not feeling particularly sociable but because id been in hiding for a couple for days and it was getting to be a little unhealthy i made myself go down to the cross and hang out with folks\n",
      "\n",
      "i spent wandering around still kinda dazed and not feеling particularly sociable but because id been in hiding for a couple for days and it was getting to be a little unhealthy i made myself go down to the cross and hang out with folks\n",
      "--------------------------------------------- Result 63 ---------------------------------------------\n",
      "tensor([2.2529e-04, 9.9892e-01, 2.6326e-04, 1.2326e-04, 1.4404e-04, 3.2797e-04]) --> tensor([9.9178e-01, 4.1956e-03, 2.3272e-04, 1.7289e-03, 1.3729e-03, 6.8701e-04])\n",
      "\n",
      "i spent wandering around still kinda dazed and not [[feeling]] particularly sociable but because id been in hiding for a couple for days and it was getting to be a little unhealthy i made myself go down to the cross and hang out with folks\n",
      "\n",
      "i spent wandering around still kinda dazed and not [[feеling]] particularly sociable but because id been in hiding for a couple for days and it was getting to be a little unhealthy i made myself go down to the cross and hang out with folks\n",
      "\n",
      "\n"
     ]
    },
    {
     "name": "stderr",
     "output_type": "stream",
     "text": [
      "[Succeeded / Failed / Skipped / Total] 34 / 30 / 0 / 64:  26%|██▌       | 64/250 [00:54<02:39,  1.17it/s]"
     ]
    },
    {
     "name": "stdout",
     "output_type": "stream",
     "text": [
      "tensor([1.6405e-04, 9.9901e-01, 4.9022e-04, 7.8271e-05, 9.8020e-05, 1.6337e-04]) --> [FAILED]\n",
      "\n",
      "i can honestly say that after each sistahs chat i feel invigorated and blessed\n",
      "--------------------------------------------- Result 64 ---------------------------------------------\n",
      "tensor([1.6405e-04, 9.9901e-01, 4.9022e-04, 7.8271e-05, 9.8020e-05, 1.6337e-04]) --> [[[FAILED]]]\n",
      "\n",
      "i can honestly say that after each sistahs chat i feel invigorated and blessed\n",
      "\n",
      "\n"
     ]
    },
    {
     "name": "stderr",
     "output_type": "stream",
     "text": [
      "[Succeeded / Failed / Skipped / Total] 35 / 30 / 0 / 65:  26%|██▌       | 65/250 [00:55<02:38,  1.17it/s]"
     ]
    },
    {
     "name": "stdout",
     "output_type": "stream",
     "text": [
      "tensor([9.9876e-01, 2.0223e-04, 1.2468e-04, 5.6298e-04, 2.0638e-04, 1.4195e-04]) --> tensor([9.9891e-01, 2.1250e-04, 1.3941e-04, 4.3886e-04, 1.6451e-04, 1.3225e-04])\n",
      "\n",
      "i still feel stupid to be in that class this is all cause off pbss fault\n",
      "\n",
      "i still feel stupid tο be in that class this is all cause off pbss fault\n",
      "--------------------------------------------- Result 65 ---------------------------------------------\n",
      "tensor([9.9876e-01, 2.0223e-04, 1.2468e-04, 5.6298e-04, 2.0638e-04, 1.4195e-04]) --> tensor([9.9891e-01, 2.1250e-04, 1.3941e-04, 4.3886e-04, 1.6451e-04, 1.3225e-04])\n",
      "\n",
      "i still feel stupid [[to]] be in that class this is all cause off pbss fault\n",
      "\n",
      "i still feel stupid [[tο]] be in that class this is all cause off pbss fault\n",
      "\n",
      "\n"
     ]
    },
    {
     "name": "stderr",
     "output_type": "stream",
     "text": [
      "[Succeeded / Failed / Skipped / Total] 35 / 31 / 0 / 66:  26%|██▋       | 66/250 [00:56<02:37,  1.17it/s]"
     ]
    },
    {
     "name": "stdout",
     "output_type": "stream",
     "text": [
      "tensor([1.0947e-03, 1.6221e-03, 1.3541e-03, 6.6442e-04, 4.6472e-03, 9.9062e-01]) --> [FAILED]\n",
      "\n",
      "i feel a little stunned but can t imagine what the folks who were working in the studio up until this morning are feeling\n",
      "--------------------------------------------- Result 66 ---------------------------------------------\n",
      "tensor([1.0947e-03, 1.6221e-03, 1.3541e-03, 6.6442e-04, 4.6472e-03, 9.9062e-01]) --> [[[FAILED]]]\n",
      "\n",
      "i feel a little stunned but can t imagine what the folks who were working in the studio up until this morning are feeling\n",
      "\n",
      "\n"
     ]
    },
    {
     "name": "stderr",
     "output_type": "stream",
     "text": [
      "[Succeeded / Failed / Skipped / Total] 36 / 31 / 0 / 67:  27%|██▋       | 67/250 [00:56<02:35,  1.18it/s]"
     ]
    },
    {
     "name": "stdout",
     "output_type": "stream",
     "text": [
      "tensor([9.9897e-01, 1.6326e-04, 1.5144e-04, 1.6024e-04, 4.0455e-04, 1.4742e-04]) --> tensor([9.9912e-01, 1.7880e-04, 1.4709e-04, 2.3741e-04, 2.1775e-04, 1.0285e-04])\n",
      "\n",
      "i admit im feeling a little bit unloved at this point\n",
      "\n",
      "i admit im fеeling a little bit unloved at this point\n",
      "--------------------------------------------- Result 67 ---------------------------------------------\n",
      "tensor([9.9897e-01, 1.6326e-04, 1.5144e-04, 1.6024e-04, 4.0455e-04, 1.4742e-04]) --> tensor([9.9912e-01, 1.7880e-04, 1.4709e-04, 2.3741e-04, 2.1775e-04, 1.0285e-04])\n",
      "\n",
      "i admit im [[feeling]] a little bit unloved at this point\n",
      "\n",
      "i admit im [[fеeling]] a little bit unloved at this point\n",
      "\n",
      "\n"
     ]
    },
    {
     "name": "stderr",
     "output_type": "stream",
     "text": [
      "[Succeeded / Failed / Skipped / Total] 37 / 31 / 0 / 68:  27%|██▋       | 68/250 [00:57<02:33,  1.18it/s]"
     ]
    },
    {
     "name": "stdout",
     "output_type": "stream",
     "text": [
      "tensor([5.3646e-01, 1.5496e-03, 8.2518e-04, 4.5892e-01, 1.7652e-03, 4.7885e-04]) --> tensor([8.5800e-01, 1.2314e-01, 1.6527e-03, 1.4372e-02, 2.2219e-03, 6.1142e-04])\n",
      "\n",
      "i feel a bit stressed even though all the things i have going on are fun\n",
      "\n",
      "i feel a bit stressеd even though all the things i have going on are fun\n",
      "--------------------------------------------- Result 68 ---------------------------------------------\n",
      "tensor([5.3646e-01, 1.5496e-03, 8.2518e-04, 4.5892e-01, 1.7652e-03, 4.7885e-04]) --> tensor([8.5800e-01, 1.2314e-01, 1.6527e-03, 1.4372e-02, 2.2219e-03, 6.1142e-04])\n",
      "\n",
      "i feel a bit [[stressed]] even though all the things i have going on are fun\n",
      "\n",
      "i feel a bit [[stressеd]] even though all the things i have going on are fun\n",
      "\n",
      "\n"
     ]
    },
    {
     "name": "stderr",
     "output_type": "stream",
     "text": [
      "[Succeeded / Failed / Skipped / Total] 37 / 32 / 0 / 69:  28%|██▊       | 69/250 [00:57<02:31,  1.19it/s]"
     ]
    },
    {
     "name": "stdout",
     "output_type": "stream",
     "text": [
      "tensor([5.1303e-04, 3.0677e-04, 1.3988e-04, 5.3106e-04, 9.9780e-01, 7.0662e-04]) --> [FAILED]\n",
      "\n",
      "im feeling pretty anxious\n",
      "--------------------------------------------- Result 69 ---------------------------------------------\n",
      "tensor([5.1303e-04, 3.0677e-04, 1.3988e-04, 5.3106e-04, 9.9780e-01, 7.0662e-04]) --> [[[FAILED]]]\n",
      "\n",
      "im feeling pretty anxious\n",
      "\n",
      "\n"
     ]
    },
    {
     "name": "stderr",
     "output_type": "stream",
     "text": [
      "[Succeeded / Failed / Skipped / Total] 38 / 32 / 0 / 70:  28%|██▊       | 70/250 [00:58<02:30,  1.20it/s]"
     ]
    },
    {
     "name": "stdout",
     "output_type": "stream",
     "text": [
      "tensor([1.1054e-03, 2.1038e-03, 1.3375e-03, 7.0296e-04, 2.9622e-03, 9.9179e-01]) --> tensor([9.9903e-01, 2.1756e-04, 1.8078e-04, 1.6421e-04, 2.7080e-04, 1.3830e-04])\n",
      "\n",
      "i feel shocked and sad at the fact that there are so many sick people\n",
      "\n",
      "i feel sһocked and sad at the fact that there are so many sick people\n",
      "--------------------------------------------- Result 70 ---------------------------------------------\n",
      "tensor([1.1054e-03, 2.1038e-03, 1.3375e-03, 7.0296e-04, 2.9622e-03, 9.9179e-01]) --> tensor([9.9903e-01, 2.1756e-04, 1.8078e-04, 1.6421e-04, 2.7080e-04, 1.3830e-04])\n",
      "\n",
      "i feel [[shocked]] and sad at the fact that there are so many sick people\n",
      "\n",
      "i feel [[sһocked]] and sad at the fact that there are so many sick people\n",
      "\n",
      "\n"
     ]
    },
    {
     "name": "stderr",
     "output_type": "stream",
     "text": [
      "[Succeeded / Failed / Skipped / Total] 38 / 33 / 0 / 71:  28%|██▊       | 71/250 [00:59<02:30,  1.19it/s]"
     ]
    },
    {
     "name": "stdout",
     "output_type": "stream",
     "text": [
      "tensor([2.0767e-04, 9.9854e-01, 3.7498e-04, 1.4773e-04, 1.7832e-04, 5.5247e-04]) --> [FAILED]\n",
      "\n",
      "i think they have always been proponents of the idea and it is just slightly possible that his feelings for a particularly charming new england girl have brought him around to their way of thinking\n",
      "--------------------------------------------- Result 71 ---------------------------------------------\n",
      "tensor([2.0767e-04, 9.9854e-01, 3.7498e-04, 1.4773e-04, 1.7832e-04, 5.5247e-04]) --> [[[FAILED]]]\n",
      "\n",
      "i think they have always been proponents of the idea and it is just slightly possible that his feelings for a particularly charming new england girl have brought him around to their way of thinking\n",
      "\n",
      "\n"
     ]
    },
    {
     "name": "stderr",
     "output_type": "stream",
     "text": [
      "[Succeeded / Failed / Skipped / Total] 39 / 33 / 0 / 72:  29%|██▉       | 72/250 [01:00<02:29,  1.19it/s]"
     ]
    },
    {
     "name": "stdout",
     "output_type": "stream",
     "text": [
      "tensor([6.8468e-04, 2.3441e-03, 9.9371e-01, 5.1683e-04, 8.0094e-04, 1.9400e-03]) --> tensor([0.5025, 0.4683, 0.0045, 0.0034, 0.0197, 0.0016])\n",
      "\n",
      "i feel like a naughty school girl because i am falling behind\n",
      "\n",
      "i feel like a naugһty school girl because i am falling behind\n",
      "--------------------------------------------- Result 72 ---------------------------------------------\n",
      "tensor([6.8468e-04, 2.3441e-03, 9.9371e-01, 5.1683e-04, 8.0094e-04, 1.9400e-03]) --> tensor([0.5025, 0.4683, 0.0045, 0.0034, 0.0197, 0.0016])\n",
      "\n",
      "i feel like a [[naughty]] school girl because i am falling behind\n",
      "\n",
      "i feel like a [[naugһty]] school girl because i am falling behind\n",
      "\n",
      "\n"
     ]
    },
    {
     "name": "stderr",
     "output_type": "stream",
     "text": [
      "[Succeeded / Failed / Skipped / Total] 39 / 34 / 0 / 73:  29%|██▉       | 73/250 [01:02<02:30,  1.18it/s]"
     ]
    },
    {
     "name": "stdout",
     "output_type": "stream",
     "text": [
      "tensor([0.0020, 0.0013, 0.0011, 0.0011, 0.6980, 0.2964]) --> [FAILED]\n",
      "\n",
      "i am right handed however i play billiards left handed naturally so me trying to play right handed feels weird\n",
      "--------------------------------------------- Result 73 ---------------------------------------------\n",
      "tensor([0.0020, 0.0013, 0.0011, 0.0011, 0.6980, 0.2964]) --> [[[FAILED]]]\n",
      "\n",
      "i am right handed however i play billiards left handed naturally so me trying to play right handed feels weird\n",
      "\n",
      "\n"
     ]
    },
    {
     "name": "stderr",
     "output_type": "stream",
     "text": [
      "[Succeeded / Failed / Skipped / Total] 39 / 35 / 0 / 74:  30%|██▉       | 74/250 [01:02<02:29,  1.18it/s]"
     ]
    },
    {
     "name": "stdout",
     "output_type": "stream",
     "text": [
      "tensor([1.4550e-04, 9.9861e-01, 8.7812e-04, 1.0644e-04, 1.1085e-04, 1.4972e-04]) --> [FAILED]\n",
      "\n",
      "i can feel that they are kind friendly and can understand my feelings\n",
      "--------------------------------------------- Result 74 ---------------------------------------------\n",
      "tensor([1.4550e-04, 9.9861e-01, 8.7812e-04, 1.0644e-04, 1.1085e-04, 1.4972e-04]) --> [[[FAILED]]]\n",
      "\n",
      "i can feel that they are kind friendly and can understand my feelings\n",
      "\n",
      "\n"
     ]
    },
    {
     "name": "stderr",
     "output_type": "stream",
     "text": [
      "[Succeeded / Failed / Skipped / Total] 40 / 35 / 0 / 75:  30%|███       | 75/250 [01:03<02:29,  1.17it/s]"
     ]
    },
    {
     "name": "stdout",
     "output_type": "stream",
     "text": [
      "tensor([1.6453e-03, 3.7902e-01, 6.1739e-01, 7.0701e-04, 4.9418e-04, 7.5003e-04]) --> tensor([9.4186e-01, 3.8074e-02, 1.0312e-02, 2.8644e-03, 6.1471e-03, 7.4460e-04])\n",
      "\n",
      "i were to go overseas or cross the border then i become a foreigner and will feel that way but never in my beloved land\n",
      "\n",
      "i were to go overseas or cross the border then i become a foreigner and will feel that way but never in my bеloved land\n",
      "--------------------------------------------- Result 75 ---------------------------------------------\n",
      "tensor([1.6453e-03, 3.7902e-01, 6.1739e-01, 7.0701e-04, 4.9418e-04, 7.5003e-04]) --> tensor([9.4186e-01, 3.8074e-02, 1.0312e-02, 2.8644e-03, 6.1471e-03, 7.4460e-04])\n",
      "\n",
      "i were to go overseas or cross the border then i become a foreigner and will feel that way but never in my [[beloved]] land\n",
      "\n",
      "i were to go overseas or cross the border then i become a foreigner and will feel that way but never in my [[bеloved]] land\n",
      "\n",
      "\n"
     ]
    },
    {
     "name": "stderr",
     "output_type": "stream",
     "text": [
      "[Succeeded / Failed / Skipped / Total] 40 / 36 / 0 / 76:  30%|███       | 76/250 [01:05<02:28,  1.17it/s]"
     ]
    },
    {
     "name": "stdout",
     "output_type": "stream",
     "text": [
      "tensor([3.9026e-04, 2.0289e-04, 3.0458e-04, 9.9782e-01, 1.0368e-03, 2.4257e-04]) --> [FAILED]\n",
      "\n",
      "i feel disgusted in any man in power who talks about electricity being a problem in his area and says even my own house has similar problems\n",
      "--------------------------------------------- Result 76 ---------------------------------------------\n",
      "tensor([3.9026e-04, 2.0289e-04, 3.0458e-04, 9.9782e-01, 1.0368e-03, 2.4257e-04]) --> [[[FAILED]]]\n",
      "\n",
      "i feel disgusted in any man in power who talks about electricity being a problem in his area and says even my own house has similar problems\n",
      "\n",
      "\n"
     ]
    },
    {
     "name": "stderr",
     "output_type": "stream",
     "text": [
      "[Succeeded / Failed / Skipped / Total] 40 / 37 / 0 / 77:  31%|███       | 77/250 [01:05<02:27,  1.18it/s]"
     ]
    },
    {
     "name": "stdout",
     "output_type": "stream",
     "text": [
      "tensor([1.7603e-04, 9.9908e-01, 3.2447e-04, 1.0622e-04, 1.2268e-04, 1.8851e-04]) --> [FAILED]\n",
      "\n",
      "i feel transcendant and splendid\n",
      "--------------------------------------------- Result 77 ---------------------------------------------\n",
      "tensor([1.7603e-04, 9.9908e-01, 3.2447e-04, 1.0622e-04, 1.2268e-04, 1.8851e-04]) --> [[[FAILED]]]\n",
      "\n",
      "i feel transcendant and splendid\n",
      "\n",
      "\n"
     ]
    },
    {
     "name": "stderr",
     "output_type": "stream",
     "text": [
      "[Succeeded / Failed / Skipped / Total] 41 / 37 / 0 / 78:  31%|███       | 78/250 [01:06<02:25,  1.18it/s]"
     ]
    },
    {
     "name": "stdout",
     "output_type": "stream",
     "text": [
      "tensor([9.9847e-01, 3.6951e-04, 1.8140e-04, 2.0681e-04, 5.7881e-04, 1.8922e-04]) --> tensor([9.9863e-01, 3.7815e-04, 1.6566e-04, 2.4170e-04, 4.2605e-04, 1.6085e-04])\n",
      "\n",
      "i finally arrived home a couple of hours later feeling somewhat exhausted dehydrated and even sun burnt\n",
      "\n",
      "i finally arrived home a couple of hours later feeling somеwhat exhausted dehydrated and even sun burnt\n",
      "--------------------------------------------- Result 78 ---------------------------------------------\n",
      "tensor([9.9847e-01, 3.6951e-04, 1.8140e-04, 2.0681e-04, 5.7881e-04, 1.8922e-04]) --> tensor([9.9863e-01, 3.7815e-04, 1.6566e-04, 2.4170e-04, 4.2605e-04, 1.6085e-04])\n",
      "\n",
      "i finally arrived home a couple of hours later feeling [[somewhat]] exhausted dehydrated and even sun burnt\n",
      "\n",
      "i finally arrived home a couple of hours later feeling [[somеwhat]] exhausted dehydrated and even sun burnt\n",
      "\n",
      "\n"
     ]
    },
    {
     "name": "stderr",
     "output_type": "stream",
     "text": [
      "[Succeeded / Failed / Skipped / Total] 41 / 38 / 0 / 79:  32%|███▏      | 79/250 [01:06<02:24,  1.19it/s]"
     ]
    },
    {
     "name": "stdout",
     "output_type": "stream",
     "text": [
      "tensor([2.5331e-04, 9.9888e-01, 3.1187e-04, 1.4089e-04, 2.1022e-04, 2.0822e-04]) --> [FAILED]\n",
      "\n",
      "i am feeling totally relaxed and comfy\n",
      "--------------------------------------------- Result 79 ---------------------------------------------\n",
      "tensor([2.5331e-04, 9.9888e-01, 3.1187e-04, 1.4089e-04, 2.1022e-04, 2.0822e-04]) --> [[[FAILED]]]\n",
      "\n",
      "i am feeling totally relaxed and comfy\n",
      "\n",
      "\n"
     ]
    },
    {
     "name": "stderr",
     "output_type": "stream",
     "text": [
      "[Succeeded / Failed / Skipped / Total] 41 / 39 / 0 / 80:  32%|███▏      | 80/250 [01:07<02:22,  1.19it/s]"
     ]
    },
    {
     "name": "stdout",
     "output_type": "stream",
     "text": [
      "tensor([1.2375e-03, 1.5202e-03, 9.9442e-01, 5.2862e-04, 1.2853e-03, 1.0091e-03]) --> [FAILED]\n",
      "\n",
      "i want each of you to feel my gentle embrace\n",
      "--------------------------------------------- Result 80 ---------------------------------------------\n",
      "tensor([1.2375e-03, 1.5202e-03, 9.9442e-01, 5.2862e-04, 1.2853e-03, 1.0091e-03]) --> [[[FAILED]]]\n",
      "\n",
      "i want each of you to feel my gentle embrace\n",
      "\n",
      "\n"
     ]
    },
    {
     "name": "stderr",
     "output_type": "stream",
     "text": [
      "[Succeeded / Failed / Skipped / Total] 41 / 40 / 0 / 81:  32%|███▏      | 81/250 [01:07<02:21,  1.20it/s]"
     ]
    },
    {
     "name": "stdout",
     "output_type": "stream",
     "text": [
      "tensor([2.4710e-04, 9.9874e-01, 3.5406e-04, 1.4433e-04, 2.1751e-04, 3.0121e-04]) --> [FAILED]\n",
      "\n",
      "i feel privileged in my world\n",
      "--------------------------------------------- Result 81 ---------------------------------------------\n",
      "tensor([2.4710e-04, 9.9874e-01, 3.5406e-04, 1.4433e-04, 2.1751e-04, 3.0121e-04]) --> [[[FAILED]]]\n",
      "\n",
      "i feel privileged in my world\n",
      "\n",
      "\n"
     ]
    },
    {
     "name": "stderr",
     "output_type": "stream",
     "text": [
      "[Succeeded / Failed / Skipped / Total] 41 / 41 / 0 / 82:  33%|███▎      | 82/250 [01:08<02:20,  1.19it/s]"
     ]
    },
    {
     "name": "stdout",
     "output_type": "stream",
     "text": [
      "tensor([6.2935e-04, 3.5029e-04, 3.2175e-04, 9.9792e-01, 5.5521e-04, 2.2701e-04]) --> [FAILED]\n",
      "\n",
      "i am not a people person but for some fuckin reason people feel that they can come bore me with their fuckin petty garbage\n",
      "--------------------------------------------- Result 82 ---------------------------------------------\n",
      "tensor([6.2935e-04, 3.5029e-04, 3.2175e-04, 9.9792e-01, 5.5521e-04, 2.2701e-04]) --> [[[FAILED]]]\n",
      "\n",
      "i am not a people person but for some fuckin reason people feel that they can come bore me with their fuckin petty garbage\n",
      "\n",
      "\n"
     ]
    },
    {
     "name": "stderr",
     "output_type": "stream",
     "text": [
      "[Succeeded / Failed / Skipped / Total] 42 / 41 / 0 / 83:  33%|███▎      | 83/250 [01:09<02:19,  1.20it/s]"
     ]
    },
    {
     "name": "stdout",
     "output_type": "stream",
     "text": [
      "tensor([9.9900e-01, 2.2267e-04, 1.6757e-04, 2.1089e-04, 2.3317e-04, 1.6664e-04]) --> tensor([9.9902e-01, 2.0572e-04, 1.6253e-04, 2.1179e-04, 2.3625e-04, 1.6255e-04])\n",
      "\n",
      "i realized my mistake and i m really feeling terrible and thinking that i shouldn t do that\n",
      "\n",
      "i realized my mistake and i m reallу feeling terrible and thinking that i shouldn t do that\n",
      "--------------------------------------------- Result 83 ---------------------------------------------\n",
      "tensor([9.9900e-01, 2.2267e-04, 1.6757e-04, 2.1089e-04, 2.3317e-04, 1.6664e-04]) --> tensor([9.9902e-01, 2.0572e-04, 1.6253e-04, 2.1179e-04, 2.3625e-04, 1.6255e-04])\n",
      "\n",
      "i realized my mistake and i m [[really]] feeling terrible and thinking that i shouldn t do that\n",
      "\n",
      "i realized my mistake and i m [[reallу]] feeling terrible and thinking that i shouldn t do that\n",
      "\n",
      "\n"
     ]
    },
    {
     "name": "stderr",
     "output_type": "stream",
     "text": [
      "[Succeeded / Failed / Skipped / Total] 42 / 42 / 0 / 84:  34%|███▎      | 84/250 [01:09<02:17,  1.20it/s]"
     ]
    },
    {
     "name": "stdout",
     "output_type": "stream",
     "text": [
      "tensor([2.3577e-04, 9.9726e-01, 1.1615e-03, 1.7059e-04, 7.9054e-04, 3.8158e-04]) --> [FAILED]\n",
      "\n",
      "i suppose i feel too trusting sometimes\n",
      "--------------------------------------------- Result 84 ---------------------------------------------\n",
      "tensor([2.3577e-04, 9.9726e-01, 1.1615e-03, 1.7059e-04, 7.9054e-04, 3.8158e-04]) --> [[[FAILED]]]\n",
      "\n",
      "i suppose i feel too trusting sometimes\n",
      "\n",
      "\n"
     ]
    },
    {
     "name": "stderr",
     "output_type": "stream",
     "text": [
      "[Succeeded / Failed / Skipped / Total] 43 / 42 / 0 / 85:  34%|███▍      | 85/250 [01:10<02:17,  1.20it/s]"
     ]
    },
    {
     "name": "stdout",
     "output_type": "stream",
     "text": [
      "tensor([9.9772e-01, 3.1812e-04, 1.7861e-04, 1.4838e-03, 1.6736e-04, 1.3206e-04]) --> tensor([9.9862e-01, 2.6778e-04, 1.6185e-04, 6.7157e-04, 1.5157e-04, 1.2449e-04])\n",
      "\n",
      "i came home waiting for the shower read something which made me upset thats why i feel discontent haha\n",
      "\n",
      "i came home waiting for the shower read something which made me upset thats why i feel discontent haһa\n",
      "--------------------------------------------- Result 85 ---------------------------------------------\n",
      "tensor([9.9772e-01, 3.1812e-04, 1.7861e-04, 1.4838e-03, 1.6736e-04, 1.3206e-04]) --> tensor([9.9862e-01, 2.6778e-04, 1.6185e-04, 6.7157e-04, 1.5157e-04, 1.2449e-04])\n",
      "\n",
      "i came home waiting for the shower read something which made me upset thats why i feel discontent [[haha]]\n",
      "\n",
      "i came home waiting for the shower read something which made me upset thats why i feel discontent [[haһa]]\n",
      "\n",
      "\n"
     ]
    },
    {
     "name": "stderr",
     "output_type": "stream",
     "text": [
      "[Succeeded / Failed / Skipped / Total] 44 / 42 / 0 / 86:  34%|███▍      | 86/250 [01:11<02:16,  1.20it/s]"
     ]
    },
    {
     "name": "stdout",
     "output_type": "stream",
     "text": [
      "tensor([9.9875e-01, 2.8364e-04, 1.6316e-04, 2.9430e-04, 2.4201e-04, 2.6352e-04]) --> tensor([9.9875e-01, 2.8164e-04, 1.6163e-04, 3.1485e-04, 2.3388e-04, 2.6024e-04])\n",
      "\n",
      "i woke up feeling crappy tired and fighting this feeling all day maybe it is all the pollen the barometric pressure i dont know i know i was off kilter\n",
      "\n",
      "i woke up feeling crappy tired and fightіng this feeling all day maybe it is all the pollen the barometric pressure i dont know i know i was off kilter\n",
      "--------------------------------------------- Result 86 ---------------------------------------------\n",
      "tensor([9.9875e-01, 2.8364e-04, 1.6316e-04, 2.9430e-04, 2.4201e-04, 2.6352e-04]) --> tensor([9.9875e-01, 2.8164e-04, 1.6163e-04, 3.1485e-04, 2.3388e-04, 2.6024e-04])\n",
      "\n",
      "i woke up feeling crappy tired and [[fighting]] this feeling all day maybe it is all the pollen the barometric pressure i dont know i know i was off kilter\n",
      "\n",
      "i woke up feeling crappy tired and [[fightіng]] this feeling all day maybe it is all the pollen the barometric pressure i dont know i know i was off kilter\n",
      "\n",
      "\n"
     ]
    },
    {
     "name": "stderr",
     "output_type": "stream",
     "text": [
      "[Succeeded / Failed / Skipped / Total] 44 / 43 / 0 / 87:  35%|███▍      | 87/250 [01:12<02:15,  1.20it/s]"
     ]
    },
    {
     "name": "stdout",
     "output_type": "stream",
     "text": [
      "tensor([9.0777e-04, 2.5472e-01, 7.4219e-01, 4.8108e-04, 5.2748e-04, 1.1805e-03]) --> [FAILED]\n",
      "\n",
      "i feel like i am in paradise kissing those sweet lips make me feel like i dive into a magical world of love\n",
      "--------------------------------------------- Result 87 ---------------------------------------------\n",
      "tensor([9.0777e-04, 2.5472e-01, 7.4219e-01, 4.8108e-04, 5.2748e-04, 1.1805e-03]) --> [[[FAILED]]]\n",
      "\n",
      "i feel like i am in paradise kissing those sweet lips make me feel like i dive into a magical world of love\n",
      "\n",
      "\n"
     ]
    },
    {
     "name": "stderr",
     "output_type": "stream",
     "text": [
      "[Succeeded / Failed / Skipped / Total] 45 / 43 / 0 / 88:  35%|███▌      | 88/250 [01:12<02:14,  1.21it/s]"
     ]
    },
    {
     "name": "stdout",
     "output_type": "stream",
     "text": [
      "tensor([2.0560e-04, 9.9907e-01, 3.2807e-04, 1.1054e-04, 1.1565e-04, 1.6934e-04]) --> tensor([0.8011, 0.1272, 0.0042, 0.0463, 0.0175, 0.0037])\n",
      "\n",
      "i am feeling so happy\n",
      "\n",
      "i am feeling so haрpy\n",
      "--------------------------------------------- Result 88 ---------------------------------------------\n",
      "tensor([2.0560e-04, 9.9907e-01, 3.2807e-04, 1.1054e-04, 1.1565e-04, 1.6934e-04]) --> tensor([0.8011, 0.1272, 0.0042, 0.0463, 0.0175, 0.0037])\n",
      "\n",
      "i am feeling so [[happy]]\n",
      "\n",
      "i am feeling so [[haрpy]]\n",
      "\n",
      "\n"
     ]
    },
    {
     "name": "stderr",
     "output_type": "stream",
     "text": [
      "[Succeeded / Failed / Skipped / Total] 45 / 44 / 0 / 89:  36%|███▌      | 89/250 [01:13<02:13,  1.21it/s]"
     ]
    },
    {
     "name": "stdout",
     "output_type": "stream",
     "text": [
      "tensor([2.6207e-04, 9.9883e-01, 4.3946e-04, 1.5598e-04, 1.5709e-04, 1.5456e-04]) --> [FAILED]\n",
      "\n",
      "i am running at an approximate minute pace which i feel is quite acceptable\n",
      "--------------------------------------------- Result 89 ---------------------------------------------\n",
      "tensor([2.6207e-04, 9.9883e-01, 4.3946e-04, 1.5598e-04, 1.5709e-04, 1.5456e-04]) --> [[[FAILED]]]\n",
      "\n",
      "i am running at an approximate minute pace which i feel is quite acceptable\n",
      "\n",
      "\n"
     ]
    },
    {
     "name": "stderr",
     "output_type": "stream",
     "text": [
      "[Succeeded / Failed / Skipped / Total] 46 / 44 / 0 / 90:  36%|███▌      | 90/250 [01:14<02:12,  1.21it/s]"
     ]
    },
    {
     "name": "stdout",
     "output_type": "stream",
     "text": [
      "tensor([9.9908e-01, 1.9266e-04, 1.7561e-04, 2.5242e-04, 1.7072e-04, 1.3312e-04]) --> tensor([9.9910e-01, 2.0481e-04, 1.6304e-04, 2.3721e-04, 1.7515e-04, 1.1850e-04])\n",
      "\n",
      "i feel so disappointed when my ex girlfriend doesn t call me back\n",
      "\n",
      "i feel ѕo disappointed when my ex girlfriend doesn t call me back\n",
      "--------------------------------------------- Result 90 ---------------------------------------------\n",
      "tensor([9.9908e-01, 1.9266e-04, 1.7561e-04, 2.5242e-04, 1.7072e-04, 1.3312e-04]) --> tensor([9.9910e-01, 2.0481e-04, 1.6304e-04, 2.3721e-04, 1.7515e-04, 1.1850e-04])\n",
      "\n",
      "i feel [[so]] disappointed when my ex girlfriend doesn t call me back\n",
      "\n",
      "i feel [[ѕo]] disappointed when my ex girlfriend doesn t call me back\n",
      "\n",
      "\n"
     ]
    },
    {
     "name": "stderr",
     "output_type": "stream",
     "text": [
      "[Succeeded / Failed / Skipped / Total] 46 / 45 / 0 / 91:  36%|███▋      | 91/250 [01:15<02:12,  1.20it/s]"
     ]
    },
    {
     "name": "stdout",
     "output_type": "stream",
     "text": [
      "tensor([2.3450e-04, 9.9900e-01, 3.5757e-04, 1.1742e-04, 1.3970e-04, 1.5142e-04]) --> [FAILED]\n",
      "\n",
      "i have a feeling that people are using it more than they need to and enjoying the feeling as it flies carefree off the tongue but that is alright with me\n",
      "--------------------------------------------- Result 91 ---------------------------------------------\n",
      "tensor([2.3450e-04, 9.9900e-01, 3.5757e-04, 1.1742e-04, 1.3970e-04, 1.5142e-04]) --> [[[FAILED]]]\n",
      "\n",
      "i have a feeling that people are using it more than they need to and enjoying the feeling as it flies carefree off the tongue but that is alright with me\n",
      "\n",
      "\n"
     ]
    },
    {
     "name": "stderr",
     "output_type": "stream",
     "text": [
      "[Succeeded / Failed / Skipped / Total] 46 / 46 / 0 / 92:  37%|███▋      | 92/250 [01:16<02:11,  1.20it/s]"
     ]
    },
    {
     "name": "stdout",
     "output_type": "stream",
     "text": [
      "tensor([3.8640e-04, 3.4460e-04, 1.5832e-04, 4.6462e-04, 9.9756e-01, 1.0830e-03]) --> [FAILED]\n",
      "\n",
      "i am feeling uncertain of the merits of posting to this blog with the frequency or earnestness i had been over the previous year\n",
      "--------------------------------------------- Result 92 ---------------------------------------------\n",
      "tensor([3.8640e-04, 3.4460e-04, 1.5832e-04, 4.6462e-04, 9.9756e-01, 1.0830e-03]) --> [[[FAILED]]]\n",
      "\n",
      "i am feeling uncertain of the merits of posting to this blog with the frequency or earnestness i had been over the previous year\n",
      "\n",
      "\n"
     ]
    },
    {
     "name": "stderr",
     "output_type": "stream",
     "text": [
      "[Succeeded / Failed / Skipped / Total] 46 / 47 / 0 / 93:  37%|███▋      | 93/250 [01:17<02:10,  1.20it/s]"
     ]
    },
    {
     "name": "stdout",
     "output_type": "stream",
     "text": [
      "tensor([6.0449e-04, 2.3044e-04, 2.2845e-04, 9.9804e-01, 7.3241e-04, 1.6876e-04]) --> [FAILED]\n",
      "\n",
      "i just plain feel envious of the self confidence they had\n",
      "--------------------------------------------- Result 93 ---------------------------------------------\n",
      "tensor([6.0449e-04, 2.3044e-04, 2.2845e-04, 9.9804e-01, 7.3241e-04, 1.6876e-04]) --> [[[FAILED]]]\n",
      "\n",
      "i just plain feel envious of the self confidence they had\n",
      "\n",
      "\n"
     ]
    },
    {
     "name": "stderr",
     "output_type": "stream",
     "text": [
      "[Succeeded / Failed / Skipped / Total] 46 / 48 / 0 / 94:  38%|███▊      | 94/250 [01:18<02:09,  1.20it/s]"
     ]
    },
    {
     "name": "stdout",
     "output_type": "stream",
     "text": [
      "tensor([0.0020, 0.0014, 0.0013, 0.0011, 0.6719, 0.3224]) --> [FAILED]\n",
      "\n",
      "i was feeling weird the other day and it went away about minutes after i took my metformin\n",
      "--------------------------------------------- Result 94 ---------------------------------------------\n",
      "tensor([0.0020, 0.0014, 0.0013, 0.0011, 0.6719, 0.3224]) --> [[[FAILED]]]\n",
      "\n",
      "i was feeling weird the other day and it went away about minutes after i took my metformin\n",
      "\n",
      "\n"
     ]
    },
    {
     "name": "stderr",
     "output_type": "stream",
     "text": [
      "[Succeeded / Failed / Skipped / Total] 46 / 49 / 0 / 95:  38%|███▊      | 95/250 [01:18<02:07,  1.21it/s]"
     ]
    },
    {
     "name": "stdout",
     "output_type": "stream",
     "text": [
      "tensor([4.9340e-03, 1.9664e-03, 6.7242e-04, 1.6058e-01, 8.2850e-01, 3.3485e-03]) --> [FAILED]\n",
      "\n",
      "when a friend dropped a frog down my neck\n",
      "--------------------------------------------- Result 95 ---------------------------------------------\n",
      "tensor([4.9340e-03, 1.9664e-03, 6.7242e-04, 1.6058e-01, 8.2850e-01, 3.3485e-03]) --> [[[FAILED]]]\n",
      "\n",
      "when a friend dropped a frog down my neck\n",
      "\n",
      "\n"
     ]
    },
    {
     "name": "stderr",
     "output_type": "stream",
     "text": [
      "[Succeeded / Failed / Skipped / Total] 46 / 50 / 0 / 96:  38%|███▊      | 96/250 [01:19<02:07,  1.21it/s]"
     ]
    },
    {
     "name": "stdout",
     "output_type": "stream",
     "text": [
      "tensor([4.1691e-04, 2.7402e-04, 2.1643e-04, 9.9796e-01, 9.6478e-04, 1.7235e-04]) --> [FAILED]\n",
      "\n",
      "im feeling angry at someone i do something thoughtful for her and my feelings toward her soften\n",
      "--------------------------------------------- Result 96 ---------------------------------------------\n",
      "tensor([4.1691e-04, 2.7402e-04, 2.1643e-04, 9.9796e-01, 9.6478e-04, 1.7235e-04]) --> [[[FAILED]]]\n",
      "\n",
      "im feeling angry at someone i do something thoughtful for her and my feelings toward her soften\n",
      "\n",
      "\n"
     ]
    },
    {
     "name": "stderr",
     "output_type": "stream",
     "text": [
      "[Succeeded / Failed / Skipped / Total] 47 / 50 / 0 / 97:  39%|███▉      | 97/250 [01:20<02:06,  1.21it/s]"
     ]
    },
    {
     "name": "stdout",
     "output_type": "stream",
     "text": [
      "tensor([1.0230e-03, 3.7871e-01, 6.1844e-01, 6.0351e-04, 4.3207e-04, 7.8956e-04]) --> tensor([0.8289, 0.0086, 0.0333, 0.1259, 0.0018, 0.0015])\n",
      "\n",
      "i love neglecting this blog but sometimes i feel for my faithful readers\n",
      "\n",
      "i love neglecting this blog but sometimes i feel for my faіthful readers\n",
      "--------------------------------------------- Result 97 ---------------------------------------------\n",
      "tensor([1.0230e-03, 3.7871e-01, 6.1844e-01, 6.0351e-04, 4.3207e-04, 7.8956e-04]) --> tensor([0.8289, 0.0086, 0.0333, 0.1259, 0.0018, 0.0015])\n",
      "\n",
      "i love neglecting this blog but sometimes i feel for my [[faithful]] readers\n",
      "\n",
      "i love neglecting this blog but sometimes i feel for my [[faіthful]] readers\n",
      "\n",
      "\n"
     ]
    },
    {
     "name": "stderr",
     "output_type": "stream",
     "text": [
      "[Succeeded / Failed / Skipped / Total] 48 / 50 / 0 / 98:  39%|███▉      | 98/250 [01:21<02:05,  1.21it/s]"
     ]
    },
    {
     "name": "stdout",
     "output_type": "stream",
     "text": [
      "tensor([9.9913e-01, 1.9920e-04, 1.6386e-04, 1.9784e-04, 1.8786e-04, 1.2096e-04]) --> tensor([9.9917e-01, 1.6490e-04, 1.3226e-04, 2.5480e-04, 1.8333e-04, 9.9711e-05])\n",
      "\n",
      "i lay in bed feeling as though i were awaiting an unwelcome visitor nevertheless i told myself i was strong and thought of good things until i felt better\n",
      "\n",
      "i lay in bed feeling as though i were awaiting an unwеlcome visitor nevertheless i told myself i was strong and thought of good things until i felt better\n",
      "--------------------------------------------- Result 98 ---------------------------------------------\n",
      "tensor([9.9913e-01, 1.9920e-04, 1.6386e-04, 1.9784e-04, 1.8786e-04, 1.2096e-04]) --> tensor([9.9917e-01, 1.6490e-04, 1.3226e-04, 2.5480e-04, 1.8333e-04, 9.9711e-05])\n",
      "\n",
      "i lay in bed feeling as though i were awaiting an [[unwelcome]] visitor nevertheless i told myself i was strong and thought of good things until i felt better\n",
      "\n",
      "i lay in bed feeling as though i were awaiting an [[unwеlcome]] visitor nevertheless i told myself i was strong and thought of good things until i felt better\n",
      "\n",
      "\n"
     ]
    },
    {
     "name": "stderr",
     "output_type": "stream",
     "text": [
      "[Succeeded / Failed / Skipped / Total] 48 / 51 / 0 / 99:  40%|███▉      | 99/250 [01:21<02:04,  1.21it/s]"
     ]
    },
    {
     "name": "stdout",
     "output_type": "stream",
     "text": [
      "tensor([0.0017, 0.0014, 0.0027, 0.5434, 0.4474, 0.0034]) --> [FAILED]\n",
      "\n",
      "i feel my heart is tortured by what i have done\n",
      "--------------------------------------------- Result 99 ---------------------------------------------\n",
      "tensor([0.0017, 0.0014, 0.0027, 0.5434, 0.4474, 0.0034]) --> [[[FAILED]]]\n",
      "\n",
      "i feel my heart is tortured by what i have done\n",
      "\n",
      "\n"
     ]
    },
    {
     "name": "stderr",
     "output_type": "stream",
     "text": [
      "[Succeeded / Failed / Skipped / Total] 49 / 51 / 0 / 100:  40%|████      | 100/250 [01:22<02:03,  1.21it/s]"
     ]
    },
    {
     "name": "stdout",
     "output_type": "stream",
     "text": [
      "tensor([9.9877e-01, 1.7150e-04, 3.7104e-04, 2.2099e-04, 3.1899e-04, 1.4970e-04]) --> tensor([9.9881e-01, 1.7214e-04, 3.5523e-04, 2.2188e-04, 2.9632e-04, 1.4567e-04])\n",
      "\n",
      "i was still feeling weepy and strung out so maggie treated me to ice cream and a movie a href http www\n",
      "\n",
      "i was still feeling weepy and strung out so maggie treated me to ice cream and a movie a href һttp www\n",
      "--------------------------------------------- Result 100 ---------------------------------------------\n",
      "tensor([9.9877e-01, 1.7150e-04, 3.7104e-04, 2.2099e-04, 3.1899e-04, 1.4970e-04]) --> tensor([9.9881e-01, 1.7214e-04, 3.5523e-04, 2.2188e-04, 2.9632e-04, 1.4567e-04])\n",
      "\n",
      "i was still feeling weepy and strung out so maggie treated me to ice cream and a movie a href [[http]] www\n",
      "\n",
      "i was still feeling weepy and strung out so maggie treated me to ice cream and a movie a href [[һttp]] www\n",
      "\n",
      "\n"
     ]
    },
    {
     "name": "stderr",
     "output_type": "stream",
     "text": [
      "[Succeeded / Failed / Skipped / Total] 50 / 51 / 0 / 101:  40%|████      | 101/250 [01:23<02:02,  1.21it/s]"
     ]
    },
    {
     "name": "stdout",
     "output_type": "stream",
     "text": [
      "tensor([9.9628e-01, 2.0206e-04, 4.2046e-04, 5.6515e-04, 2.3439e-03, 1.8365e-04]) --> tensor([9.9846e-01, 1.5882e-04, 2.9757e-04, 3.8536e-04, 5.7212e-04, 1.2898e-04])\n",
      "\n",
      "i feel needy but comfortable with it i feel vulnerable but secure i feel the urge to cum hard but i get no relief\n",
      "\n",
      "i feel needy but comfortable with it i feel vulnerаble but secure i feel the urge to cum hard but i get no relief\n",
      "--------------------------------------------- Result 101 ---------------------------------------------\n",
      "tensor([9.9628e-01, 2.0206e-04, 4.2046e-04, 5.6515e-04, 2.3439e-03, 1.8365e-04]) --> tensor([9.9846e-01, 1.5882e-04, 2.9757e-04, 3.8536e-04, 5.7212e-04, 1.2898e-04])\n",
      "\n",
      "i feel needy but comfortable with it i feel [[vulnerable]] but secure i feel the urge to cum hard but i get no relief\n",
      "\n",
      "i feel needy but comfortable with it i feel [[vulnerаble]] but secure i feel the urge to cum hard but i get no relief\n",
      "\n",
      "\n"
     ]
    },
    {
     "name": "stderr",
     "output_type": "stream",
     "text": [
      "[Succeeded / Failed / Skipped / Total] 51 / 51 / 0 / 102:  41%|████      | 102/250 [01:24<02:02,  1.21it/s]"
     ]
    },
    {
     "name": "stdout",
     "output_type": "stream",
     "text": [
      "tensor([9.9862e-01, 2.6903e-04, 1.4643e-04, 2.1179e-04, 5.6195e-04, 1.9424e-04]) --> tensor([9.9884e-01, 2.6457e-04, 1.5364e-04, 2.3921e-04, 3.3996e-04, 1.6542e-04])\n",
      "\n",
      "i journaled about my tendency to sometimes overcommit myself which can make me feel exhausted and overwhelmed\n",
      "\n",
      "i journaled about my tendency to sometimes overcommit myself which can make me feel exhausted and overwhеlmed\n",
      "--------------------------------------------- Result 102 ---------------------------------------------\n",
      "tensor([9.9862e-01, 2.6903e-04, 1.4643e-04, 2.1179e-04, 5.6195e-04, 1.9424e-04]) --> tensor([9.9884e-01, 2.6457e-04, 1.5364e-04, 2.3921e-04, 3.3996e-04, 1.6542e-04])\n",
      "\n",
      "i journaled about my tendency to sometimes overcommit myself which can make me feel exhausted and [[overwhelmed]]\n",
      "\n",
      "i journaled about my tendency to sometimes overcommit myself which can make me feel exhausted and [[overwhеlmed]]\n",
      "\n",
      "\n"
     ]
    },
    {
     "name": "stderr",
     "output_type": "stream",
     "text": [
      "[Succeeded / Failed / Skipped / Total] 52 / 51 / 0 / 103:  41%|████      | 103/250 [01:24<02:00,  1.22it/s]"
     ]
    },
    {
     "name": "stdout",
     "output_type": "stream",
     "text": [
      "tensor([9.9885e-01, 2.3754e-04, 1.4284e-04, 3.0055e-04, 3.7041e-04, 9.7455e-05]) --> tensor([9.9895e-01, 2.0873e-04, 1.4342e-04, 3.1541e-04, 2.9523e-04, 9.2169e-05])\n",
      "\n",
      "i started out feeling discouraged this morning\n",
      "\n",
      "i startеd out feeling discouraged this morning\n",
      "--------------------------------------------- Result 103 ---------------------------------------------\n",
      "tensor([9.9885e-01, 2.3754e-04, 1.4284e-04, 3.0055e-04, 3.7041e-04, 9.7455e-05]) --> tensor([9.9895e-01, 2.0873e-04, 1.4342e-04, 3.1541e-04, 2.9523e-04, 9.2169e-05])\n",
      "\n",
      "i [[started]] out feeling discouraged this morning\n",
      "\n",
      "i [[startеd]] out feeling discouraged this morning\n",
      "\n",
      "\n"
     ]
    },
    {
     "name": "stderr",
     "output_type": "stream",
     "text": [
      "[Succeeded / Failed / Skipped / Total] 53 / 51 / 0 / 104:  42%|████▏     | 104/250 [01:25<02:00,  1.21it/s]"
     ]
    },
    {
     "name": "stdout",
     "output_type": "stream",
     "text": [
      "tensor([1.3456e-03, 1.2232e-03, 5.8952e-04, 4.0130e-01, 5.9422e-01, 1.3180e-03]) --> tensor([7.5993e-01, 5.6003e-02, 1.9252e-03, 1.5902e-01, 2.2475e-02, 6.5099e-04])\n",
      "\n",
      "i feel agitated with myself that i did not foresee her frustrations earlier leading to the ending of our relationship\n",
      "\n",
      "i feel agitateԁ with myself that i did not foresee her frustrations earlier leading to the ending of our relationship\n",
      "--------------------------------------------- Result 104 ---------------------------------------------\n",
      "tensor([1.3456e-03, 1.2232e-03, 5.8952e-04, 4.0130e-01, 5.9422e-01, 1.3180e-03]) --> tensor([7.5993e-01, 5.6003e-02, 1.9252e-03, 1.5902e-01, 2.2475e-02, 6.5099e-04])\n",
      "\n",
      "i feel [[agitated]] with myself that i did not foresee her frustrations earlier leading to the ending of our relationship\n",
      "\n",
      "i feel [[agitateԁ]] with myself that i did not foresee her frustrations earlier leading to the ending of our relationship\n",
      "\n",
      "\n"
     ]
    },
    {
     "name": "stderr",
     "output_type": "stream",
     "text": [
      "[Succeeded / Failed / Skipped / Total] 53 / 52 / 0 / 105:  42%|████▏     | 105/250 [01:26<01:59,  1.22it/s]"
     ]
    },
    {
     "name": "stdout",
     "output_type": "stream",
     "text": [
      "tensor([6.4982e-04, 3.7096e-04, 9.6995e-04, 9.9511e-01, 2.5172e-03, 3.8571e-04]) --> [FAILED]\n",
      "\n",
      "i grab it from the air its smooth frame feels cold to the touch\n",
      "--------------------------------------------- Result 105 ---------------------------------------------\n",
      "tensor([6.4982e-04, 3.7096e-04, 9.6995e-04, 9.9511e-01, 2.5172e-03, 3.8571e-04]) --> [[[FAILED]]]\n",
      "\n",
      "i grab it from the air its smooth frame feels cold to the touch\n",
      "\n",
      "\n"
     ]
    },
    {
     "name": "stderr",
     "output_type": "stream",
     "text": [
      "[Succeeded / Failed / Skipped / Total] 53 / 53 / 0 / 106:  42%|████▏     | 106/250 [01:27<01:58,  1.21it/s]"
     ]
    },
    {
     "name": "stdout",
     "output_type": "stream",
     "text": [
      "tensor([5.9914e-04, 3.2406e-04, 1.8988e-04, 9.9794e-01, 8.1323e-04, 1.3755e-04]) --> [FAILED]\n",
      "\n",
      "i was angry at my boyfriend who had promised to come to see me but did not because he spent the evening with his pals\n",
      "--------------------------------------------- Result 106 ---------------------------------------------\n",
      "tensor([5.9914e-04, 3.2406e-04, 1.8988e-04, 9.9794e-01, 8.1323e-04, 1.3755e-04]) --> [[[FAILED]]]\n",
      "\n",
      "i was angry at my boyfriend who had promised to come to see me but did not because he spent the evening with his pals\n",
      "\n",
      "\n"
     ]
    },
    {
     "name": "stderr",
     "output_type": "stream",
     "text": [
      "[Succeeded / Failed / Skipped / Total] 53 / 54 / 0 / 107:  43%|████▎     | 107/250 [01:28<01:58,  1.21it/s]"
     ]
    },
    {
     "name": "stdout",
     "output_type": "stream",
     "text": [
      "tensor([2.8966e-04, 9.9889e-01, 2.6606e-04, 1.5336e-04, 1.8161e-04, 2.2411e-04]) --> [FAILED]\n",
      "\n",
      "i hate that i m sitting here at the hostel writing this and feeling so perfectly fine and than i get home and it s me and my problems and a wall\n",
      "--------------------------------------------- Result 107 ---------------------------------------------\n",
      "tensor([2.8966e-04, 9.9889e-01, 2.6606e-04, 1.5336e-04, 1.8161e-04, 2.2411e-04]) --> [[[FAILED]]]\n",
      "\n",
      "i hate that i m sitting here at the hostel writing this and feeling so perfectly fine and than i get home and it s me and my problems and a wall\n",
      "\n",
      "\n"
     ]
    },
    {
     "name": "stderr",
     "output_type": "stream",
     "text": [
      "[Succeeded / Failed / Skipped / Total] 53 / 55 / 0 / 108:  43%|████▎     | 108/250 [01:29<01:58,  1.20it/s]"
     ]
    },
    {
     "name": "stdout",
     "output_type": "stream",
     "text": [
      "tensor([1.9879e-04, 9.9896e-01, 2.8002e-04, 1.6900e-04, 1.9673e-04, 1.9589e-04]) --> [FAILED]\n",
      "\n",
      "i do exercise i feel energetic and i am able to perform my other tasks in a very good manner\n",
      "--------------------------------------------- Result 108 ---------------------------------------------\n",
      "tensor([1.9879e-04, 9.9896e-01, 2.8002e-04, 1.6900e-04, 1.9673e-04, 1.9589e-04]) --> [[[FAILED]]]\n",
      "\n",
      "i do exercise i feel energetic and i am able to perform my other tasks in a very good manner\n",
      "\n",
      "\n"
     ]
    },
    {
     "name": "stderr",
     "output_type": "stream",
     "text": [
      "[Succeeded / Failed / Skipped / Total] 53 / 56 / 0 / 109:  44%|████▎     | 109/250 [01:31<01:58,  1.19it/s]"
     ]
    },
    {
     "name": "stdout",
     "output_type": "stream",
     "text": [
      "tensor([0.0026, 0.0015, 0.0016, 0.0012, 0.4907, 0.5024]) --> [FAILED]\n",
      "\n",
      "i looked at mabel this morning i named my left breast mabel my right one is hazel and i feel this weird mixture of anger and loss valerie wrote less than a month after her diagnosis\n",
      "--------------------------------------------- Result 109 ---------------------------------------------\n",
      "tensor([0.0026, 0.0015, 0.0016, 0.0012, 0.4907, 0.5024]) --> [[[FAILED]]]\n",
      "\n",
      "i looked at mabel this morning i named my left breast mabel my right one is hazel and i feel this weird mixture of anger and loss valerie wrote less than a month after her diagnosis\n",
      "\n",
      "\n"
     ]
    },
    {
     "name": "stderr",
     "output_type": "stream",
     "text": [
      "[Succeeded / Failed / Skipped / Total] 54 / 56 / 0 / 110:  44%|████▍     | 110/250 [01:31<01:57,  1.20it/s]"
     ]
    },
    {
     "name": "stdout",
     "output_type": "stream",
     "text": [
      "tensor([9.9909e-01, 2.0353e-04, 1.6854e-04, 2.0049e-04, 2.0797e-04, 1.3330e-04]) --> tensor([9.9911e-01, 1.8971e-04, 1.5934e-04, 2.1285e-04, 2.0038e-04, 1.2355e-04])\n",
      "\n",
      "im feeling pretty disheartened by the whole thing\n",
      "\n",
      "im feeling pretty disheartened by the whole thіng\n",
      "--------------------------------------------- Result 110 ---------------------------------------------\n",
      "tensor([9.9909e-01, 2.0353e-04, 1.6854e-04, 2.0049e-04, 2.0797e-04, 1.3330e-04]) --> tensor([9.9911e-01, 1.8971e-04, 1.5934e-04, 2.1285e-04, 2.0038e-04, 1.2355e-04])\n",
      "\n",
      "im feeling pretty disheartened by the whole [[thing]]\n",
      "\n",
      "im feeling pretty disheartened by the whole [[thіng]]\n",
      "\n",
      "\n"
     ]
    },
    {
     "name": "stderr",
     "output_type": "stream",
     "text": [
      "[Succeeded / Failed / Skipped / Total] 54 / 57 / 0 / 111:  44%|████▍     | 111/250 [01:32<01:55,  1.20it/s]"
     ]
    },
    {
     "name": "stdout",
     "output_type": "stream",
     "text": [
      "tensor([2.4528e-04, 9.9891e-01, 2.9630e-04, 2.0454e-04, 1.8305e-04, 1.6431e-04]) --> [FAILED]\n",
      "\n",
      "i feel that an input from me will be valued as being less potent than say that of irfan pathan\n",
      "--------------------------------------------- Result 111 ---------------------------------------------\n",
      "tensor([2.4528e-04, 9.9891e-01, 2.9630e-04, 2.0454e-04, 1.8305e-04, 1.6431e-04]) --> [[[FAILED]]]\n",
      "\n",
      "i feel that an input from me will be valued as being less potent than say that of irfan pathan\n",
      "\n",
      "\n"
     ]
    },
    {
     "name": "stderr",
     "output_type": "stream",
     "text": [
      "[Succeeded / Failed / Skipped / Total] 54 / 58 / 0 / 112:  45%|████▍     | 112/250 [01:32<01:54,  1.21it/s]"
     ]
    },
    {
     "name": "stdout",
     "output_type": "stream",
     "text": [
      "tensor([1.0811e-03, 2.0342e-01, 7.9344e-01, 7.2068e-04, 5.3805e-04, 8.0515e-04]) --> [FAILED]\n",
      "\n",
      "i feel is he generous\n",
      "--------------------------------------------- Result 112 ---------------------------------------------\n",
      "tensor([1.0811e-03, 2.0342e-01, 7.9344e-01, 7.2068e-04, 5.3805e-04, 8.0515e-04]) --> [[[FAILED]]]\n",
      "\n",
      "i feel is he generous\n",
      "\n",
      "\n"
     ]
    },
    {
     "name": "stderr",
     "output_type": "stream",
     "text": [
      "[Succeeded / Failed / Skipped / Total] 54 / 59 / 0 / 113:  45%|████▌     | 113/250 [01:33<01:52,  1.21it/s]"
     ]
    },
    {
     "name": "stdout",
     "output_type": "stream",
     "text": [
      "tensor([8.4252e-04, 2.6803e-04, 1.8191e-04, 4.3143e-04, 9.9737e-01, 9.0485e-04]) --> [FAILED]\n",
      "\n",
      "i even feel a little shaky\n",
      "--------------------------------------------- Result 113 ---------------------------------------------\n",
      "tensor([8.4252e-04, 2.6803e-04, 1.8191e-04, 4.3143e-04, 9.9737e-01, 9.0485e-04]) --> [[[FAILED]]]\n",
      "\n",
      "i even feel a little shaky\n",
      "\n",
      "\n"
     ]
    },
    {
     "name": "stderr",
     "output_type": "stream",
     "text": [
      "[Succeeded / Failed / Skipped / Total] 54 / 60 / 0 / 114:  46%|████▌     | 114/250 [01:33<01:51,  1.22it/s]"
     ]
    },
    {
     "name": "stdout",
     "output_type": "stream",
     "text": [
      "tensor([6.8470e-04, 9.9833e-01, 3.1143e-04, 2.2252e-04, 2.2350e-04, 2.2514e-04]) --> [FAILED]\n",
      "\n",
      "i am feeling better though i dont sound it\n",
      "--------------------------------------------- Result 114 ---------------------------------------------\n",
      "tensor([6.8470e-04, 9.9833e-01, 3.1143e-04, 2.2252e-04, 2.2350e-04, 2.2514e-04]) --> [[[FAILED]]]\n",
      "\n",
      "i am feeling better though i dont sound it\n",
      "\n",
      "\n"
     ]
    },
    {
     "name": "stderr",
     "output_type": "stream",
     "text": [
      "[Succeeded / Failed / Skipped / Total] 55 / 60 / 0 / 115:  46%|████▌     | 115/250 [01:34<01:50,  1.22it/s]"
     ]
    },
    {
     "name": "stdout",
     "output_type": "stream",
     "text": [
      "tensor([9.9855e-01, 1.5077e-04, 2.3734e-04, 3.2348e-04, 6.1694e-04, 1.1688e-04]) --> tensor([9.9895e-01, 1.5065e-04, 2.2988e-04, 2.8670e-04, 2.7566e-04, 1.0454e-04])\n",
      "\n",
      "i always feel troubled when we re on the road touring living in a van or more recently in the circus buses no place to hang my hat as the song lyric has it\n",
      "\n",
      "i alwаys feel troubled when we re on the road touring living in a van or more recently in the circus buses no place to hang my hat as the song lyric has it\n",
      "--------------------------------------------- Result 115 ---------------------------------------------\n",
      "tensor([9.9855e-01, 1.5077e-04, 2.3734e-04, 3.2348e-04, 6.1694e-04, 1.1688e-04]) --> tensor([9.9895e-01, 1.5065e-04, 2.2988e-04, 2.8670e-04, 2.7566e-04, 1.0454e-04])\n",
      "\n",
      "i [[always]] feel troubled when we re on the road touring living in a van or more recently in the circus buses no place to hang my hat as the song lyric has it\n",
      "\n",
      "i [[alwаys]] feel troubled when we re on the road touring living in a van or more recently in the circus buses no place to hang my hat as the song lyric has it\n",
      "\n",
      "\n"
     ]
    },
    {
     "name": "stderr",
     "output_type": "stream",
     "text": [
      "[Succeeded / Failed / Skipped / Total] 55 / 61 / 0 / 116:  46%|████▋     | 116/250 [01:34<01:49,  1.22it/s]"
     ]
    },
    {
     "name": "stdout",
     "output_type": "stream",
     "text": [
      "tensor([1.6343e-04, 9.9908e-01, 4.0530e-04, 9.9440e-05, 1.1146e-04, 1.4016e-04]) --> [FAILED]\n",
      "\n",
      "i feel our world then was a much more innocent place\n",
      "--------------------------------------------- Result 116 ---------------------------------------------\n",
      "tensor([1.6343e-04, 9.9908e-01, 4.0530e-04, 9.9440e-05, 1.1146e-04, 1.4016e-04]) --> [[[FAILED]]]\n",
      "\n",
      "i feel our world then was a much more innocent place\n",
      "\n",
      "\n"
     ]
    },
    {
     "name": "stderr",
     "output_type": "stream",
     "text": [
      "[Succeeded / Failed / Skipped / Total] 55 / 62 / 0 / 117:  47%|████▋     | 117/250 [01:35<01:48,  1.22it/s]"
     ]
    },
    {
     "name": "stdout",
     "output_type": "stream",
     "text": [
      "tensor([1.8259e-04, 9.9908e-01, 2.8317e-04, 1.1229e-04, 1.4205e-04, 1.9695e-04]) --> [FAILED]\n",
      "\n",
      "i feel thoroughly virtuous even if the daily trip to the compost bin isn t the most pleasant experience\n",
      "--------------------------------------------- Result 117 ---------------------------------------------\n",
      "tensor([1.8259e-04, 9.9908e-01, 2.8317e-04, 1.1229e-04, 1.4205e-04, 1.9695e-04]) --> [[[FAILED]]]\n",
      "\n",
      "i feel thoroughly virtuous even if the daily trip to the compost bin isn t the most pleasant experience\n",
      "\n",
      "\n"
     ]
    },
    {
     "name": "stderr",
     "output_type": "stream",
     "text": [
      "[Succeeded / Failed / Skipped / Total] 55 / 63 / 0 / 118:  47%|████▋     | 118/250 [01:35<01:47,  1.23it/s]"
     ]
    },
    {
     "name": "stdout",
     "output_type": "stream",
     "text": [
      "tensor([3.0810e-04, 4.3088e-04, 2.1836e-04, 8.1610e-04, 9.9515e-01, 3.0804e-03]) --> [FAILED]\n",
      "\n",
      "im not feeling anything suspicious really\n",
      "--------------------------------------------- Result 118 ---------------------------------------------\n",
      "tensor([3.0810e-04, 4.3088e-04, 2.1836e-04, 8.1610e-04, 9.9515e-01, 3.0804e-03]) --> [[[FAILED]]]\n",
      "\n",
      "im not feeling anything suspicious really\n",
      "\n",
      "\n"
     ]
    },
    {
     "name": "stderr",
     "output_type": "stream",
     "text": [
      "[Succeeded / Failed / Skipped / Total] 56 / 63 / 0 / 119:  48%|████▊     | 119/250 [01:36<01:46,  1.24it/s]"
     ]
    },
    {
     "name": "stdout",
     "output_type": "stream",
     "text": [
      "tensor([9.9893e-01, 2.1455e-04, 2.8218e-04, 3.2610e-04, 1.3878e-04, 1.1147e-04]) --> tensor([9.9899e-01, 2.0872e-04, 2.5757e-04, 2.8225e-04, 1.3987e-04, 1.1778e-04])\n",
      "\n",
      "i was feeling a little sentimental today\n",
      "\n",
      "i was feeling a little sentimental toԁay\n",
      "--------------------------------------------- Result 119 ---------------------------------------------\n",
      "tensor([9.9893e-01, 2.1455e-04, 2.8218e-04, 3.2610e-04, 1.3878e-04, 1.1147e-04]) --> tensor([9.9899e-01, 2.0872e-04, 2.5757e-04, 2.8225e-04, 1.3987e-04, 1.1778e-04])\n",
      "\n",
      "i was feeling a little sentimental [[today]]\n",
      "\n",
      "i was feeling a little sentimental [[toԁay]]\n",
      "\n",
      "\n"
     ]
    },
    {
     "name": "stderr",
     "output_type": "stream",
     "text": [
      "[Succeeded / Failed / Skipped / Total] 57 / 63 / 0 / 120:  48%|████▊     | 120/250 [01:38<01:46,  1.22it/s]"
     ]
    },
    {
     "name": "stdout",
     "output_type": "stream",
     "text": [
      "tensor([4.8804e-03, 9.9287e-01, 1.1163e-03, 6.4620e-04, 3.0753e-04, 1.8118e-04]) --> tensor([9.9109e-01, 5.8814e-03, 3.1821e-04, 2.0385e-03, 4.8175e-04, 1.8549e-04])\n",
      "\n",
      "i feel like i know who most of them are by now and am starting to develop my likes and dislikes though i have not been keen on the snap evictions they have seemed pretty pointless the first one to go returned and the two webmates made absolutely zero impact on me so they won t be missed\n",
      "\n",
      "i feel like i know who most of them are by now and am starting to develop my likes and dislikes though i have not been keеn on the snap evictions they have seemed pretty pointless the first one to go returned and the two webmates made absolutely zero impact on me so they won t be missed\n",
      "--------------------------------------------- Result 120 ---------------------------------------------\n",
      "tensor([4.8804e-03, 9.9287e-01, 1.1163e-03, 6.4620e-04, 3.0753e-04, 1.8118e-04]) --> tensor([9.9109e-01, 5.8814e-03, 3.1821e-04, 2.0385e-03, 4.8175e-04, 1.8549e-04])\n",
      "\n",
      "i feel like i know who most of them are by now and am starting to develop my likes and dislikes though i have not been [[keen]] on the snap evictions they have seemed pretty pointless the first one to go returned and the two webmates made absolutely zero impact on me so they won t be missed\n",
      "\n",
      "i feel like i know who most of them are by now and am starting to develop my likes and dislikes though i have not been [[keеn]] on the snap evictions they have seemed pretty pointless the first one to go returned and the two webmates made absolutely zero impact on me so they won t be missed\n",
      "\n",
      "\n"
     ]
    },
    {
     "name": "stderr",
     "output_type": "stream",
     "text": [
      "[Succeeded / Failed / Skipped / Total] 58 / 63 / 0 / 121:  48%|████▊     | 121/250 [01:38<01:45,  1.23it/s]"
     ]
    },
    {
     "name": "stdout",
     "output_type": "stream",
     "text": [
      "tensor([9.9834e-01, 2.4746e-04, 1.6674e-04, 2.1729e-04, 8.3950e-04, 1.8797e-04]) --> tensor([9.9863e-01, 2.1912e-04, 1.5461e-04, 2.1145e-04, 6.1735e-04, 1.6727e-04])\n",
      "\n",
      "i feel less whiney since the sun came out here in the sf area\n",
      "\n",
      "i feel less whiney sіnce the sun came out here in the sf area\n",
      "--------------------------------------------- Result 121 ---------------------------------------------\n",
      "tensor([9.9834e-01, 2.4746e-04, 1.6674e-04, 2.1729e-04, 8.3950e-04, 1.8797e-04]) --> tensor([9.9863e-01, 2.1912e-04, 1.5461e-04, 2.1145e-04, 6.1735e-04, 1.6727e-04])\n",
      "\n",
      "i feel less whiney [[since]] the sun came out here in the sf area\n",
      "\n",
      "i feel less whiney [[sіnce]] the sun came out here in the sf area\n",
      "\n",
      "\n"
     ]
    },
    {
     "name": "stderr",
     "output_type": "stream",
     "text": [
      "[Succeeded / Failed / Skipped / Total] 58 / 64 / 0 / 122:  49%|████▉     | 122/250 [01:38<01:43,  1.23it/s]"
     ]
    },
    {
     "name": "stdout",
     "output_type": "stream",
     "text": [
      "tensor([2.6632e-04, 9.9854e-01, 3.7690e-04, 1.6252e-04, 1.4815e-04, 5.0599e-04]) --> [FAILED]\n",
      "\n",
      "made a wonderfull new friend\n",
      "--------------------------------------------- Result 122 ---------------------------------------------\n",
      "tensor([2.6632e-04, 9.9854e-01, 3.7690e-04, 1.6252e-04, 1.4815e-04, 5.0599e-04]) --> [[[FAILED]]]\n",
      "\n",
      "made a wonderfull new friend\n",
      "\n",
      "\n"
     ]
    },
    {
     "name": "stderr",
     "output_type": "stream",
     "text": [
      "[Succeeded / Failed / Skipped / Total] 59 / 64 / 0 / 123:  49%|████▉     | 123/250 [01:39<01:42,  1.23it/s]"
     ]
    },
    {
     "name": "stdout",
     "output_type": "stream",
     "text": [
      "tensor([9.9874e-01, 1.8277e-04, 1.9610e-04, 2.1517e-04, 4.1735e-04, 2.5373e-04]) --> tensor([9.9878e-01, 1.8029e-04, 1.9005e-04, 2.2661e-04, 3.8332e-04, 2.4325e-04])\n",
      "\n",
      "i feel almost embarrassed to mention the single redshank and common sandpiper but there again who would not want to mention the lone wood sandpiper present at the waters edge\n",
      "\n",
      "i feel almost embarrassed to mention the single redshank and common sandpiper but there again whο would not want to mention the lone wood sandpiper present at the waters edge\n",
      "--------------------------------------------- Result 123 ---------------------------------------------\n",
      "tensor([9.9874e-01, 1.8277e-04, 1.9610e-04, 2.1517e-04, 4.1735e-04, 2.5373e-04]) --> tensor([9.9878e-01, 1.8029e-04, 1.9005e-04, 2.2661e-04, 3.8332e-04, 2.4325e-04])\n",
      "\n",
      "i feel almost embarrassed to mention the single redshank and common sandpiper but there again [[who]] would not want to mention the lone wood sandpiper present at the waters edge\n",
      "\n",
      "i feel almost embarrassed to mention the single redshank and common sandpiper but there again [[whο]] would not want to mention the lone wood sandpiper present at the waters edge\n",
      "\n",
      "\n"
     ]
    },
    {
     "name": "stderr",
     "output_type": "stream",
     "text": [
      "[Succeeded / Failed / Skipped / Total] 60 / 64 / 0 / 124:  50%|████▉     | 124/250 [01:40<01:42,  1.24it/s]"
     ]
    },
    {
     "name": "stdout",
     "output_type": "stream",
     "text": [
      "tensor([8.6510e-04, 2.4113e-04, 2.3904e-04, 9.9794e-01, 5.5895e-04, 1.5978e-04]) --> tensor([8.0588e-01, 9.0282e-02, 5.7361e-03, 9.1087e-02, 6.4444e-03, 5.6920e-04])\n",
      "\n",
      "i know its easy to feel a little envious of me and i cant tell you that you shouldnt\n",
      "\n",
      "i know its easy to feel a little enviouѕ of me and i cant tell you that you shouldnt\n",
      "--------------------------------------------- Result 124 ---------------------------------------------\n",
      "tensor([8.6510e-04, 2.4113e-04, 2.3904e-04, 9.9794e-01, 5.5895e-04, 1.5978e-04]) --> tensor([8.0588e-01, 9.0282e-02, 5.7361e-03, 9.1087e-02, 6.4444e-03, 5.6920e-04])\n",
      "\n",
      "i know its easy to feel a little [[envious]] of me and i cant tell you that you shouldnt\n",
      "\n",
      "i know its easy to feel a little [[enviouѕ]] of me and i cant tell you that you shouldnt\n",
      "\n",
      "\n"
     ]
    },
    {
     "name": "stderr",
     "output_type": "stream",
     "text": [
      "[Succeeded / Failed / Skipped / Total] 61 / 64 / 0 / 125:  50%|█████     | 125/250 [01:40<01:40,  1.24it/s]"
     ]
    },
    {
     "name": "stdout",
     "output_type": "stream",
     "text": [
      "tensor([9.9823e-01, 2.3748e-04, 2.3237e-04, 1.9813e-04, 7.0588e-04, 3.9798e-04]) --> tensor([9.9859e-01, 2.2262e-04, 2.1882e-04, 2.0254e-04, 4.5095e-04, 3.1438e-04])\n",
      "\n",
      "i would feel awful if she was here this whole time\n",
      "\n",
      "i would feel awful іf she was here this whole time\n",
      "--------------------------------------------- Result 125 ---------------------------------------------\n",
      "tensor([9.9823e-01, 2.3748e-04, 2.3237e-04, 1.9813e-04, 7.0588e-04, 3.9798e-04]) --> tensor([9.9859e-01, 2.2262e-04, 2.1882e-04, 2.0254e-04, 4.5095e-04, 3.1438e-04])\n",
      "\n",
      "i would feel awful [[if]] she was here this whole time\n",
      "\n",
      "i would feel awful [[іf]] she was here this whole time\n",
      "\n",
      "\n"
     ]
    },
    {
     "name": "stderr",
     "output_type": "stream",
     "text": [
      "[Succeeded / Failed / Skipped / Total] 61 / 65 / 0 / 126:  50%|█████     | 126/250 [01:41<01:40,  1.24it/s]"
     ]
    },
    {
     "name": "stdout",
     "output_type": "stream",
     "text": [
      "tensor([1.1851e-03, 2.2452e-04, 5.1288e-04, 9.9696e-01, 9.6063e-04, 1.5647e-04]) --> [FAILED]\n",
      "\n",
      "i feel very mislead by someone that i really really thought i knew and liked very much so\n",
      "--------------------------------------------- Result 126 ---------------------------------------------\n",
      "tensor([1.1851e-03, 2.2452e-04, 5.1288e-04, 9.9696e-01, 9.6063e-04, 1.5647e-04]) --> [[[FAILED]]]\n",
      "\n",
      "i feel very mislead by someone that i really really thought i knew and liked very much so\n",
      "\n",
      "\n"
     ]
    },
    {
     "name": "stderr",
     "output_type": "stream",
     "text": [
      "[Succeeded / Failed / Skipped / Total] 62 / 65 / 0 / 127:  51%|█████     | 127/250 [01:41<01:38,  1.25it/s]"
     ]
    },
    {
     "name": "stdout",
     "output_type": "stream",
     "text": [
      "tensor([9.9894e-01, 2.1895e-04, 1.9910e-04, 2.7672e-04, 2.2552e-04, 1.3629e-04]) --> tensor([9.9899e-01, 2.2254e-04, 1.9907e-04, 2.3618e-04, 2.1582e-04, 1.3281e-04])\n",
      "\n",
      "i feel like we are doomed us humans\n",
      "\n",
      "i feel like we are doomed us humаns\n",
      "--------------------------------------------- Result 127 ---------------------------------------------\n",
      "tensor([9.9894e-01, 2.1895e-04, 1.9910e-04, 2.7672e-04, 2.2552e-04, 1.3629e-04]) --> tensor([9.9899e-01, 2.2254e-04, 1.9907e-04, 2.3618e-04, 2.1582e-04, 1.3281e-04])\n",
      "\n",
      "i feel like we are doomed us [[humans]]\n",
      "\n",
      "i feel like we are doomed us [[humаns]]\n",
      "\n",
      "\n"
     ]
    },
    {
     "name": "stderr",
     "output_type": "stream",
     "text": [
      "[Succeeded / Failed / Skipped / Total] 62 / 66 / 0 / 128:  51%|█████     | 128/250 [01:43<01:38,  1.24it/s]"
     ]
    },
    {
     "name": "stdout",
     "output_type": "stream",
     "text": [
      "tensor([3.8199e-04, 2.5251e-04, 1.5237e-04, 9.7253e-04, 9.9736e-01, 8.7866e-04]) --> [FAILED]\n",
      "\n",
      "i am going to have to check on in just a few minutes but there is this clock up above the screen that keeps ticking down the minutes i have left so am feeling a bit frantic\n",
      "--------------------------------------------- Result 128 ---------------------------------------------\n",
      "tensor([3.8199e-04, 2.5251e-04, 1.5237e-04, 9.7253e-04, 9.9736e-01, 8.7866e-04]) --> [[[FAILED]]]\n",
      "\n",
      "i am going to have to check on in just a few minutes but there is this clock up above the screen that keeps ticking down the minutes i have left so am feeling a bit frantic\n",
      "\n",
      "\n"
     ]
    },
    {
     "name": "stderr",
     "output_type": "stream",
     "text": [
      "[Succeeded / Failed / Skipped / Total] 63 / 66 / 0 / 129:  52%|█████▏    | 129/250 [01:43<01:37,  1.24it/s]"
     ]
    },
    {
     "name": "stdout",
     "output_type": "stream",
     "text": [
      "tensor([9.9906e-01, 1.8942e-04, 1.9304e-04, 1.5176e-04, 2.5988e-04, 1.4915e-04]) --> tensor([9.9910e-01, 1.8228e-04, 1.8277e-04, 1.6022e-04, 2.3582e-04, 1.4253e-04])\n",
      "\n",
      "i got the sleep but if i could choose not to be woken up by an alarm i d definitely take that over anything it makes me feel so groggy\n",
      "\n",
      "i got the sleep but if i could сhoose not to be woken up by an alarm i d definitely take that over anything it makes me feel so groggy\n",
      "--------------------------------------------- Result 129 ---------------------------------------------\n",
      "tensor([9.9906e-01, 1.8942e-04, 1.9304e-04, 1.5176e-04, 2.5988e-04, 1.4915e-04]) --> tensor([9.9910e-01, 1.8228e-04, 1.8277e-04, 1.6022e-04, 2.3582e-04, 1.4253e-04])\n",
      "\n",
      "i got the sleep but if i could [[choose]] not to be woken up by an alarm i d definitely take that over anything it makes me feel so groggy\n",
      "\n",
      "i got the sleep but if i could [[сhoose]] not to be woken up by an alarm i d definitely take that over anything it makes me feel so groggy\n",
      "\n",
      "\n"
     ]
    },
    {
     "name": "stderr",
     "output_type": "stream",
     "text": [
      "[Succeeded / Failed / Skipped / Total] 64 / 66 / 0 / 130:  52%|█████▏    | 130/250 [01:44<01:36,  1.25it/s]"
     ]
    },
    {
     "name": "stdout",
     "output_type": "stream",
     "text": [
      "tensor([9.9911e-01, 2.1098e-04, 1.5429e-04, 2.1121e-04, 1.9322e-04, 1.1974e-04]) --> tensor([9.9913e-01, 2.0931e-04, 1.5441e-04, 2.0828e-04, 1.8528e-04, 1.1539e-04])\n",
      "\n",
      "ive been boring for few weeks and feeling a bit gloomy cause of the rainy days\n",
      "\n",
      "іve been boring for few weeks and feeling a bit gloomy cause of the rainy days\n",
      "--------------------------------------------- Result 130 ---------------------------------------------\n",
      "tensor([9.9911e-01, 2.1098e-04, 1.5429e-04, 2.1121e-04, 1.9322e-04, 1.1974e-04]) --> tensor([9.9913e-01, 2.0931e-04, 1.5441e-04, 2.0828e-04, 1.8528e-04, 1.1539e-04])\n",
      "\n",
      "[[ive]] been boring for few weeks and feeling a bit gloomy cause of the rainy days\n",
      "\n",
      "[[іve]] been boring for few weeks and feeling a bit gloomy cause of the rainy days\n",
      "\n",
      "\n"
     ]
    },
    {
     "name": "stderr",
     "output_type": "stream",
     "text": [
      "[Succeeded / Failed / Skipped / Total] 64 / 67 / 0 / 131:  52%|█████▏    | 131/250 [01:45<01:35,  1.25it/s]"
     ]
    },
    {
     "name": "stdout",
     "output_type": "stream",
     "text": [
      "tensor([1.9503e-04, 9.9890e-01, 3.7927e-04, 1.6973e-04, 1.7267e-04, 1.8211e-04]) --> [FAILED]\n",
      "\n",
      "i feel that this information is vital to moving on with your day and you re not complete until you read it\n",
      "--------------------------------------------- Result 131 ---------------------------------------------\n",
      "tensor([1.9503e-04, 9.9890e-01, 3.7927e-04, 1.6973e-04, 1.7267e-04, 1.8211e-04]) --> [[[FAILED]]]\n",
      "\n",
      "i feel that this information is vital to moving on with your day and you re not complete until you read it\n",
      "\n",
      "\n"
     ]
    },
    {
     "name": "stderr",
     "output_type": "stream",
     "text": [
      "[Succeeded / Failed / Skipped / Total] 64 / 68 / 0 / 132:  53%|█████▎    | 132/250 [01:45<01:34,  1.25it/s]"
     ]
    },
    {
     "name": "stdout",
     "output_type": "stream",
     "text": [
      "tensor([4.8914e-04, 9.1724e-01, 8.1156e-02, 3.3240e-04, 3.1582e-04, 4.6500e-04]) --> [FAILED]\n",
      "\n",
      "im feeling generous today heres one more you may have already seen but is good for a chuckle\n",
      "--------------------------------------------- Result 132 ---------------------------------------------\n",
      "tensor([4.8914e-04, 9.1724e-01, 8.1156e-02, 3.3240e-04, 3.1582e-04, 4.6500e-04]) --> [[[FAILED]]]\n",
      "\n",
      "im feeling generous today heres one more you may have already seen but is good for a chuckle\n",
      "\n",
      "\n"
     ]
    },
    {
     "name": "stderr",
     "output_type": "stream",
     "text": [
      "[Succeeded / Failed / Skipped / Total] 65 / 68 / 0 / 133:  53%|█████▎    | 133/250 [01:46<01:33,  1.25it/s]"
     ]
    },
    {
     "name": "stdout",
     "output_type": "stream",
     "text": [
      "tensor([9.9873e-01, 2.2440e-04, 1.4843e-04, 1.8100e-04, 5.3259e-04, 1.8829e-04]) --> tensor([9.9882e-01, 2.2873e-04, 1.4655e-04, 1.7147e-04, 4.5287e-04, 1.8125e-04])\n",
      "\n",
      "i will feel awkward about just calling up one of these people out of the blue to hang out or rather to be familiar with them on a deeper level they are not my kith and kin\n",
      "\n",
      "i will feel awkward abοut just calling up one of these people out of the blue to hang out or rather to be familiar with them on a deeper level they are not my kith and kin\n",
      "--------------------------------------------- Result 133 ---------------------------------------------\n",
      "tensor([9.9873e-01, 2.2440e-04, 1.4843e-04, 1.8100e-04, 5.3259e-04, 1.8829e-04]) --> tensor([9.9882e-01, 2.2873e-04, 1.4655e-04, 1.7147e-04, 4.5287e-04, 1.8125e-04])\n",
      "\n",
      "i will feel awkward [[about]] just calling up one of these people out of the blue to hang out or rather to be familiar with them on a deeper level they are not my kith and kin\n",
      "\n",
      "i will feel awkward [[abοut]] just calling up one of these people out of the blue to hang out or rather to be familiar with them on a deeper level they are not my kith and kin\n",
      "\n",
      "\n"
     ]
    },
    {
     "name": "stderr",
     "output_type": "stream",
     "text": [
      "[Succeeded / Failed / Skipped / Total] 65 / 69 / 0 / 134:  54%|█████▎    | 134/250 [01:47<01:32,  1.25it/s]"
     ]
    },
    {
     "name": "stdout",
     "output_type": "stream",
     "text": [
      "tensor([4.6217e-04, 2.7689e-04, 2.8625e-04, 9.9779e-01, 9.0769e-04, 2.8095e-04]) --> [FAILED]\n",
      "\n",
      "i don t like the feeling i get when someone is even a little bit offended by some offhand remark i ve made\n",
      "--------------------------------------------- Result 134 ---------------------------------------------\n",
      "tensor([4.6217e-04, 2.7689e-04, 2.8625e-04, 9.9779e-01, 9.0769e-04, 2.8095e-04]) --> [[[FAILED]]]\n",
      "\n",
      "i don t like the feeling i get when someone is even a little bit offended by some offhand remark i ve made\n",
      "\n",
      "\n"
     ]
    },
    {
     "name": "stderr",
     "output_type": "stream",
     "text": [
      "[Succeeded / Failed / Skipped / Total] 65 / 70 / 0 / 135:  54%|█████▍    | 135/250 [01:48<01:32,  1.25it/s]"
     ]
    },
    {
     "name": "stdout",
     "output_type": "stream",
     "text": [
      "tensor([7.3895e-04, 3.1292e-04, 2.9075e-04, 9.9777e-01, 6.8838e-04, 1.9663e-04]) --> [FAILED]\n",
      "\n",
      "i get it crumble but thanks for feeling the need to tell me that im the one who is fucked up\n",
      "--------------------------------------------- Result 135 ---------------------------------------------\n",
      "tensor([7.3895e-04, 3.1292e-04, 2.9075e-04, 9.9777e-01, 6.8838e-04, 1.9663e-04]) --> [[[FAILED]]]\n",
      "\n",
      "i get it crumble but thanks for feeling the need to tell me that im the one who is fucked up\n",
      "\n",
      "\n"
     ]
    },
    {
     "name": "stderr",
     "output_type": "stream",
     "text": [
      "[Succeeded / Failed / Skipped / Total] 65 / 71 / 0 / 136:  54%|█████▍    | 136/250 [01:48<01:31,  1.25it/s]"
     ]
    },
    {
     "name": "stdout",
     "output_type": "stream",
     "text": [
      "tensor([1.8744e-04, 9.9879e-01, 4.9381e-04, 1.8639e-04, 1.9815e-04, 1.3990e-04]) --> [FAILED]\n",
      "\n",
      "i am controlling the growth of this business and every time i post work for a client i feel even more determined to make it a full time business one day\n",
      "--------------------------------------------- Result 136 ---------------------------------------------\n",
      "tensor([1.8744e-04, 9.9879e-01, 4.9381e-04, 1.8639e-04, 1.9815e-04, 1.3990e-04]) --> [[[FAILED]]]\n",
      "\n",
      "i am controlling the growth of this business and every time i post work for a client i feel even more determined to make it a full time business one day\n",
      "\n",
      "\n"
     ]
    },
    {
     "name": "stderr",
     "output_type": "stream",
     "text": [
      "[Succeeded / Failed / Skipped / Total] 65 / 72 / 0 / 137:  55%|█████▍    | 137/250 [01:49<01:30,  1.25it/s]"
     ]
    },
    {
     "name": "stdout",
     "output_type": "stream",
     "text": [
      "tensor([3.6899e-04, 2.7739e-04, 1.7292e-04, 6.6950e-04, 9.9766e-01, 8.5523e-04]) --> [FAILED]\n",
      "\n",
      "i was pregnant with dean i spent the rest of my pregnancy feeling terrified about having another baby\n",
      "--------------------------------------------- Result 137 ---------------------------------------------\n",
      "tensor([3.6899e-04, 2.7739e-04, 1.7292e-04, 6.6950e-04, 9.9766e-01, 8.5523e-04]) --> [[[FAILED]]]\n",
      "\n",
      "i was pregnant with dean i spent the rest of my pregnancy feeling terrified about having another baby\n",
      "\n",
      "\n"
     ]
    },
    {
     "name": "stderr",
     "output_type": "stream",
     "text": [
      "[Succeeded / Failed / Skipped / Total] 66 / 72 / 0 / 138:  55%|█████▌    | 138/250 [01:50<01:29,  1.25it/s]"
     ]
    },
    {
     "name": "stdout",
     "output_type": "stream",
     "text": [
      "tensor([1.2990e-03, 1.0425e-03, 5.1726e-04, 2.7235e-01, 7.2351e-01, 1.2812e-03]) --> tensor([9.9903e-01, 2.4367e-04, 1.4731e-04, 2.7126e-04, 1.8332e-04, 1.2854e-04])\n",
      "\n",
      "i actually feel agitated which led to a terrible day yesterday in which i was unable to concentrate on anything and basically piddled the day away\n",
      "\n",
      "i actually feel agitateԁ which led to a terrible day yesterday in which i was unable to concentrate on anything and basically piddled the day away\n",
      "--------------------------------------------- Result 138 ---------------------------------------------\n",
      "tensor([1.2990e-03, 1.0425e-03, 5.1726e-04, 2.7235e-01, 7.2351e-01, 1.2812e-03]) --> tensor([9.9903e-01, 2.4367e-04, 1.4731e-04, 2.7126e-04, 1.8332e-04, 1.2854e-04])\n",
      "\n",
      "i actually feel [[agitated]] which led to a terrible day yesterday in which i was unable to concentrate on anything and basically piddled the day away\n",
      "\n",
      "i actually feel [[agitateԁ]] which led to a terrible day yesterday in which i was unable to concentrate on anything and basically piddled the day away\n",
      "\n",
      "\n"
     ]
    },
    {
     "name": "stderr",
     "output_type": "stream",
     "text": [
      "[Succeeded / Failed / Skipped / Total] 67 / 72 / 0 / 139:  56%|█████▌    | 139/250 [01:51<01:29,  1.25it/s]"
     ]
    },
    {
     "name": "stdout",
     "output_type": "stream",
     "text": [
      "tensor([9.9898e-01, 2.1409e-04, 2.5104e-04, 1.9624e-04, 1.7657e-04, 1.8372e-04]) --> tensor([9.9899e-01, 2.1072e-04, 2.4107e-04, 1.9321e-04, 1.7977e-04, 1.8133e-04])\n",
      "\n",
      "i have an ed i will tell you that i know i shouldn t feel shamed of eating a protein bar for breakfast and the fact that i ate one isn t what makes me shameful it s the fact i didn t make it is what made me hang my head and tuck tail\n",
      "\n",
      "i have an ed i will tell you tһat i know i shouldn t feel shamed of eating a protein bar for breakfast and the fact that i ate one isn t what makes me shameful it s the fact i didn t make it is what made me hang my head and tuck tail\n",
      "--------------------------------------------- Result 139 ---------------------------------------------\n",
      "tensor([9.9898e-01, 2.1409e-04, 2.5104e-04, 1.9624e-04, 1.7657e-04, 1.8372e-04]) --> tensor([9.9899e-01, 2.1072e-04, 2.4107e-04, 1.9321e-04, 1.7977e-04, 1.8133e-04])\n",
      "\n",
      "i have an ed i will tell you [[that]] i know i shouldn t feel shamed of eating a protein bar for breakfast and the fact that i ate one isn t what makes me shameful it s the fact i didn t make it is what made me hang my head and tuck tail\n",
      "\n",
      "i have an ed i will tell you [[tһat]] i know i shouldn t feel shamed of eating a protein bar for breakfast and the fact that i ate one isn t what makes me shameful it s the fact i didn t make it is what made me hang my head and tuck tail\n",
      "\n",
      "\n"
     ]
    },
    {
     "name": "stderr",
     "output_type": "stream",
     "text": [
      "[Succeeded / Failed / Skipped / Total] 67 / 73 / 0 / 140:  56%|█████▌    | 140/250 [01:52<01:28,  1.25it/s]"
     ]
    },
    {
     "name": "stdout",
     "output_type": "stream",
     "text": [
      "tensor([1.8811e-04, 9.9899e-01, 3.4035e-04, 1.2647e-04, 1.4310e-04, 2.1046e-04]) --> [FAILED]\n",
      "\n",
      "i feel radiant bright accomplished and happy\n",
      "--------------------------------------------- Result 140 ---------------------------------------------\n",
      "tensor([1.8811e-04, 9.9899e-01, 3.4035e-04, 1.2647e-04, 1.4310e-04, 2.1046e-04]) --> [[[FAILED]]]\n",
      "\n",
      "i feel radiant bright accomplished and happy\n",
      "\n",
      "\n"
     ]
    },
    {
     "name": "stderr",
     "output_type": "stream",
     "text": [
      "[Succeeded / Failed / Skipped / Total] 67 / 74 / 0 / 141:  56%|█████▋    | 141/250 [01:52<01:27,  1.25it/s]"
     ]
    },
    {
     "name": "stdout",
     "output_type": "stream",
     "text": [
      "tensor([2.3602e-04, 9.9895e-01, 2.8944e-04, 1.6747e-04, 1.7376e-04, 1.8809e-04]) --> [FAILED]\n",
      "\n",
      "i feel refrigerator magnets that were so popular a few years ago\n",
      "--------------------------------------------- Result 141 ---------------------------------------------\n",
      "tensor([2.3602e-04, 9.9895e-01, 2.8944e-04, 1.6747e-04, 1.7376e-04, 1.8809e-04]) --> [[[FAILED]]]\n",
      "\n",
      "i feel refrigerator magnets that were so popular a few years ago\n",
      "\n",
      "\n"
     ]
    },
    {
     "name": "stderr",
     "output_type": "stream",
     "text": [
      "[Succeeded / Failed / Skipped / Total] 68 / 74 / 0 / 142:  57%|█████▋    | 142/250 [01:53<01:26,  1.26it/s]"
     ]
    },
    {
     "name": "stdout",
     "output_type": "stream",
     "text": [
      "tensor([9.9900e-01, 2.2046e-04, 1.4913e-04, 2.1939e-04, 2.7164e-04, 1.3988e-04]) --> tensor([9.9901e-01, 2.2711e-04, 1.3836e-04, 2.4045e-04, 2.5683e-04, 1.2296e-04])\n",
      "\n",
      "i am feeling very touch deprived with all that has been happening\n",
      "\n",
      "i am feeling verу touch deprived with all that has been happening\n",
      "--------------------------------------------- Result 142 ---------------------------------------------\n",
      "tensor([9.9900e-01, 2.2046e-04, 1.4913e-04, 2.1939e-04, 2.7164e-04, 1.3988e-04]) --> tensor([9.9901e-01, 2.2711e-04, 1.3836e-04, 2.4045e-04, 2.5683e-04, 1.2296e-04])\n",
      "\n",
      "i am feeling [[very]] touch deprived with all that has been happening\n",
      "\n",
      "i am feeling [[verу]] touch deprived with all that has been happening\n",
      "\n",
      "\n"
     ]
    },
    {
     "name": "stderr",
     "output_type": "stream",
     "text": [
      "[Succeeded / Failed / Skipped / Total] 68 / 75 / 0 / 143:  57%|█████▋    | 143/250 [01:53<01:25,  1.26it/s]"
     ]
    },
    {
     "name": "stdout",
     "output_type": "stream",
     "text": [
      "tensor([3.2447e-04, 3.0297e-04, 1.8015e-04, 4.7322e-04, 9.9731e-01, 1.4102e-03]) --> [FAILED]\n",
      "\n",
      "i am feeling apprehensive about it but also wildly excited\n",
      "--------------------------------------------- Result 143 ---------------------------------------------\n",
      "tensor([3.2447e-04, 3.0297e-04, 1.8015e-04, 4.7322e-04, 9.9731e-01, 1.4102e-03]) --> [[[FAILED]]]\n",
      "\n",
      "i am feeling apprehensive about it but also wildly excited\n",
      "\n",
      "\n"
     ]
    },
    {
     "name": "stderr",
     "output_type": "stream",
     "text": [
      "[Succeeded / Failed / Skipped / Total] 68 / 76 / 0 / 144:  58%|█████▊    | 144/250 [01:54<01:24,  1.26it/s]"
     ]
    },
    {
     "name": "stdout",
     "output_type": "stream",
     "text": [
      "tensor([3.1450e-04, 9.9871e-01, 2.6366e-04, 1.7655e-04, 2.8973e-04, 2.4156e-04]) --> [FAILED]\n",
      "\n",
      "i was feeling pretty relaxed by the time i boarded the very new looking airbus and headed into the hazy sky en route to honolulu\n",
      "--------------------------------------------- Result 144 ---------------------------------------------\n",
      "tensor([3.1450e-04, 9.9871e-01, 2.6366e-04, 1.7655e-04, 2.8973e-04, 2.4156e-04]) --> [[[FAILED]]]\n",
      "\n",
      "i was feeling pretty relaxed by the time i boarded the very new looking airbus and headed into the hazy sky en route to honolulu\n",
      "\n",
      "\n"
     ]
    },
    {
     "name": "stderr",
     "output_type": "stream",
     "text": [
      "[Succeeded / Failed / Skipped / Total] 68 / 77 / 0 / 145:  58%|█████▊    | 145/250 [01:54<01:23,  1.26it/s]"
     ]
    },
    {
     "name": "stdout",
     "output_type": "stream",
     "text": [
      "tensor([2.8723e-04, 9.9878e-01, 3.2301e-04, 2.0792e-04, 1.9732e-04, 2.0455e-04]) --> [FAILED]\n",
      "\n",
      "i am a quiet person but what i have to say i feel is important\n",
      "--------------------------------------------- Result 145 ---------------------------------------------\n",
      "tensor([2.8723e-04, 9.9878e-01, 3.2301e-04, 2.0792e-04, 1.9732e-04, 2.0455e-04]) --> [[[FAILED]]]\n",
      "\n",
      "i am a quiet person but what i have to say i feel is important\n",
      "\n",
      "\n"
     ]
    },
    {
     "name": "stderr",
     "output_type": "stream",
     "text": [
      "[Succeeded / Failed / Skipped / Total] 69 / 77 / 0 / 146:  58%|█████▊    | 146/250 [01:55<01:22,  1.27it/s]"
     ]
    },
    {
     "name": "stdout",
     "output_type": "stream",
     "text": [
      "tensor([9.9911e-01, 1.5809e-04, 1.7497e-04, 1.8734e-04, 2.4461e-04, 1.2532e-04]) --> tensor([9.9912e-01, 1.6033e-04, 1.7295e-04, 1.7867e-04, 2.4954e-04, 1.1724e-04])\n",
      "\n",
      "i think i started to feel a little homesick\n",
      "\n",
      "i think i started to feel а little homesick\n",
      "--------------------------------------------- Result 146 ---------------------------------------------\n",
      "tensor([9.9911e-01, 1.5809e-04, 1.7497e-04, 1.8734e-04, 2.4461e-04, 1.2532e-04]) --> tensor([9.9912e-01, 1.6033e-04, 1.7295e-04, 1.7867e-04, 2.4954e-04, 1.1724e-04])\n",
      "\n",
      "i think i started to feel [[a]] little homesick\n",
      "\n",
      "i think i started to feel [[а]] little homesick\n",
      "\n",
      "\n"
     ]
    },
    {
     "name": "stderr",
     "output_type": "stream",
     "text": [
      "[Succeeded / Failed / Skipped / Total] 69 / 78 / 0 / 147:  59%|█████▉    | 147/250 [01:56<01:21,  1.26it/s]"
     ]
    },
    {
     "name": "stdout",
     "output_type": "stream",
     "text": [
      "tensor([1.6452e-04, 9.9877e-01, 3.0573e-04, 1.5064e-04, 2.3072e-04, 3.7861e-04]) --> [FAILED]\n",
      "\n",
      "i am feeling eager to start doing some work the man who works there literally says so uhm you guys want to go in back and see if we can find anything to do\n",
      "--------------------------------------------- Result 147 ---------------------------------------------\n",
      "tensor([1.6452e-04, 9.9877e-01, 3.0573e-04, 1.5064e-04, 2.3072e-04, 3.7861e-04]) --> [[[FAILED]]]\n",
      "\n",
      "i am feeling eager to start doing some work the man who works there literally says so uhm you guys want to go in back and see if we can find anything to do\n",
      "\n",
      "\n"
     ]
    },
    {
     "name": "stderr",
     "output_type": "stream",
     "text": [
      "[Succeeded / Failed / Skipped / Total] 70 / 78 / 0 / 148:  59%|█████▉    | 148/250 [01:57<01:20,  1.26it/s]"
     ]
    },
    {
     "name": "stdout",
     "output_type": "stream",
     "text": [
      "tensor([4.0452e-04, 2.1880e-04, 2.0462e-04, 6.2073e-04, 9.9709e-01, 1.4660e-03]) --> tensor([9.9508e-01, 2.2100e-03, 2.3777e-04, 1.0269e-03, 1.2450e-03, 1.9811e-04])\n",
      "\n",
      "i feel uncomfortable since i have a smaller rib cage and a bigger chest either i am spilling over the top of the tank or the elastic band support is too tight or too loose\n",
      "\n",
      "i feel unсomfortable since i have a smaller rib cage and a bigger chest either i am spilling over the top of the tank or the elastic band support is too tight or too loose\n",
      "--------------------------------------------- Result 148 ---------------------------------------------\n",
      "tensor([4.0452e-04, 2.1880e-04, 2.0462e-04, 6.2073e-04, 9.9709e-01, 1.4660e-03]) --> tensor([9.9508e-01, 2.2100e-03, 2.3777e-04, 1.0269e-03, 1.2450e-03, 1.9811e-04])\n",
      "\n",
      "i feel [[uncomfortable]] since i have a smaller rib cage and a bigger chest either i am spilling over the top of the tank or the elastic band support is too tight or too loose\n",
      "\n",
      "i feel [[unсomfortable]] since i have a smaller rib cage and a bigger chest either i am spilling over the top of the tank or the elastic band support is too tight or too loose\n",
      "\n",
      "\n"
     ]
    },
    {
     "name": "stderr",
     "output_type": "stream",
     "text": [
      "[Succeeded / Failed / Skipped / Total] 70 / 79 / 0 / 149:  60%|█████▉    | 149/250 [01:58<01:20,  1.26it/s]"
     ]
    },
    {
     "name": "stdout",
     "output_type": "stream",
     "text": [
      "tensor([3.4693e-04, 2.8464e-04, 1.7156e-04, 6.9348e-04, 9.9772e-01, 7.8247e-04]) --> [FAILED]\n",
      "\n",
      "im feeling reluctant to exit my freshly cleaned apartment which i stayed up cleaning late last night\n",
      "--------------------------------------------- Result 149 ---------------------------------------------\n",
      "tensor([3.4693e-04, 2.8464e-04, 1.7156e-04, 6.9348e-04, 9.9772e-01, 7.8247e-04]) --> [[[FAILED]]]\n",
      "\n",
      "im feeling reluctant to exit my freshly cleaned apartment which i stayed up cleaning late last night\n",
      "\n",
      "\n"
     ]
    },
    {
     "name": "stderr",
     "output_type": "stream",
     "text": [
      "[Succeeded / Failed / Skipped / Total] 70 / 80 / 0 / 150:  60%|██████    | 150/250 [01:59<01:19,  1.26it/s]"
     ]
    },
    {
     "name": "stdout",
     "output_type": "stream",
     "text": [
      "tensor([1.6427e-03, 7.1813e-02, 9.2493e-01, 5.1284e-04, 6.1912e-04, 4.8044e-04]) --> [FAILED]\n",
      "\n",
      "i feel that i need to know that i can depend on myself before i put myself in the position of supporting someone else and being supported by someone else\n",
      "--------------------------------------------- Result 150 ---------------------------------------------\n",
      "tensor([1.6427e-03, 7.1813e-02, 9.2493e-01, 5.1284e-04, 6.1912e-04, 4.8044e-04]) --> [[[FAILED]]]\n",
      "\n",
      "i feel that i need to know that i can depend on myself before i put myself in the position of supporting someone else and being supported by someone else\n",
      "\n",
      "\n"
     ]
    },
    {
     "name": "stderr",
     "output_type": "stream",
     "text": [
      "[Succeeded / Failed / Skipped / Total] 71 / 80 / 0 / 151:  60%|██████    | 151/250 [01:59<01:18,  1.26it/s]"
     ]
    },
    {
     "name": "stdout",
     "output_type": "stream",
     "text": [
      "tensor([0.0023, 0.0114, 0.8795, 0.0034, 0.0079, 0.0956]) --> tensor([9.9890e-01, 2.2329e-04, 1.5303e-04, 1.5887e-04, 3.9558e-04, 1.6817e-04])\n",
      "\n",
      "im feeling rather angsty and listless\n",
      "\n",
      "im feeling rather angstу and listless\n",
      "--------------------------------------------- Result 151 ---------------------------------------------\n",
      "tensor([0.0023, 0.0114, 0.8795, 0.0034, 0.0079, 0.0956]) --> tensor([9.9890e-01, 2.2329e-04, 1.5303e-04, 1.5887e-04, 3.9558e-04, 1.6817e-04])\n",
      "\n",
      "im feeling rather [[angsty]] and listless\n",
      "\n",
      "im feeling rather [[angstу]] and listless\n",
      "\n",
      "\n"
     ]
    },
    {
     "name": "stderr",
     "output_type": "stream",
     "text": [
      "[Succeeded / Failed / Skipped / Total] 72 / 80 / 0 / 152:  61%|██████    | 152/250 [02:00<01:17,  1.26it/s]"
     ]
    },
    {
     "name": "stdout",
     "output_type": "stream",
     "text": [
      "tensor([1.0102e-03, 1.6301e-03, 9.9529e-01, 6.7625e-04, 5.4757e-04, 8.4830e-04]) --> tensor([9.9894e-01, 2.1408e-04, 2.9809e-04, 2.1397e-04, 2.3303e-04, 1.0520e-04])\n",
      "\n",
      "i try my best to love on them shed some light but i feel deeply compassionate with their problems and hurt even if its someone in the media\n",
      "\n",
      "i try my best to love on them shed some light but i feel deeply compaѕsionate with their problems and hurt even if its someone in the media\n",
      "--------------------------------------------- Result 152 ---------------------------------------------\n",
      "tensor([1.0102e-03, 1.6301e-03, 9.9529e-01, 6.7625e-04, 5.4757e-04, 8.4830e-04]) --> tensor([9.9894e-01, 2.1408e-04, 2.9809e-04, 2.1397e-04, 2.3303e-04, 1.0520e-04])\n",
      "\n",
      "i try my best to love on them shed some light but i feel deeply [[compassionate]] with their problems and hurt even if its someone in the media\n",
      "\n",
      "i try my best to love on them shed some light but i feel deeply [[compaѕsionate]] with their problems and hurt even if its someone in the media\n",
      "\n",
      "\n"
     ]
    },
    {
     "name": "stderr",
     "output_type": "stream",
     "text": [
      "[Succeeded / Failed / Skipped / Total] 72 / 81 / 0 / 153:  61%|██████    | 153/250 [02:01<01:17,  1.26it/s]"
     ]
    },
    {
     "name": "stdout",
     "output_type": "stream",
     "text": [
      "tensor([0.0021, 0.0015, 0.0013, 0.0011, 0.6283, 0.3658]) --> [FAILED]\n",
      "\n",
      "i was so uncomfortable and feeling weird feelings but wasn t sure if they were contractions since i never really felt contractions with jared until they jacked me up with pitocin\n",
      "--------------------------------------------- Result 153 ---------------------------------------------\n",
      "tensor([0.0021, 0.0015, 0.0013, 0.0011, 0.6283, 0.3658]) --> [[[FAILED]]]\n",
      "\n",
      "i was so uncomfortable and feeling weird feelings but wasn t sure if they were contractions since i never really felt contractions with jared until they jacked me up with pitocin\n",
      "\n",
      "\n"
     ]
    },
    {
     "name": "stderr",
     "output_type": "stream",
     "text": [
      "[Succeeded / Failed / Skipped / Total] 73 / 81 / 0 / 154:  62%|██████▏   | 154/250 [02:02<01:16,  1.26it/s]"
     ]
    },
    {
     "name": "stdout",
     "output_type": "stream",
     "text": [
      "tensor([9.9912e-01, 1.8300e-04, 1.6260e-04, 2.3453e-04, 1.8971e-04, 1.1411e-04]) --> tensor([9.9912e-01, 1.8700e-04, 1.5728e-04, 2.2608e-04, 1.9437e-04, 1.1181e-04])\n",
      "\n",
      "i feel gloomy and tired\n",
      "\n",
      "і feel gloomy and tired\n",
      "--------------------------------------------- Result 154 ---------------------------------------------\n",
      "tensor([9.9912e-01, 1.8300e-04, 1.6260e-04, 2.3453e-04, 1.8971e-04, 1.1411e-04]) --> tensor([9.9912e-01, 1.8700e-04, 1.5728e-04, 2.2608e-04, 1.9437e-04, 1.1181e-04])\n",
      "\n",
      "[[i]] feel gloomy and tired\n",
      "\n",
      "[[і]] feel gloomy and tired\n",
      "\n",
      "\n"
     ]
    },
    {
     "name": "stderr",
     "output_type": "stream",
     "text": [
      "[Succeeded / Failed / Skipped / Total] 73 / 82 / 0 / 155:  62%|██████▏   | 155/250 [02:03<01:15,  1.26it/s]"
     ]
    },
    {
     "name": "stdout",
     "output_type": "stream",
     "text": [
      "tensor([1.3970e-04, 9.9858e-01, 9.3331e-04, 8.7704e-05, 8.9541e-05, 1.7150e-04]) --> [FAILED]\n",
      "\n",
      "i really like this person feel that the question was really asked out of a sincere place of love and concern about how to move forward in light of what the sexuality study recently a href http www\n",
      "--------------------------------------------- Result 155 ---------------------------------------------\n",
      "tensor([1.3970e-04, 9.9858e-01, 9.3331e-04, 8.7704e-05, 8.9541e-05, 1.7150e-04]) --> [[[FAILED]]]\n",
      "\n",
      "i really like this person feel that the question was really asked out of a sincere place of love and concern about how to move forward in light of what the sexuality study recently a href http www\n",
      "\n",
      "\n"
     ]
    },
    {
     "name": "stderr",
     "output_type": "stream",
     "text": [
      "[Succeeded / Failed / Skipped / Total] 74 / 82 / 0 / 156:  62%|██████▏   | 156/250 [02:03<01:14,  1.26it/s]"
     ]
    },
    {
     "name": "stdout",
     "output_type": "stream",
     "text": [
      "tensor([9.9807e-01, 2.2438e-04, 2.4065e-04, 1.7645e-04, 8.9169e-04, 3.9304e-04]) --> tensor([9.9874e-01, 2.1106e-04, 1.7218e-04, 1.6322e-04, 4.7088e-04, 2.4020e-04])\n",
      "\n",
      "i would force myself to eat my normal routine clean meals a day but then i just started feeling so awful\n",
      "\n",
      "i would force myself to eat my normal routine clean meals a day but then i just started feeling ѕo awful\n",
      "--------------------------------------------- Result 156 ---------------------------------------------\n",
      "tensor([9.9807e-01, 2.2438e-04, 2.4065e-04, 1.7645e-04, 8.9169e-04, 3.9304e-04]) --> tensor([9.9874e-01, 2.1106e-04, 1.7218e-04, 1.6322e-04, 4.7088e-04, 2.4020e-04])\n",
      "\n",
      "i would force myself to eat my normal routine clean meals a day but then i just started feeling [[so]] awful\n",
      "\n",
      "i would force myself to eat my normal routine clean meals a day but then i just started feeling [[ѕo]] awful\n",
      "\n",
      "\n"
     ]
    },
    {
     "name": "stderr",
     "output_type": "stream",
     "text": [
      "[Succeeded / Failed / Skipped / Total] 74 / 83 / 0 / 157:  63%|██████▎   | 157/250 [02:05<01:14,  1.25it/s]"
     ]
    },
    {
     "name": "stdout",
     "output_type": "stream",
     "text": [
      "tensor([2.6182e-04, 9.9864e-01, 2.9741e-04, 1.5013e-04, 1.9812e-04, 4.4826e-04]) --> [FAILED]\n",
      "\n",
      "i feel rather privileged to have witnessed the great man in action it really was impossible for a novice like me to work out just which one of the four identical looking riders was he\n",
      "--------------------------------------------- Result 157 ---------------------------------------------\n",
      "tensor([2.6182e-04, 9.9864e-01, 2.9741e-04, 1.5013e-04, 1.9812e-04, 4.4826e-04]) --> [[[FAILED]]]\n",
      "\n",
      "i feel rather privileged to have witnessed the great man in action it really was impossible for a novice like me to work out just which one of the four identical looking riders was he\n",
      "\n",
      "\n"
     ]
    },
    {
     "name": "stderr",
     "output_type": "stream",
     "text": [
      "[Succeeded / Failed / Skipped / Total] 74 / 84 / 0 / 158:  63%|██████▎   | 158/250 [02:05<01:13,  1.26it/s]"
     ]
    },
    {
     "name": "stdout",
     "output_type": "stream",
     "text": [
      "tensor([1.6912e-04, 9.9888e-01, 3.6654e-04, 9.6176e-05, 1.1366e-04, 3.7592e-04]) --> [FAILED]\n",
      "\n",
      "i feel like im at the spa getting a wonderful facial when i use them\n",
      "--------------------------------------------- Result 158 ---------------------------------------------\n",
      "tensor([1.6912e-04, 9.9888e-01, 3.6654e-04, 9.6176e-05, 1.1366e-04, 3.7592e-04]) --> [[[FAILED]]]\n",
      "\n",
      "i feel like im at the spa getting a wonderful facial when i use them\n",
      "\n",
      "\n"
     ]
    },
    {
     "name": "stderr",
     "output_type": "stream",
     "text": [
      "[Succeeded / Failed / Skipped / Total] 74 / 85 / 0 / 159:  64%|██████▎   | 159/250 [02:06<01:12,  1.26it/s]"
     ]
    },
    {
     "name": "stdout",
     "output_type": "stream",
     "text": [
      "tensor([6.7270e-04, 2.7906e-04, 1.8838e-04, 9.9803e-01, 6.6494e-04, 1.6735e-04]) --> [FAILED]\n",
      "\n",
      "i feel petty all of a sudden\n",
      "--------------------------------------------- Result 159 ---------------------------------------------\n",
      "tensor([6.7270e-04, 2.7906e-04, 1.8838e-04, 9.9803e-01, 6.6494e-04, 1.6735e-04]) --> [[[FAILED]]]\n",
      "\n",
      "i feel petty all of a sudden\n",
      "\n",
      "\n"
     ]
    },
    {
     "name": "stderr",
     "output_type": "stream",
     "text": [
      "[Succeeded / Failed / Skipped / Total] 75 / 85 / 0 / 160:  64%|██████▍   | 160/250 [02:06<01:11,  1.26it/s]"
     ]
    },
    {
     "name": "stdout",
     "output_type": "stream",
     "text": [
      "tensor([9.9905e-01, 2.2103e-04, 1.5113e-04, 2.6674e-04, 2.0862e-04, 1.0727e-04]) --> tensor([9.9912e-01, 2.2775e-04, 1.4546e-04, 1.9884e-04, 2.1228e-04, 9.9011e-05])\n",
      "\n",
      "i hope you like this more honest amp raw blog post amp if you are feeling unhappy i hope this makes you feel less alone\n",
      "\n",
      "i hope you like this more honest amp raw blog post amp if you are fеeling unhappy i hope this makes you feel less alone\n",
      "--------------------------------------------- Result 160 ---------------------------------------------\n",
      "tensor([9.9905e-01, 2.2103e-04, 1.5113e-04, 2.6674e-04, 2.0862e-04, 1.0727e-04]) --> tensor([9.9912e-01, 2.2775e-04, 1.4546e-04, 1.9884e-04, 2.1228e-04, 9.9011e-05])\n",
      "\n",
      "i hope you like this more honest amp raw blog post amp if you are [[feeling]] unhappy i hope this makes you feel less alone\n",
      "\n",
      "i hope you like this more honest amp raw blog post amp if you are [[fеeling]] unhappy i hope this makes you feel less alone\n",
      "\n",
      "\n"
     ]
    },
    {
     "name": "stderr",
     "output_type": "stream",
     "text": [
      "[Succeeded / Failed / Skipped / Total] 75 / 86 / 0 / 161:  64%|██████▍   | 161/250 [02:06<01:10,  1.27it/s]"
     ]
    },
    {
     "name": "stdout",
     "output_type": "stream",
     "text": [
      "tensor([4.1877e-04, 2.1530e-04, 3.0784e-04, 9.9788e-01, 9.4945e-04, 2.2976e-04]) --> [FAILED]\n",
      "\n",
      "i feel slightly disgusted as well\n",
      "--------------------------------------------- Result 161 ---------------------------------------------\n",
      "tensor([4.1877e-04, 2.1530e-04, 3.0784e-04, 9.9788e-01, 9.4945e-04, 2.2976e-04]) --> [[[FAILED]]]\n",
      "\n",
      "i feel slightly disgusted as well\n",
      "\n",
      "\n"
     ]
    },
    {
     "name": "stderr",
     "output_type": "stream",
     "text": [
      "[Succeeded / Failed / Skipped / Total] 75 / 87 / 0 / 162:  65%|██████▍   | 162/250 [02:08<01:09,  1.26it/s]"
     ]
    },
    {
     "name": "stdout",
     "output_type": "stream",
     "text": [
      "tensor([6.8057e-04, 5.3274e-04, 1.8560e-03, 9.9540e-01, 1.1039e-03, 4.2972e-04]) --> [FAILED]\n",
      "\n",
      "i was quite surprised with the weather these past few days but im so thankful for that since i still can wear my shorts out without feeling that cold yes no kidding\n",
      "--------------------------------------------- Result 162 ---------------------------------------------\n",
      "tensor([6.8057e-04, 5.3274e-04, 1.8560e-03, 9.9540e-01, 1.1039e-03, 4.2972e-04]) --> [[[FAILED]]]\n",
      "\n",
      "i was quite surprised with the weather these past few days but im so thankful for that since i still can wear my shorts out without feeling that cold yes no kidding\n",
      "\n",
      "\n"
     ]
    },
    {
     "name": "stderr",
     "output_type": "stream",
     "text": [
      "[Succeeded / Failed / Skipped / Total] 75 / 88 / 0 / 163:  65%|██████▌   | 163/250 [02:08<01:08,  1.27it/s]"
     ]
    },
    {
     "name": "stdout",
     "output_type": "stream",
     "text": [
      "tensor([3.2153e-04, 9.9878e-01, 2.8399e-04, 1.4994e-04, 2.5341e-04, 2.1501e-04]) --> [FAILED]\n",
      "\n",
      "i feel slightly relaxed being a\n",
      "--------------------------------------------- Result 163 ---------------------------------------------\n",
      "tensor([3.2153e-04, 9.9878e-01, 2.8399e-04, 1.4994e-04, 2.5341e-04, 2.1501e-04]) --> [[[FAILED]]]\n",
      "\n",
      "i feel slightly relaxed being a\n",
      "\n",
      "\n"
     ]
    },
    {
     "name": "stderr",
     "output_type": "stream",
     "text": [
      "[Succeeded / Failed / Skipped / Total] 76 / 88 / 0 / 164:  66%|██████▌   | 164/250 [02:09<01:07,  1.27it/s]"
     ]
    },
    {
     "name": "stdout",
     "output_type": "stream",
     "text": [
      "tensor([5.0146e-04, 2.6635e-04, 2.7083e-04, 5.1240e-04, 9.9718e-01, 1.2661e-03]) --> tensor([7.4850e-01, 1.7165e-03, 6.3446e-04, 5.3421e-03, 2.4187e-01, 1.9340e-03])\n",
      "\n",
      "i feel shy to admit that i was struggling to haul a single computer up\n",
      "\n",
      "i feel sһy to admit that i was struggling to haul a single computer up\n",
      "--------------------------------------------- Result 164 ---------------------------------------------\n",
      "tensor([5.0146e-04, 2.6635e-04, 2.7083e-04, 5.1240e-04, 9.9718e-01, 1.2661e-03]) --> tensor([7.4850e-01, 1.7165e-03, 6.3446e-04, 5.3421e-03, 2.4187e-01, 1.9340e-03])\n",
      "\n",
      "i feel [[shy]] to admit that i was struggling to haul a single computer up\n",
      "\n",
      "i feel [[sһy]] to admit that i was struggling to haul a single computer up\n",
      "\n",
      "\n"
     ]
    },
    {
     "name": "stderr",
     "output_type": "stream",
     "text": [
      "[Succeeded / Failed / Skipped / Total] 76 / 89 / 0 / 165:  66%|██████▌   | 165/250 [02:09<01:06,  1.27it/s]"
     ]
    },
    {
     "name": "stdout",
     "output_type": "stream",
     "text": [
      "tensor([4.0158e-04, 4.6357e-04, 3.3891e-04, 2.4571e-03, 9.8187e-01, 1.4466e-02]) --> [FAILED]\n",
      "\n",
      "i just went about my script of would you like mustard or sauce with that and started to feel really startled\n",
      "--------------------------------------------- Result 165 ---------------------------------------------\n",
      "tensor([4.0158e-04, 4.6357e-04, 3.3891e-04, 2.4571e-03, 9.8187e-01, 1.4466e-02]) --> [[[FAILED]]]\n",
      "\n",
      "i just went about my script of would you like mustard or sauce with that and started to feel really startled\n",
      "\n",
      "\n"
     ]
    },
    {
     "name": "stderr",
     "output_type": "stream",
     "text": [
      "[Succeeded / Failed / Skipped / Total] 76 / 90 / 0 / 166:  66%|██████▋   | 166/250 [02:10<01:05,  1.27it/s]"
     ]
    },
    {
     "name": "stdout",
     "output_type": "stream",
     "text": [
      "tensor([1.4712e-04, 9.9904e-01, 4.2435e-04, 9.9514e-05, 1.1117e-04, 1.7909e-04]) --> [FAILED]\n",
      "\n",
      "i enjoy my colleagues i m not feeling very sociable today\n",
      "--------------------------------------------- Result 166 ---------------------------------------------\n",
      "tensor([1.4712e-04, 9.9904e-01, 4.2435e-04, 9.9514e-05, 1.1117e-04, 1.7909e-04]) --> [[[FAILED]]]\n",
      "\n",
      "i enjoy my colleagues i m not feeling very sociable today\n",
      "\n",
      "\n"
     ]
    },
    {
     "name": "stderr",
     "output_type": "stream",
     "text": [
      "[Succeeded / Failed / Skipped / Total] 76 / 91 / 0 / 167:  67%|██████▋   | 167/250 [02:10<01:05,  1.28it/s]"
     ]
    },
    {
     "name": "stdout",
     "output_type": "stream",
     "text": [
      "tensor([9.5732e-04, 1.3123e-03, 9.9426e-01, 5.5096e-04, 8.8099e-04, 2.0412e-03]) --> [FAILED]\n",
      "\n",
      "im feeling and if ive liked being pregnant\n",
      "--------------------------------------------- Result 167 ---------------------------------------------\n",
      "tensor([9.5732e-04, 1.3123e-03, 9.9426e-01, 5.5096e-04, 8.8099e-04, 2.0412e-03]) --> [[[FAILED]]]\n",
      "\n",
      "im feeling and if ive liked being pregnant\n",
      "\n",
      "\n"
     ]
    },
    {
     "name": "stderr",
     "output_type": "stream",
     "text": [
      "[Succeeded / Failed / Skipped / Total] 76 / 92 / 0 / 168:  67%|██████▋   | 168/250 [02:11<01:04,  1.28it/s]"
     ]
    },
    {
     "name": "stdout",
     "output_type": "stream",
     "text": [
      "tensor([9.3642e-04, 1.6975e-03, 9.9474e-01, 4.6159e-04, 8.2770e-04, 1.3393e-03]) --> [FAILED]\n",
      "\n",
      "i then feel your tender touch as you enfold me with his love\n",
      "--------------------------------------------- Result 168 ---------------------------------------------\n",
      "tensor([9.3642e-04, 1.6975e-03, 9.9474e-01, 4.6159e-04, 8.2770e-04, 1.3393e-03]) --> [[[FAILED]]]\n",
      "\n",
      "i then feel your tender touch as you enfold me with his love\n",
      "\n",
      "\n"
     ]
    },
    {
     "name": "stderr",
     "output_type": "stream",
     "text": [
      "[Succeeded / Failed / Skipped / Total] 77 / 92 / 0 / 169:  68%|██████▊   | 169/250 [02:12<01:03,  1.27it/s]"
     ]
    },
    {
     "name": "stdout",
     "output_type": "stream",
     "text": [
      "tensor([7.1729e-04, 3.4309e-03, 9.9313e-01, 1.4317e-03, 4.6078e-04, 8.2675e-04]) --> tensor([0.9519, 0.0195, 0.0186, 0.0023, 0.0067, 0.0010])\n",
      "\n",
      "i lost a few people which i hate because i have a really hard time letting go of people to whom i feel loyal\n",
      "\n",
      "i lost a few people which i hate because i have a really hard time letting go of people to whom i feel lοyal\n",
      "--------------------------------------------- Result 169 ---------------------------------------------\n",
      "tensor([7.1729e-04, 3.4309e-03, 9.9313e-01, 1.4317e-03, 4.6078e-04, 8.2675e-04]) --> tensor([0.9519, 0.0195, 0.0186, 0.0023, 0.0067, 0.0010])\n",
      "\n",
      "i lost a few people which i hate because i have a really hard time letting go of people to whom i feel [[loyal]]\n",
      "\n",
      "i lost a few people which i hate because i have a really hard time letting go of people to whom i feel [[lοyal]]\n",
      "\n",
      "\n"
     ]
    },
    {
     "name": "stderr",
     "output_type": "stream",
     "text": [
      "[Succeeded / Failed / Skipped / Total] 78 / 92 / 0 / 170:  68%|██████▊   | 170/250 [02:13<01:02,  1.27it/s]"
     ]
    },
    {
     "name": "stdout",
     "output_type": "stream",
     "text": [
      "tensor([9.9897e-01, 2.1424e-04, 2.0015e-04, 1.8012e-04, 2.7907e-04, 1.5347e-04]) --> tensor([9.9898e-01, 2.1404e-04, 1.9849e-04, 1.7946e-04, 2.7304e-04, 1.5166e-04])\n",
      "\n",
      "i have had no interest at all to make any effort to meet men and when the chance arrises i then feel burdened with negative thoughts of he ll just be another idiot only after one thing\n",
      "\n",
      "і have had no interest at all to make any effort to meet men and when the chance arrises i then feel burdened with negative thoughts of he ll just be another idiot only after one thing\n",
      "--------------------------------------------- Result 170 ---------------------------------------------\n",
      "tensor([9.9897e-01, 2.1424e-04, 2.0015e-04, 1.8012e-04, 2.7907e-04, 1.5347e-04]) --> tensor([9.9898e-01, 2.1404e-04, 1.9849e-04, 1.7946e-04, 2.7304e-04, 1.5166e-04])\n",
      "\n",
      "[[i]] have had no interest at all to make any effort to meet men and when the chance arrises i then feel burdened with negative thoughts of he ll just be another idiot only after one thing\n",
      "\n",
      "[[і]] have had no interest at all to make any effort to meet men and when the chance arrises i then feel burdened with negative thoughts of he ll just be another idiot only after one thing\n",
      "\n",
      "\n"
     ]
    },
    {
     "name": "stderr",
     "output_type": "stream",
     "text": [
      "[Succeeded / Failed / Skipped / Total] 78 / 93 / 0 / 171:  68%|██████▊   | 171/250 [02:13<01:01,  1.28it/s]"
     ]
    },
    {
     "name": "stdout",
     "output_type": "stream",
     "text": [
      "tensor([7.3669e-04, 2.2755e-03, 9.9538e-01, 4.3262e-04, 5.4364e-04, 6.3516e-04]) --> [FAILED]\n",
      "\n",
      "i feel i m being nutritionally supportive of it as well\n",
      "--------------------------------------------- Result 171 ---------------------------------------------\n",
      "tensor([7.3669e-04, 2.2755e-03, 9.9538e-01, 4.3262e-04, 5.4364e-04, 6.3516e-04]) --> [[[FAILED]]]\n",
      "\n",
      "i feel i m being nutritionally supportive of it as well\n",
      "\n",
      "\n"
     ]
    },
    {
     "name": "stderr",
     "output_type": "stream",
     "text": [
      "[Succeeded / Failed / Skipped / Total] 78 / 94 / 0 / 172:  69%|██████▉   | 172/250 [02:14<01:01,  1.28it/s]"
     ]
    },
    {
     "name": "stdout",
     "output_type": "stream",
     "text": [
      "tensor([3.9629e-04, 2.2508e-04, 1.9925e-04, 9.9628e-01, 2.7153e-03, 1.8237e-04]) --> [FAILED]\n",
      "\n",
      "i feel impatient i just post a blog entry and i feel ive gotten some words written and out into the world\n",
      "--------------------------------------------- Result 172 ---------------------------------------------\n",
      "tensor([3.9629e-04, 2.2508e-04, 1.9925e-04, 9.9628e-01, 2.7153e-03, 1.8237e-04]) --> [[[FAILED]]]\n",
      "\n",
      "i feel impatient i just post a blog entry and i feel ive gotten some words written and out into the world\n",
      "\n",
      "\n"
     ]
    },
    {
     "name": "stderr",
     "output_type": "stream",
     "text": [
      "[Succeeded / Failed / Skipped / Total] 78 / 95 / 0 / 173:  69%|██████▉   | 173/250 [02:15<01:00,  1.27it/s]"
     ]
    },
    {
     "name": "stdout",
     "output_type": "stream",
     "text": [
      "tensor([2.5976e-04, 9.9897e-01, 2.7727e-04, 1.4920e-04, 1.3768e-04, 2.0272e-04]) --> [FAILED]\n",
      "\n",
      "i am trying my hardest so i can get to a place where i can join you and finally feel like i have something worthwhile to say\n",
      "--------------------------------------------- Result 173 ---------------------------------------------\n",
      "tensor([2.5976e-04, 9.9897e-01, 2.7727e-04, 1.4920e-04, 1.3768e-04, 2.0272e-04]) --> [[[FAILED]]]\n",
      "\n",
      "i am trying my hardest so i can get to a place where i can join you and finally feel like i have something worthwhile to say\n",
      "\n",
      "\n"
     ]
    },
    {
     "name": "stderr",
     "output_type": "stream",
     "text": [
      "[Succeeded / Failed / Skipped / Total] 78 / 96 / 0 / 174:  70%|██████▉   | 174/250 [02:17<00:59,  1.27it/s]"
     ]
    },
    {
     "name": "stdout",
     "output_type": "stream",
     "text": [
      "tensor([2.9377e-04, 9.9701e-01, 5.9756e-04, 2.9052e-04, 2.0980e-04, 1.5973e-03]) --> [FAILED]\n",
      "\n",
      "i have to admit i feel amused when i see the pti jamiat and a whole lot of others in the media try to avoid the suggestion that they are actually protesting the use of sharia in the case of raymond davis s release\n",
      "--------------------------------------------- Result 174 ---------------------------------------------\n",
      "tensor([2.9377e-04, 9.9701e-01, 5.9756e-04, 2.9052e-04, 2.0980e-04, 1.5973e-03]) --> [[[FAILED]]]\n",
      "\n",
      "i have to admit i feel amused when i see the pti jamiat and a whole lot of others in the media try to avoid the suggestion that they are actually protesting the use of sharia in the case of raymond davis s release\n",
      "\n",
      "\n"
     ]
    },
    {
     "name": "stderr",
     "output_type": "stream",
     "text": [
      "[Succeeded / Failed / Skipped / Total] 79 / 96 / 0 / 175:  70%|███████   | 175/250 [02:17<00:58,  1.27it/s]"
     ]
    },
    {
     "name": "stdout",
     "output_type": "stream",
     "text": [
      "tensor([9.9890e-01, 2.0888e-04, 1.8656e-04, 2.2124e-04, 2.9008e-04, 1.9745e-04]) --> tensor([9.9898e-01, 1.8478e-04, 1.7430e-04, 2.4312e-04, 2.4864e-04, 1.6986e-04])\n",
      "\n",
      "i feel embarrassed that it got so bad\n",
      "\n",
      "i feel embarrassed that it got so bаd\n",
      "--------------------------------------------- Result 175 ---------------------------------------------\n",
      "tensor([9.9890e-01, 2.0888e-04, 1.8656e-04, 2.2124e-04, 2.9008e-04, 1.9745e-04]) --> tensor([9.9898e-01, 1.8478e-04, 1.7430e-04, 2.4312e-04, 2.4864e-04, 1.6986e-04])\n",
      "\n",
      "i feel embarrassed that it got so [[bad]]\n",
      "\n",
      "i feel embarrassed that it got so [[bаd]]\n",
      "\n",
      "\n"
     ]
    },
    {
     "name": "stderr",
     "output_type": "stream",
     "text": [
      "[Succeeded / Failed / Skipped / Total] 79 / 97 / 0 / 176:  70%|███████   | 176/250 [02:17<00:57,  1.28it/s]"
     ]
    },
    {
     "name": "stdout",
     "output_type": "stream",
     "text": [
      "tensor([6.7058e-04, 2.6247e-04, 4.1452e-04, 9.9792e-01, 5.3900e-04, 1.9418e-04]) --> [FAILED]\n",
      "\n",
      "im feeling really bitter about this one\n",
      "--------------------------------------------- Result 176 ---------------------------------------------\n",
      "tensor([6.7058e-04, 2.6247e-04, 4.1452e-04, 9.9792e-01, 5.3900e-04, 1.9418e-04]) --> [[[FAILED]]]\n",
      "\n",
      "im feeling really bitter about this one\n",
      "\n",
      "\n"
     ]
    },
    {
     "name": "stderr",
     "output_type": "stream",
     "text": [
      "[Succeeded / Failed / Skipped / Total] 79 / 98 / 0 / 177:  71%|███████   | 177/250 [02:18<00:57,  1.28it/s]"
     ]
    },
    {
     "name": "stdout",
     "output_type": "stream",
     "text": [
      "tensor([1.4752e-04, 9.9907e-01, 3.8373e-04, 9.3555e-05, 1.4882e-04, 1.5337e-04]) --> [FAILED]\n",
      "\n",
      "i feel brave today heading to amman and beirut by way of istanbul or i feel brave today a href http jessicadickinsongoodman\n",
      "--------------------------------------------- Result 177 ---------------------------------------------\n",
      "tensor([1.4752e-04, 9.9907e-01, 3.8373e-04, 9.3555e-05, 1.4882e-04, 1.5337e-04]) --> [[[FAILED]]]\n",
      "\n",
      "i feel brave today heading to amman and beirut by way of istanbul or i feel brave today a href http jessicadickinsongoodman\n",
      "\n",
      "\n"
     ]
    },
    {
     "name": "stderr",
     "output_type": "stream",
     "text": [
      "[Succeeded / Failed / Skipped / Total] 79 / 99 / 0 / 178:  71%|███████   | 178/250 [02:19<00:56,  1.27it/s]"
     ]
    },
    {
     "name": "stdout",
     "output_type": "stream",
     "text": [
      "tensor([2.2968e-04, 9.9893e-01, 3.2677e-04, 1.4069e-04, 2.1276e-04, 1.6208e-04]) --> [FAILED]\n",
      "\n",
      "i had a fab christmas and an amazing new year with my family and friends and against all odds i feel very optimistic about\n",
      "--------------------------------------------- Result 178 ---------------------------------------------\n",
      "tensor([2.2968e-04, 9.9893e-01, 3.2677e-04, 1.4069e-04, 2.1276e-04, 1.6208e-04]) --> [[[FAILED]]]\n",
      "\n",
      "i had a fab christmas and an amazing new year with my family and friends and against all odds i feel very optimistic about\n",
      "\n",
      "\n"
     ]
    },
    {
     "name": "stderr",
     "output_type": "stream",
     "text": [
      "[Succeeded / Failed / Skipped / Total] 80 / 99 / 0 / 179:  72%|███████▏  | 179/250 [02:20<00:55,  1.28it/s]"
     ]
    },
    {
     "name": "stdout",
     "output_type": "stream",
     "text": [
      "tensor([9.9896e-01, 3.2734e-04, 2.0736e-04, 2.1753e-04, 1.5484e-04, 1.3361e-04]) --> tensor([9.9899e-01, 3.0848e-04, 2.0386e-04, 2.1558e-04, 1.5271e-04, 1.2970e-04])\n",
      "\n",
      "i feel like a loser everyone says they lost but i dont i know exactly where i am i just hate being here oh\n",
      "\n",
      "i feel like a loser everyone says they lost but i dont i know exactly where i am i just hate being herе oh\n",
      "--------------------------------------------- Result 179 ---------------------------------------------\n",
      "tensor([9.9896e-01, 3.2734e-04, 2.0736e-04, 2.1753e-04, 1.5484e-04, 1.3361e-04]) --> tensor([9.9899e-01, 3.0848e-04, 2.0386e-04, 2.1558e-04, 1.5271e-04, 1.2970e-04])\n",
      "\n",
      "i feel like a loser everyone says they lost but i dont i know exactly where i am i just hate being [[here]] oh\n",
      "\n",
      "i feel like a loser everyone says they lost but i dont i know exactly where i am i just hate being [[herе]] oh\n",
      "\n",
      "\n"
     ]
    },
    {
     "name": "stderr",
     "output_type": "stream",
     "text": [
      "[Succeeded / Failed / Skipped / Total] 81 / 99 / 0 / 180:  72%|███████▏  | 180/250 [02:20<00:54,  1.28it/s]"
     ]
    },
    {
     "name": "stdout",
     "output_type": "stream",
     "text": [
      "tensor([9.9874e-01, 4.1744e-04, 1.8127e-04, 3.7608e-04, 1.7159e-04, 1.1541e-04]) --> tensor([9.9898e-01, 2.6560e-04, 1.5263e-04, 3.3296e-04, 1.6895e-04, 1.0342e-04])\n",
      "\n",
      "i feel defeated but others i feel refreshed\n",
      "\n",
      "i feel defeated but others i feel rеfreshed\n",
      "--------------------------------------------- Result 180 ---------------------------------------------\n",
      "tensor([9.9874e-01, 4.1744e-04, 1.8127e-04, 3.7608e-04, 1.7159e-04, 1.1541e-04]) --> tensor([9.9898e-01, 2.6560e-04, 1.5263e-04, 3.3296e-04, 1.6895e-04, 1.0342e-04])\n",
      "\n",
      "i feel defeated but others i feel [[refreshed]]\n",
      "\n",
      "i feel defeated but others i feel [[rеfreshed]]\n",
      "\n",
      "\n"
     ]
    },
    {
     "name": "stderr",
     "output_type": "stream",
     "text": [
      "[Succeeded / Failed / Skipped / Total] 81 / 100 / 0 / 181:  72%|███████▏  | 181/250 [02:21<00:54,  1.27it/s]"
     ]
    },
    {
     "name": "stdout",
     "output_type": "stream",
     "text": [
      "tensor([8.9834e-04, 3.8962e-04, 2.4225e-04, 6.0566e-04, 9.9727e-01, 5.9776e-04]) --> [FAILED]\n",
      "\n",
      "i was feeling particularly vulnerable in a specific area so i began to talking to my friends and interestingly enough there was an incredible understanding of my struggle\n",
      "--------------------------------------------- Result 181 ---------------------------------------------\n",
      "tensor([8.9834e-04, 3.8962e-04, 2.4225e-04, 6.0566e-04, 9.9727e-01, 5.9776e-04]) --> [[[FAILED]]]\n",
      "\n",
      "i was feeling particularly vulnerable in a specific area so i began to talking to my friends and interestingly enough there was an incredible understanding of my struggle\n",
      "\n",
      "\n"
     ]
    },
    {
     "name": "stderr",
     "output_type": "stream",
     "text": [
      "[Succeeded / Failed / Skipped / Total] 81 / 101 / 0 / 182:  73%|███████▎  | 182/250 [02:22<00:53,  1.27it/s]"
     ]
    },
    {
     "name": "stdout",
     "output_type": "stream",
     "text": [
      "tensor([1.8836e-04, 9.9880e-01, 3.7919e-04, 9.6355e-05, 1.1710e-04, 4.2393e-04]) --> [FAILED]\n",
      "\n",
      "i go onto the officer down memorial page and reflect on my feelings about that wonderful officer which seems to make me feel a little better\n",
      "--------------------------------------------- Result 182 ---------------------------------------------\n",
      "tensor([1.8836e-04, 9.9880e-01, 3.7919e-04, 9.6355e-05, 1.1710e-04, 4.2393e-04]) --> [[[FAILED]]]\n",
      "\n",
      "i go onto the officer down memorial page and reflect on my feelings about that wonderful officer which seems to make me feel a little better\n",
      "\n",
      "\n"
     ]
    },
    {
     "name": "stderr",
     "output_type": "stream",
     "text": [
      "[Succeeded / Failed / Skipped / Total] 82 / 101 / 0 / 183:  73%|███████▎  | 183/250 [02:23<00:52,  1.28it/s]"
     ]
    },
    {
     "name": "stdout",
     "output_type": "stream",
     "text": [
      "tensor([9.9875e-01, 1.5995e-04, 1.1853e-04, 5.0073e-04, 3.6056e-04, 1.1037e-04]) --> tensor([9.9901e-01, 1.6068e-04, 1.2475e-04, 3.3009e-04, 2.6382e-04, 1.1212e-04])\n",
      "\n",
      "im with a group of people i still feel isolated and on the outside looking in\n",
      "\n",
      "im with a group οf people i still feel isolated and on the outside looking in\n",
      "--------------------------------------------- Result 183 ---------------------------------------------\n",
      "tensor([9.9875e-01, 1.5995e-04, 1.1853e-04, 5.0073e-04, 3.6056e-04, 1.1037e-04]) --> tensor([9.9901e-01, 1.6068e-04, 1.2475e-04, 3.3009e-04, 2.6382e-04, 1.1212e-04])\n",
      "\n",
      "im with a group [[of]] people i still feel isolated and on the outside looking in\n",
      "\n",
      "im with a group [[οf]] people i still feel isolated and on the outside looking in\n",
      "\n",
      "\n"
     ]
    },
    {
     "name": "stderr",
     "output_type": "stream",
     "text": [
      "[Succeeded / Failed / Skipped / Total] 82 / 102 / 0 / 184:  74%|███████▎  | 184/250 [02:23<00:51,  1.28it/s]"
     ]
    },
    {
     "name": "stdout",
     "output_type": "stream",
     "text": [
      "tensor([0.0016, 0.5299, 0.4658, 0.0008, 0.0007, 0.0012]) --> [FAILED]\n",
      "\n",
      "i feel blessed to know this family\n",
      "--------------------------------------------- Result 184 ---------------------------------------------\n",
      "tensor([0.0016, 0.5299, 0.4658, 0.0008, 0.0007, 0.0012]) --> [[[FAILED]]]\n",
      "\n",
      "i feel blessed to know this family\n",
      "\n",
      "\n"
     ]
    },
    {
     "name": "stderr",
     "output_type": "stream",
     "text": [
      "[Succeeded / Failed / Skipped / Total] 83 / 102 / 0 / 185:  74%|███████▍  | 185/250 [02:24<00:50,  1.28it/s]"
     ]
    },
    {
     "name": "stdout",
     "output_type": "stream",
     "text": [
      "tensor([3.5947e-04, 2.7966e-04, 1.9122e-04, 5.9581e-04, 9.9749e-01, 1.0797e-03]) --> tensor([9.7134e-01, 1.5716e-02, 6.9661e-04, 9.1507e-03, 2.8065e-03, 2.9387e-04])\n",
      "\n",
      "i feel terrified because my landlord has not changed our locks yet\n",
      "\n",
      "i feel terrifieԁ because my landlord has not changed our locks yet\n",
      "--------------------------------------------- Result 185 ---------------------------------------------\n",
      "tensor([3.5947e-04, 2.7966e-04, 1.9122e-04, 5.9581e-04, 9.9749e-01, 1.0797e-03]) --> tensor([9.7134e-01, 1.5716e-02, 6.9661e-04, 9.1507e-03, 2.8065e-03, 2.9387e-04])\n",
      "\n",
      "i feel [[terrified]] because my landlord has not changed our locks yet\n",
      "\n",
      "i feel [[terrifieԁ]] because my landlord has not changed our locks yet\n",
      "\n",
      "\n"
     ]
    },
    {
     "name": "stderr",
     "output_type": "stream",
     "text": [
      "[Succeeded / Failed / Skipped / Total] 84 / 102 / 0 / 186:  74%|███████▍  | 186/250 [02:25<00:49,  1.28it/s]"
     ]
    },
    {
     "name": "stdout",
     "output_type": "stream",
     "text": [
      "tensor([9.9864e-01, 3.1738e-04, 2.1464e-04, 4.6603e-04, 1.6278e-04, 1.9464e-04]) --> tensor([9.9874e-01, 3.2137e-04, 2.0958e-04, 3.9133e-04, 1.6004e-04, 1.8212e-04])\n",
      "\n",
      "i am loosing out but i feel like i have have so much to share with many and if anything that is not unfortunate if anything it makes me grateful\n",
      "\n",
      "i am looѕing out but i feel like i have have so much to share with many and if anything that is not unfortunate if anything it makes me grateful\n",
      "--------------------------------------------- Result 186 ---------------------------------------------\n",
      "tensor([9.9864e-01, 3.1738e-04, 2.1464e-04, 4.6603e-04, 1.6278e-04, 1.9464e-04]) --> tensor([9.9874e-01, 3.2137e-04, 2.0958e-04, 3.9133e-04, 1.6004e-04, 1.8212e-04])\n",
      "\n",
      "i am [[loosing]] out but i feel like i have have so much to share with many and if anything that is not unfortunate if anything it makes me grateful\n",
      "\n",
      "i am [[looѕing]] out but i feel like i have have so much to share with many and if anything that is not unfortunate if anything it makes me grateful\n",
      "\n",
      "\n"
     ]
    },
    {
     "name": "stderr",
     "output_type": "stream",
     "text": [
      "[Succeeded / Failed / Skipped / Total] 84 / 103 / 0 / 187:  75%|███████▍  | 187/250 [02:25<00:49,  1.28it/s]"
     ]
    },
    {
     "name": "stdout",
     "output_type": "stream",
     "text": [
      "tensor([1.6052e-04, 9.9911e-01, 3.1132e-04, 1.0961e-04, 1.3282e-04, 1.8071e-04]) --> [FAILED]\n",
      "\n",
      "i don t like eating meals that feel too virtuous\n",
      "--------------------------------------------- Result 187 ---------------------------------------------\n",
      "tensor([1.6052e-04, 9.9911e-01, 3.1132e-04, 1.0961e-04, 1.3282e-04, 1.8071e-04]) --> [[[FAILED]]]\n",
      "\n",
      "i don t like eating meals that feel too virtuous\n",
      "\n",
      "\n"
     ]
    },
    {
     "name": "stderr",
     "output_type": "stream",
     "text": [
      "[Succeeded / Failed / Skipped / Total] 84 / 104 / 0 / 188:  75%|███████▌  | 188/250 [02:26<00:48,  1.29it/s]"
     ]
    },
    {
     "name": "stdout",
     "output_type": "stream",
     "text": [
      "tensor([1.5344e-04, 9.9884e-01, 3.3012e-04, 1.2224e-04, 1.5300e-04, 3.9804e-04]) --> [FAILED]\n",
      "\n",
      "i left feeling pretty thrilled for the opportunity to at least throw my name in the hat\n",
      "--------------------------------------------- Result 188 ---------------------------------------------\n",
      "tensor([1.5344e-04, 9.9884e-01, 3.3012e-04, 1.2224e-04, 1.5300e-04, 3.9804e-04]) --> [[[FAILED]]]\n",
      "\n",
      "i left feeling pretty thrilled for the opportunity to at least throw my name in the hat\n",
      "\n",
      "\n"
     ]
    },
    {
     "name": "stderr",
     "output_type": "stream",
     "text": [
      "[Succeeded / Failed / Skipped / Total] 84 / 105 / 0 / 189:  76%|███████▌  | 189/250 [02:26<00:47,  1.29it/s]"
     ]
    },
    {
     "name": "stdout",
     "output_type": "stream",
     "text": [
      "tensor([0.0028, 0.0013, 0.0015, 0.0010, 0.6733, 0.3201]) --> [FAILED]\n",
      "\n",
      "i feel kinda weird when andrea tries to talk to me about chris\n",
      "--------------------------------------------- Result 189 ---------------------------------------------\n",
      "tensor([0.0028, 0.0013, 0.0015, 0.0010, 0.6733, 0.3201]) --> [[[FAILED]]]\n",
      "\n",
      "i feel kinda weird when andrea tries to talk to me about chris\n",
      "\n",
      "\n"
     ]
    },
    {
     "name": "stderr",
     "output_type": "stream",
     "text": [
      "[Succeeded / Failed / Skipped / Total] 84 / 106 / 0 / 190:  76%|███████▌  | 190/250 [02:27<00:46,  1.29it/s]"
     ]
    },
    {
     "name": "stdout",
     "output_type": "stream",
     "text": [
      "tensor([8.0149e-04, 2.2958e-04, 2.3817e-04, 9.9801e-01, 5.3773e-04, 1.8533e-04]) --> [FAILED]\n",
      "\n",
      "i loved about ellie is that she didnt feel insulted by all the rude douche baggy things lothaire said to her because according to ellie insults only hurt when they come from somebody you respect damn straight\n",
      "--------------------------------------------- Result 190 ---------------------------------------------\n",
      "tensor([8.0149e-04, 2.2958e-04, 2.3817e-04, 9.9801e-01, 5.3773e-04, 1.8533e-04]) --> [[[FAILED]]]\n",
      "\n",
      "i loved about ellie is that she didnt feel insulted by all the rude douche baggy things lothaire said to her because according to ellie insults only hurt when they come from somebody you respect damn straight\n",
      "\n",
      "\n"
     ]
    },
    {
     "name": "stderr",
     "output_type": "stream",
     "text": [
      "[Succeeded / Failed / Skipped / Total] 84 / 107 / 0 / 191:  76%|███████▋  | 191/250 [02:27<00:45,  1.29it/s]"
     ]
    },
    {
     "name": "stdout",
     "output_type": "stream",
     "text": [
      "tensor([2.4972e-04, 9.9879e-01, 3.4704e-04, 2.0176e-04, 1.6965e-04, 2.4374e-04]) --> [FAILED]\n",
      "\n",
      "i feel was pretty triumphant\n",
      "--------------------------------------------- Result 191 ---------------------------------------------\n",
      "tensor([2.4972e-04, 9.9879e-01, 3.4704e-04, 2.0176e-04, 1.6965e-04, 2.4374e-04]) --> [[[FAILED]]]\n",
      "\n",
      "i feel was pretty triumphant\n",
      "\n",
      "\n"
     ]
    },
    {
     "name": "stderr",
     "output_type": "stream",
     "text": [
      "[Succeeded / Failed / Skipped / Total] 85 / 107 / 0 / 192:  77%|███████▋  | 192/250 [02:28<00:44,  1.29it/s]"
     ]
    },
    {
     "name": "stdout",
     "output_type": "stream",
     "text": [
      "tensor([9.9887e-01, 2.0580e-04, 3.1512e-04, 2.2375e-04, 2.5855e-04, 1.2434e-04]) --> tensor([9.9894e-01, 1.9928e-04, 2.6129e-04, 2.0346e-04, 2.6626e-04, 1.2651e-04])\n",
      "\n",
      "im enjoying my solitary confinement at home i rarely feel lonely\n",
      "\n",
      "im enϳoying my solitary confinement at home i rarely feel lonely\n",
      "--------------------------------------------- Result 192 ---------------------------------------------\n",
      "tensor([9.9887e-01, 2.0580e-04, 3.1512e-04, 2.2375e-04, 2.5855e-04, 1.2434e-04]) --> tensor([9.9894e-01, 1.9928e-04, 2.6129e-04, 2.0346e-04, 2.6626e-04, 1.2651e-04])\n",
      "\n",
      "im [[enjoying]] my solitary confinement at home i rarely feel lonely\n",
      "\n",
      "im [[enϳoying]] my solitary confinement at home i rarely feel lonely\n",
      "\n",
      "\n"
     ]
    },
    {
     "name": "stderr",
     "output_type": "stream",
     "text": [
      "[Succeeded / Failed / Skipped / Total] 85 / 108 / 0 / 193:  77%|███████▋  | 193/250 [02:29<00:44,  1.29it/s]"
     ]
    },
    {
     "name": "stdout",
     "output_type": "stream",
     "text": [
      "tensor([2.9774e-04, 9.9880e-01, 4.7529e-04, 1.7519e-04, 1.4847e-04, 1.0379e-04]) --> [FAILED]\n",
      "\n",
      "i am being over dramatic but i do feel very strongly for her and i am resolved to speak with her next chance i get\n",
      "--------------------------------------------- Result 193 ---------------------------------------------\n",
      "tensor([2.9774e-04, 9.9880e-01, 4.7529e-04, 1.7519e-04, 1.4847e-04, 1.0379e-04]) --> [[[FAILED]]]\n",
      "\n",
      "i am being over dramatic but i do feel very strongly for her and i am resolved to speak with her next chance i get\n",
      "\n",
      "\n"
     ]
    },
    {
     "name": "stderr",
     "output_type": "stream",
     "text": [
      "[Succeeded / Failed / Skipped / Total] 86 / 108 / 0 / 194:  78%|███████▊  | 194/250 [02:29<00:43,  1.29it/s]"
     ]
    },
    {
     "name": "stdout",
     "output_type": "stream",
     "text": [
      "tensor([9.9580e-01, 2.6109e-04, 4.6029e-04, 3.1547e-03, 1.5870e-04, 1.6226e-04]) --> tensor([9.9903e-01, 1.9438e-04, 2.3190e-04, 1.7714e-04, 2.4789e-04, 1.2081e-04])\n",
      "\n",
      "i really dont like quinn because i feel like she will just end up hurting barney and i hated the lame ted robin storyline\n",
      "\n",
      "i really dont like quinn because i feel like she will just end up hurting barney and i hatеd the lame ted robin storyline\n",
      "--------------------------------------------- Result 194 ---------------------------------------------\n",
      "tensor([9.9580e-01, 2.6109e-04, 4.6029e-04, 3.1547e-03, 1.5870e-04, 1.6226e-04]) --> tensor([9.9903e-01, 1.9438e-04, 2.3190e-04, 1.7714e-04, 2.4789e-04, 1.2081e-04])\n",
      "\n",
      "i really dont like quinn because i feel like she will just end up hurting barney and i [[hated]] the lame ted robin storyline\n",
      "\n",
      "i really dont like quinn because i feel like she will just end up hurting barney and i [[hatеd]] the lame ted robin storyline\n",
      "\n",
      "\n"
     ]
    },
    {
     "name": "stderr",
     "output_type": "stream",
     "text": [
      "[Succeeded / Failed / Skipped / Total] 87 / 108 / 0 / 195:  78%|███████▊  | 195/250 [02:30<00:42,  1.30it/s]"
     ]
    },
    {
     "name": "stdout",
     "output_type": "stream",
     "text": [
      "tensor([9.9900e-01, 2.0178e-04, 1.7771e-04, 1.7849e-04, 2.6174e-04, 1.7749e-04]) --> tensor([9.9904e-01, 1.9020e-04, 1.6518e-04, 1.9838e-04, 2.4704e-04, 1.6068e-04])\n",
      "\n",
      "i feel so lousy but i shouldnt be focusing on me now\n",
      "\n",
      "і feel so lousy but i shouldnt be focusing on me now\n",
      "--------------------------------------------- Result 195 ---------------------------------------------\n",
      "tensor([9.9900e-01, 2.0178e-04, 1.7771e-04, 1.7849e-04, 2.6174e-04, 1.7749e-04]) --> tensor([9.9904e-01, 1.9020e-04, 1.6518e-04, 1.9838e-04, 2.4704e-04, 1.6068e-04])\n",
      "\n",
      "[[i]] feel so lousy but i shouldnt be focusing on me now\n",
      "\n",
      "[[і]] feel so lousy but i shouldnt be focusing on me now\n",
      "\n",
      "\n"
     ]
    },
    {
     "name": "stderr",
     "output_type": "stream",
     "text": [
      "[Succeeded / Failed / Skipped / Total] 88 / 108 / 0 / 196:  78%|███████▊  | 196/250 [02:30<00:41,  1.30it/s]"
     ]
    },
    {
     "name": "stdout",
     "output_type": "stream",
     "text": [
      "tensor([9.9884e-01, 2.9706e-04, 1.7311e-04, 2.1776e-04, 3.1186e-04, 1.6180e-04]) --> tensor([9.9885e-01, 2.9706e-04, 1.7094e-04, 2.1952e-04, 2.9958e-04, 1.5786e-04])\n",
      "\n",
      "i cant remember ever feeling so exhausted it took trips with the car on the last day to get everything brought to the trailer\n",
      "\n",
      "і cant remember ever feeling so exhausted it took trips with the car on the last day to get everything brought to the trailer\n",
      "--------------------------------------------- Result 196 ---------------------------------------------\n",
      "tensor([9.9884e-01, 2.9706e-04, 1.7311e-04, 2.1776e-04, 3.1186e-04, 1.6180e-04]) --> tensor([9.9885e-01, 2.9706e-04, 1.7094e-04, 2.1952e-04, 2.9958e-04, 1.5786e-04])\n",
      "\n",
      "[[i]] cant remember ever feeling so exhausted it took trips with the car on the last day to get everything brought to the trailer\n",
      "\n",
      "[[і]] cant remember ever feeling so exhausted it took trips with the car on the last day to get everything brought to the trailer\n",
      "\n",
      "\n"
     ]
    },
    {
     "name": "stderr",
     "output_type": "stream",
     "text": [
      "[Succeeded / Failed / Skipped / Total] 89 / 108 / 0 / 197:  79%|███████▉  | 197/250 [02:31<00:40,  1.30it/s]"
     ]
    },
    {
     "name": "stdout",
     "output_type": "stream",
     "text": [
      "tensor([6.6954e-04, 3.1631e-04, 2.0464e-04, 3.6395e-04, 9.9731e-01, 1.1323e-03]) --> tensor([9.9242e-01, 1.0382e-03, 2.4243e-04, 2.3692e-03, 3.4817e-03, 4.4644e-04])\n",
      "\n",
      "i wrote two years ago so many things i feel unsure of maybe\n",
      "\n",
      "i wrote two years ago so many things i feel unsurе of maybe\n",
      "--------------------------------------------- Result 197 ---------------------------------------------\n",
      "tensor([6.6954e-04, 3.1631e-04, 2.0464e-04, 3.6395e-04, 9.9731e-01, 1.1323e-03]) --> tensor([9.9242e-01, 1.0382e-03, 2.4243e-04, 2.3692e-03, 3.4817e-03, 4.4644e-04])\n",
      "\n",
      "i wrote two years ago so many things i feel [[unsure]] of maybe\n",
      "\n",
      "i wrote two years ago so many things i feel [[unsurе]] of maybe\n",
      "\n",
      "\n"
     ]
    },
    {
     "name": "stderr",
     "output_type": "stream",
     "text": [
      "[Succeeded / Failed / Skipped / Total] 89 / 109 / 0 / 198:  79%|███████▉  | 198/250 [02:31<00:39,  1.30it/s]"
     ]
    },
    {
     "name": "stdout",
     "output_type": "stream",
     "text": [
      "tensor([2.9573e-04, 3.1121e-04, 1.9556e-04, 1.3963e-03, 9.9687e-01, 9.2875e-04]) --> [FAILED]\n",
      "\n",
      "i feel suspicious of informality and a lack of credentials\n",
      "--------------------------------------------- Result 198 ---------------------------------------------\n",
      "tensor([2.9573e-04, 3.1121e-04, 1.9556e-04, 1.3963e-03, 9.9687e-01, 9.2875e-04]) --> [[[FAILED]]]\n",
      "\n",
      "i feel suspicious of informality and a lack of credentials\n",
      "\n",
      "\n"
     ]
    },
    {
     "name": "stderr",
     "output_type": "stream",
     "text": [
      "[Succeeded / Failed / Skipped / Total] 89 / 110 / 0 / 199:  80%|███████▉  | 199/250 [02:32<00:39,  1.31it/s]"
     ]
    },
    {
     "name": "stdout",
     "output_type": "stream",
     "text": [
      "tensor([1.5135e-04, 9.9907e-01, 3.3858e-04, 1.0986e-04, 1.1278e-04, 2.1652e-04]) --> [FAILED]\n",
      "\n",
      "i receive every month make me proud and feel appreciative\n",
      "--------------------------------------------- Result 199 ---------------------------------------------\n",
      "tensor([1.5135e-04, 9.9907e-01, 3.3858e-04, 1.0986e-04, 1.1278e-04, 2.1652e-04]) --> [[[FAILED]]]\n",
      "\n",
      "i receive every month make me proud and feel appreciative\n",
      "\n",
      "\n"
     ]
    },
    {
     "name": "stderr",
     "output_type": "stream",
     "text": [
      "[Succeeded / Failed / Skipped / Total] 89 / 111 / 0 / 200:  80%|████████  | 200/250 [02:33<00:38,  1.31it/s]"
     ]
    },
    {
     "name": "stdout",
     "output_type": "stream",
     "text": [
      "tensor([6.6033e-04, 9.9497e-01, 2.1224e-03, 1.6905e-03, 3.0230e-04, 2.5238e-04]) --> [FAILED]\n",
      "\n",
      "i feel that third situation pretty much sums up my feelings toward this title\n",
      "--------------------------------------------- Result 200 ---------------------------------------------\n",
      "tensor([6.6033e-04, 9.9497e-01, 2.1224e-03, 1.6905e-03, 3.0230e-04, 2.5238e-04]) --> [[[FAILED]]]\n",
      "\n",
      "i feel that third situation pretty much sums up my feelings toward this title\n",
      "\n",
      "\n"
     ]
    },
    {
     "name": "stderr",
     "output_type": "stream",
     "text": [
      "[Succeeded / Failed / Skipped / Total] 89 / 112 / 0 / 201:  80%|████████  | 201/250 [02:33<00:37,  1.31it/s]"
     ]
    },
    {
     "name": "stdout",
     "output_type": "stream",
     "text": [
      "tensor([3.2173e-04, 9.9139e-01, 6.1837e-03, 1.0167e-03, 5.2664e-04, 5.6032e-04]) --> [FAILED]\n",
      "\n",
      "i wanted to feel him in my hands and reached out to take him into my waiting eager mouth\n",
      "--------------------------------------------- Result 201 ---------------------------------------------\n",
      "tensor([3.2173e-04, 9.9139e-01, 6.1837e-03, 1.0167e-03, 5.2664e-04, 5.6032e-04]) --> [[[FAILED]]]\n",
      "\n",
      "i wanted to feel him in my hands and reached out to take him into my waiting eager mouth\n",
      "\n",
      "\n"
     ]
    },
    {
     "name": "stderr",
     "output_type": "stream",
     "text": [
      "[Succeeded / Failed / Skipped / Total] 89 / 113 / 0 / 202:  81%|████████  | 202/250 [02:33<00:36,  1.31it/s]"
     ]
    },
    {
     "name": "stdout",
     "output_type": "stream",
     "text": [
      "tensor([9.7160e-04, 1.7116e-03, 9.9519e-01, 5.5710e-04, 8.2582e-04, 7.3927e-04]) --> [FAILED]\n",
      "\n",
      "i feel more gentle that way wth\n",
      "--------------------------------------------- Result 202 ---------------------------------------------\n",
      "tensor([9.7160e-04, 1.7116e-03, 9.9519e-01, 5.5710e-04, 8.2582e-04, 7.3927e-04]) --> [[[FAILED]]]\n",
      "\n",
      "i feel more gentle that way wth\n",
      "\n",
      "\n"
     ]
    },
    {
     "name": "stderr",
     "output_type": "stream",
     "text": [
      "[Succeeded / Failed / Skipped / Total] 90 / 113 / 0 / 203:  81%|████████  | 203/250 [02:34<00:35,  1.32it/s]"
     ]
    },
    {
     "name": "stdout",
     "output_type": "stream",
     "text": [
      "tensor([5.5134e-04, 4.4619e-03, 9.9303e-01, 5.0381e-04, 4.2725e-04, 1.0209e-03]) --> tensor([9.9744e-01, 1.1538e-03, 1.9322e-04, 7.5825e-04, 3.0220e-04, 1.4743e-04])\n",
      "\n",
      "i got home feeling hot tired and great\n",
      "\n",
      "i got home feeling hοt tired and great\n",
      "--------------------------------------------- Result 203 ---------------------------------------------\n",
      "tensor([5.5134e-04, 4.4619e-03, 9.9303e-01, 5.0381e-04, 4.2725e-04, 1.0209e-03]) --> tensor([9.9744e-01, 1.1538e-03, 1.9322e-04, 7.5825e-04, 3.0220e-04, 1.4743e-04])\n",
      "\n",
      "i got home feeling [[hot]] tired and great\n",
      "\n",
      "i got home feeling [[hοt]] tired and great\n",
      "\n",
      "\n"
     ]
    },
    {
     "name": "stderr",
     "output_type": "stream",
     "text": [
      "[Succeeded / Failed / Skipped / Total] 90 / 114 / 0 / 204:  82%|████████▏ | 204/250 [02:34<00:34,  1.32it/s]"
     ]
    },
    {
     "name": "stdout",
     "output_type": "stream",
     "text": [
      "tensor([2.6015e-04, 9.9873e-01, 2.6340e-04, 2.1974e-04, 2.1860e-04, 3.1139e-04]) --> [FAILED]\n",
      "\n",
      "i feel more creative\n",
      "--------------------------------------------- Result 204 ---------------------------------------------\n",
      "tensor([2.6015e-04, 9.9873e-01, 2.6340e-04, 2.1974e-04, 2.1860e-04, 3.1139e-04]) --> [[[FAILED]]]\n",
      "\n",
      "i feel more creative\n",
      "\n",
      "\n"
     ]
    },
    {
     "name": "stderr",
     "output_type": "stream",
     "text": [
      "[Succeeded / Failed / Skipped / Total] 90 / 115 / 0 / 205:  82%|████████▏ | 205/250 [02:34<00:34,  1.32it/s]"
     ]
    },
    {
     "name": "stdout",
     "output_type": "stream",
     "text": [
      "tensor([2.0019e-04, 9.9857e-01, 3.3845e-04, 1.4045e-04, 1.7963e-04, 5.6818e-04]) --> [FAILED]\n",
      "\n",
      "i feel so talented i can use a computer\n",
      "--------------------------------------------- Result 205 ---------------------------------------------\n",
      "tensor([2.0019e-04, 9.9857e-01, 3.3845e-04, 1.4045e-04, 1.7963e-04, 5.6818e-04]) --> [[[FAILED]]]\n",
      "\n",
      "i feel so talented i can use a computer\n",
      "\n",
      "\n"
     ]
    },
    {
     "name": "stderr",
     "output_type": "stream",
     "text": [
      "[Succeeded / Failed / Skipped / Total] 91 / 115 / 0 / 206:  82%|████████▏ | 206/250 [02:35<00:33,  1.32it/s]"
     ]
    },
    {
     "name": "stdout",
     "output_type": "stream",
     "text": [
      "tensor([3.3214e-04, 9.9853e-01, 2.7150e-04, 2.2666e-04, 2.3005e-04, 4.1400e-04]) --> tensor([9.8251e-01, 2.9972e-03, 4.0174e-04, 1.2573e-02, 1.2795e-03, 2.3722e-04])\n",
      "\n",
      "i feel unfathomably rich in having had a healthy pregnancy so far\n",
      "\n",
      "i feel unfathomably rіch in having had a healthy pregnancy so far\n",
      "--------------------------------------------- Result 206 ---------------------------------------------\n",
      "tensor([3.3214e-04, 9.9853e-01, 2.7150e-04, 2.2666e-04, 2.3005e-04, 4.1400e-04]) --> tensor([9.8251e-01, 2.9972e-03, 4.0174e-04, 1.2573e-02, 1.2795e-03, 2.3722e-04])\n",
      "\n",
      "i feel unfathomably [[rich]] in having had a healthy pregnancy so far\n",
      "\n",
      "i feel unfathomably [[rіch]] in having had a healthy pregnancy so far\n",
      "\n",
      "\n"
     ]
    },
    {
     "name": "stderr",
     "output_type": "stream",
     "text": [
      "[Succeeded / Failed / Skipped / Total] 91 / 116 / 0 / 207:  83%|████████▎ | 207/250 [02:36<00:32,  1.32it/s]"
     ]
    },
    {
     "name": "stdout",
     "output_type": "stream",
     "text": [
      "tensor([1.0234e-03, 1.5398e-03, 9.9479e-01, 7.3456e-04, 6.1847e-04, 1.2919e-03]) --> [FAILED]\n",
      "\n",
      "i wish to know whether i should feel sympathetic towards the airline american if say their plane is on fire or their pilot has exploded or whether i should want to set them on fire if say they just decided to walk on their obligations to save money\n",
      "--------------------------------------------- Result 207 ---------------------------------------------\n",
      "tensor([1.0234e-03, 1.5398e-03, 9.9479e-01, 7.3456e-04, 6.1847e-04, 1.2919e-03]) --> [[[FAILED]]]\n",
      "\n",
      "i wish to know whether i should feel sympathetic towards the airline american if say their plane is on fire or their pilot has exploded or whether i should want to set them on fire if say they just decided to walk on their obligations to save money\n",
      "\n",
      "\n"
     ]
    },
    {
     "name": "stderr",
     "output_type": "stream",
     "text": [
      "[Succeeded / Failed / Skipped / Total] 92 / 116 / 0 / 208:  83%|████████▎ | 208/250 [02:37<00:31,  1.32it/s]"
     ]
    },
    {
     "name": "stdout",
     "output_type": "stream",
     "text": [
      "tensor([6.7169e-04, 2.6843e-04, 1.9061e-04, 8.7409e-04, 9.9749e-01, 5.0078e-04]) --> tensor([0.8870, 0.0707, 0.0090, 0.0150, 0.0168, 0.0016])\n",
      "\n",
      "i don t want them to feel so pressured\n",
      "\n",
      "i don t want them to feel so prеssured\n",
      "--------------------------------------------- Result 208 ---------------------------------------------\n",
      "tensor([6.7169e-04, 2.6843e-04, 1.9061e-04, 8.7409e-04, 9.9749e-01, 5.0078e-04]) --> tensor([0.8870, 0.0707, 0.0090, 0.0150, 0.0168, 0.0016])\n",
      "\n",
      "i don t want them to feel so [[pressured]]\n",
      "\n",
      "i don t want them to feel so [[prеssured]]\n",
      "\n",
      "\n"
     ]
    },
    {
     "name": "stderr",
     "output_type": "stream",
     "text": [
      "[Succeeded / Failed / Skipped / Total] 92 / 118 / 0 / 210:  84%|████████▍ | 210/250 [02:37<00:30,  1.33it/s]"
     ]
    },
    {
     "name": "stdout",
     "output_type": "stream",
     "text": [
      "tensor([4.1865e-04, 2.3953e-04, 1.6408e-04, 6.5450e-04, 9.9779e-01, 7.3546e-04]) --> [FAILED]\n",
      "\n",
      "i still feel frightened of the world yet no where near as much as i used to\n",
      "--------------------------------------------- Result 209 ---------------------------------------------\n",
      "tensor([4.1865e-04, 2.3953e-04, 1.6408e-04, 6.5450e-04, 9.9779e-01, 7.3546e-04]) --> [[[FAILED]]]\n",
      "\n",
      "i still feel frightened of the world yet no where near as much as i used to\n",
      "\n",
      "\n",
      "tensor([2.3366e-04, 9.9896e-01, 3.1995e-04, 1.1941e-04, 1.4768e-04, 2.1604e-04]) --> [FAILED]\n",
      "\n",
      "im not feeling mellow\n",
      "--------------------------------------------- Result 210 ---------------------------------------------\n",
      "tensor([2.3366e-04, 9.9896e-01, 3.1995e-04, 1.1941e-04, 1.4768e-04, 2.1604e-04]) --> [[[FAILED]]]\n",
      "\n",
      "im not feeling mellow\n",
      "\n",
      "\n"
     ]
    },
    {
     "name": "stderr",
     "output_type": "stream",
     "text": [
      "[Succeeded / Failed / Skipped / Total] 92 / 119 / 0 / 211:  84%|████████▍ | 211/250 [02:38<00:29,  1.33it/s]"
     ]
    },
    {
     "name": "stdout",
     "output_type": "stream",
     "text": [
      "tensor([4.7779e-04, 2.3872e-04, 1.9614e-04, 9.9818e-01, 7.3661e-04, 1.6734e-04]) --> [FAILED]\n",
      "\n",
      "i wake too early so i feel grumpy\n",
      "--------------------------------------------- Result 211 ---------------------------------------------\n",
      "tensor([4.7779e-04, 2.3872e-04, 1.9614e-04, 9.9818e-01, 7.3661e-04, 1.6734e-04]) --> [[[FAILED]]]\n",
      "\n",
      "i wake too early so i feel grumpy\n",
      "\n",
      "\n"
     ]
    },
    {
     "name": "stderr",
     "output_type": "stream",
     "text": [
      "[Succeeded / Failed / Skipped / Total] 93 / 119 / 0 / 212:  85%|████████▍ | 212/250 [02:39<00:28,  1.33it/s]"
     ]
    },
    {
     "name": "stdout",
     "output_type": "stream",
     "text": [
      "tensor([9.9904e-01, 1.8322e-04, 1.5836e-04, 3.1642e-04, 1.7079e-04, 1.3290e-04]) --> tensor([9.9907e-01, 1.7977e-04, 1.6338e-04, 2.8049e-04, 1.7549e-04, 1.3244e-04])\n",
      "\n",
      "i believe you all will come to my work place and just try to make me feel humiliated but you know what deep down in my heart i know who is the one who should be ashamed of themselves\n",
      "\n",
      "i believe yοu all will come to my work place and just try to make me feel humiliated but you know what deep down in my heart i know who is the one who should be ashamed of themselves\n",
      "--------------------------------------------- Result 212 ---------------------------------------------\n",
      "tensor([9.9904e-01, 1.8322e-04, 1.5836e-04, 3.1642e-04, 1.7079e-04, 1.3290e-04]) --> tensor([9.9907e-01, 1.7977e-04, 1.6338e-04, 2.8049e-04, 1.7549e-04, 1.3244e-04])\n",
      "\n",
      "i believe [[you]] all will come to my work place and just try to make me feel humiliated but you know what deep down in my heart i know who is the one who should be ashamed of themselves\n",
      "\n",
      "i believe [[yοu]] all will come to my work place and just try to make me feel humiliated but you know what deep down in my heart i know who is the one who should be ashamed of themselves\n",
      "\n",
      "\n"
     ]
    },
    {
     "name": "stderr",
     "output_type": "stream",
     "text": [
      "[Succeeded / Failed / Skipped / Total] 94 / 119 / 0 / 213:  85%|████████▌ | 213/250 [02:40<00:27,  1.33it/s]"
     ]
    },
    {
     "name": "stdout",
     "output_type": "stream",
     "text": [
      "tensor([1.9497e-04, 9.9888e-01, 3.1619e-04, 1.2969e-04, 1.3670e-04, 3.3938e-04]) --> tensor([9.9820e-01, 8.0736e-04, 2.1505e-04, 2.9972e-04, 2.7371e-04, 2.0047e-04])\n",
      "\n",
      "i did finally get it if you didn t laugh left me feeling delighted exhausted and just so privileged\n",
      "\n",
      "i did finally get it if you didn t laugh left me feeling dеlighted exhausted and just so privileged\n",
      "--------------------------------------------- Result 213 ---------------------------------------------\n",
      "tensor([1.9497e-04, 9.9888e-01, 3.1619e-04, 1.2969e-04, 1.3670e-04, 3.3938e-04]) --> tensor([9.9820e-01, 8.0736e-04, 2.1505e-04, 2.9972e-04, 2.7371e-04, 2.0047e-04])\n",
      "\n",
      "i did finally get it if you didn t laugh left me feeling [[delighted]] exhausted and just so privileged\n",
      "\n",
      "i did finally get it if you didn t laugh left me feeling [[dеlighted]] exhausted and just so privileged\n",
      "\n",
      "\n"
     ]
    },
    {
     "name": "stderr",
     "output_type": "stream",
     "text": [
      "[Succeeded / Failed / Skipped / Total] 95 / 119 / 0 / 214:  86%|████████▌ | 214/250 [02:40<00:27,  1.33it/s]"
     ]
    },
    {
     "name": "stdout",
     "output_type": "stream",
     "text": [
      "tensor([2.6399e-04, 3.0496e-04, 1.8954e-04, 1.2643e-03, 9.9643e-01, 1.5454e-03]) --> tensor([8.1543e-01, 4.5645e-03, 7.2959e-04, 1.7562e-01, 3.1381e-03, 5.1912e-04])\n",
      "\n",
      "i was remembering this i was feeling skeptical\n",
      "\n",
      "i was remembering this i was feeling skeрtical\n",
      "--------------------------------------------- Result 214 ---------------------------------------------\n",
      "tensor([2.6399e-04, 3.0496e-04, 1.8954e-04, 1.2643e-03, 9.9643e-01, 1.5454e-03]) --> tensor([8.1543e-01, 4.5645e-03, 7.2959e-04, 1.7562e-01, 3.1381e-03, 5.1912e-04])\n",
      "\n",
      "i was remembering this i was feeling [[skeptical]]\n",
      "\n",
      "i was remembering this i was feeling [[skeрtical]]\n",
      "\n",
      "\n"
     ]
    },
    {
     "name": "stderr",
     "output_type": "stream",
     "text": [
      "[Succeeded / Failed / Skipped / Total] 95 / 120 / 0 / 215:  86%|████████▌ | 215/250 [02:41<00:26,  1.33it/s]"
     ]
    },
    {
     "name": "stdout",
     "output_type": "stream",
     "text": [
      "tensor([3.1983e-04, 9.9856e-01, 2.6616e-04, 2.6855e-04, 3.4487e-04, 2.4355e-04]) --> [FAILED]\n",
      "\n",
      "i have some pretty brazen goals and each day i feel stronger and more confident that i m going to reach my desired end result\n",
      "--------------------------------------------- Result 215 ---------------------------------------------\n",
      "tensor([3.1983e-04, 9.9856e-01, 2.6616e-04, 2.6855e-04, 3.4487e-04, 2.4355e-04]) --> [[[FAILED]]]\n",
      "\n",
      "i have some pretty brazen goals and each day i feel stronger and more confident that i m going to reach my desired end result\n",
      "\n",
      "\n"
     ]
    },
    {
     "name": "stderr",
     "output_type": "stream",
     "text": [
      "[Succeeded / Failed / Skipped / Total] 96 / 120 / 0 / 216:  86%|████████▋ | 216/250 [02:42<00:25,  1.33it/s]"
     ]
    },
    {
     "name": "stdout",
     "output_type": "stream",
     "text": [
      "tensor([9.9862e-01, 2.0238e-04, 1.4921e-04, 6.1925e-04, 2.4554e-04, 1.6289e-04]) --> tensor([9.9884e-01, 1.9436e-04, 1.4722e-04, 4.0560e-04, 2.5057e-04, 1.6260e-04])\n",
      "\n",
      "i feel dirty talking to people for my personal gain\n",
      "\n",
      "i feel dirty talking to people for my perѕonal gain\n",
      "--------------------------------------------- Result 216 ---------------------------------------------\n",
      "tensor([9.9862e-01, 2.0238e-04, 1.4921e-04, 6.1925e-04, 2.4554e-04, 1.6289e-04]) --> tensor([9.9884e-01, 1.9436e-04, 1.4722e-04, 4.0560e-04, 2.5057e-04, 1.6260e-04])\n",
      "\n",
      "i feel dirty talking to people for my [[personal]] gain\n",
      "\n",
      "i feel dirty talking to people for my [[perѕonal]] gain\n",
      "\n",
      "\n"
     ]
    },
    {
     "name": "stderr",
     "output_type": "stream",
     "text": [
      "[Succeeded / Failed / Skipped / Total] 96 / 121 / 0 / 217:  87%|████████▋ | 217/250 [02:43<00:24,  1.33it/s]"
     ]
    },
    {
     "name": "stdout",
     "output_type": "stream",
     "text": [
      "tensor([6.8693e-04, 2.6969e-04, 6.0961e-04, 9.9722e-01, 9.7230e-04, 2.4220e-04]) --> [FAILED]\n",
      "\n",
      "i sat there cold i flashed back to going to the hockey city classic and the degree weather and it feeling just as cold even though there was about a degree difference this night\n",
      "--------------------------------------------- Result 217 ---------------------------------------------\n",
      "tensor([6.8693e-04, 2.6969e-04, 6.0961e-04, 9.9722e-01, 9.7230e-04, 2.4220e-04]) --> [[[FAILED]]]\n",
      "\n",
      "i sat there cold i flashed back to going to the hockey city classic and the degree weather and it feeling just as cold even though there was about a degree difference this night\n",
      "\n",
      "\n"
     ]
    },
    {
     "name": "stderr",
     "output_type": "stream",
     "text": [
      "[Succeeded / Failed / Skipped / Total] 97 / 121 / 0 / 218:  87%|████████▋ | 218/250 [02:44<00:24,  1.33it/s]"
     ]
    },
    {
     "name": "stdout",
     "output_type": "stream",
     "text": [
      "tensor([9.9871e-01, 2.2854e-04, 1.9121e-04, 1.7081e-04, 4.6273e-04, 2.4036e-04]) --> tensor([9.9898e-01, 2.1381e-04, 1.6723e-04, 1.8531e-04, 2.8313e-04, 1.6979e-04])\n",
      "\n",
      "i feel numb as i carry on and i wonder if i will get over it\n",
      "\n",
      "i feel numb аs i carry on and i wonder if i will get over it\n",
      "--------------------------------------------- Result 218 ---------------------------------------------\n",
      "tensor([9.9871e-01, 2.2854e-04, 1.9121e-04, 1.7081e-04, 4.6273e-04, 2.4036e-04]) --> tensor([9.9898e-01, 2.1381e-04, 1.6723e-04, 1.8531e-04, 2.8313e-04, 1.6979e-04])\n",
      "\n",
      "i feel numb [[as]] i carry on and i wonder if i will get over it\n",
      "\n",
      "i feel numb [[аs]] i carry on and i wonder if i will get over it\n",
      "\n",
      "\n"
     ]
    },
    {
     "name": "stderr",
     "output_type": "stream",
     "text": [
      "[Succeeded / Failed / Skipped / Total] 97 / 122 / 0 / 219:  88%|████████▊ | 219/250 [02:44<00:23,  1.33it/s]"
     ]
    },
    {
     "name": "stdout",
     "output_type": "stream",
     "text": [
      "tensor([3.5756e-04, 2.7315e-04, 2.8096e-04, 9.9699e-01, 1.8755e-03, 2.2326e-04]) --> [FAILED]\n",
      "\n",
      "i was somewhat coerced into this blog review so i feel a bit rushed and flustered\n",
      "--------------------------------------------- Result 219 ---------------------------------------------\n",
      "tensor([3.5756e-04, 2.7315e-04, 2.8096e-04, 9.9699e-01, 1.8755e-03, 2.2326e-04]) --> [[[FAILED]]]\n",
      "\n",
      "i was somewhat coerced into this blog review so i feel a bit rushed and flustered\n",
      "\n",
      "\n"
     ]
    },
    {
     "name": "stderr",
     "output_type": "stream",
     "text": [
      "[Succeeded / Failed / Skipped / Total] 97 / 123 / 0 / 220:  88%|████████▊ | 220/250 [02:45<00:22,  1.33it/s]"
     ]
    },
    {
     "name": "stdout",
     "output_type": "stream",
     "text": [
      "tensor([5.4027e-04, 1.9402e-04, 3.6348e-04, 9.9787e-01, 8.5798e-04, 1.7781e-04]) --> [FAILED]\n",
      "\n",
      "i guess i wont feel too jealous since i often do my mothering at the pool but its nice to have a husband again\n",
      "--------------------------------------------- Result 220 ---------------------------------------------\n",
      "tensor([5.4027e-04, 1.9402e-04, 3.6348e-04, 9.9787e-01, 8.5798e-04, 1.7781e-04]) --> [[[FAILED]]]\n",
      "\n",
      "i guess i wont feel too jealous since i often do my mothering at the pool but its nice to have a husband again\n",
      "\n",
      "\n"
     ]
    },
    {
     "name": "stderr",
     "output_type": "stream",
     "text": [
      "[Succeeded / Failed / Skipped / Total] 97 / 124 / 0 / 221:  89%|████████▉ | 222/250 [02:46<00:20,  1.33it/s]"
     ]
    },
    {
     "name": "stdout",
     "output_type": "stream",
     "text": [
      "tensor([2.5862e-04, 9.9890e-01, 4.3220e-04, 1.1333e-04, 1.2416e-04, 1.6966e-04]) --> [FAILED]\n",
      "\n",
      "im not sure how i feel about needing to exercise so as to maintain a pleasant demeanor\n",
      "--------------------------------------------- Result 221 ---------------------------------------------\n",
      "tensor([2.5862e-04, 9.9890e-01, 4.3220e-04, 1.1333e-04, 1.2416e-04, 1.6966e-04]) --> [[[FAILED]]]\n",
      "\n",
      "im not sure how i feel about needing to exercise so as to maintain a pleasant demeanor\n",
      "\n",
      "\n",
      "tensor([2.5045e-04, 3.2751e-04, 1.7868e-04, 1.3588e-03, 9.9646e-01, 1.4259e-03]) --> tensor([0.6755, 0.0015, 0.0010, 0.0018, 0.3148, 0.0053])\n",
      "\n",
      "i feel alarmed\n",
      "\n",
      "i feel аlarmed\n",
      "--------------------------------------------- Result 222 ---------------------------------------------\n"
     ]
    },
    {
     "name": "stderr",
     "output_type": "stream",
     "text": [
      "[Succeeded / Failed / Skipped / Total] 98 / 124 / 0 / 222:  89%|████████▉ | 222/250 [02:46<00:20,  1.33it/s]"
     ]
    },
    {
     "name": "stdout",
     "output_type": "stream",
     "text": [
      "tensor([2.5045e-04, 3.2751e-04, 1.7868e-04, 1.3588e-03, 9.9646e-01, 1.4259e-03]) --> tensor([0.6755, 0.0015, 0.0010, 0.0018, 0.3148, 0.0053])\n",
      "\n",
      "i feel [[alarmed]]\n",
      "\n",
      "i feel [[аlarmed]]\n",
      "\n",
      "\n"
     ]
    },
    {
     "name": "stderr",
     "output_type": "stream",
     "text": [
      "[Succeeded / Failed / Skipped / Total] 99 / 124 / 0 / 223:  89%|████████▉ | 223/250 [02:47<00:20,  1.33it/s]"
     ]
    },
    {
     "name": "stdout",
     "output_type": "stream",
     "text": [
      "tensor([1.1579e-03, 2.8782e-03, 1.4441e-03, 7.0784e-04, 2.2912e-03, 9.9152e-01]) --> tensor([9.9741e-01, 8.6980e-04, 3.3265e-04, 6.4699e-04, 6.2696e-04, 1.1155e-04])\n",
      "\n",
      "i think i wanted audiences to feel impressed inspired or entertained when i was on stage\n",
      "\n",
      "i think i wanted audiences to feel іmpressed inspired or entertained when i was on stage\n",
      "--------------------------------------------- Result 223 ---------------------------------------------\n",
      "tensor([1.1579e-03, 2.8782e-03, 1.4441e-03, 7.0784e-04, 2.2912e-03, 9.9152e-01]) --> tensor([9.9741e-01, 8.6980e-04, 3.3265e-04, 6.4699e-04, 6.2696e-04, 1.1155e-04])\n",
      "\n",
      "i think i wanted audiences to feel [[impressed]] inspired or entertained when i was on stage\n",
      "\n",
      "i think i wanted audiences to feel [[іmpressed]] inspired or entertained when i was on stage\n",
      "\n",
      "\n"
     ]
    },
    {
     "name": "stderr",
     "output_type": "stream",
     "text": [
      "[Succeeded / Failed / Skipped / Total] 99 / 125 / 0 / 224:  90%|████████▉ | 224/250 [02:47<00:19,  1.33it/s]"
     ]
    },
    {
     "name": "stdout",
     "output_type": "stream",
     "text": [
      "tensor([4.1325e-04, 9.9862e-01, 2.8432e-04, 1.8298e-04, 2.3267e-04, 2.6927e-04]) --> [FAILED]\n",
      "\n",
      "i wasnt feeling well yesterday morning afternoon so i just laid in bed and ended up in the all too familiar youtube black hole\n",
      "--------------------------------------------- Result 224 ---------------------------------------------\n",
      "tensor([4.1325e-04, 9.9862e-01, 2.8432e-04, 1.8298e-04, 2.3267e-04, 2.6927e-04]) --> [[[FAILED]]]\n",
      "\n",
      "i wasnt feeling well yesterday morning afternoon so i just laid in bed and ended up in the all too familiar youtube black hole\n",
      "\n",
      "\n"
     ]
    },
    {
     "name": "stderr",
     "output_type": "stream",
     "text": [
      "[Succeeded / Failed / Skipped / Total] 99 / 126 / 0 / 225:  90%|█████████ | 225/250 [02:48<00:18,  1.33it/s]"
     ]
    },
    {
     "name": "stdout",
     "output_type": "stream",
     "text": [
      "tensor([3.3143e-04, 9.9801e-01, 3.1138e-04, 2.8547e-04, 2.8320e-04, 7.8140e-04]) --> [FAILED]\n",
      "\n",
      "i have these terrible feelings that i hyped myself up to be more talented than i am\n",
      "--------------------------------------------- Result 225 ---------------------------------------------\n",
      "tensor([3.3143e-04, 9.9801e-01, 3.1138e-04, 2.8547e-04, 2.8320e-04, 7.8140e-04]) --> [[[FAILED]]]\n",
      "\n",
      "i have these terrible feelings that i hyped myself up to be more talented than i am\n",
      "\n",
      "\n"
     ]
    },
    {
     "name": "stderr",
     "output_type": "stream",
     "text": [
      "[Succeeded / Failed / Skipped / Total] 99 / 127 / 0 / 226:  90%|█████████ | 226/250 [02:50<00:18,  1.33it/s]"
     ]
    },
    {
     "name": "stdout",
     "output_type": "stream",
     "text": [
      "tensor([2.3296e-04, 9.9891e-01, 3.1688e-04, 1.7558e-04, 1.8467e-04, 1.8146e-04]) --> [FAILED]\n",
      "\n",
      "i do take on a half marathon challenge then i will wait and see how the body feels as to whether there will be a pb attempt or a casual kilometre shuffle\n",
      "--------------------------------------------- Result 226 ---------------------------------------------\n",
      "tensor([2.3296e-04, 9.9891e-01, 3.1688e-04, 1.7558e-04, 1.8467e-04, 1.8146e-04]) --> [[[FAILED]]]\n",
      "\n",
      "i do take on a half marathon challenge then i will wait and see how the body feels as to whether there will be a pb attempt or a casual kilometre shuffle\n",
      "\n",
      "\n"
     ]
    },
    {
     "name": "stderr",
     "output_type": "stream",
     "text": [
      "[Succeeded / Failed / Skipped / Total] 100 / 127 / 0 / 227:  91%|█████████ | 227/250 [02:51<00:17,  1.32it/s]"
     ]
    },
    {
     "name": "stdout",
     "output_type": "stream",
     "text": [
      "tensor([4.1018e-04, 3.0500e-04, 2.4873e-04, 9.9794e-01, 8.7247e-04, 2.1987e-04]) --> tensor([9.1129e-01, 4.5704e-03, 5.8322e-04, 8.1449e-02, 1.6011e-03, 5.0410e-04])\n",
      "\n",
      "i couldn t help but feel pissed off at both sides of the debate and the unnecessary dichotomy itself\n",
      "\n",
      "i couldn t help but feel pisseԁ off at both sides of the debate and the unnecessary dichotomy itself\n",
      "--------------------------------------------- Result 227 ---------------------------------------------\n",
      "tensor([4.1018e-04, 3.0500e-04, 2.4873e-04, 9.9794e-01, 8.7247e-04, 2.1987e-04]) --> tensor([9.1129e-01, 4.5704e-03, 5.8322e-04, 8.1449e-02, 1.6011e-03, 5.0410e-04])\n",
      "\n",
      "i couldn t help but feel [[pissed]] off at both sides of the debate and the unnecessary dichotomy itself\n",
      "\n",
      "i couldn t help but feel [[pisseԁ]] off at both sides of the debate and the unnecessary dichotomy itself\n",
      "\n",
      "\n"
     ]
    },
    {
     "name": "stderr",
     "output_type": "stream",
     "text": [
      "[Succeeded / Failed / Skipped / Total] 100 / 128 / 0 / 228:  91%|█████████ | 228/250 [02:52<00:16,  1.32it/s]"
     ]
    },
    {
     "name": "stdout",
     "output_type": "stream",
     "text": [
      "tensor([2.3804e-04, 9.9854e-01, 7.3955e-04, 1.7901e-04, 1.5736e-04, 1.4880e-04]) --> [FAILED]\n",
      "\n",
      "i feel like i cant be respected if i have self respect because it is so regular to now hate your self\n",
      "--------------------------------------------- Result 228 ---------------------------------------------\n",
      "tensor([2.3804e-04, 9.9854e-01, 7.3955e-04, 1.7901e-04, 1.5736e-04, 1.4880e-04]) --> [[[FAILED]]]\n",
      "\n",
      "i feel like i cant be respected if i have self respect because it is so regular to now hate your self\n",
      "\n",
      "\n"
     ]
    },
    {
     "name": "stderr",
     "output_type": "stream",
     "text": [
      "[Succeeded / Failed / Skipped / Total] 100 / 129 / 0 / 229:  92%|█████████▏| 229/250 [02:53<00:15,  1.32it/s]"
     ]
    },
    {
     "name": "stdout",
     "output_type": "stream",
     "text": [
      "tensor([1.0291e-03, 1.7143e-03, 9.9548e-01, 4.4525e-04, 4.9914e-04, 8.3635e-04]) --> [FAILED]\n",
      "\n",
      "i smiled at him feeling his longing and said maybe later buddy but i have to make lunch now\n",
      "--------------------------------------------- Result 229 ---------------------------------------------\n",
      "tensor([1.0291e-03, 1.7143e-03, 9.9548e-01, 4.4525e-04, 4.9914e-04, 8.3635e-04]) --> [[[FAILED]]]\n",
      "\n",
      "i smiled at him feeling his longing and said maybe later buddy but i have to make lunch now\n",
      "\n",
      "\n"
     ]
    },
    {
     "name": "stderr",
     "output_type": "stream",
     "text": [
      "[Succeeded / Failed / Skipped / Total] 101 / 129 / 0 / 230:  92%|█████████▏| 230/250 [02:54<00:15,  1.32it/s]"
     ]
    },
    {
     "name": "stdout",
     "output_type": "stream",
     "text": [
      "tensor([4.3773e-04, 2.6175e-04, 1.6863e-04, 7.5579e-04, 9.9760e-01, 7.8104e-04]) --> tensor([9.9906e-01, 2.1948e-04, 1.4525e-04, 2.8654e-04, 1.6618e-04, 1.2417e-04])\n",
      "\n",
      "i am truly unfortunate the majority of the time i m usually drained but i obtain it hard to get from bed i really feel restless and others\n",
      "\n",
      "i am truly unfortunate the majority of the time i m usually drained but i obtain it hard to get from bed i really feel rеstless and others\n",
      "--------------------------------------------- Result 230 ---------------------------------------------\n",
      "tensor([4.3773e-04, 2.6175e-04, 1.6863e-04, 7.5579e-04, 9.9760e-01, 7.8104e-04]) --> tensor([9.9906e-01, 2.1948e-04, 1.4525e-04, 2.8654e-04, 1.6618e-04, 1.2417e-04])\n",
      "\n",
      "i am truly unfortunate the majority of the time i m usually drained but i obtain it hard to get from bed i really feel [[restless]] and others\n",
      "\n",
      "i am truly unfortunate the majority of the time i m usually drained but i obtain it hard to get from bed i really feel [[rеstless]] and others\n",
      "\n",
      "\n"
     ]
    },
    {
     "name": "stderr",
     "output_type": "stream",
     "text": [
      "[Succeeded / Failed / Skipped / Total] 102 / 129 / 0 / 231:  92%|█████████▏| 231/250 [02:54<00:14,  1.32it/s]"
     ]
    },
    {
     "name": "stdout",
     "output_type": "stream",
     "text": [
      "tensor([9.9903e-01, 2.0457e-04, 1.8606e-04, 2.7487e-04, 1.5290e-04, 1.4967e-04]) --> tensor([9.9907e-01, 2.1211e-04, 1.7626e-04, 2.2277e-04, 1.7304e-04, 1.4604e-04])\n",
      "\n",
      "i am feeling rather damaged\n",
      "\n",
      "i am feeling ratһer damaged\n",
      "--------------------------------------------- Result 231 ---------------------------------------------\n",
      "tensor([9.9903e-01, 2.0457e-04, 1.8606e-04, 2.7487e-04, 1.5290e-04, 1.4967e-04]) --> tensor([9.9907e-01, 2.1211e-04, 1.7626e-04, 2.2277e-04, 1.7304e-04, 1.4604e-04])\n",
      "\n",
      "i am feeling [[rather]] damaged\n",
      "\n",
      "i am feeling [[ratһer]] damaged\n",
      "\n",
      "\n"
     ]
    },
    {
     "name": "stderr",
     "output_type": "stream",
     "text": [
      "[Succeeded / Failed / Skipped / Total] 103 / 129 / 0 / 232:  93%|█████████▎| 232/250 [02:55<00:13,  1.32it/s]"
     ]
    },
    {
     "name": "stdout",
     "output_type": "stream",
     "text": [
      "tensor([9.9899e-01, 2.0104e-04, 1.7690e-04, 3.1431e-04, 1.7357e-04, 1.4448e-04]) --> tensor([9.9902e-01, 1.8256e-04, 1.7708e-04, 3.1331e-04, 1.6729e-04, 1.4211e-04])\n",
      "\n",
      "i said i feel ugly today\n",
      "\n",
      "i saіd i feel ugly today\n",
      "--------------------------------------------- Result 232 ---------------------------------------------\n",
      "tensor([9.9899e-01, 2.0104e-04, 1.7690e-04, 3.1431e-04, 1.7357e-04, 1.4448e-04]) --> tensor([9.9902e-01, 1.8256e-04, 1.7708e-04, 3.1331e-04, 1.6729e-04, 1.4211e-04])\n",
      "\n",
      "i [[said]] i feel ugly today\n",
      "\n",
      "i [[saіd]] i feel ugly today\n",
      "\n",
      "\n"
     ]
    },
    {
     "name": "stderr",
     "output_type": "stream",
     "text": [
      "[Succeeded / Failed / Skipped / Total] 103 / 130 / 0 / 233:  93%|█████████▎| 233/250 [02:56<00:12,  1.32it/s]"
     ]
    },
    {
     "name": "stdout",
     "output_type": "stream",
     "text": [
      "tensor([0.0036, 0.4139, 0.0027, 0.0019, 0.0039, 0.5739]) --> [FAILED]\n",
      "\n",
      "i left my garmin on my bike so i was going to have to do this by feel coming out of transition its amazing hearing cheers and your adrenaline is just going crazy\n",
      "--------------------------------------------- Result 233 ---------------------------------------------\n",
      "tensor([0.0036, 0.4139, 0.0027, 0.0019, 0.0039, 0.5739]) --> [[[FAILED]]]\n",
      "\n",
      "i left my garmin on my bike so i was going to have to do this by feel coming out of transition its amazing hearing cheers and your adrenaline is just going crazy\n",
      "\n",
      "\n"
     ]
    },
    {
     "name": "stderr",
     "output_type": "stream",
     "text": [
      "[Succeeded / Failed / Skipped / Total] 103 / 131 / 0 / 234:  94%|█████████▎| 234/250 [02:56<00:12,  1.32it/s]"
     ]
    },
    {
     "name": "stdout",
     "output_type": "stream",
     "text": [
      "tensor([2.4812e-04, 9.9881e-01, 2.6903e-04, 1.8750e-04, 2.2231e-04, 2.6522e-04]) --> [FAILED]\n",
      "\n",
      "i feel so smart when i find ways to trick myself like this\n",
      "--------------------------------------------- Result 234 ---------------------------------------------\n",
      "tensor([2.4812e-04, 9.9881e-01, 2.6903e-04, 1.8750e-04, 2.2231e-04, 2.6522e-04]) --> [[[FAILED]]]\n",
      "\n",
      "i feel so smart when i find ways to trick myself like this\n",
      "\n",
      "\n"
     ]
    },
    {
     "name": "stderr",
     "output_type": "stream",
     "text": [
      "[Succeeded / Failed / Skipped / Total] 104 / 131 / 0 / 235:  94%|█████████▍| 235/250 [02:58<00:11,  1.32it/s]"
     ]
    },
    {
     "name": "stdout",
     "output_type": "stream",
     "text": [
      "tensor([0.7359, 0.0019, 0.0008, 0.0033, 0.2569, 0.0013]) --> tensor([9.9838e-01, 2.6624e-04, 1.5931e-04, 1.6613e-04, 8.1252e-04, 2.1176e-04])\n",
      "\n",
      "i love to dance but often feel inhibited by my own body unsure what i am capable of hyper concerned about other people watching me and having opinions on my style or just feeling awkward as if i have no idea what i am supposed to do here\n",
      "\n",
      "i love to dance but often feеl inhibited by my own body unsure what i am capable of hyper concerned about other people watching me and having opinions on my style or just feeling awkward as if i have no idea what i am supposed to do here\n",
      "--------------------------------------------- Result 235 ---------------------------------------------\n",
      "tensor([0.7359, 0.0019, 0.0008, 0.0033, 0.2569, 0.0013]) --> tensor([9.9838e-01, 2.6624e-04, 1.5931e-04, 1.6613e-04, 8.1252e-04, 2.1176e-04])\n",
      "\n",
      "i love to dance but often [[feel]] inhibited by my own body unsure what i am capable of hyper concerned about other people watching me and having opinions on my style or just feeling awkward as if i have no idea what i am supposed to do here\n",
      "\n",
      "i love to dance but often [[feеl]] inhibited by my own body unsure what i am capable of hyper concerned about other people watching me and having opinions on my style or just feeling awkward as if i have no idea what i am supposed to do here\n",
      "\n",
      "\n"
     ]
    },
    {
     "name": "stderr",
     "output_type": "stream",
     "text": [
      "[Succeeded / Failed / Skipped / Total] 104 / 132 / 0 / 236:  94%|█████████▍| 236/250 [02:59<00:10,  1.32it/s]"
     ]
    },
    {
     "name": "stdout",
     "output_type": "stream",
     "text": [
      "tensor([2.5168e-04, 9.9891e-01, 3.4685e-04, 1.4495e-04, 1.4158e-04, 2.0891e-04]) --> [FAILED]\n",
      "\n",
      "i feel like cards are the perfect thing to make with them\n",
      "--------------------------------------------- Result 236 ---------------------------------------------\n",
      "tensor([2.5168e-04, 9.9891e-01, 3.4685e-04, 1.4495e-04, 1.4158e-04, 2.0891e-04]) --> [[[FAILED]]]\n",
      "\n",
      "i feel like cards are the perfect thing to make with them\n",
      "\n",
      "\n"
     ]
    },
    {
     "name": "stderr",
     "output_type": "stream",
     "text": [
      "[Succeeded / Failed / Skipped / Total] 105 / 132 / 0 / 237:  95%|█████████▍| 237/250 [02:59<00:09,  1.32it/s]"
     ]
    },
    {
     "name": "stdout",
     "output_type": "stream",
     "text": [
      "tensor([9.9884e-01, 2.9037e-04, 2.7374e-04, 2.3985e-04, 1.7393e-04, 1.7991e-04]) --> tensor([9.9891e-01, 2.8059e-04, 2.4303e-04, 2.3109e-04, 1.7745e-04, 1.5963e-04])\n",
      "\n",
      "i feel like some heroine of some tragic manga\n",
      "\n",
      "i feel lіke some heroine of some tragic manga\n",
      "--------------------------------------------- Result 237 ---------------------------------------------\n",
      "tensor([9.9884e-01, 2.9037e-04, 2.7374e-04, 2.3985e-04, 1.7393e-04, 1.7991e-04]) --> tensor([9.9891e-01, 2.8059e-04, 2.4303e-04, 2.3109e-04, 1.7745e-04, 1.5963e-04])\n",
      "\n",
      "i feel [[like]] some heroine of some tragic manga\n",
      "\n",
      "i feel [[lіke]] some heroine of some tragic manga\n",
      "\n",
      "\n"
     ]
    },
    {
     "name": "stderr",
     "output_type": "stream",
     "text": [
      "[Succeeded / Failed / Skipped / Total] 105 / 133 / 0 / 238:  95%|█████████▌| 238/250 [03:00<00:09,  1.32it/s]"
     ]
    },
    {
     "name": "stdout",
     "output_type": "stream",
     "text": [
      "tensor([5.9452e-04, 9.9799e-01, 3.0089e-04, 3.9406e-04, 5.0620e-04, 2.1874e-04]) --> [FAILED]\n",
      "\n",
      "i just feel safer than working part time casual at hr\n",
      "--------------------------------------------- Result 238 ---------------------------------------------\n",
      "tensor([5.9452e-04, 9.9799e-01, 3.0089e-04, 3.9406e-04, 5.0620e-04, 2.1874e-04]) --> [[[FAILED]]]\n",
      "\n",
      "i just feel safer than working part time casual at hr\n",
      "\n",
      "\n"
     ]
    },
    {
     "name": "stderr",
     "output_type": "stream",
     "text": [
      "[Succeeded / Failed / Skipped / Total] 106 / 133 / 0 / 239:  96%|█████████▌| 239/250 [03:00<00:08,  1.32it/s]"
     ]
    },
    {
     "name": "stdout",
     "output_type": "stream",
     "text": [
      "tensor([9.9882e-01, 2.5525e-04, 1.7609e-04, 4.3895e-04, 1.5402e-04, 1.5838e-04]) --> tensor([9.9893e-01, 2.3292e-04, 1.7046e-04, 3.4872e-04, 1.6405e-04, 1.5809e-04])\n",
      "\n",
      "i was ambushed again it was apparently my fault again i feel worthless\n",
      "\n",
      "i was ambushed again it was apparеntly my fault again i feel worthless\n",
      "--------------------------------------------- Result 239 ---------------------------------------------\n",
      "tensor([9.9882e-01, 2.5525e-04, 1.7609e-04, 4.3895e-04, 1.5402e-04, 1.5838e-04]) --> tensor([9.9893e-01, 2.3292e-04, 1.7046e-04, 3.4872e-04, 1.6405e-04, 1.5809e-04])\n",
      "\n",
      "i was ambushed again it was [[apparently]] my fault again i feel worthless\n",
      "\n",
      "i was ambushed again it was [[apparеntly]] my fault again i feel worthless\n",
      "\n",
      "\n"
     ]
    },
    {
     "name": "stderr",
     "output_type": "stream",
     "text": [
      "[Succeeded / Failed / Skipped / Total] 106 / 134 / 0 / 240:  96%|█████████▌| 240/250 [03:01<00:07,  1.32it/s]"
     ]
    },
    {
     "name": "stdout",
     "output_type": "stream",
     "text": [
      "tensor([1.9839e-04, 9.9888e-01, 3.6631e-04, 1.2927e-04, 1.6201e-04, 2.6050e-04]) --> [FAILED]\n",
      "\n",
      "i feel privileged to be a part of something so eternal and so precious to the lord jesus he shed his blood so that churches like this could exist\n",
      "--------------------------------------------- Result 240 ---------------------------------------------\n",
      "tensor([1.9839e-04, 9.9888e-01, 3.6631e-04, 1.2927e-04, 1.6201e-04, 2.6050e-04]) --> [[[FAILED]]]\n",
      "\n",
      "i feel privileged to be a part of something so eternal and so precious to the lord jesus he shed his blood so that churches like this could exist\n",
      "\n",
      "\n"
     ]
    },
    {
     "name": "stderr",
     "output_type": "stream",
     "text": [
      "[Succeeded / Failed / Skipped / Total] 107 / 134 / 0 / 241:  96%|█████████▋| 241/250 [03:02<00:06,  1.32it/s]"
     ]
    },
    {
     "name": "stdout",
     "output_type": "stream",
     "text": [
      "tensor([9.9871e-01, 1.6345e-04, 1.8867e-04, 2.0575e-04, 5.4844e-04, 1.8126e-04]) --> tensor([9.9891e-01, 1.6482e-04, 1.9678e-04, 2.7790e-04, 2.9896e-04, 1.4942e-04])\n",
      "\n",
      "i feel wholly inadequate to the task before me\n",
      "\n",
      "i feel whοlly inadequate to the task before me\n",
      "--------------------------------------------- Result 241 ---------------------------------------------\n",
      "tensor([9.9871e-01, 1.6345e-04, 1.8867e-04, 2.0575e-04, 5.4844e-04, 1.8126e-04]) --> tensor([9.9891e-01, 1.6482e-04, 1.9678e-04, 2.7790e-04, 2.9896e-04, 1.4942e-04])\n",
      "\n",
      "i feel [[wholly]] inadequate to the task before me\n",
      "\n",
      "i feel [[whοlly]] inadequate to the task before me\n",
      "\n",
      "\n"
     ]
    },
    {
     "name": "stderr",
     "output_type": "stream",
     "text": [
      "[Succeeded / Failed / Skipped / Total] 107 / 135 / 0 / 242:  97%|█████████▋| 242/250 [03:03<00:06,  1.32it/s]"
     ]
    },
    {
     "name": "stdout",
     "output_type": "stream",
     "text": [
      "tensor([9.6127e-04, 1.6183e-03, 9.9285e-01, 7.1249e-04, 1.2806e-03, 2.5742e-03]) --> [FAILED]\n",
      "\n",
      "i have a feeling this is a bit naughty scanning an article from a magazine but i know that so many people would love to read thi\n",
      "--------------------------------------------- Result 242 ---------------------------------------------\n",
      "tensor([9.6127e-04, 1.6183e-03, 9.9285e-01, 7.1249e-04, 1.2806e-03, 2.5742e-03]) --> [[[FAILED]]]\n",
      "\n",
      "i have a feeling this is a bit naughty scanning an article from a magazine but i know that so many people would love to read thi\n",
      "\n",
      "\n"
     ]
    },
    {
     "name": "stderr",
     "output_type": "stream",
     "text": [
      "[Succeeded / Failed / Skipped / Total] 108 / 135 / 0 / 243:  97%|█████████▋| 243/250 [03:04<00:05,  1.32it/s]"
     ]
    },
    {
     "name": "stdout",
     "output_type": "stream",
     "text": [
      "tensor([5.8219e-04, 2.9015e-04, 1.5075e-04, 5.9283e-04, 9.9778e-01, 6.0272e-04]) --> tensor([9.9904e-01, 1.9169e-04, 1.6120e-04, 2.4971e-04, 2.5406e-04, 1.0663e-04])\n",
      "\n",
      "i see you on the pitchers mound at our little league diamond i feel so anxious for you because it looks so isolated over there\n",
      "\n",
      "i see you on the pitchers mound at our little league diamond i feel so anxiouѕ for you because it looks so isolated over there\n",
      "--------------------------------------------- Result 243 ---------------------------------------------\n",
      "tensor([5.8219e-04, 2.9015e-04, 1.5075e-04, 5.9283e-04, 9.9778e-01, 6.0272e-04]) --> tensor([9.9904e-01, 1.9169e-04, 1.6120e-04, 2.4971e-04, 2.5406e-04, 1.0663e-04])\n",
      "\n",
      "i see you on the pitchers mound at our little league diamond i feel so [[anxious]] for you because it looks so isolated over there\n",
      "\n",
      "i see you on the pitchers mound at our little league diamond i feel so [[anxiouѕ]] for you because it looks so isolated over there\n",
      "\n",
      "\n"
     ]
    },
    {
     "name": "stderr",
     "output_type": "stream",
     "text": [
      "[Succeeded / Failed / Skipped / Total] 108 / 136 / 0 / 244:  98%|█████████▊| 244/250 [03:05<00:04,  1.31it/s]"
     ]
    },
    {
     "name": "stdout",
     "output_type": "stream",
     "text": [
      "tensor([2.3949e-04, 9.9867e-01, 4.9573e-04, 2.5338e-04, 1.6710e-04, 1.7251e-04]) --> [FAILED]\n",
      "\n",
      "i feel like i am joining the masses which goes against my rebellion of the popular mentality ha i m so goth but i take peace in knowing that i am not making the same resolutions as everyone else\n",
      "--------------------------------------------- Result 244 ---------------------------------------------\n",
      "tensor([2.3949e-04, 9.9867e-01, 4.9573e-04, 2.5338e-04, 1.6710e-04, 1.7251e-04]) --> [[[FAILED]]]\n",
      "\n",
      "i feel like i am joining the masses which goes against my rebellion of the popular mentality ha i m so goth but i take peace in knowing that i am not making the same resolutions as everyone else\n",
      "\n",
      "\n"
     ]
    },
    {
     "name": "stderr",
     "output_type": "stream",
     "text": [
      "[Succeeded / Failed / Skipped / Total] 109 / 136 / 0 / 245:  98%|█████████▊| 245/250 [03:06<00:03,  1.32it/s]"
     ]
    },
    {
     "name": "stdout",
     "output_type": "stream",
     "text": [
      "tensor([9.9908e-01, 2.0495e-04, 1.5575e-04, 1.9539e-04, 2.2167e-04, 1.4271e-04]) --> tensor([9.9911e-01, 1.8861e-04, 1.5996e-04, 1.9322e-04, 2.0732e-04, 1.4119e-04])\n",
      "\n",
      "i feel disillusioned with the occult so i have come to feel a greater connection to the earth\n",
      "\n",
      "i feel disillusioned wіth the occult so i have come to feel a greater connection to the earth\n",
      "--------------------------------------------- Result 245 ---------------------------------------------\n",
      "tensor([9.9908e-01, 2.0495e-04, 1.5575e-04, 1.9539e-04, 2.2167e-04, 1.4271e-04]) --> tensor([9.9911e-01, 1.8861e-04, 1.5996e-04, 1.9322e-04, 2.0732e-04, 1.4119e-04])\n",
      "\n",
      "i feel disillusioned [[with]] the occult so i have come to feel a greater connection to the earth\n",
      "\n",
      "i feel disillusioned [[wіth]] the occult so i have come to feel a greater connection to the earth\n",
      "\n",
      "\n"
     ]
    },
    {
     "name": "stderr",
     "output_type": "stream",
     "text": [
      "[Succeeded / Failed / Skipped / Total] 110 / 136 / 0 / 246:  98%|█████████▊| 246/250 [03:06<00:03,  1.32it/s]"
     ]
    },
    {
     "name": "stdout",
     "output_type": "stream",
     "text": [
      "tensor([9.9896e-01, 2.0496e-04, 1.2876e-04, 3.3862e-04, 2.2206e-04, 1.4255e-04]) --> tensor([9.9898e-01, 1.9294e-04, 1.2168e-04, 3.3261e-04, 2.3925e-04, 1.3292e-04])\n",
      "\n",
      "i feel stupid whenever this happens\n",
      "\n",
      "і feel stupid whenever this happens\n",
      "--------------------------------------------- Result 246 ---------------------------------------------\n",
      "tensor([9.9896e-01, 2.0496e-04, 1.2876e-04, 3.3862e-04, 2.2206e-04, 1.4255e-04]) --> tensor([9.9898e-01, 1.9294e-04, 1.2168e-04, 3.3261e-04, 2.3925e-04, 1.3292e-04])\n",
      "\n",
      "[[i]] feel stupid whenever this happens\n",
      "\n",
      "[[і]] feel stupid whenever this happens\n",
      "\n",
      "\n"
     ]
    },
    {
     "name": "stderr",
     "output_type": "stream",
     "text": [
      "[Succeeded / Failed / Skipped / Total] 111 / 136 / 0 / 247:  99%|█████████▉| 247/250 [03:07<00:02,  1.32it/s]"
     ]
    },
    {
     "name": "stdout",
     "output_type": "stream",
     "text": [
      "tensor([9.9895e-01, 1.8639e-04, 1.8703e-04, 3.6952e-04, 1.5742e-04, 1.4891e-04]) --> tensor([9.9900e-01, 1.8424e-04, 1.7047e-04, 3.1760e-04, 1.7402e-04, 1.4960e-04])\n",
      "\n",
      "i come home and feel so shitty i cant bring myself to do all the work i need to do\n",
      "\n",
      "i cοme home and feel so shitty i cant bring myself to do all the work i need to do\n",
      "--------------------------------------------- Result 247 ---------------------------------------------\n",
      "tensor([9.9895e-01, 1.8639e-04, 1.8703e-04, 3.6952e-04, 1.5742e-04, 1.4891e-04]) --> tensor([9.9900e-01, 1.8424e-04, 1.7047e-04, 3.1760e-04, 1.7402e-04, 1.4960e-04])\n",
      "\n",
      "i [[come]] home and feel so shitty i cant bring myself to do all the work i need to do\n",
      "\n",
      "i [[cοme]] home and feel so shitty i cant bring myself to do all the work i need to do\n",
      "\n",
      "\n"
     ]
    },
    {
     "name": "stderr",
     "output_type": "stream",
     "text": [
      "[Succeeded / Failed / Skipped / Total] 111 / 137 / 0 / 248:  99%|█████████▉| 248/250 [03:07<00:01,  1.32it/s]"
     ]
    },
    {
     "name": "stdout",
     "output_type": "stream",
     "text": [
      "tensor([3.4462e-04, 2.5880e-04, 2.2236e-04, 9.9782e-01, 1.1622e-03, 1.9423e-04]) --> [FAILED]\n",
      "\n",
      "i feel like my irritable sensitive combination skin has finally met it s match\n",
      "--------------------------------------------- Result 248 ---------------------------------------------\n",
      "tensor([3.4462e-04, 2.5880e-04, 2.2236e-04, 9.9782e-01, 1.1622e-03, 1.9423e-04]) --> [[[FAILED]]]\n",
      "\n",
      "i feel like my irritable sensitive combination skin has finally met it s match\n",
      "\n",
      "\n"
     ]
    },
    {
     "name": "stderr",
     "output_type": "stream",
     "text": [
      "[Succeeded / Failed / Skipped / Total] 111 / 138 / 0 / 249: 100%|█████████▉| 249/250 [03:08<00:00,  1.32it/s]"
     ]
    },
    {
     "name": "stdout",
     "output_type": "stream",
     "text": [
      "tensor([2.3530e-04, 9.9882e-01, 2.5060e-04, 1.7010e-04, 1.8717e-04, 3.3663e-04]) --> [FAILED]\n",
      "\n",
      "i like it though its very over the top but makes me feel clever by association\n",
      "--------------------------------------------- Result 249 ---------------------------------------------\n",
      "tensor([2.3530e-04, 9.9882e-01, 2.5060e-04, 1.7010e-04, 1.8717e-04, 3.3663e-04]) --> [[[FAILED]]]\n",
      "\n",
      "i like it though its very over the top but makes me feel clever by association\n",
      "\n",
      "\n"
     ]
    },
    {
     "name": "stderr",
     "output_type": "stream",
     "text": [
      "[Succeeded / Failed / Skipped / Total] 111 / 139 / 0 / 250: 100%|██████████| 250/250 [03:09<00:00,  1.32it/s]"
     ]
    },
    {
     "name": "stdout",
     "output_type": "stream",
     "text": [
      "tensor([0.0023, 0.0048, 0.0011, 0.0012, 0.3177, 0.6730]) --> [FAILED]\n",
      "\n",
      "i will practice meditation if i feel overwhelmed and hopefully become successful in peaceful practice\n",
      "--------------------------------------------- Result 250 ---------------------------------------------\n",
      "tensor([0.0023, 0.0048, 0.0011, 0.0012, 0.3177, 0.6730]) --> [[[FAILED]]]\n",
      "\n",
      "i will practice meditation if i feel overwhelmed and hopefully become successful in peaceful practice\n",
      "\n",
      "\n",
      "\n",
      "+-------------------------------+--------+\n",
      "| Attack Results                |        |\n",
      "+-------------------------------+--------+\n",
      "| Number of successful attacks: | 111    |\n",
      "| Number of failed attacks:     | 139    |\n",
      "| Number of skipped attacks:    | 0      |\n",
      "| Original accuracy:            | 100.0% |\n",
      "| Accuracy under attack:        | 55.6%  |\n",
      "| Attack success rate:          | 44.4%  |\n",
      "| Average perturbed word %:     | 7.57%  |\n",
      "| Average num. words per input: | 18.75  |\n",
      "| Avg num queries:              | 240.18 |\n",
      "+-------------------------------+--------+\n"
     ]
    },
    {
     "name": "stderr",
     "output_type": "stream",
     "text": [
      "\n"
     ]
    }
   ],
   "source": [
    "class EmotionWrapper(ModelWrapper):\n",
    "\n",
    "    def __init__(self, model):\n",
    "        self.model = model\n",
    "\n",
    "    def __call__(self, input_texts: List[str]) -> List[List[float]]:\n",
    "\n",
    "        \"\"\"\n",
    "        Args:\n",
    "            input_texts: List[str]\n",
    "\n",
    "        Return:\n",
    "            ret: List[List[float]]\n",
    "            a list of elements, one per element of input_texts. Each element is a list of probabilities, one for each label.\n",
    "        \"\"\"\n",
    "        ret = []\n",
    "        for i in input_texts:\n",
    "            pred = self.model(i)[0]\n",
    "            scores = []\n",
    "            for j in pred:\n",
    "                scores.append(j['score'])\n",
    "            ret.append(scores)\n",
    "        return ret\n",
    "\n",
    "model = pipeline(\"text-classification\", model='bhadresh-savani/distilbert-base-uncased-emotion', return_all_scores=True, device=-1)\n",
    "model_wrapper = EmotionWrapper(model)\n",
    "\n",
    "attack = textattack.attack_recipes.BadCharacters2021.build(\n",
    "    model_wrapper, \n",
    "    goal_function_type=\"targeted_bonus\",\n",
    "    perturbation_type=args.perturbation_type\n",
    ")\n",
    "dataset = textattack.datasets.HuggingFaceDataset(\"emotion\", split=\"test\")\n",
    "print(dataset[0])\n",
    "attack_args = textattack.AttackArgs(\n",
    "    num_examples=250,\n",
    "    log_to_csv=\"results/emotion/log.csv\"\n",
    ")\n",
    "attacker = textattack.Attacker(attack, dataset, attack_args)\n",
    "attacker.attack_dataset()\n",
    "\n",
    "if args.store_results == False:\n",
    "    if os.path.isdir(\"results/emotion\"):\n",
    "        shutil.rmtree(\"results/emotion\")\n"
   ]
  },
  {
   "cell_type": "code",
   "execution_count": 5,
   "id": "1ff7dac4",
   "metadata": {},
   "outputs": [
    {
     "name": "stderr",
     "output_type": "stream",
     "text": [
      "Some weights of the model checkpoint at dbmdz/bert-large-cased-finetuned-conll03-english were not used when initializing BertForTokenClassification: ['bert.pooler.dense.bias', 'bert.pooler.dense.weight']\n",
      "- This IS expected if you are initializing BertForTokenClassification from the checkpoint of a model trained on another task or with another architecture (e.g. initializing a BertForSequenceClassification model from a BertForPreTraining model).\n",
      "- This IS NOT expected if you are initializing BertForTokenClassification from the checkpoint of a model that you expect to be exactly identical (initializing a BertForSequenceClassification model from a BertForSequenceClassification model).\n",
      "Hardware accelerator e.g. GPU is available in the environment, but no `device` argument is passed to the `Pipeline` object. Model will be on CPU.\n",
      "textattack: No entry found for goal function <class 'textattack.goal_functions.custom.named_entity_recognition.NamedEntityRecognition'>.\n",
      "textattack: Unknown if model of class <class 'transformers.pipelines.token_classification.TokenClassificationPipeline'> compatible with goal function <class 'textattack.goal_functions.custom.named_entity_recognition.NamedEntityRecognition'>.\n",
      "textattack: Logging to CSV at path results/named_entity_recognition/log.csv\n"
     ]
    },
    {
     "name": "stdout",
     "output_type": "stream",
     "text": [
      "Attack(\n",
      "  (search_method): DifferentialEvolution(\n",
      "    (popsize):  32\n",
      "    (maxiter):  10\n",
      "    (max_perturbs):  1\n",
      "    (verbose):  False\n",
      "  )\n",
      "  (goal_function):  NamedEntityRecognition\n",
      "  (transformation):  WordSwapHomoglyphSwap\n",
      "  (constraints): None\n",
      "  (is_black_box):  True\n",
      ") \n",
      "\n"
     ]
    },
    {
     "name": "stderr",
     "output_type": "stream",
     "text": [
      "[Succeeded / Failed / Skipped / Total] 1 / 0 / 0 / 1:  10%|█         | 1/10 [00:04<00:44,  4.99s/it]"
     ]
    },
    {
     "name": "stdout",
     "output_type": "stream",
     "text": [
      "--------------------------------------------- Result 1 ---------------------------------------------\n",
      "[\n",
      "  {\n",
      "    \"entity\": \"I-MISC\",\n",
      "    \"score\": 0.9950999617576599,\n",
      "    \"index\": 6,\n",
      "    \"word\": \"J\",\n",
      "    \"start\": 8,\n",
      "    \"end\": 9\n",
      "  },\n",
      "  {\n",
      "    \"entity\": \"I-MISC\",\n",
      "    \"score\": 0.9684495329856873,\n",
      "    \"index\": 7,\n",
      "    \"word\": \"##AP\",\n",
      "    \"start\": 9,\n",
      "    \"end\": 11\n",
      "  },\n",
      "  {\n",
      "    \"entity\": \"I-MISC\",\n",
      "    \"score\": 0.9932603240013123,\n",
      "    \"index\": 8,\n",
      "    \"word\": \"##AN\",\n",
      "    \"start\": 11,\n",
      "    \"end\": 13\n",
      "  },\n",
      "  {\n",
      "    \"entity\": \"I-LOC\",\n",
      "    \"score\": 0.541292130947113,\n",
      "    \"index\": 18,\n",
      "    \"word\": \"CH\",\n",
      "    \"start\": 29,\n",
      "    \"end\": 31\n",
      "  },\n",
      "  {\n",
      "    \"entity\": \"I-LOC\",\n",
      "    \"score\": 0.5053967237472534,\n",
      "    \"index\": 19,\n",
      "    \"word\": \"##IN\",\n",
      "    \"start\": 31,\n",
      "    \"end\": 33\n",
      "  },\n",
      "  {\n",
      "    \"entity\": \"I-ORG\",\n",
      "    \"score\": 0.7646154761314392,\n",
      "    \"index\": 20,\n",
      "    \"word\": \"##A\",\n",
      "    \"start\": 33,\n",
      "    \"end\": 34\n",
      "  }\n",
      "] --> [\n",
      "  {\n",
      "    \"entity\": \"I-MISC\",\n",
      "    \"score\": 0.9942578077316284,\n",
      "    \"index\": 6,\n",
      "    \"word\": \"J\",\n",
      "    \"start\": 8,\n",
      "    \"end\": 9\n",
      "  },\n",
      "  {\n",
      "    \"entity\": \"I-MISC\",\n",
      "    \"score\": 0.9541321992874146,\n",
      "    \"index\": 7,\n",
      "    \"word\": \"##AP\",\n",
      "    \"start\": 9,\n",
      "    \"end\": 11\n",
      "  },\n",
      "  {\n",
      "    \"entity\": \"I-MISC\",\n",
      "    \"score\": 0.9904216527938843,\n",
      "    \"index\": 8,\n",
      "    \"word\": \"##AN\",\n",
      "    \"start\": 11,\n",
      "    \"end\": 13\n",
      "  },\n",
      "  {\n",
      "    \"entity\": \"I-PER\",\n",
      "    \"score\": 0.4551286995410919,\n",
      "    \"index\": 11,\n",
      "    \"word\": \"L\",\n",
      "    \"start\": 18,\n",
      "    \"end\": 19\n",
      "  },\n",
      "  {\n",
      "    \"entity\": \"I-LOC\",\n",
      "    \"score\": 0.43001270294189453,\n",
      "    \"index\": 12,\n",
      "    \"word\": \"##U\",\n",
      "    \"start\": 19,\n",
      "    \"end\": 20\n",
      "  },\n",
      "  {\n",
      "    \"entity\": \"I-LOC\",\n",
      "    \"score\": 0.3731754720211029,\n",
      "    \"index\": 13,\n",
      "    \"word\": \"##С\",\n",
      "    \"start\": 20,\n",
      "    \"end\": 21\n",
      "  },\n",
      "  {\n",
      "    \"entity\": \"I-PER\",\n",
      "    \"score\": 0.2691863775253296,\n",
      "    \"index\": 14,\n",
      "    \"word\": \"##K\",\n",
      "    \"start\": 21,\n",
      "    \"end\": 22\n",
      "  },\n",
      "  {\n",
      "    \"entity\": \"I-LOC\",\n",
      "    \"score\": 0.5869559049606323,\n",
      "    \"index\": 19,\n",
      "    \"word\": \"CH\",\n",
      "    \"start\": 29,\n",
      "    \"end\": 31\n",
      "  },\n",
      "  {\n",
      "    \"entity\": \"I-LOC\",\n",
      "    \"score\": 0.5285390019416809,\n",
      "    \"index\": 20,\n",
      "    \"word\": \"##IN\",\n",
      "    \"start\": 31,\n",
      "    \"end\": 33\n",
      "  },\n",
      "  {\n",
      "    \"entity\": \"I-ORG\",\n",
      "    \"score\": 0.7942052483558655,\n",
      "    \"index\": 21,\n",
      "    \"word\": \"##A\",\n",
      "    \"start\": 33,\n",
      "    \"end\": 34\n",
      "  }\n",
      "]\n",
      "\n",
      "SOCCER- JAPAN GET [[LUCKY]] WIN, CHINA IN SURPRISE DEFEAT.\n",
      "\n",
      "SOCCER- JAPAN GET [[LUСKY]] WIN, CHINA IN SURPRISE DEFEAT.\n",
      "\n",
      "\n"
     ]
    },
    {
     "name": "stderr",
     "output_type": "stream",
     "text": [
      "[Succeeded / Failed / Skipped / Total] 2 / 0 / 0 / 2:  20%|██        | 2/10 [00:05<00:23,  2.91s/it]"
     ]
    },
    {
     "name": "stdout",
     "output_type": "stream",
     "text": [
      "--------------------------------------------- Result 2 ---------------------------------------------\n",
      "[\n",
      "  {\n",
      "    \"entity\": \"I-PER\",\n",
      "    \"score\": 0.9996979236602783,\n",
      "    \"index\": 1,\n",
      "    \"word\": \"Na\",\n",
      "    \"start\": 0,\n",
      "    \"end\": 2\n",
      "  },\n",
      "  {\n",
      "    \"entity\": \"I-PER\",\n",
      "    \"score\": 0.9929589033126831,\n",
      "    \"index\": 2,\n",
      "    \"word\": \"##di\",\n",
      "    \"start\": 2,\n",
      "    \"end\": 4\n",
      "  },\n",
      "  {\n",
      "    \"entity\": \"I-PER\",\n",
      "    \"score\": 0.9990008473396301,\n",
      "    \"index\": 3,\n",
      "    \"word\": \"##m\",\n",
      "    \"start\": 4,\n",
      "    \"end\": 5\n",
      "  },\n",
      "  {\n",
      "    \"entity\": \"I-PER\",\n",
      "    \"score\": 0.9996190071105957,\n",
      "    \"index\": 4,\n",
      "    \"word\": \"La\",\n",
      "    \"start\": 6,\n",
      "    \"end\": 8\n",
      "  },\n",
      "  {\n",
      "    \"entity\": \"I-PER\",\n",
      "    \"score\": 0.9780004620552063,\n",
      "    \"index\": 5,\n",
      "    \"word\": \"##d\",\n",
      "    \"start\": 8,\n",
      "    \"end\": 9\n",
      "  },\n",
      "  {\n",
      "    \"entity\": \"I-PER\",\n",
      "    \"score\": 0.9701477885246277,\n",
      "    \"index\": 6,\n",
      "    \"word\": \"##ki\",\n",
      "    \"start\": 9,\n",
      "    \"end\": 11\n",
      "  }\n",
      "] --> [\n",
      "  {\n",
      "    \"entity\": \"I-PER\",\n",
      "    \"score\": 0.9996484518051147,\n",
      "    \"index\": 1,\n",
      "    \"word\": \"Na\",\n",
      "    \"start\": 0,\n",
      "    \"end\": 2\n",
      "  },\n",
      "  {\n",
      "    \"entity\": \"I-PER\",\n",
      "    \"score\": 0.9934110045433044,\n",
      "    \"index\": 2,\n",
      "    \"word\": \"##di\",\n",
      "    \"start\": 2,\n",
      "    \"end\": 4\n",
      "  },\n",
      "  {\n",
      "    \"entity\": \"I-PER\",\n",
      "    \"score\": 0.9991694688796997,\n",
      "    \"index\": 3,\n",
      "    \"word\": \"##m\",\n",
      "    \"start\": 4,\n",
      "    \"end\": 5\n",
      "  },\n",
      "  {\n",
      "    \"entity\": \"I-PER\",\n",
      "    \"score\": 0.9991093277931213,\n",
      "    \"index\": 4,\n",
      "    \"word\": \"L\",\n",
      "    \"start\": 6,\n",
      "    \"end\": 7\n",
      "  },\n",
      "  {\n",
      "    \"entity\": \"I-PER\",\n",
      "    \"score\": 0.9616693258285522,\n",
      "    \"index\": 5,\n",
      "    \"word\": \"##а\",\n",
      "    \"start\": 7,\n",
      "    \"end\": 8\n",
      "  },\n",
      "  {\n",
      "    \"entity\": \"I-PER\",\n",
      "    \"score\": 0.8536984324455261,\n",
      "    \"index\": 6,\n",
      "    \"word\": \"##d\",\n",
      "    \"start\": 8,\n",
      "    \"end\": 9\n",
      "  },\n",
      "  {\n",
      "    \"entity\": \"I-PER\",\n",
      "    \"score\": 0.9816961288452148,\n",
      "    \"index\": 7,\n",
      "    \"word\": \"##ki\",\n",
      "    \"start\": 9,\n",
      "    \"end\": 11\n",
      "  }\n",
      "]\n",
      "\n",
      "Nadim [[Ladki]]\n",
      "\n",
      "Nadim [[Lаdki]]\n",
      "\n",
      "\n"
     ]
    },
    {
     "name": "stderr",
     "output_type": "stream",
     "text": [
      "[Succeeded / Failed / Skipped / Total] 2 / 1 / 0 / 3:  30%|███       | 3/10 [00:07<00:16,  2.41s/it]"
     ]
    },
    {
     "name": "stdout",
     "output_type": "stream",
     "text": [
      "--------------------------------------------- Result 3 ---------------------------------------------\n",
      "[\n",
      "  {\n",
      "    \"entity\": \"I-LOC\",\n",
      "    \"score\": 0.9984487295150757,\n",
      "    \"index\": 1,\n",
      "    \"word\": \"AL\",\n",
      "    \"start\": 0,\n",
      "    \"end\": 2\n",
      "  },\n",
      "  {\n",
      "    \"entity\": \"I-LOC\",\n",
      "    \"score\": 0.9677120447158813,\n",
      "    \"index\": 2,\n",
      "    \"word\": \"-\",\n",
      "    \"start\": 2,\n",
      "    \"end\": 3\n",
      "  },\n",
      "  {\n",
      "    \"entity\": \"I-LOC\",\n",
      "    \"score\": 0.995570957660675,\n",
      "    \"index\": 3,\n",
      "    \"word\": \"AI\",\n",
      "    \"start\": 3,\n",
      "    \"end\": 5\n",
      "  },\n",
      "  {\n",
      "    \"entity\": \"I-LOC\",\n",
      "    \"score\": 0.9939817786216736,\n",
      "    \"index\": 4,\n",
      "    \"word\": \"##N\",\n",
      "    \"start\": 5,\n",
      "    \"end\": 6\n",
      "  },\n",
      "  {\n",
      "    \"entity\": \"I-LOC\",\n",
      "    \"score\": 0.9997562766075134,\n",
      "    \"index\": 6,\n",
      "    \"word\": \"United\",\n",
      "    \"start\": 8,\n",
      "    \"end\": 14\n",
      "  },\n",
      "  {\n",
      "    \"entity\": \"I-LOC\",\n",
      "    \"score\": 0.9997227787971497,\n",
      "    \"index\": 7,\n",
      "    \"word\": \"Arab\",\n",
      "    \"start\": 15,\n",
      "    \"end\": 19\n",
      "  },\n",
      "  {\n",
      "    \"entity\": \"I-LOC\",\n",
      "    \"score\": 0.9998668432235718,\n",
      "    \"index\": 8,\n",
      "    \"word\": \"Emirates\",\n",
      "    \"start\": 20,\n",
      "    \"end\": 28\n",
      "  }\n",
      "] --> [[[FAILED]]]\n",
      "\n",
      "AL-AIN, United Arab Emirates 1996-12-06\n",
      "\n",
      "\n"
     ]
    },
    {
     "name": "stderr",
     "output_type": "stream",
     "text": [
      "[Succeeded / Failed / Skipped / Total] 2 / 2 / 0 / 4:  40%|████      | 4/10 [00:10<00:15,  2.65s/it]"
     ]
    },
    {
     "name": "stdout",
     "output_type": "stream",
     "text": [
      "--------------------------------------------- Result 4 ---------------------------------------------\n",
      "[\n",
      "  {\n",
      "    \"entity\": \"I-LOC\",\n",
      "    \"score\": 0.9998020529747009,\n",
      "    \"index\": 1,\n",
      "    \"word\": \"Japan\",\n",
      "    \"start\": 0,\n",
      "    \"end\": 5\n",
      "  },\n",
      "  {\n",
      "    \"entity\": \"I-MISC\",\n",
      "    \"score\": 0.9762685298919678,\n",
      "    \"index\": 7,\n",
      "    \"word\": \"Asian\",\n",
      "    \"start\": 33,\n",
      "    \"end\": 38\n",
      "  },\n",
      "  {\n",
      "    \"entity\": \"I-MISC\",\n",
      "    \"score\": 0.9974727034568787,\n",
      "    \"index\": 8,\n",
      "    \"word\": \"Cup\",\n",
      "    \"start\": 39,\n",
      "    \"end\": 42\n",
      "  },\n",
      "  {\n",
      "    \"entity\": \"I-LOC\",\n",
      "    \"score\": 0.9997666478157043,\n",
      "    \"index\": 18,\n",
      "    \"word\": \"Syria\",\n",
      "    \"start\": 78,\n",
      "    \"end\": 83\n",
      "  }\n",
      "] --> [[[FAILED]]]\n",
      "\n",
      "Japan began the defence of their Asian Cup title with a lucky 2-1 win against Syria in a Group C championship match on Friday.\n",
      "\n",
      "\n"
     ]
    },
    {
     "name": "stderr",
     "output_type": "stream",
     "text": [
      "[Succeeded / Failed / Skipped / Total] 2 / 3 / 0 / 5:  50%|█████     | 5/10 [00:14<00:14,  2.81s/it]"
     ]
    },
    {
     "name": "stdout",
     "output_type": "stream",
     "text": [
      "--------------------------------------------- Result 5 ---------------------------------------------\n",
      "[\n",
      "  {\n",
      "    \"entity\": \"I-LOC\",\n",
      "    \"score\": 0.9998183846473694,\n",
      "    \"index\": 2,\n",
      "    \"word\": \"China\",\n",
      "    \"start\": 4,\n",
      "    \"end\": 9\n",
      "  },\n",
      "  {\n",
      "    \"entity\": \"I-LOC\",\n",
      "    \"score\": 0.9996594190597534,\n",
      "    \"index\": 27,\n",
      "    \"word\": \"Uzbekistan\",\n",
      "    \"start\": 118,\n",
      "    \"end\": 128\n",
      "  }\n",
      "] --> [[[FAILED]]]\n",
      "\n",
      "But China saw their luck desert them in the second match of the group, crashing to a surprise 2-0 defeat to newcomers Uzbekistan.\n",
      "\n",
      "\n"
     ]
    },
    {
     "name": "stderr",
     "output_type": "stream",
     "text": [
      "[Succeeded / Failed / Skipped / Total] 3 / 3 / 0 / 6:  60%|██████    | 6/10 [00:22<00:14,  3.68s/it]"
     ]
    },
    {
     "name": "stdout",
     "output_type": "stream",
     "text": [
      "--------------------------------------------- Result 6 ---------------------------------------------\n",
      "[\n",
      "  {\n",
      "    \"entity\": \"I-LOC\",\n",
      "    \"score\": 0.9997816681861877,\n",
      "    \"index\": 1,\n",
      "    \"word\": \"China\",\n",
      "    \"start\": 0,\n",
      "    \"end\": 5\n",
      "  },\n",
      "  {\n",
      "    \"entity\": \"I-MISC\",\n",
      "    \"score\": 0.9979750514030457,\n",
      "    \"index\": 18,\n",
      "    \"word\": \"U\",\n",
      "    \"start\": 93,\n",
      "    \"end\": 94\n",
      "  },\n",
      "  {\n",
      "    \"entity\": \"I-MISC\",\n",
      "    \"score\": 0.989479124546051,\n",
      "    \"index\": 19,\n",
      "    \"word\": \"##z\",\n",
      "    \"start\": 94,\n",
      "    \"end\": 95\n",
      "  },\n",
      "  {\n",
      "    \"entity\": \"I-MISC\",\n",
      "    \"score\": 0.996921956539154,\n",
      "    \"index\": 20,\n",
      "    \"word\": \"##bek\",\n",
      "    \"start\": 95,\n",
      "    \"end\": 98\n",
      "  },\n",
      "  {\n",
      "    \"entity\": \"I-PER\",\n",
      "    \"score\": 0.9994372725486755,\n",
      "    \"index\": 22,\n",
      "    \"word\": \"Igor\",\n",
      "    \"start\": 107,\n",
      "    \"end\": 111\n",
      "  },\n",
      "  {\n",
      "    \"entity\": \"I-PER\",\n",
      "    \"score\": 0.9995008707046509,\n",
      "    \"index\": 23,\n",
      "    \"word\": \"S\",\n",
      "    \"start\": 112,\n",
      "    \"end\": 113\n",
      "  },\n",
      "  {\n",
      "    \"entity\": \"I-PER\",\n",
      "    \"score\": 0.9525274038314819,\n",
      "    \"index\": 24,\n",
      "    \"word\": \"##h\",\n",
      "    \"start\": 113,\n",
      "    \"end\": 114\n",
      "  },\n",
      "  {\n",
      "    \"entity\": \"I-PER\",\n",
      "    \"score\": 0.7246343493461609,\n",
      "    \"index\": 25,\n",
      "    \"word\": \"##k\",\n",
      "    \"start\": 114,\n",
      "    \"end\": 115\n",
      "  },\n",
      "  {\n",
      "    \"entity\": \"I-PER\",\n",
      "    \"score\": 0.8198036551475525,\n",
      "    \"index\": 26,\n",
      "    \"word\": \"##vy\",\n",
      "    \"start\": 115,\n",
      "    \"end\": 117\n",
      "  },\n",
      "  {\n",
      "    \"entity\": \"I-PER\",\n",
      "    \"score\": 0.9968863129615784,\n",
      "    \"index\": 27,\n",
      "    \"word\": \"##rin\",\n",
      "    \"start\": 117,\n",
      "    \"end\": 120\n",
      "  },\n",
      "  {\n",
      "    \"entity\": \"I-MISC\",\n",
      "    \"score\": 0.999038815498352,\n",
      "    \"index\": 47,\n",
      "    \"word\": \"Chinese\",\n",
      "    \"start\": 205,\n",
      "    \"end\": 212\n",
      "  }\n",
      "] --> [\n",
      "  {\n",
      "    \"entity\": \"I-LOC\",\n",
      "    \"score\": 0.9997778534889221,\n",
      "    \"index\": 1,\n",
      "    \"word\": \"China\",\n",
      "    \"start\": 0,\n",
      "    \"end\": 5\n",
      "  },\n",
      "  {\n",
      "    \"entity\": \"I-MISC\",\n",
      "    \"score\": 0.9980767965316772,\n",
      "    \"index\": 18,\n",
      "    \"word\": \"U\",\n",
      "    \"start\": 93,\n",
      "    \"end\": 94\n",
      "  },\n",
      "  {\n",
      "    \"entity\": \"I-MISC\",\n",
      "    \"score\": 0.989856481552124,\n",
      "    \"index\": 19,\n",
      "    \"word\": \"##z\",\n",
      "    \"start\": 94,\n",
      "    \"end\": 95\n",
      "  },\n",
      "  {\n",
      "    \"entity\": \"I-MISC\",\n",
      "    \"score\": 0.9967934489250183,\n",
      "    \"index\": 20,\n",
      "    \"word\": \"##bek\",\n",
      "    \"start\": 95,\n",
      "    \"end\": 98\n",
      "  },\n",
      "  {\n",
      "    \"entity\": \"I-PER\",\n",
      "    \"score\": 0.9990713596343994,\n",
      "    \"index\": 22,\n",
      "    \"word\": \"I\",\n",
      "    \"start\": 107,\n",
      "    \"end\": 108\n",
      "  },\n",
      "  {\n",
      "    \"entity\": \"I-PER\",\n",
      "    \"score\": 0.9601768255233765,\n",
      "    \"index\": 23,\n",
      "    \"word\": \"##g\",\n",
      "    \"start\": 108,\n",
      "    \"end\": 109\n",
      "  },\n",
      "  {\n",
      "    \"entity\": \"I-PER\",\n",
      "    \"score\": 0.9561796188354492,\n",
      "    \"index\": 24,\n",
      "    \"word\": \"##ο\",\n",
      "    \"start\": 109,\n",
      "    \"end\": 110\n",
      "  },\n",
      "  {\n",
      "    \"entity\": \"I-PER\",\n",
      "    \"score\": 0.9983696341514587,\n",
      "    \"index\": 25,\n",
      "    \"word\": \"##r\",\n",
      "    \"start\": 110,\n",
      "    \"end\": 111\n",
      "  },\n",
      "  {\n",
      "    \"entity\": \"I-PER\",\n",
      "    \"score\": 0.9997169375419617,\n",
      "    \"index\": 26,\n",
      "    \"word\": \"S\",\n",
      "    \"start\": 112,\n",
      "    \"end\": 113\n",
      "  },\n",
      "  {\n",
      "    \"entity\": \"I-PER\",\n",
      "    \"score\": 0.958065390586853,\n",
      "    \"index\": 27,\n",
      "    \"word\": \"##h\",\n",
      "    \"start\": 113,\n",
      "    \"end\": 114\n",
      "  },\n",
      "  {\n",
      "    \"entity\": \"I-PER\",\n",
      "    \"score\": 0.7516828179359436,\n",
      "    \"index\": 28,\n",
      "    \"word\": \"##k\",\n",
      "    \"start\": 114,\n",
      "    \"end\": 115\n",
      "  },\n",
      "  {\n",
      "    \"entity\": \"I-PER\",\n",
      "    \"score\": 0.8039079904556274,\n",
      "    \"index\": 29,\n",
      "    \"word\": \"##vy\",\n",
      "    \"start\": 115,\n",
      "    \"end\": 117\n",
      "  },\n",
      "  {\n",
      "    \"entity\": \"I-PER\",\n",
      "    \"score\": 0.9888207912445068,\n",
      "    \"index\": 30,\n",
      "    \"word\": \"##rin\",\n",
      "    \"start\": 117,\n",
      "    \"end\": 120\n",
      "  },\n",
      "  {\n",
      "    \"entity\": \"I-MISC\",\n",
      "    \"score\": 0.9990665316581726,\n",
      "    \"index\": 50,\n",
      "    \"word\": \"Chinese\",\n",
      "    \"start\": 205,\n",
      "    \"end\": 212\n",
      "  }\n",
      "]\n",
      "\n",
      "China controlled most of the match and saw several chances missed until the 78th minute when Uzbek striker [[Igor]] Shkvyrin took advantage of a misdirected defensive header to lob the ball over the advancing Chinese keeper and into an empty net.\n",
      "\n",
      "China controlled most of the match and saw several chances missed until the 78th minute when Uzbek striker [[Igοr]] Shkvyrin took advantage of a misdirected defensive header to lob the ball over the advancing Chinese keeper and into an empty net.\n",
      "\n",
      "\n"
     ]
    },
    {
     "name": "stderr",
     "output_type": "stream",
     "text": [
      "[Succeeded / Failed / Skipped / Total] 4 / 3 / 0 / 7:  70%|███████   | 7/10 [00:25<00:11,  3.70s/it]"
     ]
    },
    {
     "name": "stdout",
     "output_type": "stream",
     "text": [
      "--------------------------------------------- Result 7 ---------------------------------------------\n",
      "[\n",
      "  {\n",
      "    \"entity\": \"I-PER\",\n",
      "    \"score\": 0.9992066025733948,\n",
      "    \"index\": 1,\n",
      "    \"word\": \"Ole\",\n",
      "    \"start\": 0,\n",
      "    \"end\": 3\n",
      "  },\n",
      "  {\n",
      "    \"entity\": \"I-PER\",\n",
      "    \"score\": 0.9995224475860596,\n",
      "    \"index\": 2,\n",
      "    \"word\": \"##g\",\n",
      "    \"start\": 3,\n",
      "    \"end\": 4\n",
      "  },\n",
      "  {\n",
      "    \"entity\": \"I-PER\",\n",
      "    \"score\": 0.9996681213378906,\n",
      "    \"index\": 3,\n",
      "    \"word\": \"S\",\n",
      "    \"start\": 5,\n",
      "    \"end\": 6\n",
      "  },\n",
      "  {\n",
      "    \"entity\": \"I-PER\",\n",
      "    \"score\": 0.9951527118682861,\n",
      "    \"index\": 4,\n",
      "    \"word\": \"##hat\",\n",
      "    \"start\": 6,\n",
      "    \"end\": 9\n",
      "  },\n",
      "  {\n",
      "    \"entity\": \"I-PER\",\n",
      "    \"score\": 0.9679039716720581,\n",
      "    \"index\": 5,\n",
      "    \"word\": \"##ski\",\n",
      "    \"start\": 9,\n",
      "    \"end\": 12\n",
      "  },\n",
      "  {\n",
      "    \"entity\": \"I-PER\",\n",
      "    \"score\": 0.9797117114067078,\n",
      "    \"index\": 6,\n",
      "    \"word\": \"##ku\",\n",
      "    \"start\": 12,\n",
      "    \"end\": 14\n",
      "  }\n",
      "] --> [\n",
      "  {\n",
      "    \"entity\": \"I-PER\",\n",
      "    \"score\": 0.9989537000656128,\n",
      "    \"index\": 1,\n",
      "    \"word\": \"Ole\",\n",
      "    \"start\": 0,\n",
      "    \"end\": 3\n",
      "  },\n",
      "  {\n",
      "    \"entity\": \"I-PER\",\n",
      "    \"score\": 0.9995146989822388,\n",
      "    \"index\": 2,\n",
      "    \"word\": \"##g\",\n",
      "    \"start\": 3,\n",
      "    \"end\": 4\n",
      "  },\n",
      "  {\n",
      "    \"entity\": \"I-PER\",\n",
      "    \"score\": 0.9996217489242554,\n",
      "    \"index\": 3,\n",
      "    \"word\": \"S\",\n",
      "    \"start\": 5,\n",
      "    \"end\": 6\n",
      "  },\n",
      "  {\n",
      "    \"entity\": \"I-PER\",\n",
      "    \"score\": 0.9259416460990906,\n",
      "    \"index\": 4,\n",
      "    \"word\": \"##h\",\n",
      "    \"start\": 6,\n",
      "    \"end\": 7\n",
      "  },\n",
      "  {\n",
      "    \"entity\": \"I-PER\",\n",
      "    \"score\": 0.9733062386512756,\n",
      "    \"index\": 5,\n",
      "    \"word\": \"##а\",\n",
      "    \"start\": 7,\n",
      "    \"end\": 8\n",
      "  },\n",
      "  {\n",
      "    \"entity\": \"I-PER\",\n",
      "    \"score\": 0.9973963499069214,\n",
      "    \"index\": 6,\n",
      "    \"word\": \"##tsk\",\n",
      "    \"start\": 8,\n",
      "    \"end\": 11\n",
      "  },\n",
      "  {\n",
      "    \"entity\": \"I-PER\",\n",
      "    \"score\": 0.8436657190322876,\n",
      "    \"index\": 7,\n",
      "    \"word\": \"##ik\",\n",
      "    \"start\": 11,\n",
      "    \"end\": 13\n",
      "  },\n",
      "  {\n",
      "    \"entity\": \"I-PER\",\n",
      "    \"score\": 0.9229859113693237,\n",
      "    \"index\": 8,\n",
      "    \"word\": \"##u\",\n",
      "    \"start\": 13,\n",
      "    \"end\": 14\n",
      "  }\n",
      "]\n",
      "\n",
      "Oleg [[Shatskiku]] made sure of the win in injury time, hitting an unstoppable left foot shot from just outside the area.\n",
      "\n",
      "Oleg [[Shаtskiku]] made sure of the win in injury time, hitting an unstoppable left foot shot from just outside the area.\n",
      "\n",
      "\n"
     ]
    },
    {
     "name": "stderr",
     "output_type": "stream",
     "text": [
      "[Succeeded / Failed / Skipped / Total] 4 / 4 / 0 / 8:  80%|████████  | 8/10 [00:28<00:07,  3.62s/it]"
     ]
    },
    {
     "name": "stdout",
     "output_type": "stream",
     "text": [
      "--------------------------------------------- Result 8 ---------------------------------------------\n",
      "[\n",
      "  {\n",
      "    \"entity\": \"I-MISC\",\n",
      "    \"score\": 0.9985392093658447,\n",
      "    \"index\": 3,\n",
      "    \"word\": \"Soviet\",\n",
      "    \"start\": 11,\n",
      "    \"end\": 17\n",
      "  },\n",
      "  {\n",
      "    \"entity\": \"I-MISC\",\n",
      "    \"score\": 0.9799859523773193,\n",
      "    \"index\": 9,\n",
      "    \"word\": \"Asian\",\n",
      "    \"start\": 45,\n",
      "    \"end\": 50\n",
      "  },\n",
      "  {\n",
      "    \"entity\": \"I-MISC\",\n",
      "    \"score\": 0.9974244832992554,\n",
      "    \"index\": 10,\n",
      "    \"word\": \"Cup\",\n",
      "    \"start\": 51,\n",
      "    \"end\": 54\n",
      "  }\n",
      "] --> [[[FAILED]]]\n",
      "\n",
      "The former Soviet republic was playing in an Asian Cup finals tie for the first time.\n",
      "\n",
      "\n"
     ]
    },
    {
     "name": "stderr",
     "output_type": "stream",
     "text": [
      "[Succeeded / Failed / Skipped / Total] 5 / 4 / 0 / 9:  90%|█████████ | 9/10 [00:32<00:03,  3.64s/it]"
     ]
    },
    {
     "name": "stdout",
     "output_type": "stream",
     "text": [
      "--------------------------------------------- Result 9 ---------------------------------------------\n",
      "[\n",
      "  {\n",
      "    \"entity\": \"I-MISC\",\n",
      "    \"score\": 0.9735670685768127,\n",
      "    \"index\": 4,\n",
      "    \"word\": \"Asian\",\n",
      "    \"start\": 20,\n",
      "    \"end\": 25\n",
      "  },\n",
      "  {\n",
      "    \"entity\": \"I-MISC\",\n",
      "    \"score\": 0.9971873164176941,\n",
      "    \"index\": 5,\n",
      "    \"word\": \"Games\",\n",
      "    \"start\": 26,\n",
      "    \"end\": 31\n",
      "  },\n",
      "  {\n",
      "    \"entity\": \"I-LOC\",\n",
      "    \"score\": 0.9997908473014832,\n",
      "    \"index\": 11,\n",
      "    \"word\": \"Uzbekistan\",\n",
      "    \"start\": 53,\n",
      "    \"end\": 63\n",
      "  }\n",
      "] --> [\n",
      "  {\n",
      "    \"entity\": \"I-PER\",\n",
      "    \"score\": 0.637923002243042,\n",
      "    \"index\": 1,\n",
      "    \"word\": \"D\",\n",
      "    \"start\": 0,\n",
      "    \"end\": 1\n",
      "  },\n",
      "  {\n",
      "    \"entity\": \"I-ORG\",\n",
      "    \"score\": 0.7454715967178345,\n",
      "    \"index\": 2,\n",
      "    \"word\": \"##е\",\n",
      "    \"start\": 1,\n",
      "    \"end\": 2\n",
      "  },\n",
      "  {\n",
      "    \"entity\": \"I-ORG\",\n",
      "    \"score\": 0.8040305972099304,\n",
      "    \"index\": 3,\n",
      "    \"word\": \"##sp\",\n",
      "    \"start\": 2,\n",
      "    \"end\": 4\n",
      "  },\n",
      "  {\n",
      "    \"entity\": \"I-ORG\",\n",
      "    \"score\": 0.8762766122817993,\n",
      "    \"index\": 4,\n",
      "    \"word\": \"##ite\",\n",
      "    \"start\": 4,\n",
      "    \"end\": 7\n",
      "  },\n",
      "  {\n",
      "    \"entity\": \"I-MISC\",\n",
      "    \"score\": 0.9774352312088013,\n",
      "    \"index\": 7,\n",
      "    \"word\": \"Asian\",\n",
      "    \"start\": 20,\n",
      "    \"end\": 25\n",
      "  },\n",
      "  {\n",
      "    \"entity\": \"I-MISC\",\n",
      "    \"score\": 0.996993899345398,\n",
      "    \"index\": 8,\n",
      "    \"word\": \"Games\",\n",
      "    \"start\": 26,\n",
      "    \"end\": 31\n",
      "  },\n",
      "  {\n",
      "    \"entity\": \"I-LOC\",\n",
      "    \"score\": 0.9997883439064026,\n",
      "    \"index\": 14,\n",
      "    \"word\": \"Uzbekistan\",\n",
      "    \"start\": 53,\n",
      "    \"end\": 63\n",
      "  }\n",
      "]\n",
      "\n",
      "[[Despite]] winning the Asian Games title two years ago, Uzbekistan are in the finals as outsiders.\n",
      "\n",
      "[[Dеspite]] winning the Asian Games title two years ago, Uzbekistan are in the finals as outsiders.\n",
      "\n",
      "\n"
     ]
    },
    {
     "name": "stderr",
     "output_type": "stream",
     "text": [
      "[Succeeded / Failed / Skipped / Total] 5 / 5 / 0 / 10: 100%|██████████| 10/10 [00:36<00:00,  3.63s/it]"
     ]
    },
    {
     "name": "stdout",
     "output_type": "stream",
     "text": [
      "--------------------------------------------- Result 10 ---------------------------------------------\n",
      "[\n",
      "  {\n",
      "    \"entity\": \"I-LOC\",\n",
      "    \"score\": 0.9997974038124084,\n",
      "    \"index\": 12,\n",
      "    \"word\": \"Japan\",\n",
      "    \"start\": 64,\n",
      "    \"end\": 69\n",
      "  },\n",
      "  {\n",
      "    \"entity\": \"I-LOC\",\n",
      "    \"score\": 0.9998229146003723,\n",
      "    \"index\": 27,\n",
      "    \"word\": \"Syria\",\n",
      "    \"start\": 154,\n",
      "    \"end\": 159\n",
      "  }\n",
      "] --> [[[FAILED]]]\n",
      "\n",
      "Two goals from defensive errors in the last six minutes allowed Japan to come from behind and collect all three points from their opening meeting against Syria.\n",
      "\n",
      "\n",
      "\n",
      "+-------------------------------+--------+\n",
      "| Attack Results                |        |\n",
      "+-------------------------------+--------+\n",
      "| Number of successful attacks: | 5      |\n",
      "| Number of failed attacks:     | 5      |\n",
      "| Number of skipped attacks:    | 0      |\n",
      "| Original accuracy:            | 100.0% |\n",
      "| Accuracy under attack:        | 50.0%  |\n",
      "| Attack success rate:          | 50.0%  |\n",
      "| Average perturbed word %:     | 14.91% |\n",
      "| Average num. words per input: | 18.4   |\n",
      "| Avg num queries:              | 191.8  |\n",
      "+-------------------------------+--------+\n"
     ]
    },
    {
     "name": "stderr",
     "output_type": "stream",
     "text": [
      "\n"
     ]
    }
   ],
   "source": [
    "class NERModelWrapper(ModelWrapper):\n",
    "    def __init__(self, model):\n",
    "        self.model = model\n",
    "\n",
    "    def __call__(self, input_texts: List[str]):\n",
    "        \"\"\"\n",
    "        Args:\n",
    "            input_texts: List[str]\n",
    "        \n",
    "        Return:\n",
    "            ret\n",
    "                Model output\n",
    "        \"\"\"\n",
    "        ret = []\n",
    "        for i in input_texts:\n",
    "            pred = self.model(i)\n",
    "            ret.append(pred)\n",
    "        return ret\n",
    "\n",
    "model = pipeline(\"ner\", model=\"dbmdz/bert-large-cased-finetuned-conll03-english\")\n",
    "model_wrapper = NERModelWrapper(model)\n",
    "ner_classes = ['PER', 'ORG', 'LOC', 'MISC']\n",
    "attack = textattack.attack_recipes.BadCharacters2021.build(\n",
    "    model_wrapper, \n",
    "    goal_function_type=\"named_entity_recognition\", \n",
    "    perturbation_type=args.perturbation_type, \n",
    "    target_suffix=ner_classes[0]\n",
    ")\n",
    "dataset = load_dataset(\"conll2003\", split=\"test\", trust_remote_code=True)\n",
    "pairs = []\n",
    "def detokenize(tokens: List[str]) -> str:\n",
    "    output = \"\"\n",
    "    for index, token in enumerate(tokens):\n",
    "        if (len(token) == 1 and token in punctuation) or index == 0:\n",
    "            output += token\n",
    "        else:\n",
    "            output += ' ' + token\n",
    "    return output\n",
    "for ex in dataset:\n",
    "    tokens = ex[\"tokens\"]\n",
    "    ner_labels = ex[\"ner_tags\"]\n",
    "    text = detokenize(tokens) \n",
    "    pairs.append((text, \"NER\")) # hack\n",
    "dataset = textattack.datasets.Dataset(pairs)\n",
    "attack_args = textattack.AttackArgs(\n",
    "    num_examples=10,\n",
    "    log_to_csv=\"results/named_entity_recognition/log.csv\"\n",
    ")\n",
    "attacker = textattack.Attacker(attack, dataset, attack_args)\n",
    "attacker.attack_dataset()\n",
    "if args.store_results == False:\n",
    "    if os.path.isdir(\"results/named_entity_recognition\"):\n",
    "        shutil.rmtree(\"results/named_entity_recognition\")"
   ]
  },
  {
   "cell_type": "code",
   "execution_count": null,
   "id": "421e6616",
   "metadata": {},
   "outputs": [
    {
     "name": "stderr",
     "output_type": "stream",
     "text": [
      "/Users/vlwk/.cache/torch/hub/pytorch_fairseq_main/fairseq/checkpoint_utils.py:340: FutureWarning: You are using `torch.load` with `weights_only=False` (the current default value), which uses the default pickle module implicitly. It is possible to construct malicious pickle data which will execute arbitrary code during unpickling (See https://github.com/pytorch/pytorch/blob/main/SECURITY.md#untrusted-models for more details). In a future release, the default value for `weights_only` will be flipped to `True`. This limits the functions that could be executed during unpickling. Arbitrary objects will no longer be allowed to be loaded via this mode unless they are explicitly allowlisted by the user via `torch.serialization.add_safe_globals`. We recommend you start setting `weights_only=True` for any use case where you don't have full control of the loaded file. Please open an issue on GitHub for any issues related to this experimental feature.\n",
      "  state = torch.load(f, map_location=torch.device(\"cpu\"))\n",
      "/opt/anaconda3/envs/projenvconda39/lib/python3.9/site-packages/hydra/experimental/initialize.py:43: UserWarning: hydra.experimental.initialize() is no longer experimental. Use hydra.initialize()\n",
      "  deprecation_warning(message=message)\n",
      "/opt/anaconda3/envs/projenvconda39/lib/python3.9/site-packages/hydra/experimental/initialize.py:45: UserWarning: \n",
      "The version_base parameter is not specified.\n",
      "Please specify a compatability version level, or None.\n",
      "Will assume defaults for version 1.1\n",
      "  self.delegate = real_initialize(\n",
      "/opt/anaconda3/envs/projenvconda39/lib/python3.9/site-packages/hydra/experimental/compose.py:25: UserWarning: hydra.experimental.compose() is no longer experimental. Use hydra.compose()\n",
      "  deprecation_warning(message=message)\n",
      "/opt/anaconda3/envs/projenvconda39/lib/python3.9/site-packages/hydra/core/default_element.py:124: UserWarning: In 'config': Usage of deprecated keyword in package header '# @package _group_'.\n",
      "See https://hydra.cc/docs/1.2/upgrades/1.0_to_1.1/changes_to_package_header for more information\n",
      "  deprecation_warning(\n",
      "/Users/vlwk/.cache/torch/hub/pytorch_fairseq_main/fairseq/checkpoint_utils.py:450: UserWarning: \n",
      "'config' is validated against ConfigStore schema with the same name.\n",
      "This behavior is deprecated in Hydra 1.1 and will be removed in Hydra 1.2.\n",
      "See https://hydra.cc/docs/1.2/upgrades/1.0_to_1.1/automatic_schema_matching for migration instructions.\n",
      "  state = load_checkpoint_to_cpu(filename, arg_overrides)\n",
      "/opt/anaconda3/envs/projenvconda39/lib/python3.9/site-packages/hydra/compose.py:56: UserWarning: \n",
      "The strict flag in the compose API is deprecated.\n",
      "See https://hydra.cc/docs/1.2/upgrades/0.11_to_1.0/strict_mode_flag_deprecated for more info.\n",
      "\n",
      "  deprecation_warning(\n",
      "/opt/anaconda3/envs/projenvconda39/lib/python3.9/site-packages/hydra/experimental/initialize.py:43: UserWarning: hydra.experimental.initialize() is no longer experimental. Use hydra.initialize()\n",
      "  deprecation_warning(message=message)\n",
      "/opt/anaconda3/envs/projenvconda39/lib/python3.9/site-packages/hydra/experimental/initialize.py:45: UserWarning: \n",
      "The version_base parameter is not specified.\n",
      "Please specify a compatability version level, or None.\n",
      "Will assume defaults for version 1.1\n",
      "  self.delegate = real_initialize(\n",
      "/Users/vlwk/.cache/torch/hub/pytorch_fairseq_main/fairseq/models/fairseq_model.py:272: UserWarning: \n",
      "'config' is validated against ConfigStore schema with the same name.\n",
      "This behavior is deprecated in Hydra 1.1 and will be removed in Hydra 1.2.\n",
      "See https://hydra.cc/docs/1.2/upgrades/1.0_to_1.1/automatic_schema_matching for migration instructions.\n",
      "  x = hub_utils.from_pretrained(\n"
     ]
    },
    {
     "name": "stdout",
     "output_type": "stream",
     "text": [
      "Downloading WMT14 test data from http://statmt.org/wmt14/test-full.tgz...\n",
      "Extracting test-full/newstest2014-fren-ref.fr.sgm to temp/translation/data\n",
      "Extracting test-full/newstest2014-fren-src.en.sgm to temp/translation/data\n",
      "en_fr dataset downloaded.\n"
     ]
    },
    {
     "name": "stderr",
     "output_type": "stream",
     "text": [
      "textattack: No entry found for goal function <class 'textattack.goal_functions.text.maximize_levenshtein.MaximizeLevenshtein'>.\n",
      "textattack: Unknown if model of class <class 'fairseq.hub_utils.GeneratorHubInterface'> compatible with goal function <class 'textattack.goal_functions.text.maximize_levenshtein.MaximizeLevenshtein'>.\n",
      "textattack: Logging to CSV at path results/translation/log.csv\n"
     ]
    },
    {
     "name": "stdout",
     "output_type": "stream",
     "text": [
      "(OrderedDict([('text', 'Spectacular Wingsuit Jump Over Bogota')]), 'Spectaculaire saut en \"wingsuit\" au-dessus de Bogota')\n",
      "Attack(\n",
      "  (search_method): DifferentialEvolution(\n",
      "    (popsize):  32\n",
      "    (maxiter):  10\n",
      "    (max_perturbs):  1\n",
      "    (verbose):  False\n",
      "  )\n",
      "  (goal_function):  MaximizeLevenshtein(\n",
      "    (maximizable):  False\n",
      "    (target_distance):  0.1\n",
      "  )\n",
      "  (transformation):  WordSwapHomoglyphSwap\n",
      "  (constraints): None\n",
      "  (is_black_box):  True\n",
      ") \n",
      "\n"
     ]
    },
    {
     "name": "stderr",
     "output_type": "stream",
     "text": [
      "[Succeeded / Failed / Skipped / Total] 1 / 0 / 0 / 1: 100%|██████████| 1/1 [00:11<00:00, 11.71s/it]"
     ]
    },
    {
     "name": "stdout",
     "output_type": "stream",
     "text": [
      "--------------------------------------------- Result 1 ---------------------------------------------\n",
      "Spectaculaire combinaison pour les ailes sauter au-dessus de Bogota --> Spectaculaire saut Wingѕuit au-dessus de Bogota\n",
      "\n",
      "Spectacular [[Wingsuit]] Jump Over Bogota\n",
      "\n",
      "Spectacular [[Wingѕuit]] Jump Over Bogota\n",
      "\n",
      "\n",
      "\n",
      "+-------------------------------+--------+\n",
      "| Attack Results                |        |\n",
      "+-------------------------------+--------+\n",
      "| Number of successful attacks: | 1      |\n",
      "| Number of failed attacks:     | 0      |\n",
      "| Number of skipped attacks:    | 0      |\n",
      "| Original accuracy:            | 100.0% |\n",
      "| Accuracy under attack:        | 0.0%   |\n",
      "| Attack success rate:          | 100.0% |\n",
      "| Average perturbed word %:     | 20.0%  |\n",
      "| Average num. words per input: | 5.0    |\n",
      "| Avg num queries:              | 291.0  |\n",
      "+-------------------------------+--------+\n"
     ]
    },
    {
     "name": "stderr",
     "output_type": "stream",
     "text": [
      "\n"
     ]
    }
   ],
   "source": [
    "class FairseqTranslationWrapper(ModelWrapper):\n",
    "    \"\"\"\n",
    "    A wrapper for the model\n",
    "        torch.hub.load('pytorch/fairseq',\n",
    "                        'transformer.wmt14.en-fr',\n",
    "                        tokenizer='moses',\n",
    "                        bpe='subword_nmt',\n",
    "                        verbose=False).eval()\n",
    "    or any other model with a .translate() method.\n",
    "    \"\"\"\n",
    "\n",
    "    def __init__(self, model):\n",
    "        self.model = model  \n",
    "\n",
    "    def __call__(self, text_input_list: List[str]) -> List[str]:\n",
    "        \"\"\"\n",
    "        Args:\n",
    "            input_texts: List[str]\n",
    "        \n",
    "        Return:\n",
    "            ret: List[str]\n",
    "                Result of translation. One per element in input_texts.\n",
    "        \"\"\"\n",
    "        return [self.model.translate(text) for text in text_input_list]\n",
    "model = torch.hub.load(\n",
    "    'pytorch/fairseq',\n",
    "    'transformer.wmt14.en-fr',\n",
    "    tokenizer='moses',\n",
    "    bpe='subword_nmt',\n",
    "    verbose=False\n",
    ").eval()\n",
    "\n",
    "model_wrapper = FairseqTranslationWrapper(model)\n",
    "def download_en_fr_dataset():\n",
    "    \n",
    "\n",
    "    # Define constants\n",
    "    url = \"http://statmt.org/wmt14/test-full.tgz\"\n",
    "    target_dir = os.path.join(\"temp/translation\", \"data\")\n",
    "    os.makedirs(target_dir, exist_ok=True)\n",
    "\n",
    "    print(f\"Downloading WMT14 test data from {url}...\")\n",
    "\n",
    "    # Download and extract in-memory\n",
    "    response = requests.get(url, stream=True)\n",
    "    response.raise_for_status()\n",
    "\n",
    "    with tarfile.open(fileobj=BytesIO(response.content), mode=\"r:gz\") as tar:\n",
    "        for member in tar.getmembers():\n",
    "            if member.name.endswith(\"newstest2014-fren-src.en.sgm\") or member.name.endswith(\"newstest2014-fren-ref.fr.sgm\"):\n",
    "                print(f\"Extracting {member.name} to {target_dir}\")\n",
    "                member.name = os.path.basename(member.name) \n",
    "                tar.extract(member, path=target_dir)\n",
    "\n",
    "    print(\"en_fr dataset downloaded.\")\n",
    "def load_en_fr_dataset():\n",
    "    \"\"\"\n",
    "    Loads English-French sentence pairs from SGM files and returns a TextAttack Dataset.\n",
    "\n",
    "    Returns:\n",
    "        textattack.datasets.Dataset: wrapped dataset of (English, French) pairs.\n",
    "    \"\"\"\n",
    "    \n",
    "\n",
    "    source_path = os.path.join(\"temp/translation\", \"data/newstest2014-fren-src.en.sgm\")\n",
    "    target_path = os.path.join(\"temp/translation\", \"data/newstest2014-fren-ref.fr.sgm\")\n",
    "\n",
    "    with open(source_path, \"r\", encoding=\"utf-8\") as f:\n",
    "        source_doc = BeautifulSoup(f, \"html.parser\")\n",
    "\n",
    "    with open(target_path, \"r\", encoding=\"utf-8\") as f:\n",
    "        target_doc = BeautifulSoup(f, \"html.parser\")\n",
    "\n",
    "    pairs = []\n",
    "\n",
    "    for doc in source_doc.find_all(\"doc\"):\n",
    "        docid = str(doc[\"docid\"])\n",
    "        for seg in doc.find_all(\"seg\"):\n",
    "            segid = str(seg[\"id\"])\n",
    "            src = str(seg.string).strip() if seg.string else \"\"\n",
    "            tgt_node = target_doc.select_one(f'doc[docid=\"{docid}\"] > seg[id=\"{segid}\"]')\n",
    "            if tgt_node and tgt_node.string:\n",
    "                tgt = str(tgt_node.string).strip()\n",
    "                pairs.append((src, tgt))\n",
    "    return textattack.datasets.Dataset(pairs) \n",
    "download_en_fr_dataset()\n",
    "dataset = load_en_fr_dataset()\n",
    "attack = textattack.attack_recipes.BadCharacters2021.build(\n",
    "    model_wrapper, \n",
    "    goal_function_type=\"maximize_levenshtein\", \n",
    "    perturbation_type=args.perturbation_type,\n",
    "    target_distance=0.1\n",
    ")\n",
    "print(dataset[0])\n",
    "attack_args = textattack.AttackArgs(\n",
    "    num_examples=1,\n",
    "    log_to_csv=\"results/translation/log.csv\"\n",
    ")\n",
    "attacker = textattack.Attacker(attack, dataset, attack_args)\n",
    "attacker.attack_dataset()\n",
    "\n",
    "# if args.store_temp_files == False:\n",
    "#     if os.path.isdir(\"temp/translation\"):\n",
    "#         shutil.rmtree(\"temp/translation\")\n",
    "# if args.store_results == False:\n",
    "#     if os.path.isdir(\"results/translation\"):\n",
    "#         shutil.rmtree(\"results/translation\")"
   ]
  },
  {
   "cell_type": "code",
   "execution_count": 5,
   "id": "2e5fcdc6",
   "metadata": {},
   "outputs": [
    {
     "name": "stderr",
     "output_type": "stream",
     "text": [
      "/Users/vlwk/.cache/torch/hub/pytorch_fairseq_main/fairseq/checkpoint_utils.py:340: FutureWarning: You are using `torch.load` with `weights_only=False` (the current default value), which uses the default pickle module implicitly. It is possible to construct malicious pickle data which will execute arbitrary code during unpickling (See https://github.com/pytorch/pytorch/blob/main/SECURITY.md#untrusted-models for more details). In a future release, the default value for `weights_only` will be flipped to `True`. This limits the functions that could be executed during unpickling. Arbitrary objects will no longer be allowed to be loaded via this mode unless they are explicitly allowlisted by the user via `torch.serialization.add_safe_globals`. We recommend you start setting `weights_only=True` for any use case where you don't have full control of the loaded file. Please open an issue on GitHub for any issues related to this experimental feature.\n",
      "  state = torch.load(f, map_location=torch.device(\"cpu\"))\n",
      "/opt/anaconda3/envs/projenvconda39/lib/python3.9/site-packages/hydra/experimental/initialize.py:43: UserWarning: hydra.experimental.initialize() is no longer experimental. Use hydra.initialize()\n",
      "  deprecation_warning(message=message)\n",
      "/opt/anaconda3/envs/projenvconda39/lib/python3.9/site-packages/hydra/experimental/initialize.py:45: UserWarning: \n",
      "The version_base parameter is not specified.\n",
      "Please specify a compatability version level, or None.\n",
      "Will assume defaults for version 1.1\n",
      "  self.delegate = real_initialize(\n",
      "/opt/anaconda3/envs/projenvconda39/lib/python3.9/site-packages/hydra/experimental/compose.py:25: UserWarning: hydra.experimental.compose() is no longer experimental. Use hydra.compose()\n",
      "  deprecation_warning(message=message)\n",
      "/opt/anaconda3/envs/projenvconda39/lib/python3.9/site-packages/hydra/core/default_element.py:124: UserWarning: In 'config': Usage of deprecated keyword in package header '# @package _group_'.\n",
      "See https://hydra.cc/docs/1.2/upgrades/1.0_to_1.1/changes_to_package_header for more information\n",
      "  deprecation_warning(\n",
      "/Users/vlwk/.cache/torch/hub/pytorch_fairseq_main/fairseq/checkpoint_utils.py:450: UserWarning: \n",
      "'config' is validated against ConfigStore schema with the same name.\n",
      "This behavior is deprecated in Hydra 1.1 and will be removed in Hydra 1.2.\n",
      "See https://hydra.cc/docs/1.2/upgrades/1.0_to_1.1/automatic_schema_matching for migration instructions.\n",
      "  state = load_checkpoint_to_cpu(filename, arg_overrides)\n",
      "/opt/anaconda3/envs/projenvconda39/lib/python3.9/site-packages/hydra/compose.py:56: UserWarning: \n",
      "The strict flag in the compose API is deprecated.\n",
      "See https://hydra.cc/docs/1.2/upgrades/0.11_to_1.0/strict_mode_flag_deprecated for more info.\n",
      "\n",
      "  deprecation_warning(\n",
      "/Users/vlwk/.cache/torch/hub/pytorch_fairseq_main/fairseq/models/fairseq_model.py:272: UserWarning: \n",
      "'config' is validated against ConfigStore schema with the same name.\n",
      "This behavior is deprecated in Hydra 1.1 and will be removed in Hydra 1.2.\n",
      "See https://hydra.cc/docs/1.2/upgrades/1.0_to_1.1/automatic_schema_matching for migration instructions.\n",
      "  x = hub_utils.from_pretrained(\n"
     ]
    },
    {
     "name": "stdout",
     "output_type": "stream",
     "text": [
      "Downloading WMT14 test data from http://statmt.org/wmt14/test-full.tgz...\n",
      "Extracting test-full/newstest2014-fren-ref.fr.sgm to temp/translation/data\n",
      "Extracting test-full/newstest2014-fren-src.en.sgm to temp/translation/data\n",
      "en_fr dataset downloaded.\n"
     ]
    },
    {
     "name": "stderr",
     "output_type": "stream",
     "text": [
      "textattack: No entry found for goal function <class 'textattack.goal_functions.text.maximize_levenshtein.MaximizeLevenshtein'>.\n",
      "textattack: Unknown if model of class <class 'fairseq.hub_utils.GeneratorHubInterface'> compatible with goal function <class 'textattack.goal_functions.text.maximize_levenshtein.MaximizeLevenshtein'>.\n",
      "textattack: Logging to CSV at path results/translation/fairseq/pert3/log.csv\n"
     ]
    },
    {
     "name": "stdout",
     "output_type": "stream",
     "text": [
      "(OrderedDict([('text', 'Spectacular Wingsuit Jump Over Bogota')]), 'Spectaculaire saut en \"wingsuit\" au-dessus de Bogota')\n",
      "Attack(\n",
      "  (search_method): DifferentialEvolution(\n",
      "    (popsize):  5\n",
      "    (maxiter):  3\n",
      "    (max_perturbs):  5\n",
      "    (verbose):  False\n",
      "  )\n",
      "  (goal_function):  MaximizeLevenshtein(\n",
      "    (maximizable):  False\n",
      "    (target_distance):  None\n",
      "  )\n",
      "  (transformation):  WordSwapHomoglyphSwap\n",
      "  (constraints): None\n",
      "  (is_black_box):  True\n",
      ") \n",
      "\n"
     ]
    },
    {
     "name": "stderr",
     "output_type": "stream",
     "text": []
    },
    {
     "name": "stdout",
     "output_type": "stream",
     "text": [
      "Spectaculaire combinaison pour les ailes sauter au-dessus de Bogota --> [FAILED]\n",
      "\n",
      "Spectacular Wingsuit Jump Over Bogota\n",
      "--------------------------------------------- Result 1 ---------------------------------------------\n",
      "Spectaculaire combinaison pour les ailes sauter au-dessus de Bogota --> [[[FAILED]]]\n",
      "\n",
      "Spectacular Wingsuit Jump Over Bogota\n",
      "\n",
      "\n"
     ]
    },
    {
     "name": "stderr",
     "output_type": "stream",
     "text": []
    },
    {
     "name": "stdout",
     "output_type": "stream",
     "text": [
      "Le sportif Jhonathan Florez a sauté d'un hélicoptère au-dessus de Bogota, la capitale de la Colombie, jeudi. --> [FAILED]\n",
      "\n",
      "Sportsman Jhonathan Florez jumped from a helicopter above Bogota, the capital of Colombia, on Thursday.\n",
      "--------------------------------------------- Result 2 ---------------------------------------------\n",
      "Le sportif Jhonathan Florez a sauté d'un hélicoptère au-dessus de Bogota, la capitale de la Colombie, jeudi. --> [[[FAILED]]]\n",
      "\n",
      "Sportsman Jhonathan Florez jumped from a helicopter above Bogota, the capital of Colombia, on Thursday.\n",
      "\n",
      "\n"
     ]
    },
    {
     "name": "stderr",
     "output_type": "stream",
     "text": []
    },
    {
     "name": "stdout",
     "output_type": "stream",
     "text": [
      "Vêtu d'un costume d'aile, il a survolé le célèbre sanctuaire de Monserrate à 160 km / h. Le sanctuaire est situé à plus de 3000 mètres d'altitude et de nombreux spectateurs s'y étaient rassemblés pour assister à son exploit. --> [FAILED]\n",
      "\n",
      "Wearing a wingsuit, he flew past over the famous Monserrate Sanctuary at 160km/h. The sanctuary is located at an altitude of over 3000 meters and numerous spectators had gathered there to watch his exploit.\n",
      "--------------------------------------------- Result 3 ---------------------------------------------\n",
      "Vêtu d'un costume d'aile, il a survolé le célèbre sanctuaire de Monserrate à 160 km / h. Le sanctuaire est situé à plus de 3000 mètres d'altitude et de nombreux spectateurs s'y étaient rassemblés pour assister à son exploit. --> [[[FAILED]]]\n",
      "\n",
      "Wearing a wingsuit, he flew past over the famous Monserrate Sanctuary at 160km/h. The sanctuary is located at an altitude of over 3000 meters and numerous spectators had gathered there to watch his exploit.\n",
      "\n",
      "\n"
     ]
    },
    {
     "name": "stderr",
     "output_type": "stream",
     "text": []
    },
    {
     "name": "stdout",
     "output_type": "stream",
     "text": [
      "Une boîte noire dans votre voiture ? --> [FAILED]\n",
      "\n",
      "A black box in your car?\n",
      "--------------------------------------------- Result 4 ---------------------------------------------\n",
      "Une boîte noire dans votre voiture ? --> [[[FAILED]]]\n",
      "\n",
      "A black box in your car?\n",
      "\n",
      "\n"
     ]
    },
    {
     "name": "stderr",
     "output_type": "stream",
     "text": [
      "textattack: Saving checkpoint under \"results/translation/fairseq/pert3/1746372441356.ta.chkpt\" at 2025-05-04 16:27:21 after 5 attacks.\n"
     ]
    },
    {
     "name": "stdout",
     "output_type": "stream",
     "text": [
      "Alors que les planificateurs routiers américains s'efforcent de trouver l'argent nécessaire pour réparer un système routier en délabrement, beaucoup commencent à voir une solution dans une petite boîte noire qui s'adapte parfaitement au tableau de bord de votre voiture. --> [FAILED]\n",
      "\n",
      "As America's road planners struggle to find the cash to mend a crumbling highway system, many are beginning to see a solution in a little black box that fits neatly by the dashboard of your car.\n",
      "--------------------------------------------- Result 5 ---------------------------------------------\n",
      "Alors que les planificateurs routiers américains s'efforcent de trouver l'argent nécessaire pour réparer un système routier en délabrement, beaucoup commencent à voir une solution dans une petite boîte noire qui s'adapte parfaitement au tableau de bord de votre voiture. --> [[[FAILED]]]\n",
      "\n",
      "As America's road planners struggle to find the cash to mend a crumbling highway system, many are beginning to see a solution in a little black box that fits neatly by the dashboard of your car.\n",
      "\n",
      "\n",
      "\n",
      "\n",
      "=============================================================================================================================\n",
      "=============================================================================================================================\n",
      "\n"
     ]
    },
    {
     "name": "stderr",
     "output_type": "stream",
     "text": []
    },
    {
     "name": "stdout",
     "output_type": "stream",
     "text": [
      "Ces dispositifs, qui suivent chaque kilomètre parcouru par un automobiliste et transmettent cette information aux bureaucrates, sont au centre d'une tentative controversée à Washington et dans les bureaux de planification de l \"État visant à réviser le système désuet de financement des grands axes routiers américains. --> [FAILED]\n",
      "\n",
      "The devices, which track every mile a motorist drives and transmit that information to bureaucrats, are at the center of a controversial attempt in Washington and state planning offices to overhaul the outdated system for funding America's major roads.\n",
      "--------------------------------------------- Result 6 ---------------------------------------------\n",
      "Ces dispositifs, qui suivent chaque kilomètre parcouru par un automobiliste et transmettent cette information aux bureaucrates, sont au centre d'une tentative controversée à Washington et dans les bureaux de planification de l \"État visant à réviser le système désuet de financement des grands axes routiers américains. --> [[[FAILED]]]\n",
      "\n",
      "The devices, which track every mile a motorist drives and transmit that information to bureaucrats, are at the center of a controversial attempt in Washington and state planning offices to overhaul the outdated system for funding America's major roads.\n",
      "\n",
      "\n"
     ]
    },
    {
     "name": "stderr",
     "output_type": "stream",
     "text": []
    },
    {
     "name": "stdout",
     "output_type": "stream",
     "text": [
      "L'arène généralement terne de la planification routière a soudainement donné lieu à d'intenses débats et à des alliances colorées. --> [FAILED]\n",
      "\n",
      "The usually dull arena of highway planning has suddenly spawned intense debate and colorful alliances.\n",
      "--------------------------------------------- Result 7 ---------------------------------------------\n",
      "L'arène généralement terne de la planification routière a soudainement donné lieu à d'intenses débats et à des alliances colorées. --> [[[FAILED]]]\n",
      "\n",
      "The usually dull arena of highway planning has suddenly spawned intense debate and colorful alliances.\n",
      "\n",
      "\n"
     ]
    },
    {
     "name": "stderr",
     "output_type": "stream",
     "text": []
    },
    {
     "name": "stdout",
     "output_type": "stream",
     "text": [
      "Les libertaires se sont joints à des groupes environnementaux pour faire pression sur le gouvernement afin qu'il utilise les petites boîtes pour faire le suivi des kilomètres parcourus, et peut-être même de l'endroit où vous les conduisez - puis qu'il utilise l'information pour rédiger une facture fiscale. --> [FAILED]\n",
      "\n",
      "Libertarians have joined environmental groups in lobbying to allow government to use the little boxes to keep track of the miles you drive, and possibly where you drive them - then use the information to draw up a tax bill.\n",
      "--------------------------------------------- Result 8 ---------------------------------------------\n",
      "Les libertaires se sont joints à des groupes environnementaux pour faire pression sur le gouvernement afin qu'il utilise les petites boîtes pour faire le suivi des kilomètres parcourus, et peut-être même de l'endroit où vous les conduisez - puis qu'il utilise l'information pour rédiger une facture fiscale. --> [[[FAILED]]]\n",
      "\n",
      "Libertarians have joined environmental groups in lobbying to allow government to use the little boxes to keep track of the miles you drive, and possibly where you drive them - then use the information to draw up a tax bill.\n",
      "\n",
      "\n"
     ]
    },
    {
     "name": "stderr",
     "output_type": "stream",
     "text": []
    },
    {
     "name": "stdout",
     "output_type": "stream",
     "text": [
      "La fête du thé est effrayée. --> [FAILED]\n",
      "\n",
      "The tea party is aghast.\n",
      "--------------------------------------------- Result 9 ---------------------------------------------\n",
      "La fête du thé est effrayée. --> [[[FAILED]]]\n",
      "\n",
      "The tea party is aghast.\n",
      "\n",
      "\n"
     ]
    },
    {
     "name": "stderr",
     "output_type": "stream",
     "text": [
      "textattack: Saving checkpoint under \"results/translation/fairseq/pert3/1746373274049.ta.chkpt\" at 2025-05-04 16:41:14 after 10 attacks.\n"
     ]
    },
    {
     "name": "stdout",
     "output_type": "stream",
     "text": [
      "L'American Civil Liberties Union est elle aussi profondément préoccupée par diverses questions de protection de la vie privée. --> [FAILED]\n",
      "\n",
      "The American Civil Liberties Union is deeply concerned, too, raising a variety of privacy issues.\n",
      "--------------------------------------------- Result 10 ---------------------------------------------\n",
      "L'American Civil Liberties Union est elle aussi profondément préoccupée par diverses questions de protection de la vie privée. --> [[[FAILED]]]\n",
      "\n",
      "The American Civil Liberties Union is deeply concerned, too, raising a variety of privacy issues.\n",
      "\n",
      "\n",
      "\n",
      "\n",
      "=============================================================================================================================\n",
      "=============================================================================================================================\n",
      "\n"
     ]
    },
    {
     "name": "stderr",
     "output_type": "stream",
     "text": []
    },
    {
     "name": "stdout",
     "output_type": "stream",
     "text": [
      "Et même si le Congrès ne parvient pas à s'entendre sur l'opportunité d'aller de l'avant, plusieurs États n'attendent pas. --> [FAILED]\n",
      "\n",
      "And while Congress can't agree on whether to proceed, several states are not waiting.\n",
      "--------------------------------------------- Result 11 ---------------------------------------------\n",
      "Et même si le Congrès ne parvient pas à s'entendre sur l'opportunité d'aller de l'avant, plusieurs États n'attendent pas. --> [[[FAILED]]]\n",
      "\n",
      "And while Congress can't agree on whether to proceed, several states are not waiting.\n",
      "\n",
      "\n"
     ]
    },
    {
     "name": "stderr",
     "output_type": "stream",
     "text": []
    },
    {
     "name": "stdout",
     "output_type": "stream",
     "text": [
      "Ils étudient comment, au cours de la prochaine décennie, ils pourraient passer à un système dans lequel les conducteurs paieraient le kilomètre de route qu'ils roulent. --> [FAILED]\n",
      "\n",
      "They are exploring how, over the next decade, they can move to a system in which drivers pay per mile of road they roll over.\n",
      "--------------------------------------------- Result 12 ---------------------------------------------\n",
      "Ils étudient comment, au cours de la prochaine décennie, ils pourraient passer à un système dans lequel les conducteurs paieraient le kilomètre de route qu'ils roulent. --> [[[FAILED]]]\n",
      "\n",
      "They are exploring how, over the next decade, they can move to a system in which drivers pay per mile of road they roll over.\n",
      "\n",
      "\n"
     ]
    },
    {
     "name": "stderr",
     "output_type": "stream",
     "text": []
    },
    {
     "name": "stdout",
     "output_type": "stream",
     "text": [
      "Des milliers d'automobilistes ont déjà pris les boîtes noires, dont certaines sont équipées d'un système de surveillance GPS, pour un essai routier. --> [FAILED]\n",
      "\n",
      "Thousands of motorists have already taken the black boxes, some of which have GPS monitoring, for a test drive.\n",
      "--------------------------------------------- Result 13 ---------------------------------------------\n",
      "Des milliers d'automobilistes ont déjà pris les boîtes noires, dont certaines sont équipées d'un système de surveillance GPS, pour un essai routier. --> [[[FAILED]]]\n",
      "\n",
      "Thousands of motorists have already taken the black boxes, some of which have GPS monitoring, for a test drive.\n",
      "\n",
      "\n"
     ]
    },
    {
     "name": "stderr",
     "output_type": "stream",
     "text": []
    },
    {
     "name": "stdout",
     "output_type": "stream",
     "text": [
      "C'est vraiment une nécessité pour notre nation. --> [FAILED]\n",
      "\n",
      "This really is a must for our nation.\n",
      "--------------------------------------------- Result 14 ---------------------------------------------\n",
      "C'est vraiment une nécessité pour notre nation. --> [[[FAILED]]]\n",
      "\n",
      "This really is a must for our nation.\n",
      "\n",
      "\n"
     ]
    },
    {
     "name": "stderr",
     "output_type": "stream",
     "text": [
      "textattack: Saving checkpoint under \"results/translation/fairseq/pert3/1746374083886.ta.chkpt\" at 2025-05-04 16:54:43 after 15 attacks.\n"
     ]
    },
    {
     "name": "stdout",
     "output_type": "stream",
     "text": [
      "\"Il ne s'agit pas de quelque chose que nous pourrions choisir de faire\", a déclaré Hasan Ikhrata, directeur exécutif de la Southern California Association of Governments, qui prévoit que l \"État commencera à suivre les kilomètres parcourus par chaque automobiliste californien d'ici 2025. --> [FAILED]\n",
      "\n",
      "\"It is not a matter of something we might choose to do,\" said Hasan Ikhrata, executive director of the Southern California Assn. of Governments, which is planning for the state to start tracking miles driven by every California motorist by 2025.\n",
      "--------------------------------------------- Result 15 ---------------------------------------------\n",
      "\"Il ne s'agit pas de quelque chose que nous pourrions choisir de faire\", a déclaré Hasan Ikhrata, directeur exécutif de la Southern California Association of Governments, qui prévoit que l \"État commencera à suivre les kilomètres parcourus par chaque automobiliste californien d'ici 2025. --> [[[FAILED]]]\n",
      "\n",
      "\"It is not a matter of something we might choose to do,\" said Hasan Ikhrata, executive director of the Southern California Assn. of Governments, which is planning for the state to start tracking miles driven by every California motorist by 2025.\n",
      "\n",
      "\n",
      "\n",
      "\n",
      "=============================================================================================================================\n",
      "=============================================================================================================================\n",
      "\n"
     ]
    },
    {
     "name": "stderr",
     "output_type": "stream",
     "text": []
    },
    {
     "name": "stdout",
     "output_type": "stream",
     "text": [
      "Il y aura un changement dans la façon dont nous payons ces impôts. --> [FAILED]\n",
      "\n",
      "There is going to be a change in how we pay these taxes.\n",
      "--------------------------------------------- Result 16 ---------------------------------------------\n",
      "Il y aura un changement dans la façon dont nous payons ces impôts. --> [[[FAILED]]]\n",
      "\n",
      "There is going to be a change in how we pay these taxes.\n",
      "\n",
      "\n"
     ]
    },
    {
     "name": "stderr",
     "output_type": "stream",
     "text": []
    },
    {
     "name": "stdout",
     "output_type": "stream",
     "text": [
      "La technologie est là pour le faire. --> [FAILED]\n",
      "\n",
      "The technology is there to do it.\n",
      "--------------------------------------------- Result 17 ---------------------------------------------\n",
      "La technologie est là pour le faire. --> [[[FAILED]]]\n",
      "\n",
      "The technology is there to do it.\n",
      "\n",
      "\n"
     ]
    },
    {
     "name": "stderr",
     "output_type": "stream",
     "text": []
    },
    {
     "name": "stdout",
     "output_type": "stream",
     "text": [
      "L'impulsion vient alors que le Highway Trust Fund du pays, financé par les impôts que les Américains paient à la pompe à essence, est en panne. --> [FAILED]\n",
      "\n",
      "The push comes as the country's Highway Trust Fund, financed with taxes Americans pay at the gas pump, is broke.\n",
      "--------------------------------------------- Result 18 ---------------------------------------------\n",
      "L'impulsion vient alors que le Highway Trust Fund du pays, financé par les impôts que les Américains paient à la pompe à essence, est en panne. --> [[[FAILED]]]\n",
      "\n",
      "The push comes as the country's Highway Trust Fund, financed with taxes Americans pay at the gas pump, is broke.\n",
      "\n",
      "\n"
     ]
    },
    {
     "name": "stderr",
     "output_type": "stream",
     "text": []
    },
    {
     "name": "stdout",
     "output_type": "stream",
     "text": [
      "Les Américains n'achètent plus autant d'essence qu'auparavant. --> [FAILED]\n",
      "\n",
      "Americans don't buy as much gas as they used to.\n",
      "--------------------------------------------- Result 19 ---------------------------------------------\n",
      "Les Américains n'achètent plus autant d'essence qu'auparavant. --> [[[FAILED]]]\n",
      "\n",
      "Americans don't buy as much gas as they used to.\n",
      "\n",
      "\n"
     ]
    },
    {
     "name": "stderr",
     "output_type": "stream",
     "text": [
      "textattack: Saving checkpoint under \"results/translation/fairseq/pert3/1746374561029.ta.chkpt\" at 2025-05-04 17:02:41 after 20 attacks.\n"
     ]
    },
    {
     "name": "stdout",
     "output_type": "stream",
     "text": [
      "Les voitures ont beaucoup plus de kilomètres au gallon. --> [FAILED]\n",
      "\n",
      "Cars get many more miles to the gallon.\n",
      "--------------------------------------------- Result 20 ---------------------------------------------\n",
      "Les voitures ont beaucoup plus de kilomètres au gallon. --> [[[FAILED]]]\n",
      "\n",
      "Cars get many more miles to the gallon.\n",
      "\n",
      "\n",
      "\n",
      "\n",
      "=============================================================================================================================\n",
      "=============================================================================================================================\n",
      "\n"
     ]
    },
    {
     "name": "stderr",
     "output_type": "stream",
     "text": []
    },
    {
     "name": "stdout",
     "output_type": "stream",
     "text": [
      "L'impôt fédéral lui-même, qui est de 18,4 cents le gallon, n'a pas augmenté en 20 ans. --> [FAILED]\n",
      "\n",
      "The federal tax itself, 18.4 cents per gallon, hasn't gone up in 20 years.\n",
      "--------------------------------------------- Result 21 ---------------------------------------------\n",
      "L'impôt fédéral lui-même, qui est de 18,4 cents le gallon, n'a pas augmenté en 20 ans. --> [[[FAILED]]]\n",
      "\n",
      "The federal tax itself, 18.4 cents per gallon, hasn't gone up in 20 years.\n",
      "\n",
      "\n"
     ]
    },
    {
     "name": "stderr",
     "output_type": "stream",
     "text": []
    },
    {
     "name": "stdout",
     "output_type": "stream",
     "text": [
      "Les politiciens répugnent à augmenter la taxe ne serait-ce que d'un sou lorsque les prix du gaz sont élevés. --> [FAILED]\n",
      "\n",
      "Politicians are loath to raise the tax even one penny when gas prices are high.\n",
      "--------------------------------------------- Result 22 ---------------------------------------------\n",
      "Les politiciens répugnent à augmenter la taxe ne serait-ce que d'un sou lorsque les prix du gaz sont élevés. --> [[[FAILED]]]\n",
      "\n",
      "Politicians are loath to raise the tax even one penny when gas prices are high.\n",
      "\n",
      "\n"
     ]
    },
    {
     "name": "stderr",
     "output_type": "stream",
     "text": []
    },
    {
     "name": "stdout",
     "output_type": "stream",
     "text": [
      "\"La taxe sur l'essence n'est tout simplement pas viable\", a déclaré Lee Munnich, spécialiste des politiques de transport à l'Université du Minnesota. --> [FAILED]\n",
      "\n",
      "\"The gas tax is just not sustainable,\" said Lee Munnich, a transportation policy expert at the University of Minnesota.\n",
      "--------------------------------------------- Result 23 ---------------------------------------------\n",
      "\"La taxe sur l'essence n'est tout simplement pas viable\", a déclaré Lee Munnich, spécialiste des politiques de transport à l'Université du Minnesota. --> [[[FAILED]]]\n",
      "\n",
      "\"The gas tax is just not sustainable,\" said Lee Munnich, a transportation policy expert at the University of Minnesota.\n",
      "\n",
      "\n"
     ]
    },
    {
     "name": "stderr",
     "output_type": "stream",
     "text": []
    },
    {
     "name": "stdout",
     "output_type": "stream",
     "text": [
      "Son État a récemment installé des dispositifs de repérage sur 500 voitures pour tester un système de paiement au mille. --> [FAILED]\n",
      "\n",
      "His state recently put tracking devices on 500 cars to test out a pay-by-mile system.\n",
      "--------------------------------------------- Result 24 ---------------------------------------------\n",
      "Son État a récemment installé des dispositifs de repérage sur 500 voitures pour tester un système de paiement au mille. --> [[[FAILED]]]\n",
      "\n",
      "His state recently put tracking devices on 500 cars to test out a pay-by-mile system.\n",
      "\n",
      "\n"
     ]
    },
    {
     "name": "stderr",
     "output_type": "stream",
     "text": [
      "textattack: Saving checkpoint under \"results/translation/fairseq/pert3/1746375150024.ta.chkpt\" at 2025-05-04 17:12:30 after 25 attacks.\n"
     ]
    },
    {
     "name": "stdout",
     "output_type": "stream",
     "text": [
      "\"Il s'agit de la solution la plus logique à long terme\", a-t-il déclaré. --> [FAILED]\n",
      "\n",
      "\"This works out as the most logical alternative over the long term,\" he said.\n",
      "--------------------------------------------- Result 25 ---------------------------------------------\n",
      "\"Il s'agit de la solution la plus logique à long terme\", a-t-il déclaré. --> [[[FAILED]]]\n",
      "\n",
      "\"This works out as the most logical alternative over the long term,\" he said.\n",
      "\n",
      "\n",
      "\n",
      "\n",
      "=============================================================================================================================\n",
      "=============================================================================================================================\n",
      "\n"
     ]
    },
    {
     "name": "stderr",
     "output_type": "stream",
     "text": []
    },
    {
     "name": "stdout",
     "output_type": "stream",
     "text": [
      "Wonks l'appelle un frais d'utilisation basé sur le kilométrage. --> [FAILED]\n",
      "\n",
      "Wonks call it a mileage-based user fee.\n",
      "--------------------------------------------- Result 26 ---------------------------------------------\n",
      "Wonks l'appelle un frais d'utilisation basé sur le kilométrage. --> [[[FAILED]]]\n",
      "\n",
      "Wonks call it a mileage-based user fee.\n",
      "\n",
      "\n"
     ]
    },
    {
     "name": "stderr",
     "output_type": "stream",
     "text": []
    },
    {
     "name": "stdout",
     "output_type": "stream",
     "text": [
      "Il n'est pas surprenant que cette idée plaise aux libéraux urbains, car les taxes pourraient être manipulées pour changer les habitudes de conduite de manière à réduire la congestion et les gaz à effet de serre, par exemple. --> [FAILED]\n",
      "\n",
      "It is no surprise that the idea appeals to urban liberals, as the taxes could be rigged to change driving patterns in ways that could help reduce congestion and greenhouse gases, for example.\n"
     ]
    },
    {
     "name": "stderr",
     "output_type": "stream",
     "text": []
    },
    {
     "name": "stdout",
     "output_type": "stream",
     "text": [
      "--------------------------------------------- Result 27 ---------------------------------------------\n",
      "Il n'est pas surprenant que cette idée plaise aux libéraux urbains, car les taxes pourraient être manipulées pour changer les habitudes de conduite de manière à réduire la congestion et les gaz à effet de serre, par exemple. --> [[[FAILED]]]\n",
      "\n",
      "It is no surprise that the idea appeals to urban liberals, as the taxes could be rigged to change driving patterns in ways that could help reduce congestion and greenhouse gases, for example.\n",
      "\n",
      "\n"
     ]
    },
    {
     "name": "stderr",
     "output_type": "stream",
     "text": []
    },
    {
     "name": "stdout",
     "output_type": "stream",
     "text": [
      "Les planificateurs californiens se tournent vers le système lorsqu'ils élaborent des stratégies pour atteindre les objectifs énoncés dans les ambitieuses lois de l'État sur le réchauffement climatique. --> [FAILED]\n",
      "\n",
      "California planners are looking to the system as they devise strategies to meet the goals laid out in the state's ambitious global warming laws.\n",
      "--------------------------------------------- Result 28 ---------------------------------------------\n",
      "Les planificateurs californiens se tournent vers le système lorsqu'ils élaborent des stratégies pour atteindre les objectifs énoncés dans les ambitieuses lois de l'État sur le réchauffement climatique. --> [[[FAILED]]]\n",
      "\n",
      "California planners are looking to the system as they devise strategies to meet the goals laid out in the state's ambitious global warming laws.\n",
      "\n",
      "\n"
     ]
    },
    {
     "name": "stderr",
     "output_type": "stream",
     "text": []
    },
    {
     "name": "stdout",
     "output_type": "stream",
     "text": [
      "Mais le représentant Bill Shuster (R-Pa.), président du Comité des transports de la Chambre, a dit qu'il considérait lui aussi qu'il s'agissait de la solution la plus viable à long terme. --> [FAILED]\n",
      "\n",
      "But Rep. Bill Shuster (R-Pa.), chairman of the House Transportation Committee, has said he, too, sees it as the most viable long-term alternative.\n",
      "--------------------------------------------- Result 29 ---------------------------------------------\n",
      "Mais le représentant Bill Shuster (R-Pa.), président du Comité des transports de la Chambre, a dit qu'il considérait lui aussi qu'il s'agissait de la solution la plus viable à long terme. --> [[[FAILED]]]\n",
      "\n",
      "But Rep. Bill Shuster (R-Pa.), chairman of the House Transportation Committee, has said he, too, sees it as the most viable long-term alternative.\n",
      "\n",
      "\n"
     ]
    },
    {
     "name": "stderr",
     "output_type": "stream",
     "text": [
      "textattack: Saving checkpoint under \"results/translation/fairseq/pert3/1746375955202.ta.chkpt\" at 2025-05-04 17:25:55 after 30 attacks.\n"
     ]
    },
    {
     "name": "stdout",
     "output_type": "stream",
     "text": [
      "Les libéraux de la Reason Foundation adorent également que les chauffeurs paient le kilomètre. --> [FAILED]\n",
      "\n",
      "The free marketeers at the Reason Foundation are also fond of having drivers pay per mile.\n",
      "--------------------------------------------- Result 30 ---------------------------------------------\n",
      "Les libéraux de la Reason Foundation adorent également que les chauffeurs paient le kilomètre. --> [[[FAILED]]]\n",
      "\n",
      "The free marketeers at the Reason Foundation are also fond of having drivers pay per mile.\n",
      "\n",
      "\n",
      "\n",
      "\n",
      "=============================================================================================================================\n",
      "=============================================================================================================================\n",
      "\n"
     ]
    },
    {
     "name": "stderr",
     "output_type": "stream",
     "text": []
    },
    {
     "name": "stdout",
     "output_type": "stream",
     "text": [
      "\"Il ne s'agit pas simplement d'une taxe qui entre dans un trou noir\", a déclaré Adrian Moore, vice-président des politiques chez Reason. --> [FAILED]\n",
      "\n",
      "\"This is not just a tax going into a black hole,\" said Adrian Moore, vice president of policy at Reason.\n",
      "--------------------------------------------- Result 31 ---------------------------------------------\n",
      "\"Il ne s'agit pas simplement d'une taxe qui entre dans un trou noir\", a déclaré Adrian Moore, vice-président des politiques chez Reason. --> [[[FAILED]]]\n",
      "\n",
      "\"This is not just a tax going into a black hole,\" said Adrian Moore, vice president of policy at Reason.\n",
      "\n",
      "\n"
     ]
    },
    {
     "name": "stderr",
     "output_type": "stream",
     "text": []
    },
    {
     "name": "stdout",
     "output_type": "stream",
     "text": [
      "Les gens contribuent plus directement à ce qu'ils reçoivent. --> [FAILED]\n",
      "\n",
      "People are paying more directly into what they are getting.\n",
      "--------------------------------------------- Result 32 ---------------------------------------------\n",
      "Les gens contribuent plus directement à ce qu'ils reçoivent. --> [[[FAILED]]]\n",
      "\n",
      "People are paying more directly into what they are getting.\n",
      "\n",
      "\n"
     ]
    },
    {
     "name": "stderr",
     "output_type": "stream",
     "text": []
    },
    {
     "name": "stdout",
     "output_type": "stream",
     "text": [
      "Le mouvement est également soutenu par deux anciens secrétaires des Transports des États-Unis qui, dans un rapport publié en 2011, ont exhorté le Congrès à adopter la direction du paiement au mille. --> [FAILED]\n",
      "\n",
      "The movement is also bolstered by two former U.S. Transportation secretaries, who in a 2011 report urged Congress to move in the pay-per-mile direction.\n",
      "--------------------------------------------- Result 33 ---------------------------------------------\n",
      "Le mouvement est également soutenu par deux anciens secrétaires des Transports des États-Unis qui, dans un rapport publié en 2011, ont exhorté le Congrès à adopter la direction du paiement au mille. --> [[[FAILED]]]\n",
      "\n",
      "The movement is also bolstered by two former U.S. Transportation secretaries, who in a 2011 report urged Congress to move in the pay-per-mile direction.\n",
      "\n",
      "\n"
     ]
    },
    {
     "name": "stderr",
     "output_type": "stream",
     "text": []
    },
    {
     "name": "stdout",
     "output_type": "stream",
     "text": [
      "L'an dernier, le Sénat américain a approuvé un projet pilote de 90 millions de dollars qui aurait porté sur environ 10 000 voitures. --> [FAILED]\n",
      "\n",
      "The U.S. Senate approved a $90-million pilot project last year that would have involved about 10,000 cars.\n",
      "--------------------------------------------- Result 34 ---------------------------------------------\n",
      "L'an dernier, le Sénat américain a approuvé un projet pilote de 90 millions de dollars qui aurait porté sur environ 10 000 voitures. --> [[[FAILED]]]\n",
      "\n",
      "The U.S. Senate approved a $90-million pilot project last year that would have involved about 10,000 cars.\n",
      "\n",
      "\n"
     ]
    },
    {
     "name": "stderr",
     "output_type": "stream",
     "text": [
      "textattack: Saving checkpoint under \"results/translation/fairseq/pert3/1746376671487.ta.chkpt\" at 2025-05-04 17:37:51 after 35 attacks.\n"
     ]
    },
    {
     "name": "stdout",
     "output_type": "stream",
     "text": [
      "Mais les dirigeants de la Chambre ont mis fin à la proposition, répondant aux préoccupations des législateurs ruraux représentant les électeurs dont la vie quotidienne implique souvent d'abattre de nombreux kilomètres pour se rendre au travail ou en ville. --> [FAILED]\n",
      "\n",
      "But the House leadership killed the proposal, acting on concerns of rural lawmakers representing constituents whose daily lives often involve logging lots of miles to get to work or into town.\n",
      "--------------------------------------------- Result 35 ---------------------------------------------\n",
      "Mais les dirigeants de la Chambre ont mis fin à la proposition, répondant aux préoccupations des législateurs ruraux représentant les électeurs dont la vie quotidienne implique souvent d'abattre de nombreux kilomètres pour se rendre au travail ou en ville. --> [[[FAILED]]]\n",
      "\n",
      "But the House leadership killed the proposal, acting on concerns of rural lawmakers representing constituents whose daily lives often involve logging lots of miles to get to work or into town.\n",
      "\n",
      "\n",
      "\n",
      "\n",
      "=============================================================================================================================\n",
      "=============================================================================================================================\n",
      "\n"
     ]
    },
    {
     "name": "stderr",
     "output_type": "stream",
     "text": []
    },
    {
     "name": "stdout",
     "output_type": "stream",
     "text": [
      "Plusieurs États et villes progressent néanmoins d'eux-mêmes. --> [FAILED]\n",
      "\n",
      "Several states and cities are nonetheless moving ahead on their own.\n",
      "--------------------------------------------- Result 36 ---------------------------------------------\n",
      "Plusieurs États et villes progressent néanmoins d'eux-mêmes. --> [[[FAILED]]]\n",
      "\n",
      "Several states and cities are nonetheless moving ahead on their own.\n",
      "\n",
      "\n"
     ]
    },
    {
     "name": "stderr",
     "output_type": "stream",
     "text": []
    },
    {
     "name": "stdout",
     "output_type": "stream",
     "text": [
      "Le plus enthousiaste est l'Oregon, qui recrute 5 000 conducteurs dans le cadre de la plus grande expérience du pays. --> [FAILED]\n",
      "\n",
      "The most eager is Oregon, which is enlisting 5,000 drivers in the country's biggest experiment.\n",
      "--------------------------------------------- Result 37 ---------------------------------------------\n",
      "Le plus enthousiaste est l'Oregon, qui recrute 5 000 conducteurs dans le cadre de la plus grande expérience du pays. --> [[[FAILED]]]\n",
      "\n",
      "The most eager is Oregon, which is enlisting 5,000 drivers in the country's biggest experiment.\n",
      "\n",
      "\n"
     ]
    },
    {
     "name": "stderr",
     "output_type": "stream",
     "text": []
    },
    {
     "name": "stdout",
     "output_type": "stream",
     "text": [
      "Ces conducteurs paieront bientôt à l \"État les frais de kilométrage au lieu des taxes sur l'essence. --> [FAILED]\n",
      "\n",
      "Those drivers will soon pay the mileage fees instead of gas taxes to the state.\n",
      "--------------------------------------------- Result 38 ---------------------------------------------\n",
      "Ces conducteurs paieront bientôt à l \"État les frais de kilométrage au lieu des taxes sur l'essence. --> [[[FAILED]]]\n",
      "\n",
      "Those drivers will soon pay the mileage fees instead of gas taxes to the state.\n",
      "\n",
      "\n"
     ]
    },
    {
     "name": "stderr",
     "output_type": "stream",
     "text": []
    },
    {
     "name": "stdout",
     "output_type": "stream",
     "text": [
      "Le Nevada a déjà terminé un projet pilote. --> [FAILED]\n",
      "\n",
      "Nevada has already completed a pilot.\n",
      "--------------------------------------------- Result 39 ---------------------------------------------\n",
      "Le Nevada a déjà terminé un projet pilote. --> [[[FAILED]]]\n",
      "\n",
      "Nevada has already completed a pilot.\n",
      "\n",
      "\n"
     ]
    },
    {
     "name": "stderr",
     "output_type": "stream",
     "text": [
      "textattack: Saving checkpoint under \"results/translation/fairseq/pert3/1746377107876.ta.chkpt\" at 2025-05-04 17:45:07 after 40 attacks.\n"
     ]
    },
    {
     "name": "stdout",
     "output_type": "stream",
     "text": [
      "La ville de New York envisage d'en adopter une. --> [FAILED]\n",
      "\n",
      "New York City is looking into one.\n",
      "--------------------------------------------- Result 40 ---------------------------------------------\n",
      "La ville de New York envisage d'en adopter une. --> [[[FAILED]]]\n",
      "\n",
      "New York City is looking into one.\n",
      "\n",
      "\n",
      "\n",
      "\n",
      "=============================================================================================================================\n",
      "=============================================================================================================================\n",
      "\n"
     ]
    },
    {
     "name": "stderr",
     "output_type": "stream",
     "text": []
    },
    {
     "name": "stdout",
     "output_type": "stream",
     "text": [
      "L'Illinois l'essaie sur une base limitée avec des camions. --> [FAILED]\n",
      "\n",
      "Illinois is trying it on a limited basis with trucks.\n",
      "--------------------------------------------- Result 41 ---------------------------------------------\n",
      "L'Illinois l'essaie sur une base limitée avec des camions. --> [[[FAILED]]]\n",
      "\n",
      "Illinois is trying it on a limited basis with trucks.\n",
      "\n",
      "\n"
     ]
    },
    {
     "name": "stderr",
     "output_type": "stream",
     "text": []
    },
    {
     "name": "stdout",
     "output_type": "stream",
     "text": [
      "Et la Coalition I-95, qui comprend 17 services de transport d'État le long de la côte est (y compris le Maryland, la Pennsylvanie, la Virginie et la Floride), étudie comment ils pourraient procéder pour mettre en œuvre le changement. --> [FAILED]\n",
      "\n",
      "And the I-95 Coalition, which includes 17 state transportation departments along the Eastern Seaboard (including Maryland, Pennsylvania, Virginia and Florida), is studying how they could go about implementing the change.\n",
      "--------------------------------------------- Result 42 ---------------------------------------------\n",
      "Et la Coalition I-95, qui comprend 17 services de transport d'État le long de la côte est (y compris le Maryland, la Pennsylvanie, la Virginie et la Floride), étudie comment ils pourraient procéder pour mettre en œuvre le changement. --> [[[FAILED]]]\n",
      "\n",
      "And the I-95 Coalition, which includes 17 state transportation departments along the Eastern Seaboard (including Maryland, Pennsylvania, Virginia and Florida), is studying how they could go about implementing the change.\n",
      "\n",
      "\n"
     ]
    },
    {
     "name": "stderr",
     "output_type": "stream",
     "text": []
    },
    {
     "name": "stdout",
     "output_type": "stream",
     "text": [
      "Le concept n'est pas un succès universel. --> [FAILED]\n",
      "\n",
      "The concept is not a universal hit.\n",
      "--------------------------------------------- Result 43 ---------------------------------------------\n",
      "Le concept n'est pas un succès universel. --> [[[FAILED]]]\n",
      "\n",
      "The concept is not a universal hit.\n",
      "\n",
      "\n"
     ]
    },
    {
     "name": "stderr",
     "output_type": "stream",
     "text": []
    },
    {
     "name": "stdout",
     "output_type": "stream",
     "text": [
      "Au Nevada, où une cinquantaine de voitures de volontaires étaient équipées de ces dispositifs il n'y a pas si longtemps, les conducteurs ne voyaient pas d'un bon œil que le gouvernement puisse surveiller leurs déplacements. --> [FAILED]\n",
      "\n",
      "In Nevada, where about 50 volunteers' cars were equipped with the devices not long ago, drivers were uneasy about the government being able to monitor their every move.\n",
      "--------------------------------------------- Result 44 ---------------------------------------------\n",
      "Au Nevada, où une cinquantaine de voitures de volontaires étaient équipées de ces dispositifs il n'y a pas si longtemps, les conducteurs ne voyaient pas d'un bon œil que le gouvernement puisse surveiller leurs déplacements. --> [[[FAILED]]]\n",
      "\n",
      "In Nevada, where about 50 volunteers' cars were equipped with the devices not long ago, drivers were uneasy about the government being able to monitor their every move.\n",
      "\n",
      "\n"
     ]
    },
    {
     "name": "stderr",
     "output_type": "stream",
     "text": [
      "textattack: Saving checkpoint under \"results/translation/fairseq/pert3/1746377911389.ta.chkpt\" at 2025-05-04 17:58:31 after 45 attacks.\n"
     ]
    },
    {
     "name": "stdout",
     "output_type": "stream",
     "text": [
      "\"Les préoccupations au sujet de Big Brother et de ce genre de choses constituaient un problème majeur\", a déclaré Alauddin Khan, qui dirige la gestion stratégique et la gestion du rendement au ministère des Transports du Nevada. --> [FAILED]\n",
      "\n",
      "\"Concerns about Big Brother and those sorts of things were a major problem,\" said Alauddin Khan, who directs strategic and performance management at the Nevada Department of Transportation.\n",
      "--------------------------------------------- Result 45 ---------------------------------------------\n",
      "\"Les préoccupations au sujet de Big Brother et de ce genre de choses constituaient un problème majeur\", a déclaré Alauddin Khan, qui dirige la gestion stratégique et la gestion du rendement au ministère des Transports du Nevada. --> [[[FAILED]]]\n",
      "\n",
      "\"Concerns about Big Brother and those sorts of things were a major problem,\" said Alauddin Khan, who directs strategic and performance management at the Nevada Department of Transportation.\n",
      "\n",
      "\n",
      "\n",
      "\n",
      "=============================================================================================================================\n",
      "=============================================================================================================================\n",
      "\n"
     ]
    },
    {
     "name": "stderr",
     "output_type": "stream",
     "text": []
    },
    {
     "name": "stdout",
     "output_type": "stream",
     "text": [
      "Ce n'était pas ce que les gens voulaient. --> [FAILED]\n",
      "\n",
      "It was not something people wanted.\n",
      "--------------------------------------------- Result 46 ---------------------------------------------\n",
      "Ce n'était pas ce que les gens voulaient. --> [[[FAILED]]]\n",
      "\n",
      "It was not something people wanted.\n",
      "\n",
      "\n"
     ]
    },
    {
     "name": "stderr",
     "output_type": "stream",
     "text": []
    },
    {
     "name": "stdout",
     "output_type": "stream",
     "text": [
      "Alors que l'essai était en cours, l'ACLU du Nevada a mis en garde sur son site Web : \"Il serait assez facile de transformer ces dispositifs en dispositifs de suivi à part entière\". --> [FAILED]\n",
      "\n",
      "As the trial got underway, the ACLU of Nevada warned on its website: \"It would be fairly easy to turn these devices into full-fledged tracking devices.\"\n",
      "--------------------------------------------- Result 47 ---------------------------------------------\n",
      "Alors que l'essai était en cours, l'ACLU du Nevada a mis en garde sur son site Web : \"Il serait assez facile de transformer ces dispositifs en dispositifs de suivi à part entière\". --> [[[FAILED]]]\n",
      "\n",
      "As the trial got underway, the ACLU of Nevada warned on its website: \"It would be fairly easy to turn these devices into full-fledged tracking devices.\"\n",
      "\n",
      "\n"
     ]
    },
    {
     "name": "stderr",
     "output_type": "stream",
     "text": []
    },
    {
     "name": "stdout",
     "output_type": "stream",
     "text": [
      "Il n'est pas nécessaire de construire une infrastructure technologique énorme et lourde qui sera inévitablement élargie pour enregistrer les allées et venues quotidiennes des individus. --> [FAILED]\n",
      "\n",
      "There is no need to build an enormous, unwieldy technological infrastructure that will inevitably be expanded to keep records of individuals' everyday comings and goings.\n",
      "--------------------------------------------- Result 48 ---------------------------------------------\n",
      "Il n'est pas nécessaire de construire une infrastructure technologique énorme et lourde qui sera inévitablement élargie pour enregistrer les allées et venues quotidiennes des individus. --> [[[FAILED]]]\n",
      "\n",
      "There is no need to build an enormous, unwieldy technological infrastructure that will inevitably be expanded to keep records of individuals' everyday comings and goings.\n",
      "\n",
      "\n"
     ]
    },
    {
     "name": "stderr",
     "output_type": "stream",
     "text": []
    },
    {
     "name": "stdout",
     "output_type": "stream",
     "text": [
      "Le Nevada est l'un des États qui se démènent actuellement pour trouver une technologie abordable qui permettrait à l'État de suivre le nombre de kilomètres parcourus par une voiture, mais pas exactement où ni à quel moment. --> [FAILED]\n",
      "\n",
      "Nevada is among several states now scrambling to find affordable technology that would allow the state to keep track of how many miles a car is being driven, but not exactly where and at what time.\n",
      "--------------------------------------------- Result 49 ---------------------------------------------\n",
      "Le Nevada est l'un des États qui se démènent actuellement pour trouver une technologie abordable qui permettrait à l'État de suivre le nombre de kilomètres parcourus par une voiture, mais pas exactement où ni à quel moment. --> [[[FAILED]]]\n",
      "\n",
      "Nevada is among several states now scrambling to find affordable technology that would allow the state to keep track of how many miles a car is being driven, but not exactly where and at what time.\n",
      "\n",
      "\n"
     ]
    },
    {
     "name": "stderr",
     "output_type": "stream",
     "text": [
      "textattack: Saving checkpoint under \"results/translation/fairseq/pert3/1746378643815.ta.chkpt\" at 2025-05-04 18:10:43 after 50 attacks.\n"
     ]
    },
    {
     "name": "stdout",
     "output_type": "stream",
     "text": [
      "Si vous pouvez le faire, dit Khan, le public se sentira plus à l'aise. --> [FAILED]\n",
      "\n",
      "If you can do that, Khan said, the public gets more comfortable.\n",
      "--------------------------------------------- Result 50 ---------------------------------------------\n",
      "Si vous pouvez le faire, dit Khan, le public se sentira plus à l'aise. --> [[[FAILED]]]\n",
      "\n",
      "If you can do that, Khan said, the public gets more comfortable.\n",
      "\n",
      "\n",
      "\n",
      "\n",
      "=============================================================================================================================\n",
      "=============================================================================================================================\n",
      "\n"
     ]
    },
    {
     "name": "stderr",
     "output_type": "stream",
     "text": [
      "[Succeeded / Failed / Skipped / Total] 0 / 50 / 0 / 50: 100%|██████████| 50/50 [1:55:51<00:00, 139.03s/it]"
     ]
    },
    {
     "name": "stdout",
     "output_type": "stream",
     "text": [
      "\n",
      "+-------------------------------+--------+\n",
      "| Attack Results                |        |\n",
      "+-------------------------------+--------+\n",
      "| Number of successful attacks: | 0      |\n",
      "| Number of failed attacks:     | 50     |\n",
      "| Number of skipped attacks:    | 0      |\n",
      "| Original accuracy:            | 100.0% |\n",
      "| Accuracy under attack:        | 100.0% |\n",
      "| Attack success rate:          | 0.0%   |\n",
      "| Average perturbed word %:     | nan%   |\n",
      "| Average num. words per input: | 18.38  |\n",
      "| Avg num queries:              | 107.0  |\n",
      "+-------------------------------+--------+\n"
     ]
    },
    {
     "name": "stderr",
     "output_type": "stream",
     "text": [
      "\n",
      "/Users/vlwk/Documents/GitHub/TextAttack/textattack/metrics/attack_metrics/words_perturbed.py:83: RuntimeWarning: Mean of empty slice.\n",
      "  average_perc_words_perturbed = self.perturbed_word_percentages.mean()\n",
      "/opt/anaconda3/envs/projenvconda39/lib/python3.9/site-packages/numpy/core/_methods.py:129: RuntimeWarning: invalid value encountered in scalar divide\n",
      "  ret = ret.dtype.type(ret / rcount)\n"
     ]
    },
    {
     "data": {
      "text/plain": [
       "[<textattack.attack_results.failed_attack_result.FailedAttackResult at 0x3483ba8b0>,\n",
       " <textattack.attack_results.failed_attack_result.FailedAttackResult at 0x3778d40a0>,\n",
       " <textattack.attack_results.failed_attack_result.FailedAttackResult at 0x34836dd90>,\n",
       " <textattack.attack_results.failed_attack_result.FailedAttackResult at 0x3771a5370>,\n",
       " <textattack.attack_results.failed_attack_result.FailedAttackResult at 0x37775dfa0>,\n",
       " <textattack.attack_results.failed_attack_result.FailedAttackResult at 0x3b91adee0>,\n",
       " <textattack.attack_results.failed_attack_result.FailedAttackResult at 0x3b91adf70>,\n",
       " <textattack.attack_results.failed_attack_result.FailedAttackResult at 0x376a017c0>,\n",
       " <textattack.attack_results.failed_attack_result.FailedAttackResult at 0x3772b1c40>,\n",
       " <textattack.attack_results.failed_attack_result.FailedAttackResult at 0x3771c7d00>,\n",
       " <textattack.attack_results.failed_attack_result.FailedAttackResult at 0x377184370>,\n",
       " <textattack.attack_results.failed_attack_result.FailedAttackResult at 0x37715cdf0>,\n",
       " <textattack.attack_results.failed_attack_result.FailedAttackResult at 0x37731b070>,\n",
       " <textattack.attack_results.failed_attack_result.FailedAttackResult at 0x171dbcee0>,\n",
       " <textattack.attack_results.failed_attack_result.FailedAttackResult at 0x3772c5280>,\n",
       " <textattack.attack_results.failed_attack_result.FailedAttackResult at 0x3772f8df0>,\n",
       " <textattack.attack_results.failed_attack_result.FailedAttackResult at 0x171dcfd90>,\n",
       " <textattack.attack_results.failed_attack_result.FailedAttackResult at 0x3775872e0>,\n",
       " <textattack.attack_results.failed_attack_result.FailedAttackResult at 0x3771b9280>,\n",
       " <textattack.attack_results.failed_attack_result.FailedAttackResult at 0x37737aee0>,\n",
       " <textattack.attack_results.failed_attack_result.FailedAttackResult at 0x3773391f0>,\n",
       " <textattack.attack_results.failed_attack_result.FailedAttackResult at 0x171e0bee0>,\n",
       " <textattack.attack_results.failed_attack_result.FailedAttackResult at 0x377455fa0>,\n",
       " <textattack.attack_results.failed_attack_result.FailedAttackResult at 0x377437070>,\n",
       " <textattack.attack_results.failed_attack_result.FailedAttackResult at 0x377183f40>,\n",
       " <textattack.attack_results.failed_attack_result.FailedAttackResult at 0x377366790>,\n",
       " <textattack.attack_results.failed_attack_result.FailedAttackResult at 0x377467c40>,\n",
       " <textattack.attack_results.failed_attack_result.FailedAttackResult at 0x37743f730>,\n",
       " <textattack.attack_results.failed_attack_result.FailedAttackResult at 0x377475b50>,\n",
       " <textattack.attack_results.failed_attack_result.FailedAttackResult at 0x171e04f40>,\n",
       " <textattack.attack_results.failed_attack_result.FailedAttackResult at 0x3773f2340>,\n",
       " <textattack.attack_results.failed_attack_result.FailedAttackResult at 0x377501310>,\n",
       " <textattack.attack_results.failed_attack_result.FailedAttackResult at 0x37742da60>,\n",
       " <textattack.attack_results.failed_attack_result.FailedAttackResult at 0x38128bb20>,\n",
       " <textattack.attack_results.failed_attack_result.FailedAttackResult at 0x171e051f0>,\n",
       " <textattack.attack_results.failed_attack_result.FailedAttackResult at 0x3810d3bb0>,\n",
       " <textattack.attack_results.failed_attack_result.FailedAttackResult at 0x3810acd00>,\n",
       " <textattack.attack_results.failed_attack_result.FailedAttackResult at 0x3810b7190>,\n",
       " <textattack.attack_results.failed_attack_result.FailedAttackResult at 0x3812d4910>,\n",
       " <textattack.attack_results.failed_attack_result.FailedAttackResult at 0x377493190>,\n",
       " <textattack.attack_results.failed_attack_result.FailedAttackResult at 0x381348970>,\n",
       " <textattack.attack_results.failed_attack_result.FailedAttackResult at 0x3810d3760>,\n",
       " <textattack.attack_results.failed_attack_result.FailedAttackResult at 0x380ff28b0>,\n",
       " <textattack.attack_results.failed_attack_result.FailedAttackResult at 0x38113fe20>,\n",
       " <textattack.attack_results.failed_attack_result.FailedAttackResult at 0x3813df340>,\n",
       " <textattack.attack_results.failed_attack_result.FailedAttackResult at 0x3812d6be0>,\n",
       " <textattack.attack_results.failed_attack_result.FailedAttackResult at 0x3776b58b0>,\n",
       " <textattack.attack_results.failed_attack_result.FailedAttackResult at 0x3812002b0>,\n",
       " <textattack.attack_results.failed_attack_result.FailedAttackResult at 0x381374f10>,\n",
       " <textattack.attack_results.failed_attack_result.FailedAttackResult at 0x3813270a0>]"
      ]
     },
     "execution_count": 5,
     "metadata": {},
     "output_type": "execute_result"
    }
   ],
   "source": [
    "class FairseqTranslationWrapper(ModelWrapper):\n",
    "    \"\"\"\n",
    "    A wrapper for the model\n",
    "        torch.hub.load('pytorch/fairseq',\n",
    "                        'transformer.wmt14.en-fr',\n",
    "                        tokenizer='moses',\n",
    "                        bpe='subword_nmt',\n",
    "                        verbose=False).eval()\n",
    "    or any other model with a .translate() method.\n",
    "    \"\"\"\n",
    "\n",
    "    def __init__(self, model):\n",
    "        self.model = model  \n",
    "\n",
    "    def __call__(self, text_input_list: List[str]) -> List[str]:\n",
    "        \"\"\"\n",
    "        Args:\n",
    "            input_texts: List[str]\n",
    "        \n",
    "        Return:\n",
    "            ret: List[str]\n",
    "                Result of translation. One per element in input_texts.\n",
    "        \"\"\"\n",
    "        return [self.model.translate(text) for text in text_input_list]\n",
    "model = torch.hub.load(\n",
    "    'pytorch/fairseq',\n",
    "    'transformer.wmt14.en-fr',\n",
    "    tokenizer='moses',\n",
    "    bpe='subword_nmt',\n",
    "    verbose=False\n",
    ").eval()\n",
    "\n",
    "model_wrapper = FairseqTranslationWrapper(model)\n",
    "def download_en_fr_dataset():\n",
    "    \n",
    "\n",
    "    # Define constants\n",
    "    url = \"http://statmt.org/wmt14/test-full.tgz\"\n",
    "    target_dir = os.path.join(\"temp/translation\", \"data\")\n",
    "    os.makedirs(target_dir, exist_ok=True)\n",
    "\n",
    "    print(f\"Downloading WMT14 test data from {url}...\")\n",
    "\n",
    "    # Download and extract in-memory\n",
    "    response = requests.get(url, stream=True)\n",
    "    response.raise_for_status()\n",
    "\n",
    "    with tarfile.open(fileobj=BytesIO(response.content), mode=\"r:gz\") as tar:\n",
    "        for member in tar.getmembers():\n",
    "            if member.name.endswith(\"newstest2014-fren-src.en.sgm\") or member.name.endswith(\"newstest2014-fren-ref.fr.sgm\"):\n",
    "                print(f\"Extracting {member.name} to {target_dir}\")\n",
    "                member.name = os.path.basename(member.name) \n",
    "                tar.extract(member, path=target_dir)\n",
    "\n",
    "    print(\"en_fr dataset downloaded.\")\n",
    "def load_en_fr_dataset():\n",
    "    \"\"\"\n",
    "    Loads English-French sentence pairs from SGM files and returns a TextAttack Dataset.\n",
    "\n",
    "    Returns:\n",
    "        textattack.datasets.Dataset: wrapped dataset of (English, French) pairs.\n",
    "    \"\"\"\n",
    "    \n",
    "\n",
    "    source_path = os.path.join(\"temp/translation\", \"data/newstest2014-fren-src.en.sgm\")\n",
    "    target_path = os.path.join(\"temp/translation\", \"data/newstest2014-fren-ref.fr.sgm\")\n",
    "\n",
    "    with open(source_path, \"r\", encoding=\"utf-8\") as f:\n",
    "        source_doc = BeautifulSoup(f, \"html.parser\")\n",
    "\n",
    "    with open(target_path, \"r\", encoding=\"utf-8\") as f:\n",
    "        target_doc = BeautifulSoup(f, \"html.parser\")\n",
    "\n",
    "    pairs = []\n",
    "\n",
    "    for doc in source_doc.find_all(\"doc\"):\n",
    "        docid = str(doc[\"docid\"])\n",
    "        for seg in doc.find_all(\"seg\"):\n",
    "            segid = str(seg[\"id\"])\n",
    "            src = str(seg.string).strip() if seg.string else \"\"\n",
    "            tgt_node = target_doc.select_one(f'doc[docid=\"{docid}\"] > seg[id=\"{segid}\"]')\n",
    "            if tgt_node and tgt_node.string:\n",
    "                tgt = str(tgt_node.string).strip()\n",
    "                pairs.append((src, tgt))\n",
    "    return textattack.datasets.Dataset(pairs) \n",
    "download_en_fr_dataset()\n",
    "dataset = load_en_fr_dataset()\n",
    "attack = textattack.attack_recipes.BadCharacters2021.build(\n",
    "    model_wrapper, \n",
    "    goal_function_type=\"maximize_levenshtein\", \n",
    "    perturbation_type=\"homoglyphs\",\n",
    "    popsize=5,\n",
    "    maxiter=3,\n",
    "    perturbs=5\n",
    ")\n",
    "print(dataset[0])\n",
    "attack_args = textattack.AttackArgs(\n",
    "    num_examples=50,\n",
    "    log_to_csv=\"results/translation/fairseq/pert3/log.csv\",\n",
    "    checkpoint_interval=5,\n",
    "    checkpoint_dir=f\"results/translation/fairseq/pert3\",\n",
    ")\n",
    "attacker = textattack.Attacker(attack, dataset, attack_args)\n",
    "attacker.attack_dataset()\n",
    "\n",
    "# if args.store_temp_files == False:\n",
    "#     if os.path.isdir(\"temp/translation\"):\n",
    "#         shutil.rmtree(\"temp/translation\")\n",
    "# if args.store_results == False:\n",
    "#     if os.path.isdir(\"results/translation\"):\n",
    "#         shutil.rmtree(\"results/translation\")"
   ]
  },
  {
   "cell_type": "code",
   "execution_count": 7,
   "id": "18c57faa",
   "metadata": {},
   "outputs": [
    {
     "name": "stdout",
     "output_type": "stream",
     "text": [
      "Downloading https://codait-cos-max.s3.us.cloud-object-storage.appdomain.cloud/max-toxic-comment-classifier/1.0.0/assets.tar.gz\n",
      "Extracting assets...\n",
      "Running: git clone https://github.com/IBM/MAX-Toxic-Comment-Classifier.git\n"
     ]
    },
    {
     "name": "stderr",
     "output_type": "stream",
     "text": [
      "Cloning into 'MAX-Toxic-Comment-Classifier'...\n"
     ]
    },
    {
     "name": "stdout",
     "output_type": "stream",
     "text": [
      "Running: pip install -r temp/toxic/toxic/requirements.txt\n",
      "Requirement already satisfied: torch in /opt/anaconda3/envs/projenvconda39/lib/python3.9/site-packages (from -r temp/toxic/toxic/requirements.txt (line 1)) (2.5.1)\n",
      "Requirement already satisfied: pytorch-pretrained-bert in /opt/anaconda3/envs/projenvconda39/lib/python3.9/site-packages (from -r temp/toxic/toxic/requirements.txt (line 2)) (0.6.2)\n",
      "Requirement already satisfied: filelock in /opt/anaconda3/envs/projenvconda39/lib/python3.9/site-packages (from torch->-r temp/toxic/toxic/requirements.txt (line 1)) (3.16.1)\n",
      "Requirement already satisfied: typing-extensions>=4.8.0 in /opt/anaconda3/envs/projenvconda39/lib/python3.9/site-packages (from torch->-r temp/toxic/toxic/requirements.txt (line 1)) (4.13.2)\n",
      "Requirement already satisfied: networkx in /opt/anaconda3/envs/projenvconda39/lib/python3.9/site-packages (from torch->-r temp/toxic/toxic/requirements.txt (line 1)) (3.2.1)\n",
      "Requirement already satisfied: jinja2 in /opt/anaconda3/envs/projenvconda39/lib/python3.9/site-packages (from torch->-r temp/toxic/toxic/requirements.txt (line 1)) (3.1.4)\n",
      "Requirement already satisfied: fsspec in /opt/anaconda3/envs/projenvconda39/lib/python3.9/site-packages (from torch->-r temp/toxic/toxic/requirements.txt (line 1)) (2024.9.0)\n",
      "Requirement already satisfied: sympy==1.13.1 in /opt/anaconda3/envs/projenvconda39/lib/python3.9/site-packages (from torch->-r temp/toxic/toxic/requirements.txt (line 1)) (1.13.1)\n",
      "Requirement already satisfied: mpmath<1.4,>=1.1.0 in /opt/anaconda3/envs/projenvconda39/lib/python3.9/site-packages (from sympy==1.13.1->torch->-r temp/toxic/toxic/requirements.txt (line 1)) (1.3.0)\n",
      "Requirement already satisfied: numpy in /opt/anaconda3/envs/projenvconda39/lib/python3.9/site-packages (from pytorch-pretrained-bert->-r temp/toxic/toxic/requirements.txt (line 2)) (1.26.4)\n",
      "Requirement already satisfied: boto3 in /opt/anaconda3/envs/projenvconda39/lib/python3.9/site-packages (from pytorch-pretrained-bert->-r temp/toxic/toxic/requirements.txt (line 2)) (1.35.63)\n",
      "Requirement already satisfied: requests in /opt/anaconda3/envs/projenvconda39/lib/python3.9/site-packages (from pytorch-pretrained-bert->-r temp/toxic/toxic/requirements.txt (line 2)) (2.32.3)\n",
      "Requirement already satisfied: tqdm in /opt/anaconda3/envs/projenvconda39/lib/python3.9/site-packages (from pytorch-pretrained-bert->-r temp/toxic/toxic/requirements.txt (line 2)) (4.67.0)\n",
      "Requirement already satisfied: regex in /opt/anaconda3/envs/projenvconda39/lib/python3.9/site-packages (from pytorch-pretrained-bert->-r temp/toxic/toxic/requirements.txt (line 2)) (2024.11.6)\n",
      "Requirement already satisfied: botocore<1.36.0,>=1.35.63 in /opt/anaconda3/envs/projenvconda39/lib/python3.9/site-packages (from boto3->pytorch-pretrained-bert->-r temp/toxic/toxic/requirements.txt (line 2)) (1.35.63)\n",
      "Requirement already satisfied: jmespath<2.0.0,>=0.7.1 in /opt/anaconda3/envs/projenvconda39/lib/python3.9/site-packages (from boto3->pytorch-pretrained-bert->-r temp/toxic/toxic/requirements.txt (line 2)) (1.0.1)\n",
      "Requirement already satisfied: s3transfer<0.11.0,>=0.10.0 in /opt/anaconda3/envs/projenvconda39/lib/python3.9/site-packages (from boto3->pytorch-pretrained-bert->-r temp/toxic/toxic/requirements.txt (line 2)) (0.10.3)\n",
      "Requirement already satisfied: MarkupSafe>=2.0 in /opt/anaconda3/envs/projenvconda39/lib/python3.9/site-packages (from jinja2->torch->-r temp/toxic/toxic/requirements.txt (line 1)) (3.0.2)\n",
      "Requirement already satisfied: charset-normalizer<4,>=2 in /opt/anaconda3/envs/projenvconda39/lib/python3.9/site-packages (from requests->pytorch-pretrained-bert->-r temp/toxic/toxic/requirements.txt (line 2)) (3.4.0)\n",
      "Requirement already satisfied: idna<4,>=2.5 in /opt/anaconda3/envs/projenvconda39/lib/python3.9/site-packages (from requests->pytorch-pretrained-bert->-r temp/toxic/toxic/requirements.txt (line 2)) (3.10)\n",
      "Requirement already satisfied: urllib3<3,>=1.21.1 in /opt/anaconda3/envs/projenvconda39/lib/python3.9/site-packages (from requests->pytorch-pretrained-bert->-r temp/toxic/toxic/requirements.txt (line 2)) (1.26.20)\n",
      "Requirement already satisfied: certifi>=2017.4.17 in /opt/anaconda3/envs/projenvconda39/lib/python3.9/site-packages (from requests->pytorch-pretrained-bert->-r temp/toxic/toxic/requirements.txt (line 2)) (2024.8.30)\n",
      "Requirement already satisfied: python-dateutil<3.0.0,>=2.1 in /opt/anaconda3/envs/projenvconda39/lib/python3.9/site-packages (from botocore<1.36.0,>=1.35.63->boto3->pytorch-pretrained-bert->-r temp/toxic/toxic/requirements.txt (line 2)) (2.9.0.post0)\n",
      "Requirement already satisfied: six>=1.5 in /opt/anaconda3/envs/projenvconda39/lib/python3.9/site-packages (from python-dateutil<3.0.0,>=2.1->botocore<1.36.0,>=1.35.63->boto3->pytorch-pretrained-bert->-r temp/toxic/toxic/requirements.txt (line 2)) (1.16.0)\n",
      "Running: pip install maxfw\n",
      "Requirement already satisfied: maxfw in /opt/anaconda3/envs/projenvconda39/lib/python3.9/site-packages (1.1.6)\n",
      "Requirement already satisfied: flask-restx>=0.3 in /opt/anaconda3/envs/projenvconda39/lib/python3.9/site-packages (from maxfw) (1.3.0)\n",
      "Requirement already satisfied: flask-cors>=3.0.9 in /opt/anaconda3/envs/projenvconda39/lib/python3.9/site-packages (from maxfw) (5.0.0)\n",
      "Requirement already satisfied: Pillow>=8.1.1 in /opt/anaconda3/envs/projenvconda39/lib/python3.9/site-packages (from maxfw) (11.0.0)\n",
      "Requirement already satisfied: numpy>=1.18.4 in /opt/anaconda3/envs/projenvconda39/lib/python3.9/site-packages (from maxfw) (1.26.4)\n",
      "Requirement already satisfied: Flask>=0.9 in /opt/anaconda3/envs/projenvconda39/lib/python3.9/site-packages (from flask-cors>=3.0.9->maxfw) (3.1.0)\n",
      "Requirement already satisfied: aniso8601>=0.82 in /opt/anaconda3/envs/projenvconda39/lib/python3.9/site-packages (from flask-restx>=0.3->maxfw) (10.0.0)\n",
      "Requirement already satisfied: jsonschema in /opt/anaconda3/envs/projenvconda39/lib/python3.9/site-packages (from flask-restx>=0.3->maxfw) (4.23.0)\n",
      "Requirement already satisfied: werkzeug!=2.0.0 in /opt/anaconda3/envs/projenvconda39/lib/python3.9/site-packages (from flask-restx>=0.3->maxfw) (3.1.3)\n",
      "Requirement already satisfied: pytz in /opt/anaconda3/envs/projenvconda39/lib/python3.9/site-packages (from flask-restx>=0.3->maxfw) (2024.2)\n",
      "Requirement already satisfied: importlib-resources in /opt/anaconda3/envs/projenvconda39/lib/python3.9/site-packages (from flask-restx>=0.3->maxfw) (6.4.5)\n",
      "Requirement already satisfied: Jinja2>=3.1.2 in /opt/anaconda3/envs/projenvconda39/lib/python3.9/site-packages (from Flask>=0.9->flask-cors>=3.0.9->maxfw) (3.1.4)\n",
      "Requirement already satisfied: itsdangerous>=2.2 in /opt/anaconda3/envs/projenvconda39/lib/python3.9/site-packages (from Flask>=0.9->flask-cors>=3.0.9->maxfw) (2.2.0)\n",
      "Requirement already satisfied: click>=8.1.3 in /opt/anaconda3/envs/projenvconda39/lib/python3.9/site-packages (from Flask>=0.9->flask-cors>=3.0.9->maxfw) (8.1.7)\n",
      "Requirement already satisfied: blinker>=1.9 in /opt/anaconda3/envs/projenvconda39/lib/python3.9/site-packages (from Flask>=0.9->flask-cors>=3.0.9->maxfw) (1.9.0)\n",
      "Requirement already satisfied: importlib-metadata>=3.6 in /opt/anaconda3/envs/projenvconda39/lib/python3.9/site-packages (from Flask>=0.9->flask-cors>=3.0.9->maxfw) (7.0.1)\n",
      "Requirement already satisfied: MarkupSafe>=2.1.1 in /opt/anaconda3/envs/projenvconda39/lib/python3.9/site-packages (from werkzeug!=2.0.0->flask-restx>=0.3->maxfw) (3.0.2)\n",
      "Requirement already satisfied: zipp>=3.1.0 in /opt/anaconda3/envs/projenvconda39/lib/python3.9/site-packages (from importlib-resources->flask-restx>=0.3->maxfw) (3.20.2)\n",
      "Requirement already satisfied: attrs>=22.2.0 in /opt/anaconda3/envs/projenvconda39/lib/python3.9/site-packages (from jsonschema->flask-restx>=0.3->maxfw) (24.2.0)\n",
      "Requirement already satisfied: jsonschema-specifications>=2023.03.6 in /opt/anaconda3/envs/projenvconda39/lib/python3.9/site-packages (from jsonschema->flask-restx>=0.3->maxfw) (2024.10.1)\n",
      "Requirement already satisfied: referencing>=0.28.4 in /opt/anaconda3/envs/projenvconda39/lib/python3.9/site-packages (from jsonschema->flask-restx>=0.3->maxfw) (0.36.2)\n",
      "Requirement already satisfied: rpds-py>=0.7.1 in /opt/anaconda3/envs/projenvconda39/lib/python3.9/site-packages (from jsonschema->flask-restx>=0.3->maxfw) (0.22.3)\n",
      "Requirement already satisfied: typing-extensions>=4.4.0 in /opt/anaconda3/envs/projenvconda39/lib/python3.9/site-packages (from referencing>=0.28.4->jsonschema->flask-restx>=0.3->maxfw) (4.13.2)\n"
     ]
    },
    {
     "name": "stderr",
     "output_type": "stream",
     "text": [
      "/Users/vlwk/Documents/GitHub/TextAttack/tests/badcharacters2021/temp/toxic/toxic/core/model.py:47: FutureWarning: You are using `torch.load` with `weights_only=False` (the current default value), which uses the default pickle module implicitly. It is possible to construct malicious pickle data which will execute arbitrary code during unpickling (See https://github.com/pytorch/pytorch/blob/main/SECURITY.md#untrusted-models for more details). In a future release, the default value for `weights_only` will be flipped to `True`. This limits the functions that could be executed during unpickling. Arbitrary objects will no longer be allowed to be loaded via this mode unless they are explicitly allowlisted by the user via `torch.serialization.add_safe_globals`. We recommend you start setting `weights_only=True` for any use case where you don't have full control of the loaded file. Please open an issue on GitHub for any issues related to this experimental feature.\n",
      "  model_state_dict = torch.load(DEFAULT_MODEL_PATH+'pytorch_model.bin', map_location='cpu')\n"
     ]
    },
    {
     "name": "stdout",
     "output_type": "stream",
     "text": [
      "Downloading temp/toxic/toxicity_annotated_comments.tsv\n",
      "Downloading temp/toxic/toxicity_annotations.tsv\n"
     ]
    },
    {
     "name": "stderr",
     "output_type": "stream",
     "text": [
      "textattack: No entry found for goal function <class 'textattack.goal_functions.custom.logit_sum.LogitSum'>.\n",
      "textattack: Unknown if model of class <class 'temp.toxic.toxic.core.model.ModelWrapper'> compatible with goal function <class 'textattack.goal_functions.custom.logit_sum.LogitSum'>.\n"
     ]
    },
    {
     "name": "stdout",
     "output_type": "stream",
     "text": [
      "(OrderedDict([('text', \"`  After the wasted bit on his sexuality, I haven't read the above diatribe but one thing for ABSOLUTE certain: Never in the history of this planet has Umberto ever been referred to as Humbert. It is this kind of lunacy that renders Wikipedia as a ``fringe`` place for idiots to play. Get serious....DW`\")]), 0)\n"
     ]
    },
    {
     "name": "stderr",
     "output_type": "stream",
     "text": [
      "textattack: Logging to CSV at path results/toxic/log.csv\n"
     ]
    },
    {
     "name": "stdout",
     "output_type": "stream",
     "text": [
      "Attack(\n",
      "  (search_method): DifferentialEvolution(\n",
      "    (popsize):  32\n",
      "    (maxiter):  10\n",
      "    (max_perturbs):  1\n",
      "    (verbose):  False\n",
      "  )\n",
      "  (goal_function):  LogitSum\n",
      "  (transformation):  WordSwapHomoglyphSwap\n",
      "  (constraints): None\n",
      "  (is_black_box):  True\n",
      ") \n",
      "\n"
     ]
    },
    {
     "name": "stderr",
     "output_type": "stream",
     "text": [
      "[Succeeded / Failed / Skipped / Total] 0 / 1 / 0 / 1:  10%|█         | 1/10 [00:05<00:52,  5.82s/it]"
     ]
    },
    {
     "name": "stdout",
     "output_type": "stream",
     "text": [
      "--------------------------------------------- Result 1 ---------------------------------------------\n",
      "tensor([9.6299e-01, 1.7065e-03, 6.9568e-02, 8.5043e-04, 6.6601e-01, 1.0821e-02]) --> [[[FAILED]]]\n",
      "\n",
      "`  After the wasted bit on his sexuality, I haven't read the above diatribe but one thing for ABSOLUTE certain: Never in the history of this planet has Umberto ever been referred to as Humbert. It is this kind of lunacy that renders Wikipedia as a ``fringe`` place for idiots to play. Get serious....DW`\n",
      "\n",
      "\n"
     ]
    },
    {
     "name": "stderr",
     "output_type": "stream",
     "text": [
      "[Succeeded / Failed / Skipped / Total] 0 / 2 / 0 / 2:  20%|██        | 2/10 [00:23<01:35, 11.95s/it]"
     ]
    },
    {
     "name": "stdout",
     "output_type": "stream",
     "text": [
      "--------------------------------------------- Result 2 ---------------------------------------------\n",
      "tensor([9.5041e-01, 1.1281e-03, 1.2786e-01, 2.0196e-03, 6.5274e-03, 4.9106e-04]) --> [[[FAILED]]]\n",
      "\n",
      "    Erik, for crying out loud. You legally can have sex with children, but not with underage children. Underage children are children beneath the legal age of consent (different states have 14, 15, 16, 17 or 18 as the underage limit. Children in most countries means someone under the age of 18. In Ireland for example, a 'child' aged 17 is over the age of consent. In Britain it is 16. Do you know the first thing about the topic?   The name is standard english asage. Scandal is a POV term. Allegation allows the discussion of cases that have not yet come to court, which cannot for technical reasons be prosecuted and cases that were thrown up as invalid. Roman Catholic Church sex abuses allegations in standard english means allegations about the Roman Catholic Church.   Public relations is minor tabloid point when you are discussing the rape of children, so stop adding in an irrelevant topic.   Your mucking around lost a lot of changes, spelling corrections and other problems solved. I was caught in an edit conflict with you and given the scale of the changes could do nothing but a cut and paste job. I then tried to go in to your version to transfer over accurate changes but then you started this insane fucking around with the article's location, using a POV title. I will keep moving back to a carefully worded neutral title.  \n",
      "\n",
      "\n"
     ]
    },
    {
     "name": "stderr",
     "output_type": "stream",
     "text": [
      "[Succeeded / Failed / Skipped / Total] 0 / 3 / 0 / 3:  30%|███       | 3/10 [00:28<01:06,  9.48s/it]"
     ]
    },
    {
     "name": "stdout",
     "output_type": "stream",
     "text": [
      "--------------------------------------------- Result 3 ---------------------------------------------\n",
      "tensor([0.9890, 0.0210, 0.6732, 0.0114, 0.0362, 0.0010]) --> [[[FAILED]]]\n",
      "\n",
      "BOOBS, BOOBS, BOOBS, BOOBS, BOOBS, BOOBS, BOOBS, BOOBS, BOOBS, BOOBS, BOOBS, BOOBS, BOOBS, BOOBS, BOOBS, BOOBS, BOOBS, BOOBS, BOOBS, BOOBS, BOOBS, BOOBS, BOOBS, BOOBS, BOOBS, BOOBS, BOOBS, BOOBS, BOOBS, BOOBS, BOOBS, BOOBS, BOOBS, BOOBS, BOOBS, BOOBS, BOOBS, BOOBS, BOOBS, BOOBS, BOOBS, BOOBS, BOOBS, BOOBS, BOOBS, BOOBS, BOOBS, BOOBS, BOOBS, BOOBS, BOOBS, BOOBS, BOOBS, BOOBS, BOOBS, BOOBS, BOOBS, BOOBS, BOOBS, BOOBS, BOOBS, BOOBS, BOOBS, BOOBS, BOOBS, BOOBS, BOOBS, BOOBS, BOOBS, BOOBS, BOOBS, BOOBS, BOOBS, BOOBS, BOOBS, BOOBS, BOOBS, BOOBS, BOOBS, BOOBS, BOOBS, BOOBS, BOOBS, BOOBS, BOOBS, BOOBS, BOOBS, BOOBS, BOOBS, BOOBS, BOOBS, BOOBS, BOOBS, BOOBS, BOOBS, BOOBS, BOOBS, BOOBS, BOOBS, BOOBS, BOOBS, BOOBS, BOOBS, BOOBS, BOOBS, BOOBS, BOOBS, BOOBS, BOOBS, BOOBS, BOOBS, BOOBS, BOOBS, BOOBS, BOOBS, BOOBS, BOOBS, BOOBS, BOOBS, BOOBS, BOOBS, BOOBS, BOOBS, BOOBS, BOOBS, BOOBS, BOOBS, BOOBS, BOOBS, BOOBS, BOOBS, BOOBS, BOOBS, BOOBS, BOOBS, BOOBS, BOOBS, BOOBS, BOOBS, BOOBS, BOOBS, BOOBS, BOOBS, BOOBS, BOOBS, BOOBS, BOOBS, BOOBS, BOOBS, BOOBS, BOOBS, BOOBS, BOOBS, BOOBS, BOOBS, BOOBS, BOOBS, BOOBS, BOOBS, BOOBS, BOOBS, BOOBS, BOOBS, BOOBS, BOOBS, BOOBS, BOOBS, BOOBS, BOOBS, BOOBS, BOOBS, BOOBS, BOOBS, BOOBS, BOOBS, BOOBS, BOOBS, BOOBS, BOOBS, BOOBS, BOOBS, BOOBS, BOOBS, BOOBS, BOOBS, BOOBS, BOOBS, BOOBS, BOOBS, BOOBS, BOOBS, BOOBS, BOOBS, BOOBS, BOOBS, BOOBS, BOOBS, BOOBS, BOOBS, BOOBS, BOOBS, BOOBS, BOOBS, BOOBS, BOOBS, BOOBS, BOOBS, BOOBS, BOOBS, BOOBS, BOOBS, BOOBS, BOOBS, BOOBS, BOOBS, BOOBS, BOOBS, BOOBS, BOOBS, BOOBS, BOOBS, BOOBS, BOOBS, BOOBS, BOOBS, BOOBS, BOOBS, BOOBS, BOOBS, BOOBS, BOOBS, BOOBS, BOOBS, BOOBS, BOOBS, BOOBS, BOOBS, BOOBS, BOOBS, BOOBS, BOOBS, BOOBS, BOOBS, BOOBS, BOOBS, BOOBS, BOOBS, BOOBS, BOOBS, BOOBS, BOOBS, BOOBS, BOOBS, BOOBS, BOOBS, BOOBS, BOOBS, BOOBS, BOOBS, BOOBS, BOOBS, BOOBS, BOOBS, BOOBS, BOOBS, BOOBS, BOOBS, BOOBS, BOOBS, BOOBS, BOOBS, BOOBS, BOOBS, BOOBS, BOOBS, BOOBS, BOOBS, BOOBS, BOOBS, BOOBS, BOOBS, BOOBS, BOOBS, BOOBS, BOOBS, BOOBS, BOOBS, BOOBS, BOOBS, BOOBS, BOOBS, BOOBS, BOOBS, BOOBS, BOOBS, BOOBS, BOOBS, BOOBS, BOOBS, BOOBS, BOOBS, BOOBS, BOOBS, BOOBS, BOOBS, BOOBS, BOOBS, BOOBS, BOOBS, BOOBS, BOOBS, BOOBS, BOOBS, BOOBS, BOOBS, BOOBS, BOOBS, BOOBS, BOOBS, BOOBS, BOOBS, BOOBS, BOOBS, BOOBS, BOOBS, BOOBS, BOOBS, BOOBS, BOOBS, BOOBS, BOOBS, BOOBS, BOOBS, BOOBS, BOOBS, BOOBS, BOOBS, BOOBS, BOOBS, BOOBS, BOOBS, BOOBS, BOOBS, BOOBS, BOOBS, BOOBS, BOOBS, BOOBS, BOOBS, BOOBS, BOOBS, BOOBS, BOOBS, BOOBS, BOOBS, BOOBS, BOOBS, BOOBS, BOOBS, BOOBS, BOOBS, BOOBS, BOOBS\n",
      "\n",
      "\n"
     ]
    },
    {
     "name": "stderr",
     "output_type": "stream",
     "text": [
      "[Succeeded / Failed / Skipped / Total] 1 / 3 / 0 / 4:  40%|████      | 4/10 [00:30<00:45,  7.55s/it]"
     ]
    },
    {
     "name": "stdout",
     "output_type": "stream",
     "text": [
      "--------------------------------------------- Result 4 ---------------------------------------------\n",
      "tensor([6.3730e-01, 2.2119e-04, 6.5575e-03, 2.2104e-04, 6.4976e-03, 1.8520e-04]) --> tensor([7.4618e-04, 1.0445e-04, 2.3478e-04, 8.5751e-05, 1.3375e-04, 9.1187e-05])\n",
      "\n",
      "  It was anonymous on accident, and FYI, I'm not a troll [[moron]].  \n",
      "\n",
      "  It was anonymous on accident, and FYI, I'm not a troll [[mοron]].  \n",
      "\n",
      "\n"
     ]
    },
    {
     "name": "stderr",
     "output_type": "stream",
     "text": [
      "[Succeeded / Failed / Skipped / Total] 2 / 3 / 0 / 5:  50%|█████     | 5/10 [00:31<00:31,  6.20s/it]"
     ]
    },
    {
     "name": "stdout",
     "output_type": "stream",
     "text": [
      "--------------------------------------------- Result 5 ---------------------------------------------\n",
      "tensor([9.5362e-01, 5.9087e-04, 2.3544e-03, 2.6504e-03, 6.0207e-02, 8.6768e-04]) --> tensor([2.4677e-03, 9.4472e-05, 2.4309e-04, 1.1691e-04, 1.6267e-04, 1.6336e-04])\n",
      "\n",
      "a dippy [[lunatic]] like \n",
      "\n",
      "a dippy [[lunаtic]] like \n",
      "\n",
      "\n"
     ]
    },
    {
     "name": "stderr",
     "output_type": "stream",
     "text": [
      "[Succeeded / Failed / Skipped / Total] 2 / 4 / 0 / 6:  60%|██████    | 6/10 [00:34<00:22,  5.72s/it]"
     ]
    },
    {
     "name": "stdout",
     "output_type": "stream",
     "text": [
      "--------------------------------------------- Result 6 ---------------------------------------------\n",
      "tensor([0.9787, 0.0508, 0.1007, 0.1988, 0.2891, 0.9054]) --> [[[FAILED]]]\n",
      "\n",
      "Yes, complain to your rabbi and then go shoot some more defenseless Arabs to take out your frustration.    \n",
      "\n",
      "\n"
     ]
    },
    {
     "name": "stderr",
     "output_type": "stream",
     "text": [
      "[Succeeded / Failed / Skipped / Total] 3 / 4 / 0 / 7:  70%|███████   | 7/10 [00:35<00:15,  5.08s/it]"
     ]
    },
    {
     "name": "stdout",
     "output_type": "stream",
     "text": [
      "--------------------------------------------- Result 7 ---------------------------------------------\n",
      "tensor([9.8629e-01, 3.5898e-02, 9.6445e-01, 7.1178e-04, 8.3451e-01, 3.1259e-03]) --> tensor([5.9527e-04, 8.8887e-05, 1.6067e-04, 7.6018e-05, 1.3248e-04, 9.9863e-05])\n",
      "\n",
      "  i am using the sandbox, [[ass]] wipe\n",
      "\n",
      "  i am using the sandbox, [[aѕs]] wipe\n",
      "\n",
      "\n"
     ]
    },
    {
     "name": "stderr",
     "output_type": "stream",
     "text": [
      "[Succeeded / Failed / Skipped / Total] 3 / 5 / 0 / 8:  80%|████████  | 8/10 [00:37<00:09,  4.68s/it]"
     ]
    },
    {
     "name": "stdout",
     "output_type": "stream",
     "text": [
      "--------------------------------------------- Result 8 ---------------------------------------------\n",
      "tensor([0.9889, 0.0698, 0.9102, 0.0015, 0.9791, 0.0200]) --> [[[FAILED]]]\n",
      "\n",
      "  == whoa ==  you are a bi fat idiot, stop spamming my user space.\n",
      "\n",
      "\n"
     ]
    },
    {
     "name": "stderr",
     "output_type": "stream",
     "text": [
      "[Succeeded / Failed / Skipped / Total] 3 / 6 / 0 / 9:  90%|█████████ | 9/10 [00:41<00:04,  4.62s/it]"
     ]
    },
    {
     "name": "stdout",
     "output_type": "stream",
     "text": [
      "--------------------------------------------- Result 9 ---------------------------------------------\n",
      "tensor([0.9972, 0.5847, 0.9971, 0.0080, 0.9786, 0.0395]) --> [[[FAILED]]]\n",
      "\n",
      "  == FUCK YOU THUE ==  YOU BRAIN DEAD FUCK, YOU CAN'T BLOCK ME. THANKS TO PROXY SERVERS AND ANON BROWSING I CAN COME TO WIKI ZILLION TIMES SO IF SCUM LIKE YOU THINK THAT YOU CAN BLOCK ME THEN YOU ARE IN FOR BIG SURPRISE YOU FAGGOT. I AM GIVING YOU LAST CHANCE IN CIVILIZED WAY TO STOP VANDALIZING KASH JAFFREY. DON'T FUCK WITH CANADIAN CONTENT, ITS TO ADVANCE FOR YOUR EMPTY BRAIN TO CONCIEVE. AND LASTLY IF YOU WANT TO LEAVE MESSAGE THEN WRITE (DON'T USE PREDEFINE ONE LINERS.) SEE YA ASSHOLE  JOEY\n",
      "\n",
      "\n"
     ]
    },
    {
     "name": "stderr",
     "output_type": "stream",
     "text": [
      "[Succeeded / Failed / Skipped / Total] 4 / 6 / 0 / 10: 100%|██████████| 10/10 [00:48<00:00,  4.81s/it]"
     ]
    },
    {
     "name": "stdout",
     "output_type": "stream",
     "text": [
      "--------------------------------------------- Result 10 ---------------------------------------------\n",
      "tensor([7.6723e-01, 1.3083e-03, 2.5661e-01, 8.6072e-04, 2.6488e-03, 3.2799e-04]) --> tensor([4.4767e-04, 8.7316e-05, 1.3527e-04, 7.5941e-05, 1.3710e-04, 1.1336e-04])\n",
      "\n",
      "`  :: Hey, the only persons ``suffering`` were those who read that [[bullshit]], Wikipedia opening itself up to a Copyright infringement suit, and the credibility of those who are facilitating both.  The length of the protections will not influence my decision to revert the article back to a previous version that does not contain plagiarism.  `\n",
      "\n",
      "`  :: Hey, the only persons ``suffering`` were those who read that [[bullѕhit]], Wikipedia opening itself up to a Copyright infringement suit, and the credibility of those who are facilitating both.  The length of the protections will not influence my decision to revert the article back to a previous version that does not contain plagiarism.  `\n",
      "\n",
      "\n",
      "\n",
      "+-------------------------------+--------+\n",
      "| Attack Results                |        |\n",
      "+-------------------------------+--------+\n",
      "| Number of successful attacks: | 4      |\n",
      "| Number of failed attacks:     | 6      |\n",
      "| Number of skipped attacks:    | 0      |\n",
      "| Original accuracy:            | 100.0% |\n",
      "| Accuracy under attack:        | 60.0%  |\n",
      "| Attack success rate:          | 40.0%  |\n",
      "| Average perturbed word %:     | 12.36% |\n",
      "| Average num. words per input: | 85.3   |\n",
      "| Avg num queries:              | 252.6  |\n",
      "+-------------------------------+--------+"
     ]
    },
    {
     "name": "stderr",
     "output_type": "stream",
     "text": [
      "\n"
     ]
    },
    {
     "name": "stdout",
     "output_type": "stream",
     "text": [
      "\n"
     ]
    }
   ],
   "source": [
    "class IBMMAXToxicWrapper(ModelWrapper):\n",
    "    \"\"\"\n",
    "    A wrapper for the IBM Max Toxic model\n",
    "    https://github.com/IBM/MAX-Toxic-Comment-Classifier/blob/master/core/model.py\n",
    "    \"\"\"\n",
    "    def __init__(self, ibm_model_wrapper):\n",
    "        \"\"\"\n",
    "        Args:\n",
    "            ibm_model_wrapper: An instance of the IBM MAX Toxic `ModelWrapper()` class.\n",
    "        \"\"\"\n",
    "        self.model = ibm_model_wrapper\n",
    "\n",
    "    def __call__(self, input_text_list: List[str]) -> np.ndarray:\n",
    "        \"\"\"\n",
    "        Args:\n",
    "            input_texts: List[str]\n",
    "        \n",
    "        Return:\n",
    "            ret: np.ndarray\n",
    "                One entry per element in input_text_list. Each is a list of logits, one for each label.\n",
    "        \"\"\"\n",
    "        self.model._pre_process(input_text_list)\n",
    "        logits = self.model._predict(input_text_list)\n",
    "        return np.array(logits)\n",
    "\n",
    "# Download model\n",
    "\n",
    "def run(cmd):\n",
    "    print(f\"Running: {cmd}\")\n",
    "    subprocess.run(cmd, shell=True, check=True)\n",
    "os.makedirs(\"temp/toxic\", exist_ok=True)\n",
    "shutil.rmtree(os.path.join(\"temp/toxic\", \"assets\"), ignore_errors=True)\n",
    "shutil.rmtree(os.path.join(\"temp/toxic\", \"toxic\"), ignore_errors=True)\n",
    "os.makedirs(os.path.join(\"temp/toxic\", \"assets\"), exist_ok=True)\n",
    "url = \"https://codait-cos-max.s3.us.cloud-object-storage.appdomain.cloud/max-toxic-comment-classifier/1.0.0/assets.tar.gz\"\n",
    "tar_path = os.path.join(\"temp/toxic\", \"assets/assets.tar.gz\")\n",
    "print(f\"Downloading {url}\")\n",
    "response = requests.get(url)\n",
    "with open(tar_path, \"wb\") as f:\n",
    "    f.write(response.content)\n",
    "print(\"Extracting assets...\")\n",
    "with tarfile.open(tar_path, \"r:gz\") as tar:\n",
    "    tar.extractall(\"temp/toxic/assets\")\n",
    "os.remove(tar_path)\n",
    "run(\"git clone https://github.com/IBM/MAX-Toxic-Comment-Classifier.git\")\n",
    "shutil.move(\"MAX-Toxic-Comment-Classifier\", os.path.join(\"temp/toxic\", \"toxic\"))\n",
    "requirements_path = os.path.join(\"temp/toxic\", \"toxic/requirements.txt\")\n",
    "with open(requirements_path, \"r\") as f:\n",
    "    lines = f.readlines()\n",
    "with open(requirements_path, \"w\") as f:\n",
    "    for line in lines:\n",
    "        f.write(line.split(\"==\")[0].strip() + \"\\n\")\n",
    "run(f\"pip install -r {requirements_path}\")\n",
    "run(\"pip install maxfw\")\n",
    "model_py_path = os.path.join(\"temp/toxic\", \"toxic/core/model.py\")\n",
    "with open(model_py_path, \"r\") as f:\n",
    "    content = f.read()\n",
    "content = content.replace(\"from config\", \"from ..config\")\n",
    "content = content.replace(\"from core.\", \"from .\")\n",
    "with open(model_py_path, \"w\") as f:\n",
    "    f.write(content)\n",
    "with open(\"temp/toxic/toxic/config.py\", \"r\") as f:\n",
    "    content = f.read()\n",
    "content = content.replace(\"assets\", \"temp/toxic/assets\")\n",
    "with open(\"temp/toxic/toxic/config.py\", \"w\") as f:\n",
    "    f.write(content)\n",
    "importlib.invalidate_caches()\n",
    "\n",
    "def load_model_wrapper():\n",
    "    module_name = \"temp.toxic.toxic.core.model\"\n",
    "    \n",
    "    # Remove the module if it's already loaded\n",
    "    if module_name in sys.modules:\n",
    "        importlib.reload(sys.modules[module_name])\n",
    "    else:\n",
    "        importlib.import_module(module_name)\n",
    "    \n",
    "    module = sys.modules[module_name]\n",
    "    return module.ModelWrapper()\n",
    "\n",
    "model = load_model_wrapper()\n",
    "model_wrapper = IBMMAXToxicWrapper(model)\n",
    "\n",
    "# Get data\n",
    "if (os.path.exists(\"temp/toxic/toxicity_annotated_comments.tsv\") == False) or (os.path.exists(\"temp/toxic/toxicity_annotations.tsv\") == False): \n",
    "    data_urls = {\n",
    "        \"temp/toxic/toxicity_annotated_comments.tsv\": \"https://ndownloader.figshare.com/files/7394542\",\n",
    "        \"temp/toxic/toxicity_annotations.tsv\": \"https://ndownloader.figshare.com/files/7394539\",\n",
    "    }\n",
    "    for filename, url in data_urls.items():\n",
    "        print(f\"Downloading {filename}\")\n",
    "        response = requests.get(url)\n",
    "        with open(filename, \"wb\") as f:\n",
    "            f.write(response.content)\n",
    "\n",
    "comments = pd.read_csv('temp/toxic/toxicity_annotated_comments.tsv', sep = '\\t', index_col = 0)\n",
    "annotations = pd.read_csv('temp/toxic/toxicity_annotations.tsv',  sep = '\\t')\n",
    "# labels a comment as toxic if the majority of annoatators did so\n",
    "labels = annotations.groupby('rev_id')['toxicity'].mean() > 0.5\n",
    "# join labels and comments\n",
    "comments['toxicity'] = labels\n",
    "# remove newline and tab tokens\n",
    "comments['comment'] = comments['comment'].apply(lambda x: x.replace(\"NEWLINE_TOKEN\", \" \"))\n",
    "comments['comment'] = comments['comment'].apply(lambda x: x.replace(\"TAB_TOKEN\", \" \"))\n",
    "test_comments = comments.query(\"split=='test'\").query(\"toxicity==True\")\n",
    "examples = test_comments.reset_index().to_dict('records')\n",
    "\n",
    "pairs = [(row[\"comment\"], 0) for row in examples]\n",
    "\n",
    "dataset = textattack.datasets.Dataset(pairs)\n",
    "print(dataset[0])\n",
    "attack = textattack.attack_recipes.BadCharacters2021.build(\n",
    "    model_wrapper, \n",
    "    goal_function_type=\"logit_sum\", \n",
    "    perturbation_type=args.perturbation_type\n",
    ")\n",
    "attack_args = textattack.AttackArgs(\n",
    "    num_examples=10,\n",
    "    log_to_csv=\"results/toxic/log.csv\"\n",
    ")\n",
    "attacker = textattack.Attacker(attack, dataset, attack_args)\n",
    "attacker.attack_dataset()\n",
    "if args.store_temp_files == False:\n",
    "    if os.path.isdir(\"temp/toxic\"):\n",
    "        shutil.rmtree(\"temp/toxic\")\n",
    "if args.store_results == False:\n",
    "    if os.path.isdir(\"results/toxic\"):\n",
    "        shutil.rmtree(\"results/toxic\")"
   ]
  },
  {
   "cell_type": "code",
   "execution_count": 8,
   "id": "b14d474d",
   "metadata": {},
   "outputs": [
    {
     "name": "stderr",
     "output_type": "stream",
     "text": [
      "Using cache found in /Users/vlwk/.cache/torch/hub/pytorch_fairseq_main\n",
      "/Users/vlwk/.cache/torch/hub/pytorch_fairseq_main/fairseq/checkpoint_utils.py:340: FutureWarning: You are using `torch.load` with `weights_only=False` (the current default value), which uses the default pickle module implicitly. It is possible to construct malicious pickle data which will execute arbitrary code during unpickling (See https://github.com/pytorch/pytorch/blob/main/SECURITY.md#untrusted-models for more details). In a future release, the default value for `weights_only` will be flipped to `True`. This limits the functions that could be executed during unpickling. Arbitrary objects will no longer be allowed to be loaded via this mode unless they are explicitly allowlisted by the user via `torch.serialization.add_safe_globals`. We recommend you start setting `weights_only=True` for any use case where you don't have full control of the loaded file. Please open an issue on GitHub for any issues related to this experimental feature.\n",
      "  state = torch.load(f, map_location=torch.device(\"cpu\"))\n",
      "/opt/anaconda3/envs/projenvconda39/lib/python3.9/site-packages/hydra/experimental/initialize.py:43: UserWarning: hydra.experimental.initialize() is no longer experimental. Use hydra.initialize()\n",
      "  deprecation_warning(message=message)\n",
      "/opt/anaconda3/envs/projenvconda39/lib/python3.9/site-packages/hydra/experimental/initialize.py:45: UserWarning: \n",
      "The version_base parameter is not specified.\n",
      "Please specify a compatability version level, or None.\n",
      "Will assume defaults for version 1.1\n",
      "  self.delegate = real_initialize(\n",
      "/opt/anaconda3/envs/projenvconda39/lib/python3.9/site-packages/hydra/experimental/compose.py:25: UserWarning: hydra.experimental.compose() is no longer experimental. Use hydra.compose()\n",
      "  deprecation_warning(message=message)\n",
      "/opt/anaconda3/envs/projenvconda39/lib/python3.9/site-packages/hydra/core/default_element.py:124: UserWarning: In 'config': Usage of deprecated keyword in package header '# @package _group_'.\n",
      "See https://hydra.cc/docs/1.2/upgrades/1.0_to_1.1/changes_to_package_header for more information\n",
      "  deprecation_warning(\n",
      "/Users/vlwk/.cache/torch/hub/pytorch_fairseq_main/fairseq/checkpoint_utils.py:450: UserWarning: \n",
      "'config' is validated against ConfigStore schema with the same name.\n",
      "This behavior is deprecated in Hydra 1.1 and will be removed in Hydra 1.2.\n",
      "See https://hydra.cc/docs/1.2/upgrades/1.0_to_1.1/automatic_schema_matching for migration instructions.\n",
      "  state = load_checkpoint_to_cpu(filename, arg_overrides)\n",
      "/opt/anaconda3/envs/projenvconda39/lib/python3.9/site-packages/hydra/compose.py:56: UserWarning: \n",
      "The strict flag in the compose API is deprecated.\n",
      "See https://hydra.cc/docs/1.2/upgrades/0.11_to_1.0/strict_mode_flag_deprecated for more info.\n",
      "\n",
      "  deprecation_warning(\n",
      "/Users/vlwk/.cache/torch/hub/pytorch_fairseq_main/fairseq/models/roberta/model.py:369: UserWarning: \n",
      "'config' is validated against ConfigStore schema with the same name.\n",
      "This behavior is deprecated in Hydra 1.1 and will be removed in Hydra 1.2.\n",
      "See https://hydra.cc/docs/1.2/upgrades/1.0_to_1.1/automatic_schema_matching for migration instructions.\n",
      "  x = hub_utils.from_pretrained(\n",
      "textattack: No entry found for goal function <class 'textattack.goal_functions.custom.targeted_strict.TargetedStrict'>.\n",
      "textattack: Unknown if model of class <class 'fairseq.models.roberta.hub_interface.RobertaHubInterface'> compatible with goal function <class 'textattack.goal_functions.custom.targeted_strict.TargetedStrict'>.\n"
     ]
    },
    {
     "name": "stdout",
     "output_type": "stream",
     "text": [
      "(OrderedDict([('premise', 'The new rights are nice enough'), ('hypothesis', 'Everyone really likes the newest benefits ')]), 1)\n"
     ]
    },
    {
     "name": "stderr",
     "output_type": "stream",
     "text": [
      "textattack: Logging to CSV at path results/mnli/log.csv\n"
     ]
    },
    {
     "name": "stdout",
     "output_type": "stream",
     "text": [
      "Attack(\n",
      "  (search_method): DifferentialEvolution(\n",
      "    (popsize):  32\n",
      "    (maxiter):  10\n",
      "    (max_perturbs):  1\n",
      "    (verbose):  False\n",
      "  )\n",
      "  (goal_function):  TargetedStrict\n",
      "  (transformation):  WordSwapHomoglyphSwap\n",
      "  (constraints): None\n",
      "  (is_black_box):  True\n",
      ") \n",
      "\n"
     ]
    },
    {
     "name": "stderr",
     "output_type": "stream",
     "text": [
      "[Succeeded / Failed / Skipped / Total] 0 / 1 / 0 / 1:  10%|█         | 1/10 [00:03<00:30,  3.34s/it]"
     ]
    },
    {
     "name": "stdout",
     "output_type": "stream",
     "text": [
      "--------------------------------------------- Result 1 ---------------------------------------------\n",
      "tensor([0.0271, 0.9637, 0.0092]) --> [[[FAILED]]]\n",
      "\n",
      "[[[[Premise]]]]: The new rights are nice enough\n",
      "[[[[Hypothesis]]]]: Everyone really likes the newest benefits \n",
      "\n",
      "\n"
     ]
    },
    {
     "name": "stderr",
     "output_type": "stream",
     "text": [
      "[Succeeded / Failed / Skipped / Total] 0 / 2 / 0 / 2:  20%|██        | 2/10 [00:08<00:35,  4.49s/it]"
     ]
    },
    {
     "name": "stdout",
     "output_type": "stream",
     "text": [
      "--------------------------------------------- Result 2 ---------------------------------------------\n",
      "tensor([9.9939e-01, 4.5619e-04, 1.5498e-04]) --> [[[FAILED]]]\n",
      "\n",
      "[[[[Premise]]]]: This site includes a list of all award winners and a searchable database of Government Executive articles.\n",
      "[[[[Hypothesis]]]]: The Government Executive articles housed on the website are not able to be searched.\n",
      "\n",
      "\n"
     ]
    },
    {
     "name": "stderr",
     "output_type": "stream",
     "text": [
      "[Succeeded / Failed / Skipped / Total] 1 / 2 / 0 / 3:  30%|███       | 3/10 [00:13<00:31,  4.48s/it]"
     ]
    },
    {
     "name": "stdout",
     "output_type": "stream",
     "text": [
      "--------------------------------------------- Result 3 ---------------------------------------------\n",
      "tensor([7.4583e-04, 1.2614e-02, 9.8664e-01]) --> tensor([0.5641, 0.1481, 0.2878])\n",
      "\n",
      "[[[[Premise]]]]: uh i don't know i i have mixed emotions about him uh sometimes i [[like]] him but at the same times i love to see somebody beat him\n",
      "[[[[Hypothesis]]]]: I like him for the most part, but would still enjoy seeing someone beat him.\n",
      "\n",
      "uh i don't know i i have mixed emotions about him uh sometimes i [[lіke]] him but at the same times i love to see somebody beat him\n",
      "I like him for the most part, but would still enjoy seeing someone beat him.\n",
      "\n",
      "\n"
     ]
    },
    {
     "name": "stderr",
     "output_type": "stream",
     "text": [
      "[Succeeded / Failed / Skipped / Total] 1 / 3 / 0 / 4:  40%|████      | 4/10 [00:18<00:27,  4.51s/it]"
     ]
    },
    {
     "name": "stdout",
     "output_type": "stream",
     "text": [
      "--------------------------------------------- Result 4 ---------------------------------------------\n",
      "tensor([9.9908e-01, 7.1604e-04, 2.0551e-04]) --> [[[FAILED]]]\n",
      "\n",
      "[[[[Premise]]]]: yeah i i think my favorite restaurant is always been the one closest  you know the closest as long as it's it meets the minimum criteria you know of good food\n",
      "[[[[Hypothesis]]]]: My favorite restaurants are always at least a hundred miles away from my house. \n",
      "\n",
      "\n"
     ]
    },
    {
     "name": "stderr",
     "output_type": "stream",
     "text": [
      "[Succeeded / Failed / Skipped / Total] 1 / 4 / 0 / 5:  50%|█████     | 5/10 [00:20<00:20,  4.08s/it]"
     ]
    },
    {
     "name": "stdout",
     "output_type": "stream",
     "text": [
      "--------------------------------------------- Result 5 ---------------------------------------------\n",
      "tensor([9.9951e-01, 3.0989e-04, 1.8339e-04]) --> [[[FAILED]]]\n",
      "\n",
      "[[[[Premise]]]]: i don't know um do you do a lot of camping\n",
      "[[[[Hypothesis]]]]: I know exactly.\n",
      "\n",
      "\n"
     ]
    },
    {
     "name": "stderr",
     "output_type": "stream",
     "text": [
      "[Succeeded / Failed / Skipped / Total] 2 / 4 / 0 / 6:  60%|██████    | 6/10 [00:24<00:16,  4.11s/it]"
     ]
    },
    {
     "name": "stdout",
     "output_type": "stream",
     "text": [
      "--------------------------------------------- Result 6 ---------------------------------------------\n",
      "tensor([9.9896e-01, 6.2569e-04, 4.1762e-04]) --> tensor([0.4893, 0.1376, 0.3731])\n",
      "\n",
      "[[[[Premise]]]]: well that would be a help i [[wish]] they would do that here we have got so little landfill space left that we're going to run out before the end of this decade and it's really going to be\n",
      "[[[[Hypothesis]]]]: We have plenty of space in the landfill.\n",
      "\n",
      "well that would be a help i [[wіsh]] they would do that here we have got so little landfill space left that we're going to run out before the end of this decade and it's really going to be\n",
      "We have plenty of space in the landfill.\n",
      "\n",
      "\n"
     ]
    },
    {
     "name": "stderr",
     "output_type": "stream",
     "text": [
      "[Succeeded / Failed / Skipped / Total] 2 / 5 / 0 / 7:  70%|███████   | 7/10 [00:28<00:12,  4.06s/it]"
     ]
    },
    {
     "name": "stdout",
     "output_type": "stream",
     "text": [
      "--------------------------------------------- Result 7 ---------------------------------------------\n",
      "tensor([9.9934e-01, 4.8667e-04, 1.7737e-04]) --> [[[FAILED]]]\n",
      "\n",
      "[[[[Premise]]]]: yeah i know and i did that all through college and it worked too\n",
      "[[[[Hypothesis]]]]: I did that all through college but it never worked \n",
      "\n",
      "\n"
     ]
    },
    {
     "name": "stderr",
     "output_type": "stream",
     "text": [
      "[Succeeded / Failed / Skipped / Total] 3 / 5 / 0 / 8:  80%|████████  | 8/10 [00:33<00:08,  4.16s/it]"
     ]
    },
    {
     "name": "stdout",
     "output_type": "stream",
     "text": [
      "--------------------------------------------- Result 8 ---------------------------------------------\n",
      "tensor([0.0014, 0.5608, 0.4378]) --> tensor([0.6773, 0.1157, 0.2070])\n",
      "\n",
      "[[[[Premise]]]]: Calcutta seems to be the [[only]] other production center having any pretensions to artistic creativity at all, but ironically you're actually more likely to see the works of Satyajit Ray or Mrinal Sen shown in Europe or North America than in India itself.\n",
      "[[[[Hypothesis]]]]: Most of Mrinal Sen's work can be found in European collections.\n",
      "\n",
      "Calcutta seems to be the [[onlу]] other production center having any pretensions to artistic creativity at all, but ironically you're actually more likely to see the works of Satyajit Ray or Mrinal Sen shown in Europe or North America than in India itself.\n",
      "Most of Mrinal Sen's work can be found in European collections.\n",
      "\n",
      "\n"
     ]
    },
    {
     "name": "stderr",
     "output_type": "stream",
     "text": [
      "[Succeeded / Failed / Skipped / Total] 4 / 5 / 0 / 9:  90%|█████████ | 9/10 [00:37<00:04,  4.20s/it]"
     ]
    },
    {
     "name": "stdout",
     "output_type": "stream",
     "text": [
      "--------------------------------------------- Result 9 ---------------------------------------------\n",
      "tensor([0.8050, 0.1832, 0.0118]) --> tensor([0.6584, 0.1275, 0.2141])\n",
      "\n",
      "[[[[Premise]]]]: If that investor were willing to pay extra for the security of limited downside, she could buy put options with a strike price of $98, which would lock [[in]] her profit on the shares at $18, less whatever the options cost.\n",
      "[[[[Hypothesis]]]]: THe strike price could be $8.\n",
      "\n",
      "If that investor were willing to pay extra for the security of limited downside, she could buy put options with a strike price of $98, which would lock [[іn]] her profit on the shares at $18, less whatever the options cost.\n",
      "THe strike price could be $8.\n",
      "\n",
      "\n"
     ]
    },
    {
     "name": "stderr",
     "output_type": "stream",
     "text": [
      "[Succeeded / Failed / Skipped / Total] 4 / 6 / 0 / 10: 100%|██████████| 10/10 [00:42<00:00,  4.26s/it]"
     ]
    },
    {
     "name": "stdout",
     "output_type": "stream",
     "text": [
      "--------------------------------------------- Result 10 ---------------------------------------------\n",
      "tensor([0.0309, 0.9665, 0.0026]) --> [[[FAILED]]]\n",
      "\n",
      "[[[[Premise]]]]: 3)  Dare you rise to the occasion, like Raskolnikov, and reject the petty rules that govern lesser men?\n",
      "[[[[Hypothesis]]]]: Would you rise up and defeaat all evil lords in the town?\n",
      "\n",
      "\n",
      "\n",
      "+-------------------------------+--------+\n",
      "| Attack Results                |        |\n",
      "+-------------------------------+--------+\n",
      "| Number of successful attacks: | 4      |\n",
      "| Number of failed attacks:     | 6      |\n",
      "| Number of skipped attacks:    | 0      |\n",
      "| Original accuracy:            | 100.0% |\n",
      "| Accuracy under attack:        | 60.0%  |\n",
      "| Attack success rate:          | 40.0%  |\n",
      "| Average perturbed word %:     | 2.11%  |\n",
      "| Average num. words per input: | 34.7   |\n",
      "| Avg num queries:              | 99.0   |\n",
      "+-------------------------------+--------+"
     ]
    },
    {
     "name": "stderr",
     "output_type": "stream",
     "text": [
      "\n"
     ]
    },
    {
     "name": "stdout",
     "output_type": "stream",
     "text": [
      "\n"
     ]
    }
   ],
   "source": [
    "class FairseqMnliWrapper(ModelWrapper):\n",
    "    \"\"\"\n",
    "    A wrapper for the model\n",
    "        torch.hub.load('pytorch/fairseq', 'roberta.large.mnli').eval()\n",
    "    \"\"\"\n",
    "\n",
    "    def __init__(self, model):\n",
    "        self.model = model\n",
    "\n",
    "    def __call__(self, input_texts: List[Tuple[str, str]]) -> List[torch.Tensor]:\n",
    "        \"\"\"\n",
    "        Args:\n",
    "            input_texts: List[Tuple[str, str]]\n",
    "                List of (premise, hypothesis)\n",
    "        \n",
    "        Return:\n",
    "            ret: List[torch.Tensor]\n",
    "                Each tensor is a list of probabilities, \n",
    "                one for each of (contradiction, neutral, entailment)\n",
    "        \"\"\"\n",
    "        ret = []\n",
    "        for t in input_texts:\n",
    "            premise = t[0]\n",
    "            hypothesis = t[1]\n",
    "            tokens = self.model.encode(premise, hypothesis)\n",
    "            predict = self.model.predict('mnli', tokens)\n",
    "            probs = softmax(predict, dim=1).cpu().detach()[0]\n",
    "            ret.append(probs.unsqueeze(0))\n",
    "        return ret\n",
    "model = torch.hub.load('pytorch/fairseq',\n",
    "    'roberta.large.mnli').eval()\n",
    "model_wrapper = FairseqMnliWrapper(model)\n",
    "url = \"https://cims.nyu.edu/~sbowman/multinli/multinli_1.0.zip\"\n",
    "os.makedirs(\"temp/mnli\", exist_ok=True)  \n",
    "response = requests.get(url)\n",
    "response.raise_for_status() \n",
    "with zipfile.ZipFile(BytesIO(response.content)) as zip_ref:\n",
    "    zip_ref.extractall(\"temp/mnli\")\n",
    "label_map = {'contradiction': 0, 'neutral': 1, 'entailment': 2}\n",
    "pairs = []\n",
    "with open(\"temp/mnli/multinli_1.0/multinli_1.0_dev_matched.jsonl\", 'r') as f:\n",
    "    for line in f:\n",
    "        sample = json.loads(line)\n",
    "        if sample['gold_label'] not in label_map:\n",
    "            continue\n",
    "\n",
    "        premise = sample['sentence1']\n",
    "        hypothesis = sample['sentence2']\n",
    "        label = label_map[sample['gold_label']]\n",
    "        item = ((premise, hypothesis), label)\n",
    "        pairs.append(item)\n",
    "dataset = textattack.datasets.Dataset(pairs, input_columns=[\"premise\", \"hypothesis\"])\n",
    "print(dataset[0])\n",
    "attack = textattack.attack_recipes.BadCharacters2021.build(\n",
    "    model_wrapper, \n",
    "    goal_function_type=\"targeted_strict\", \n",
    "    perturbation_type=args.perturbation_type\n",
    ")\n",
    "attack_args = textattack.AttackArgs(\n",
    "    num_examples=10,\n",
    "    log_to_csv=\"results/mnli/log.csv\"\n",
    ")\n",
    "attacker = textattack.Attacker(attack, dataset, attack_args)\n",
    "attacker.attack_dataset()\n",
    "if args.store_temp_files == False:\n",
    "    if os.path.isdir(\"temp/mnli\"):\n",
    "        shutil.rmtree(\"temp/mnli\")\n",
    "if args.store_results == False:\n",
    "    if os.path.isdir(\"results/mnli\"):\n",
    "        shutil.rmtree(\"results/mnli\")"
   ]
  },
  {
   "cell_type": "code",
   "execution_count": 9,
   "id": "d6e99244",
   "metadata": {},
   "outputs": [],
   "source": [
    "if args.store_temp_files == False:\n",
    "    if os.path.isdir(\"temp\"):\n",
    "        shutil.rmtree(\"temp\")\n",
    "\n",
    "if args.store_results == False:\n",
    "    if os.path.isdir(\"results\"):\n",
    "        shutil.rmtree(\"results\")"
   ]
  },
  {
   "cell_type": "code",
   "execution_count": null,
   "id": "2f5de720",
   "metadata": {},
   "outputs": [],
   "source": []
  }
 ],
 "metadata": {
  "kernelspec": {
   "display_name": "projenvconda39",
   "language": "python",
   "name": "python3"
  },
  "language_info": {
   "codemirror_mode": {
    "name": "ipython",
    "version": 3
   },
   "file_extension": ".py",
   "mimetype": "text/x-python",
   "name": "python",
   "nbconvert_exporter": "python",
   "pygments_lexer": "ipython3",
   "version": "3.9.20"
  }
 },
 "nbformat": 4,
 "nbformat_minor": 5
}
