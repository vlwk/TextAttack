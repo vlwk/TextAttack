{
 "cells": [
  {
   "cell_type": "code",
   "execution_count": null,
   "metadata": {},
   "outputs": [],
   "source": [
    "import sys\n",
    "import textattack\n",
    "from textattack.models.wrappers import ModelWrapper\n",
    "from typing import List, Tuple\n",
    "from transformers import pipeline\n",
    "from datasets import load_dataset\n",
    "from string import punctuation\n",
    "import argparse\n",
    "from transformers import MBartForConditionalGeneration, MBart50TokenizerFast\n",
    "import os\n",
    "import tarfile\n",
    "import requests\n",
    "from io import BytesIO\n",
    "from bs4 import BeautifulSoup\n",
    "import torch\n",
    "import importlib.util\n",
    "from pathlib import Path\n",
    "import numpy as np\n",
    "import pandas as pd\n",
    "import shutil\n",
    "import subprocess\n",
    "import zipfile\n",
    "import json\n",
    "from collections import OrderedDict\n",
    "from torch.nn.functional import softmax"
   ]
  },
  {
   "cell_type": "code",
   "execution_count": null,
   "metadata": {},
   "outputs": [],
   "source": [
    "!pip install requirements.txt"
   ]
  },
  {
   "cell_type": "code",
   "execution_count": null,
   "metadata": {},
   "outputs": [],
   "source": [
    "class EmotionWrapper(ModelWrapper):\n",
    "\n",
    "    def __init__(self, model):\n",
    "        self.model = model\n",
    "\n",
    "    def __call__(self, input_texts: List[str]) -> List[List[float]]:\n",
    "\n",
    "        \"\"\"\n",
    "        Args:\n",
    "            input_texts: List[str]\n",
    "\n",
    "        Return:\n",
    "            ret: List[List[float]]\n",
    "            a list of elements, one per element of input_texts. Each element is a list of probabilities, one for each label.\n",
    "        \"\"\"\n",
    "        ret = []\n",
    "        for i in input_texts:\n",
    "            pred = self.model(i)[0]\n",
    "            scores = []\n",
    "            for j in pred:\n",
    "                scores.append(j['score'])\n",
    "            ret.append(scores)\n",
    "        return ret\n",
    "\n",
    "model = pipeline(\"text-classification\", model='bhadresh-savani/distilbert-base-uncased-emotion', return_all_scores=True, device=-1)\n",
    "model_wrapper = EmotionWrapper(model)\n",
    "\n",
    "attack = textattack.attack_recipes.BadCharacters2021.build(\n",
    "    model_wrapper, \n",
    "    goal_function_type=\"targeted_bonus\",\n",
    "    perturbation_type=args.perturbation_type\n",
    ")\n",
    "dataset = textattack.datasets.HuggingFaceDataset(\"emotion\", split=\"test\")\n",
    "print(dataset[0])\n",
    "attack_args = textattack.AttackArgs(\n",
    "    num_examples=10,\n",
    "    log_to_csv=\"results/emotion/log.csv\"\n",
    ")\n",
    "attacker = textattack.Attacker(attack, dataset, attack_args)\n",
    "attacker.attack_dataset()\n",
    "\n",
    "if args.store_results == False:\n",
    "    if os.path.isdir(\"results/emotion\"):\n",
    "        shutil.rmtree(\"results/emotion\")\n"
   ]
  }
 ],
 "metadata": {
  "language_info": {
   "name": "python"
  }
 },
 "nbformat": 4,
 "nbformat_minor": 2
}
